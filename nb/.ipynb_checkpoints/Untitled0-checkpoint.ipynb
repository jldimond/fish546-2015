{
 "metadata": {
  "name": "",
  "signature": "sha256:be4a2771e6a965dc4bc7eccb4039de740afee61ca662cf253b8cca87fd31c47b"
 },
 "nbformat": 3,
 "nbformat_minor": 0,
 "worksheets": []
}