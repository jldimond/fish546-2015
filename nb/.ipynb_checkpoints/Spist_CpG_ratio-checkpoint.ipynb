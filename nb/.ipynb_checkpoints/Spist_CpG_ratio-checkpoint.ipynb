{
 "metadata": {
  "name": "",
  "signature": "sha256:2beb97c8890ae8ab916e549e9661ce3b222dbc34c223936510fb73827cee23ed"
 },
 "nbformat": 3,
 "nbformat_minor": 0,
 "worksheets": [
  {
   "cells": [
    {
     "cell_type": "heading",
     "level": 1,
     "metadata": {},
     "source": [
      "Calculating CpG ratio for *Stylophora pistillata* transcriptome from:\n",
      "\n",
      "http://data.centrescientifique.mc/Data/454Isotigs.fas.zip"
     ]
    },
    {
     "cell_type": "code",
     "collapsed": false,
     "input": [
      "cd /home/jay/Documents/fish546-2015/Data/Spist"
     ],
     "language": "python",
     "metadata": {},
     "outputs": [
      {
       "output_type": "stream",
       "stream": "stdout",
       "text": [
        "/home/jay/Documents/fish546-2015/Data/Spist\n"
       ]
      }
     ],
     "prompt_number": 1
    },
    {
     "cell_type": "code",
     "collapsed": false,
     "input": [
      "#fasta file\n",
      "!head -2 Spist.fasta\n",
      "!echo \n",
      "!echo number of seqs =\n",
      "!fgrep -c \">\" Spist.fasta"
     ],
     "language": "python",
     "metadata": {},
     "outputs": [
      {
       "output_type": "stream",
       "stream": "stdout",
       "text": [
        ">Spi_contig00032  gene=isogroup00001  length=1566\r",
        "\r\n",
        "GgATCCATCGAAAGAAAAaGTCGTAGTTGACAGTGATTGCATGACTTCTGTACAACGTCCGATTAGTTTTtGCGTTTTATTGTCTtCTTTTGTACTGgAAATTCGACTCTAGCAAGTTGATTTCGTTTAGTTATGTCTGGCATTGCTTTGGGCAGATTATCAGAAGAGAGAAAAGCTTGGCGTAAAGACcATCCTTTCGGATTTGTGGCCAAACCGGTTAAAAATCCTGATGGTACTCTAAATCTGATGAACTGGGAATGTGCGATCCCaGGAAAGAAAGCGACCCCATGGGAAGGAGGCTCTTTCAAATTGAAGATGATATTTAAAGACGACTATCCATCCTCTCCGCCAAAATGTAAATTTGATCCTCCAATTTTCCATCCTAATGTATACCCATCTGGCACAGTGTGTCTGTCTCTTCTAGATGAAGAGAAAGACTGGAGACCTGCCGTCACTATAAAACAGATTTTATTGGGAATTCAAGACTTACTGAaTGATCCAAaCaTAaGaGATCCAGCTCAAGCAGAAGCATACaCCATTTACTGCCAAAACAGATCAGAATATGAGAAACGAGTCAGAAGTCAAGCTGCAAaGTTCTCAAGTTCATAGTGAATAAAGAAAAATATAAAATACTTCGCTAGCAGACGTGTAGGTTAACaGTGACTGGCAGAAATTGGATTTATTTTTtCTCcGTTtGTAAacAaCAaTGTGGAGTGGAGCAaGAATTCATCCgTAACTGCGTTAATACCACAGCTGTTGTTGTGAATTGGAaGGACAATCATGTCTGTTATTTtAGGAAGTTTCACAATGTACAGTTCAACTAACTTATACTAAAAAaCAGCTAAAGTtCACCTTAGTCTATGTtAGTTTtGTTAAAGCTTCTCTGTAgAAGGTTTGGGAGGgTtGTAATGGCTGTAACTATTCAGGgAGATCTGTCAAAGTACACTCTCTAATCCCATTGTTTCTTAAGGAATGAGTCATTATTTATTGTCTGGTGGGACGGaGGaTTTTAATCGTGTCACAATAAAATTTACCTGATCTTCCCatAagACCTGTAGTAATCTAaTGGTCCCTGTCATTGGCAGTCAaTTTTCTATAGTTTCCTGTTAACCTCTGTTAGCTACAACTGATGCCCCcTCTGTACCCCCCTAAAATTGTGTTCCCCCAAAgAAaTCCTTCCACCCACCCCATaCCTCCAGGTGATAACTAATGActGGTCCTTAATTCATTCTCTTTTTTTtGTTCTTGATTATTTGACTAAACCAAAGGCGatAAGTAAGATATACCCcAAtACGATTTGACGAACAATCTCTAGATTTTTTATTtAATCTTTAGTTGTAGATGTAATCAGAGGTGCAAAGCTTTACTGTTTtGAGTGTAAAGTGCCTGTTTCTAGGGATCCAGTGAAACCAGTAGTGTTGGGATTGTAAAGAGaTCAAAGAaTACCTCAAAGCACCAATCATAATGCTCTAATGTTGACAACTGCTAATGATTGGTtCAGCCTaTGGCTTTCATTAAAAaCGTCAAAAAaTAACGCTTCACTTCATTGCAAGTGATTCAGGTGGa\r",
        "\r\n"
       ]
      },
      {
       "output_type": "stream",
       "stream": "stdout",
       "text": [
        "\r\n"
       ]
      },
      {
       "output_type": "stream",
       "stream": "stdout",
       "text": [
        "number of seqs =\r\n"
       ]
      },
      {
       "output_type": "stream",
       "stream": "stdout",
       "text": [
        "15052\r\n"
       ]
      }
     ],
     "prompt_number": 2
    },
    {
     "cell_type": "code",
     "collapsed": false,
     "input": [
      "#Just printing first line w/out comments and looking at contig names\n",
      "!awk '{print $1}' Spist.fasta > Spist2.fasta\n",
      "!head -10 Spist2.fasta\n",
      "!tail -10 Spist2.fasta"
     ],
     "language": "python",
     "metadata": {},
     "outputs": [
      {
       "output_type": "stream",
       "stream": "stdout",
       "text": [
        ">Spi_contig00032\r\n",
        "GgATCCATCGAAAGAAAAaGTCGTAGTTGACAGTGATTGCATGACTTCTGTACAACGTCCGATTAGTTTTtGCGTTTTATTGTCTtCTTTTGTACTGgAAATTCGACTCTAGCAAGTTGATTTCGTTTAGTTATGTCTGGCATTGCTTTGGGCAGATTATCAGAAGAGAGAAAAGCTTGGCGTAAAGACcATCCTTTCGGATTTGTGGCCAAACCGGTTAAAAATCCTGATGGTACTCTAAATCTGATGAACTGGGAATGTGCGATCCCaGGAAAGAAAGCGACCCCATGGGAAGGAGGCTCTTTCAAATTGAAGATGATATTTAAAGACGACTATCCATCCTCTCCGCCAAAATGTAAATTTGATCCTCCAATTTTCCATCCTAATGTATACCCATCTGGCACAGTGTGTCTGTCTCTTCTAGATGAAGAGAAAGACTGGAGACCTGCCGTCACTATAAAACAGATTTTATTGGGAATTCAAGACTTACTGAaTGATCCAAaCaTAaGaGATCCAGCTCAAGCAGAAGCATACaCCATTTACTGCCAAAACAGATCAGAATATGAGAAACGAGTCAGAAGTCAAGCTGCAAaGTTCTCAAGTTCATAGTGAATAAAGAAAAATATAAAATACTTCGCTAGCAGACGTGTAGGTTAACaGTGACTGGCAGAAATTGGATTTATTTTTtCTCcGTTtGTAAacAaCAaTGTGGAGTGGAGCAaGAATTCATCCgTAACTGCGTTAATACCACAGCTGTTGTTGTGAATTGGAaGGACAATCATGTCTGTTATTTtAGGAAGTTTCACAATGTACAGTTCAACTAACTTATACTAAAAAaCAGCTAAAGTtCACCTTAGTCTATGTtAGTTTtGTTAAAGCTTCTCTGTAgAAGGTTTGGGAGGgTtGTAATGGCTGTAACTATTCAGGgAGATCTGTCAAAGTACACTCTCTAATCCCATTGTTTCTTAAGGAATGAGTCATTATTTATTGTCTGGTGGGACGGaGGaTTTTAATCGTGTCACAATAAAATTTACCTGATCTTCCCatAagACCTGTAGTAATCTAaTGGTCCCTGTCATTGGCAGTCAaTTTTCTATAGTTTCCTGTTAACCTCTGTTAGCTACAACTGATGCCCCcTCTGTACCCCCCTAAAATTGTGTTCCCCCAAAgAAaTCCTTCCACCCACCCCATaCCTCCAGGTGATAACTAATGActGGTCCTTAATTCATTCTCTTTTTTTtGTTCTTGATTATTTGACTAAACCAAAGGCGatAAGTAAGATATACCCcAAtACGATTTGACGAACAATCTCTAGATTTTTTATTtAATCTTTAGTTGTAGATGTAATCAGAGGTGCAAAGCTTTACTGTTTtGAGTGTAAAGTGCCTGTTTCTAGGGATCCAGTGAAACCAGTAGTGTTGGGATTGTAAAGAGaTCAAAGAaTACCTCAAAGCACCAATCATAATGCTCTAATGTTGACAACTGCTAATGATTGGTtCAGCCTaTGGCTTTCATTAAAAaCGTCAAAAAaTAACGCTTCACTTCATTGCAAGTGATTCAGGTGGa\r",
        "\r\n",
        ">Spi_contig00035\r\n",
        "AGCAGAGATCTATCAGACGACTATGTTACGACATGAAAaCCTTTTAGGCTTtGTAGCTGCTGACAaCAAaGATAATGGTGCCTGGACACAGCTTTGGCTGGTTACAGATTATTTagAAAGGGgCTCATTGTATGACTATCTTCAACTTGTTACCCTGAATGTTGAATCCATGCTGAAGTTAGCAGTGTCAATAGCCAGTGGACTTGCTCATCTCCACATtGAGATtGTAGGCACCCAAGgAAAGCCAGCTATTGCACATCGTGACTTAAAAaGTAAAAaCATTCTGGTTAAAAGAAATGGGACATGTTGCATAGGTGATTTGGGTCTTGCTGTTCGTCATAGTTCCATTACTGACACAGTTGATGTTCCTCCTGGGAACAGAgTTGGTACAAAGCGCTACATGCCACCTGAATTTTtAGATGACAATATACAGGTGCGGCACTTTGATGCATACAAGCGAGGTGATATGTATGCATTTGGTCTAGTGTTATGGGAAaTTGCAAGGACgTGTGTTTGTGGTGGATTGTGTGATGAATATCAGCTGCCCTACTATGACAGAGTTCCCTGTGATCCCAGCATTGAAGAtATGAGAAAGGTGGTCTGTGTGGAGAGGTATCGCCCTGCCTTTCCAAATAGGTGGATACAAGATCAGACACTACAGTCTATGTCCAAGTTGATGAAAGAATGTTGGTATGCCAATAGTGCTGCAAGACTTACAGCTCTCCGTGTTAAGAAGACTCTTACAACAcTGTGTCAGTTACATGATGTTGATATTATGGTTTAGAGGGaTCCATCAaGAAAACTCATGTAAAACAAGTgCAAGATGGGTGTATCACCAGGACTTATATAACAGGAGGAACCTCCTGATAATCCTTGCAGGCAATTTGTAGGTCCTGTAATGTGATACAGTACATGTCTACCATCATGCTATTGgTTTGCAGTTCAAACaGCAATGCTGTCTTTtATTTTTtGATAAAGCCATGAAGAATAAACGCGACAGAGAAAaTTTATGACTTCCTAGTTAACAAGAAGCATTCtCATTTTTTTTTTTTtttGCCTGCATAATTcTTGtATTTATATCCACAGCAACTGTCACTGACTCAAAGTgTtGgtAaTCatCAGCAACAAAGAACCCAACTTGgTTTTATGAAAGCACGTACATtCAAATGAGCAATTTAAATTGAAAACCTAAAAGGACATATCCATGTGCAACAACTGTAGAACTATGTATGAGCAGTGTCCACTATTCTCCTCCTTAGTTTATTTTAGATGTTTCGAATGAGAATACAGAATAGAGCTTCATCCTTTTGACATTGAAAGCATTTCATACTCAAGTATtGAAGGGTATGATTCTTTGTTGTGAGGAACGACACTCACCAAGTAATCCTCAAAATATTTAAGAGCATACATGGATTTTACCAAAAGATGTGGGTTGGTCATATCTACATTAAGAATTTGTTACAATAGTAAGGTAGTTGCAGTGCTGTAGCTAGCTCTTAGATGAAGCGTGTTTATTGCATTCAAATTGAAATGTTATTGTTTAAAGTGATTCTCAAATTAAAAGACATTGTATTTTTAGACAACTTTTTATCTTCGAAAACCCAGTGGTGTAAGGTAATTACATTATTTTATGTTCATAACAAATACATTTTAACTGTATTCCACCAAACAATGTGAAAGGGGCAGTTTAAGAATTAATGAAATCTTTCTTGATACCCGTTCTtcAGAACGCTTTATAGTATCTTCTTTATAGTTGTAAATAAaCCGAaTACTTTGCGTGTGAGGGGCATTGAaGAAACTGAAGGGTTTTGTTTGACTCTGTTCTAACAGAAtCAAACATAATGTAATTACTCGGAACTTCATTAAACTGGTGGCC\r",
        "\r\n",
        ">Spi_contig00040\r\n",
        "CGGAGCCGAAAACGAAGAGCTACCGGCGGCGTTTGCACCTTTAGCCAACCCAGTGAGTACCGGAGTtcGAGAAACCGAGGGAGATTTGGGTTATTCAGATGAGGTTTGGGATGCATTAAATGGATTTGTATTTCAATACTCTACAGAAGATCAAGAAGACGAATTAGTAGAGATGCTAATTGGGTGAGCAAACAGTGTAACGGCCGGAGAGTCAAACGAGGATATAGTAGATGTGCTAGGGGAGTGGGCAGAGGGTAACATCCCcGAAGATTCAGGCGACGAATCAGAGGAGAACGCGTCTGAAGATTCAAACGACGAATaGGCGGAGGCCCCcATTTATTCAATATGTAAGAGATCGGGGGGGGgTTGTGGGACCTCGCCCCGGGTATTTGAACGATATGGTCTCTAATTATTGAATTCGATGGGGGTTTTCAACCAACCATAAAGATATTGGTAGTTTGTATTTAATTTTtGGTGGAGGTGCTGGTTTAATTGGAACGGCGTTTAGTATGCTTATACGACTAGAGCTTTCTGCGCCCGGAGCAATGTTAGGAGATGATCATCTTTATAATGTAATTGTTACAGCGCATGCTTTTATTATGATTTTTTTTtGGTtATGCCGGTTATGATTGGGGGgTTTGGTAATTGATTGGTCCCATTATATATTGGGGCGCCGGATATGGCGTTTCCCCGACTAAACAATATTAGTTTTTGACTTTTGCCCCCTGCGCTTTTTTtATTATTAGGCTCTGCTTTTGTTGAACAAGGGGCGGGGACGGGGTGAACAGTTTATCCTCCTCTTGCTAGTATTCAAGCACACTCCGGATGTTCGGTTGATATGGTTATTTTTAGTCTTCATTTAGCTGGGGTTTCTTCTATTTTAGGTGCTATAAACTTTATTACTACAATTTTTAATATGCGAGCCCCGGGTGTGTCTTTTAATAAACTACCTTTATTTGTTTGATCTATTTTAATAACAGCTTTTTTATTACTTTTATCTTTACCTGTTTTAGCTGGTGCTATTACTATGTTGTTAACAGATAGAAACTTTAATACGACTTTTTTCGATCCAGCGGGTGGCGGGGACCCAATATTATTTCAGCATCTATTTTGATTCTTTGGGCATCCAGAAGTTTATATTTTAATTTTGCCTGGTTTTGGTATGATTTCTCAAATAATCCCGACTTTTGTTGCTAAAAAACAAGTTTTCGGGTACTTAGGAATGGTTTATGCCATGCTTTCTATTGGGCTTCTGGGATTTATTGTTTGAGCTCATCATATGTTTACTGTTGGGATGGATGTAGATACAAGAGCATATTTTACTGCTGCTACTATGATTATTGCTGTGCCAACTGGGATTAAAGTTTTTAGTTGGTTGGCAACTATTTATGGAGGTGTTCTTAGGTTAGAGACTCCAATGCTTTGAGCTATGGGGTTTGTTTTTTtATTTACAGTTGGTGGTTTAACTGGGGTTGTATTAGCAAATAGTTCTCTTGATATTGTTCTACATGATACATATTATGTAGTTGCGCATTTTCATTATGTTCTTTCTATGGGGGCTGTTTTTGCTATCTTTGGGGGATTTTACTATTGAATTGGAAAAATAAGTGGTTATTGTTATAATGAATTTTTTGGGAAAGTTCATTTTTGATTAATGTTTATCGGGGTTAATTTAACTTTTTtCCCTCAACATTTTTtAGGTTTAGCAGGATTTCCAAGACGATACTCGGATTATGCAGATGCTTTTTTGGGTTGAAATTTAATAAGTTCTTTAGGGTCTATTATTTCTATTTTGAGTGTTGTTTGGTTTTTATATATTGTTTTTGATCTTTTTGTTACAGAAGAAAAATTTTTGGGTTGAAAAGAAGGATTTTCTTTAGAATGAATTCATTCTTCTCCCCCCTTATTTCATACTTATGAGGAGTTGCCTTTTGTACAAAAATAAATAATTTTTAGAATAGTGCCGGGTTTATATACCGGTTTTGTAAGAAGACAAAGGGTTAGTCTTTGGGTTCATGCCCCAAATAAGTGAGTTCGAATCTCTCTCTTACACAAAATAAAAaTTATAAAAAAAaaGAGGATAACTAAGATAAACTAAAATTAGACGATTTTTTtCGA\r",
        "\r\n",
        ">Spi_contig00044\r\n",
        "GTTTATTAGTGCGTGTACTACTtGATCAACActACACCCTTGTTTATTCGTaGATATTAATTtATCAACAtACTTCtCcACcATAAaTTACCTTTAATATCTAGTGTTCATGTCTACATCAGGTAAGGGTCTCCAGACACTTCAaCCAAAAGCCGAAATTGACAATCGCTAAACACGATCGTACGTTTTACTGAAACGGGCATCTCGTTtCTTCATGAAAATGGTGCAATATTTGACAACTCATTGATAAAAaCCCaGATTAAAATGCTCagCAcAGACTCGcgAAAAAATGCCAATGCCTTaCGCTTAAtttgtCTAATCTAATATAATTTTTttGATTTtGCACTAACCACGCATTACAACTACATTTACTAAGGTTCTTGATAgTAATGAATTTATTTTtATTTATTTAAAAGTTCATATTTCATAGGAGATGTAAAAaTATTGACGGGCCCCTGTCTtGATAAtAAGAAaCTAGAATTTCCTCTTCTTGTTTTCAGGTAACAGACTTtGAAaTATAaTTTAAGTTTGGCCCTTTGctACGGAACATAAATATCACCTCACTCTTCTCCCAAATTGTTTtCAAATACGCAATACACAAACCCTTTCGCCAAGCCTTGTtcTTCCTTGGTTTTTAAGAGCCATTTTGGTATTTTCACACCGTAATATATTATTCATTCATTAGCCATTAATTAAATACGGCAAACTAGAACATTTtCTCTTTGGGATCGTTTAGATTAATACGAAGCCACAGAAaTACTTGTGTtgGTTCTTCCACACAaTATTAAAATCATTTTTCTCCTGACAAAACAAAgAGAAACTTGAcGgAGGTGAAAACCGTAGATCTTAAAGGGACATGATGTTGGTGATGACGATACTGACAAACTTGAACCCAACCgTTTGAAAATCaTTCCCTACACTTCACAAGTAAAGTTACAaCGATTGtAAGAAATTGAGgAAATTGTTTTGGTACTAATCAGAACAAAAaTCGAAaGAGAATTTCATTCATTTCTTTCAGCTTGAAAATCTTAATCATTATTGAatCATTCTTAAAAATTaTATCAAAATTCATTCATGTTtGGGtCtGTGCTCTGCATGACTAATAGCACTATCGCTTCCTTTATCGTGATTGACCCGGAAGCCGCCGATAATCGAAGGCCAAAATTGCCATACCGTCCACGCAGTCCAAGAGCCGAAGAAAAGAATCCAGAATGCTGTCACGTGAGCAGGAAAGGGTATGCTGATGGTTTCCCAACCGAATTTAACGCAGATTAGCACTTCTGTTGAGACAATGGCGGCGACAACCCAGGCCTGTTGTCCAAACCGCTTGCAGGTAGGGTCGTCCATGTATCTAAATGTTTCATTCAGTgCcACAGCTCCCATCCCAAGGTaCAGCGCCATACgAACTTGCATGATGAAATGAGGTGGAGGAATCCACAAAATAAACTTCATGTAAAACAGGTTTAACtcGGCCAGGAGGAACATAGCAGCAATTCCACAGACTGCCAGCCATCTAGTTAGACTTGTGGTCGCTTTCCAGTCATAAGACGTCCACGAATAAGGAGTGAATTGAGCAGCAACTCTTTTGAACTTGCc\r",
        "\r\n",
        ">Spi_contig00046\r\n",
        "cagactcagcagttctctgacgatggtaaccaacacttatttctggagtagcacatacagtgacagttcttctgattatgctgtgtgtcttggtttatgttggagcttttgaaaaaactaaggaaaacagTGAatgCAATACAAagAGGggACTtGTAGCcTGCATtGCAGtATTTTTGTTGTTTGGGGgTCACTCAGATAAGAGATGGTCCGTTCAAaCGACCTCACCCAGCTTTCTGGCGTATCATtCTTTGCCTAAGTGTTGTTTATGAaTTGGCTCTAATTTTtCTTTTATTCCAGACAACTCATGATGCCAGGCAGTTGCTAAaGTATCTTGATGAAGATTTAGGGAAaCCATTGCCAgaGCAATCTTATGGAGAGGACTGTAGGTTATACACACCAGGACACCCCAaGGGaTCaTTCCaTaCCTTtCTTGaGAAATGTGATGTCTTTATACCAGCTCATTTTTTCGGATGGTGGGCAAAGgcACTCATCCTTCGTGACTACTGGCTATTGACTGTCACTAGTGTTCTTTTTGAAGTCTTGGAATATTCCTTAGAGCATCAGTtaCCAAACTTCAGTGAATGCtGGtGGGATCATTGGATCATGGATGTTCTCATTTGTAATGGTTTTGGGGCATATCTTGGCATGAAGACTTGTGATTATCTTGGAAATAAGCCATATCACTGGAGAGGTTTATGGAACATTCCCACCTACAGT\r",
        "\r\n"
       ]
      },
      {
       "output_type": "stream",
       "stream": "stdout",
       "text": [
        ">Spi_isotig15030\r\n",
        "GCCAGCTGTTGTGTCACAaGATTCAGATTTTAAACCCcaGATCACCACAGAAGAggTGAAAGGCTAATCGAACTTGGAAATAGCTGGTTTTCTGCGAAAACTaTTTAAGTAG\r",
        "\r\n",
        ">Spi_isotig15031\r\n",
        "ATGTAaGGAGAAGATTTTtAGGGAAGGAGAGTTCACCCTTAGAACcGATCCGTGAGcTGGGTTGATAGCGTCTGtCGGCAGTTTTTAcctcATGGTCTGATTT\r",
        "\r\n",
        ">Spi_isotig15032\r\n",
        "AATTCATCCATTTGTTTTTGTTGACTAaTATTATCTTCAGTGgCCTtCTCCCCTTCTTTCGGTAGAGGCGCCATCTTTAATTTTCAACACCTCTC\r",
        "\r\n",
        ">Spi_isotig15033\r\n",
        "GTGTGTGTGTGtGCGTGTGTGtGtGTGTGTGTGTGTGTGtgtgTGAGTGTGATTGagCACATTCTCATAAGTCTCGCATTagCGGAAT\r",
        "\r\n",
        ">Spi_isotig15034\r\n",
        "ggCTtGGCGAAgAGtAGatCATTAACTACATTCAGTCTCACAGTTAaCagTCACGCTGACAAGATGGgAGACTGG\r",
        "\r\n"
       ]
      }
     ],
     "prompt_number": 3
    },
    {
     "cell_type": "code",
     "collapsed": false,
     "input": [
      "#Converting FASTA to tabular format and placing output file in analyses directory\n",
      "!perl -e '$count=0; $len=0; while(<>) {s/\\r?\\n//; s/\\t/ /g; if (s/^>//) { if ($. != 1) {print \"\\n\"} s/ |$/\\t/; $count++; $_ .= \"\\t\";} else {s/ //g; $len += length($_)} print $_;} print \"\\n\"; warn \"\\nConverted $count FASTA records in $. lines to tabular format\\nTotal sequence length: $len\\n\\n\";' \\\n",
      "Spist2.fasta > /home/jay/Documents/fish546-2015/Analyses/Spist/fasta2tab"
     ],
     "language": "python",
     "metadata": {},
     "outputs": [
      {
       "output_type": "stream",
       "stream": "stdout",
       "text": [
        "\r\n",
        "Converted 15052 FASTA records in 30104 lines to tabular format\r\n",
        "Total sequence length: 16227896\r\n",
        "\r\n"
       ]
      }
     ],
     "prompt_number": 4
    },
    {
     "cell_type": "code",
     "collapsed": false,
     "input": [
      "cd /home/jay/Documents/fish546-2015/Analyses/Spist"
     ],
     "language": "python",
     "metadata": {},
     "outputs": [
      {
       "output_type": "stream",
       "stream": "stdout",
       "text": [
        "/home/jay/Documents/fish546-2015/Analyses/Spist\n"
       ]
      }
     ],
     "prompt_number": 5
    },
    {
     "cell_type": "code",
     "collapsed": false,
     "input": [
      "#Checking header on new tabular format file\n",
      "!head -2 fasta2tab"
     ],
     "language": "python",
     "metadata": {},
     "outputs": [
      {
       "output_type": "stream",
       "stream": "stdout",
       "text": [
        "Spi_contig00032\t\tGgATCCATCGAAAGAAAAaGTCGTAGTTGACAGTGATTGCATGACTTCTGTACAACGTCCGATTAGTTTTtGCGTTTTATTGTCTtCTTTTGTACTGgAAATTCGACTCTAGCAAGTTGATTTCGTTTAGTTATGTCTGGCATTGCTTTGGGCAGATTATCAGAAGAGAGAAAAGCTTGGCGTAAAGACcATCCTTTCGGATTTGTGGCCAAACCGGTTAAAAATCCTGATGGTACTCTAAATCTGATGAACTGGGAATGTGCGATCCCaGGAAAGAAAGCGACCCCATGGGAAGGAGGCTCTTTCAAATTGAAGATGATATTTAAAGACGACTATCCATCCTCTCCGCCAAAATGTAAATTTGATCCTCCAATTTTCCATCCTAATGTATACCCATCTGGCACAGTGTGTCTGTCTCTTCTAGATGAAGAGAAAGACTGGAGACCTGCCGTCACTATAAAACAGATTTTATTGGGAATTCAAGACTTACTGAaTGATCCAAaCaTAaGaGATCCAGCTCAAGCAGAAGCATACaCCATTTACTGCCAAAACAGATCAGAATATGAGAAACGAGTCAGAAGTCAAGCTGCAAaGTTCTCAAGTTCATAGTGAATAAAGAAAAATATAAAATACTTCGCTAGCAGACGTGTAGGTTAACaGTGACTGGCAGAAATTGGATTTATTTTTtCTCcGTTtGTAAacAaCAaTGTGGAGTGGAGCAaGAATTCATCCgTAACTGCGTTAATACCACAGCTGTTGTTGTGAATTGGAaGGACAATCATGTCTGTTATTTtAGGAAGTTTCACAATGTACAGTTCAACTAACTTATACTAAAAAaCAGCTAAAGTtCACCTTAGTCTATGTtAGTTTtGTTAAAGCTTCTCTGTAgAAGGTTTGGGAGGgTtGTAATGGCTGTAACTATTCAGGgAGATCTGTCAAAGTACACTCTCTAATCCCATTGTTTCTTAAGGAATGAGTCATTATTTATTGTCTGGTGGGACGGaGGaTTTTAATCGTGTCACAATAAAATTTACCTGATCTTCCCatAagACCTGTAGTAATCTAaTGGTCCCTGTCATTGGCAGTCAaTTTTCTATAGTTTCCTGTTAACCTCTGTTAGCTACAACTGATGCCCCcTCTGTACCCCCCTAAAATTGTGTTCCCCCAAAgAAaTCCTTCCACCCACCCCATaCCTCCAGGTGATAACTAATGActGGTCCTTAATTCATTCTCTTTTTTTtGTTCTTGATTATTTGACTAAACCAAAGGCGatAAGTAAGATATACCCcAAtACGATTTGACGAACAATCTCTAGATTTTTTATTtAATCTTTAGTTGTAGATGTAATCAGAGGTGCAAAGCTTTACTGTTTtGAGTGTAAAGTGCCTGTTTCTAGGGATCCAGTGAAACCAGTAGTGTTGGGATTGTAAAGAGaTCAAAGAaTACCTCAAAGCACCAATCATAATGCTCTAATGTTGACAACTGCTAATGATTGGTtCAGCCTaTGGCTTTCATTAAAAaCGTCAAAAAaTAACGCTTCACTTCATTGCAAGTGATTCAGGTGGa\r\n",
        "Spi_contig00035\t\tAGCAGAGATCTATCAGACGACTATGTTACGACATGAAAaCCTTTTAGGCTTtGTAGCTGCTGACAaCAAaGATAATGGTGCCTGGACACAGCTTTGGCTGGTTACAGATTATTTagAAAGGGgCTCATTGTATGACTATCTTCAACTTGTTACCCTGAATGTTGAATCCATGCTGAAGTTAGCAGTGTCAATAGCCAGTGGACTTGCTCATCTCCACATtGAGATtGTAGGCACCCAAGgAAAGCCAGCTATTGCACATCGTGACTTAAAAaGTAAAAaCATTCTGGTTAAAAGAAATGGGACATGTTGCATAGGTGATTTGGGTCTTGCTGTTCGTCATAGTTCCATTACTGACACAGTTGATGTTCCTCCTGGGAACAGAgTTGGTACAAAGCGCTACATGCCACCTGAATTTTtAGATGACAATATACAGGTGCGGCACTTTGATGCATACAAGCGAGGTGATATGTATGCATTTGGTCTAGTGTTATGGGAAaTTGCAAGGACgTGTGTTTGTGGTGGATTGTGTGATGAATATCAGCTGCCCTACTATGACAGAGTTCCCTGTGATCCCAGCATTGAAGAtATGAGAAAGGTGGTCTGTGTGGAGAGGTATCGCCCTGCCTTTCCAAATAGGTGGATACAAGATCAGACACTACAGTCTATGTCCAAGTTGATGAAAGAATGTTGGTATGCCAATAGTGCTGCAAGACTTACAGCTCTCCGTGTTAAGAAGACTCTTACAACAcTGTGTCAGTTACATGATGTTGATATTATGGTTTAGAGGGaTCCATCAaGAAAACTCATGTAAAACAAGTgCAAGATGGGTGTATCACCAGGACTTATATAACAGGAGGAACCTCCTGATAATCCTTGCAGGCAATTTGTAGGTCCTGTAATGTGATACAGTACATGTCTACCATCATGCTATTGgTTTGCAGTTCAAACaGCAATGCTGTCTTTtATTTTTtGATAAAGCCATGAAGAATAAACGCGACAGAGAAAaTTTATGACTTCCTAGTTAACAAGAAGCATTCtCATTTTTTTTTTTTtttGCCTGCATAATTcTTGtATTTATATCCACAGCAACTGTCACTGACTCAAAGTgTtGgtAaTCatCAGCAACAAAGAACCCAACTTGgTTTTATGAAAGCACGTACATtCAAATGAGCAATTTAAATTGAAAACCTAAAAGGACATATCCATGTGCAACAACTGTAGAACTATGTATGAGCAGTGTCCACTATTCTCCTCCTTAGTTTATTTTAGATGTTTCGAATGAGAATACAGAATAGAGCTTCATCCTTTTGACATTGAAAGCATTTCATACTCAAGTATtGAAGGGTATGATTCTTTGTTGTGAGGAACGACACTCACCAAGTAATCCTCAAAATATTTAAGAGCATACATGGATTTTACCAAAAGATGTGGGTTGGTCATATCTACATTAAGAATTTGTTACAATAGTAAGGTAGTTGCAGTGCTGTAGCTAGCTCTTAGATGAAGCGTGTTTATTGCATTCAAATTGAAATGTTATTGTTTAAAGTGATTCTCAAATTAAAAGACATTGTATTTTTAGACAACTTTTTATCTTCGAAAACCCAGTGGTGTAAGGTAATTACATTATTTTATGTTCATAACAAATACATTTTAACTGTATTCCACCAAACAATGTGAAAGGGGCAGTTTAAGAATTAATGAAATCTTTCTTGATACCCGTTCTtcAGAACGCTTTATAGTATCTTCTTTATAGTTGTAAATAAaCCGAaTACTTTGCGTGTGAGGGGCATTGAaGAAACTGAAGGGTTTTGTTTGACTCTGTTCTAACAGAAtCAAACATAATGTAATTACTCGGAACTTCATTAAACTGGTGGCC\r\n"
       ]
      }
     ],
     "prompt_number": 6
    },
    {
     "cell_type": "code",
     "collapsed": false,
     "input": [
      "#\n",
      "#  NOTE THIS REQUIRES File specific knowledge\n",
      "#\n",
      "##to make sure we don't get description name issues \n",
      "!sed 's/contig/999999/g' <fasta2tab> fasta2tab_c"
     ],
     "language": "python",
     "metadata": {},
     "outputs": [],
     "prompt_number": 7
    },
    {
     "cell_type": "code",
     "collapsed": false,
     "input": [
      "#Add column with length of sequence\n",
      "!perl -e '$col = 2;' -e 'while (<>) { s/\\r?\\n//; @F = split /\\t/, $_; $len = length($F[$col]); print \"$_\\t$len\\n\" } warn \"\\nAdded column with length of column $col for $. lines.\\n\\n\";' \\\n",
      "fasta2tab_c > tab_1"
     ],
     "language": "python",
     "metadata": {},
     "outputs": [
      {
       "output_type": "stream",
       "stream": "stdout",
       "text": [
        "\r\n",
        "Added column with length of column 2 for 15052 lines.\r\n",
        "\r\n"
       ]
      }
     ],
     "prompt_number": 8
    },
    {
     "cell_type": "code",
     "collapsed": false,
     "input": [
      "!wc tab_1"
     ],
     "language": "python",
     "metadata": {},
     "outputs": [
      {
       "output_type": "stream",
       "stream": "stdout",
       "text": [
        "   15052    45156 16565757 tab_1\r\n"
       ]
      }
     ],
     "prompt_number": 9
    },
    {
     "cell_type": "code",
     "collapsed": false,
     "input": [
      "#This counts CGs - both cases\n",
      "!echo \"CG\" | awk -F\\[Cc][Gg] '{print NF-1}' tab_1 > CG "
     ],
     "language": "python",
     "metadata": {},
     "outputs": [],
     "prompt_number": 18
    },
    {
     "cell_type": "code",
     "collapsed": false,
     "input": [
      "#Counts Cs\n",
      "!echo \"C\" | awk -F\\[Cc] '{print NF-1}' tab_1 > C "
     ],
     "language": "python",
     "metadata": {},
     "outputs": [],
     "prompt_number": 19
    },
    {
     "cell_type": "code",
     "collapsed": false,
     "input": [
      "#Counts Gs\n",
      "!echo \"G\" | awk -F\\[Gg] '{print NF-1}' tab_1 > G "
     ],
     "language": "python",
     "metadata": {},
     "outputs": [],
     "prompt_number": 20
    },
    {
     "cell_type": "code",
     "collapsed": false,
     "input": [
      "#Combining counts\n",
      "!paste tab_1 \\\n",
      "CG \\\n",
      "C \\\n",
      "G \\\n",
      "> comb\n",
      "!head -1 comb"
     ],
     "language": "python",
     "metadata": {},
     "outputs": [
      {
       "output_type": "stream",
       "stream": "stdout",
       "text": [
        "Spi_99999900032\t\tGgATCCATCGAAAGAAAAaGTCGTAGTTGACAGTGATTGCATGACTTCTGTACAACGTCCGATTAGTTTTtGCGTTTTATTGTCTtCTTTTGTACTGgAAATTCGACTCTAGCAAGTTGATTTCGTTTAGTTATGTCTGGCATTGCTTTGGGCAGATTATCAGAAGAGAGAAAAGCTTGGCGTAAAGACcATCCTTTCGGATTTGTGGCCAAACCGGTTAAAAATCCTGATGGTACTCTAAATCTGATGAACTGGGAATGTGCGATCCCaGGAAAGAAAGCGACCCCATGGGAAGGAGGCTCTTTCAAATTGAAGATGATATTTAAAGACGACTATCCATCCTCTCCGCCAAAATGTAAATTTGATCCTCCAATTTTCCATCCTAATGTATACCCATCTGGCACAGTGTGTCTGTCTCTTCTAGATGAAGAGAAAGACTGGAGACCTGCCGTCACTATAAAACAGATTTTATTGGGAATTCAAGACTTACTGAaTGATCCAAaCaTAaGaGATCCAGCTCAAGCAGAAGCATACaCCATTTACTGCCAAAACAGATCAGAATATGAGAAACGAGTCAGAAGTCAAGCTGCAAaGTTCTCAAGTTCATAGTGAATAAAGAAAAATATAAAATACTTCGCTAGCAGACGTGTAGGTTAACaGTGACTGGCAGAAATTGGATTTATTTTTtCTCcGTTtGTAAacAaCAaTGTGGAGTGGAGCAaGAATTCATCCgTAACTGCGTTAATACCACAGCTGTTGTTGTGAATTGGAaGGACAATCATGTCTGTTATTTtAGGAAGTTTCACAATGTACAGTTCAACTAACTTATACTAAAAAaCAGCTAAAGTtCACCTTAGTCTATGTtAGTTTtGTTAAAGCTTCTCTGTAgAAGGTTTGGGAGGgTtGTAATGGCTGTAACTATTCAGGgAGATCTGTCAAAGTACACTCTCTAATCCCATTGTTTCTTAAGGAATGAGTCATTATTTATTGTCTGGTGGGACGGaGGaTTTTAATCGTGTCACAATAAAATTTACCTGATCTTCCCatAagACCTGTAGTAATCTAaTGGTCCCTGTCATTGGCAGTCAaTTTTCTATAGTTTCCTGTTAACCTCTGTTAGCTACAACTGATGCCCCcTCTGTACCCCCCTAAAATTGTGTTCCCCCAAAgAAaTCCTTCCACCCACCCCATaCCTCCAGGTGATAACTAATGActGGTCCTTAATTCATTCTCTTTTTTTtGTTCTTGATTATTTGACTAAACCAAAGGCGatAAGTAAGATATACCCcAAtACGATTTGACGAACAATCTCTAGATTTTTTATTtAATCTTTAGTTGTAGATGTAATCAGAGGTGCAAAGCTTTACTGTTTtGAGTGTAAAGTGCCTGTTTCTAGGGATCCAGTGAAACCAGTAGTGTTGGGATTGTAAAGAGaTCAAAGAaTACCTCAAAGCACCAATCATAATGCTCTAATGTTGACAACTGCTAATGATTGGTtCAGCCTaTGGCTTTCATTAAAAaCGTCAAAAAaTAACGCTTCACTTCATTGCAAGTGATTCAGGTGGa\t1566\t28\t297\t305\r\n"
       ]
      }
     ],
     "prompt_number": 21
    },
    {
     "cell_type": "heading",
     "level": 1,
     "metadata": {},
     "source": [
      "Calculating CpGo/e based on [Gavery and Roberts (2010)](http://www.biomedcentral.com/1471-2164/11/483)"
     ]
    },
    {
     "cell_type": "markdown",
     "metadata": {},
     "source": [
      "<img src=\"http://eagle.fish.washington.edu/cnidarian/skitch/BMC_Genomics___Full_text___DNA_methylation_patterns_provide_insight_into_epigenetic_regulation_in_the_Pacific_oyster__Crassostrea_gigas__1A0683A5.png\" alt=\"BMC_Genomics___Full_text___DNA_methylation_patterns_provide_insight_into_epigenetic_regulation_in_the_Pacific_oyster__Crassostrea_gigas__1A0683A5.png\"/>"
     ]
    },
    {
     "cell_type": "code",
     "collapsed": false,
     "input": [
      "!awk '{print $1, \"\\t\", (($4)/($5*$6))*(($3^2)/($3-1))}' comb > ID_CpG #use ^ instead of ** for exponent\n"
     ],
     "language": "python",
     "metadata": {},
     "outputs": [],
     "prompt_number": 22
    },
    {
     "cell_type": "code",
     "collapsed": false,
     "input": [
      "!head ID_CpG"
     ],
     "language": "python",
     "metadata": {},
     "outputs": [
      {
       "output_type": "stream",
       "stream": "stdout",
       "text": [
        "Spi_99999900032 \t 0.484363\r\n",
        "Spi_99999900035 \t 0.335179\r\n",
        "Spi_99999900040 \t 0.854266\r\n",
        "Spi_99999900044 \t 0.867137\r\n",
        "Spi_99999900046 \t 0.196592\r\n",
        "Spi_99999900075 \t 0.871739\r\n",
        "Spi_99999900091 \t 0.937628\r\n",
        "Spi_99999900094 \t 0.131292\r\n",
        "Spi_99999900095 \t 0.684932\r\n",
        "Spi_99999900098 \t 0.584255\r\n"
       ]
      }
     ],
     "prompt_number": 23
    },
    {
     "cell_type": "code",
     "collapsed": false,
     "input": [
      "#Replacing contig ID prefix with orginal one\n",
      "!sed 's/999999/contig/g' <ID_CpG> ID_CpG.tab\n",
      "!head ID_CpG.tab\n",
      "!echo line number\n",
      "!wc -l ID_CpG.tab"
     ],
     "language": "python",
     "metadata": {},
     "outputs": [
      {
       "output_type": "stream",
       "stream": "stdout",
       "text": [
        "Spi_contig00032 \t 0.484363\r\n",
        "Spi_contig00035 \t 0.335179\r\n",
        "Spi_contig00040 \t 0.854266\r\n",
        "Spi_contig00044 \t 0.867137\r\n",
        "Spi_contig00046 \t 0.196592\r\n",
        "Spi_contig00075 \t 0.871739\r\n",
        "Spi_contig00091 \t 0.937628\r\n",
        "Spi_contig00094 \t 0.131292\r\n",
        "Spi_contig00095 \t 0.684932\r\n",
        "Spi_contig00098 \t 0.584255\r\n"
       ]
      },
      {
       "output_type": "stream",
       "stream": "stdout",
       "text": [
        "line number\r\n"
       ]
      },
      {
       "output_type": "stream",
       "stream": "stdout",
       "text": [
        "15052 ID_CpG.tab\r\n"
       ]
      }
     ],
     "prompt_number": 24
    },
    {
     "cell_type": "heading",
     "level": 1,
     "metadata": {},
     "source": [
      "Now joining CpG to GOslim, but first must sort files."
     ]
    },
    {
     "cell_type": "code",
     "collapsed": false,
     "input": [
      "#Sorting GOSlim annotation file. This file was the result of work done in another notebook: Pdam_blast_anno.ipynb\n",
      "!sort Spist_GOSlim.tab | tail -n +2 > Spist_GOSlim.sorted\n",
      "!head Spist_GOSlim.sorted"
     ],
     "language": "python",
     "metadata": {},
     "outputs": [
      {
       "output_type": "stream",
       "stream": "stdout",
       "text": [
        "Spi_contig00032\tcell cycle and proliferation\r",
        "\r\n",
        "Spi_contig00032\tcell organization and biogenesis\r",
        "\r\n",
        "Spi_contig00032\tdevelopmental processes\r",
        "\r\n",
        "Spi_contig00032\tother biological processes\r",
        "\r\n",
        "Spi_contig00032\tprotein metabolism\r",
        "\r\n",
        "Spi_contig00035\tcell cycle and proliferation\r",
        "\r\n",
        "Spi_contig00035\tcell organization and biogenesis\r",
        "\r\n",
        "Spi_contig00035\tdeath\r",
        "\r\n",
        "Spi_contig00035\tdevelopmental processes\r",
        "\r\n",
        "Spi_contig00035\tother biological processes\r",
        "\r\n"
       ]
      }
     ],
     "prompt_number": 25
    },
    {
     "cell_type": "code",
     "collapsed": false,
     "input": [
      "#Converting file from DOS to UNIX\n",
      "!dos2unix Spist_GOSlim.sorted "
     ],
     "language": "python",
     "metadata": {},
     "outputs": [
      {
       "output_type": "stream",
       "stream": "stdout",
       "text": [
        "dos2unix: converting file Spist_GOSlim.sorted to Unix format ...\r\n"
       ]
      }
     ],
     "prompt_number": 26
    },
    {
     "cell_type": "code",
     "collapsed": false,
     "input": [
      "!head Spist_GOSlim.sorted"
     ],
     "language": "python",
     "metadata": {},
     "outputs": [
      {
       "output_type": "stream",
       "stream": "stdout",
       "text": [
        "Spi_contig00032\tcell cycle and proliferation\r\n",
        "Spi_contig00032\tcell organization and biogenesis\r\n",
        "Spi_contig00032\tdevelopmental processes\r\n",
        "Spi_contig00032\tother biological processes\r\n",
        "Spi_contig00032\tprotein metabolism\r\n",
        "Spi_contig00035\tcell cycle and proliferation\r\n",
        "Spi_contig00035\tcell organization and biogenesis\r\n",
        "Spi_contig00035\tdeath\r\n",
        "Spi_contig00035\tdevelopmental processes\r\n",
        "Spi_contig00035\tother biological processes\r\n"
       ]
      }
     ],
     "prompt_number": 27
    },
    {
     "cell_type": "code",
     "collapsed": false,
     "input": [
      "#Sorting CpG file\n",
      "!sort ID_CpG.tab > ID_CpG.sorted\n",
      "!head ID_CpG.sorted"
     ],
     "language": "python",
     "metadata": {},
     "outputs": [
      {
       "output_type": "stream",
       "stream": "stdout",
       "text": [
        "Spi_contig00032 \t 0.484363\r\n",
        "Spi_contig00035 \t 0.335179\r\n",
        "Spi_contig00040 \t 0.854266\r\n",
        "Spi_contig00044 \t 0.867137\r\n",
        "Spi_contig00046 \t 0.196592\r\n",
        "Spi_contig00075 \t 0.871739\r\n",
        "Spi_contig00091 \t 0.937628\r\n",
        "Spi_contig00094 \t 0.131292\r\n",
        "Spi_contig00095 \t 0.684932\r\n",
        "Spi_contig00098 \t 0.584255\r\n"
       ]
      }
     ],
     "prompt_number": 28
    },
    {
     "cell_type": "code",
     "collapsed": false,
     "input": [
      "!dos2unix ID_CpG.sorted "
     ],
     "language": "python",
     "metadata": {},
     "outputs": [
      {
       "output_type": "stream",
       "stream": "stdout",
       "text": [
        "dos2unix: converting file ID_CpG.sorted to Unix format ...\r\n"
       ]
      }
     ],
     "prompt_number": 29
    },
    {
     "cell_type": "code",
     "collapsed": true,
     "input": [
      "!join ID_CpG.sorted Spist_GOSlim.sorted > Spist_cpg_GOslim"
     ],
     "language": "python",
     "metadata": {},
     "outputs": [],
     "prompt_number": 30
    },
    {
     "cell_type": "code",
     "collapsed": false,
     "input": [
      "!head Spist_cpg_GOslim"
     ],
     "language": "python",
     "metadata": {},
     "outputs": [
      {
       "output_type": "stream",
       "stream": "stdout",
       "text": [
        "Spi_contig00032 0.484363 cell cycle and proliferation\r\n",
        "Spi_contig00032 0.484363 cell organization and biogenesis\r\n",
        "Spi_contig00032 0.484363 developmental processes\r\n",
        "Spi_contig00032 0.484363 other biological processes\r\n",
        "Spi_contig00032 0.484363 protein metabolism\r\n",
        "Spi_contig00035 0.335179 cell cycle and proliferation\r\n",
        "Spi_contig00035 0.335179 cell organization and biogenesis\r\n",
        "Spi_contig00035 0.335179 death\r\n",
        "Spi_contig00035 0.335179 developmental processes\r\n",
        "Spi_contig00035 0.335179 other biological processes\r\n"
       ]
      }
     ],
     "prompt_number": 31
    },
    {
     "cell_type": "code",
     "collapsed": false,
     "input": [
      "#Replacing spaces with tabs...this will also put tabs between words in GO terms...next step corrects this.\n",
      "!sed \"s/ /\\t/g\" Spist_cpg_GOslim > Spist_cpg_GOslim.tab"
     ],
     "language": "python",
     "metadata": {},
     "outputs": [],
     "prompt_number": 32
    },
    {
     "cell_type": "code",
     "collapsed": false,
     "input": [
      "!head Spist_cpg_GOslim.tab"
     ],
     "language": "python",
     "metadata": {},
     "outputs": [
      {
       "output_type": "stream",
       "stream": "stdout",
       "text": [
        "Spi_contig00032\t0.484363\tcell\tcycle\tand\tproliferation\r\n",
        "Spi_contig00032\t0.484363\tcell\torganization\tand\tbiogenesis\r\n",
        "Spi_contig00032\t0.484363\tdevelopmental\tprocesses\r\n",
        "Spi_contig00032\t0.484363\tother\tbiological\tprocesses\r\n",
        "Spi_contig00032\t0.484363\tprotein\tmetabolism\r\n",
        "Spi_contig00035\t0.335179\tcell\tcycle\tand\tproliferation\r\n",
        "Spi_contig00035\t0.335179\tcell\torganization\tand\tbiogenesis\r\n",
        "Spi_contig00035\t0.335179\tdeath\r\n",
        "Spi_contig00035\t0.335179\tdevelopmental\tprocesses\r\n",
        "Spi_contig00035\t0.335179\tother\tbiological\tprocesses\r\n"
       ]
      }
     ],
     "prompt_number": 33
    },
    {
     "cell_type": "code",
     "collapsed": false,
     "input": [
      "#Rewriting file so only contig ID and CpG o/e have tabs between them, while words in GOslim have space between them.\n",
      "!awk '{print $1, \"\\t\", $2, \"\\t\", $3, \" \", $4, \" \", $5, \" \", $6}' Spist_cpg_GOslim.tab > Spist_cpg_GOslim.tab2"
     ],
     "language": "python",
     "metadata": {},
     "outputs": [],
     "prompt_number": 34
    },
    {
     "cell_type": "code",
     "collapsed": false,
     "input": [
      "!head Spist_cpg_GOslim.tab2"
     ],
     "language": "python",
     "metadata": {},
     "outputs": [
      {
       "output_type": "stream",
       "stream": "stdout",
       "text": [
        "Spi_contig00032 \t 0.484363 \t cell   cycle   and   proliferation\r\n",
        "Spi_contig00032 \t 0.484363 \t cell   organization   and   biogenesis\r\n",
        "Spi_contig00032 \t 0.484363 \t developmental   processes      \r\n",
        "Spi_contig00032 \t 0.484363 \t other   biological   processes   \r\n",
        "Spi_contig00032 \t 0.484363 \t protein   metabolism      \r\n",
        "Spi_contig00035 \t 0.335179 \t cell   cycle   and   proliferation\r\n",
        "Spi_contig00035 \t 0.335179 \t cell   organization   and   biogenesis\r\n",
        "Spi_contig00035 \t 0.335179 \t death         \r\n",
        "Spi_contig00035 \t 0.335179 \t developmental   processes      \r\n",
        "Spi_contig00035 \t 0.335179 \t other   biological   processes   \r\n"
       ]
      }
     ],
     "prompt_number": 35
    },
    {
     "cell_type": "heading",
     "level": 1,
     "metadata": {},
     "source": [
      "Now time to plot data using pandas and matplot"
     ]
    },
    {
     "cell_type": "code",
     "collapsed": false,
     "input": [
      "import pandas as pd"
     ],
     "language": "python",
     "metadata": {},
     "outputs": [],
     "prompt_number": 36
    },
    {
     "cell_type": "code",
     "collapsed": false,
     "input": [
      "jData = pd.read_table('Spist_cpg_GOslim.tab2', header=None)\n",
      "jData"
     ],
     "language": "python",
     "metadata": {},
     "outputs": [
      {
       "html": [
        "<div style=\"max-height:1000px;max-width:1500px;overflow:auto;\">\n",
        "<table border=\"1\" class=\"dataframe\">\n",
        "  <thead>\n",
        "    <tr style=\"text-align: right;\">\n",
        "      <th></th>\n",
        "      <th>0</th>\n",
        "      <th>1</th>\n",
        "      <th>2</th>\n",
        "    </tr>\n",
        "  </thead>\n",
        "  <tbody>\n",
        "    <tr>\n",
        "      <th>0    </th>\n",
        "      <td> Spi_contig00032 </td>\n",
        "      <td> 0.484363</td>\n",
        "      <td>      cell   cycle   and   proliferation</td>\n",
        "    </tr>\n",
        "    <tr>\n",
        "      <th>1    </th>\n",
        "      <td> Spi_contig00032 </td>\n",
        "      <td> 0.484363</td>\n",
        "      <td>  cell   organization   and   biogenesis</td>\n",
        "    </tr>\n",
        "    <tr>\n",
        "      <th>2    </th>\n",
        "      <td> Spi_contig00032 </td>\n",
        "      <td> 0.484363</td>\n",
        "      <td>         developmental   processes      </td>\n",
        "    </tr>\n",
        "    <tr>\n",
        "      <th>3    </th>\n",
        "      <td> Spi_contig00032 </td>\n",
        "      <td> 0.484363</td>\n",
        "      <td>       other   biological   processes   </td>\n",
        "    </tr>\n",
        "    <tr>\n",
        "      <th>4    </th>\n",
        "      <td> Spi_contig00032 </td>\n",
        "      <td> 0.484363</td>\n",
        "      <td>              protein   metabolism      </td>\n",
        "    </tr>\n",
        "    <tr>\n",
        "      <th>5    </th>\n",
        "      <td> Spi_contig00035 </td>\n",
        "      <td> 0.335179</td>\n",
        "      <td>      cell   cycle   and   proliferation</td>\n",
        "    </tr>\n",
        "    <tr>\n",
        "      <th>6    </th>\n",
        "      <td> Spi_contig00035 </td>\n",
        "      <td> 0.335179</td>\n",
        "      <td>  cell   organization   and   biogenesis</td>\n",
        "    </tr>\n",
        "    <tr>\n",
        "      <th>7    </th>\n",
        "      <td> Spi_contig00035 </td>\n",
        "      <td> 0.335179</td>\n",
        "      <td>                          death         </td>\n",
        "    </tr>\n",
        "    <tr>\n",
        "      <th>8    </th>\n",
        "      <td> Spi_contig00035 </td>\n",
        "      <td> 0.335179</td>\n",
        "      <td>         developmental   processes      </td>\n",
        "    </tr>\n",
        "    <tr>\n",
        "      <th>9    </th>\n",
        "      <td> Spi_contig00035 </td>\n",
        "      <td> 0.335179</td>\n",
        "      <td>       other   biological   processes   </td>\n",
        "    </tr>\n",
        "    <tr>\n",
        "      <th>10   </th>\n",
        "      <td> Spi_contig00035 </td>\n",
        "      <td> 0.335179</td>\n",
        "      <td>        other   metabolic   processes   </td>\n",
        "    </tr>\n",
        "    <tr>\n",
        "      <th>11   </th>\n",
        "      <td> Spi_contig00035 </td>\n",
        "      <td> 0.335179</td>\n",
        "      <td>              protein   metabolism      </td>\n",
        "    </tr>\n",
        "    <tr>\n",
        "      <th>12   </th>\n",
        "      <td> Spi_contig00035 </td>\n",
        "      <td> 0.335179</td>\n",
        "      <td>                  RNA   metabolism      </td>\n",
        "    </tr>\n",
        "    <tr>\n",
        "      <th>13   </th>\n",
        "      <td> Spi_contig00035 </td>\n",
        "      <td> 0.335179</td>\n",
        "      <td>             signal   transduction      </td>\n",
        "    </tr>\n",
        "    <tr>\n",
        "      <th>14   </th>\n",
        "      <td> Spi_contig00035 </td>\n",
        "      <td> 0.335179</td>\n",
        "      <td>                 stress   response      </td>\n",
        "    </tr>\n",
        "    <tr>\n",
        "      <th>15   </th>\n",
        "      <td> Spi_contig00035 </td>\n",
        "      <td> 0.335179</td>\n",
        "      <td>                      transport         </td>\n",
        "    </tr>\n",
        "    <tr>\n",
        "      <th>16   </th>\n",
        "      <td> Spi_contig00040 </td>\n",
        "      <td> 0.854266</td>\n",
        "      <td>        other   metabolic   processes   </td>\n",
        "    </tr>\n",
        "    <tr>\n",
        "      <th>17   </th>\n",
        "      <td> Spi_contig00040 </td>\n",
        "      <td> 0.854266</td>\n",
        "      <td>                      transport         </td>\n",
        "    </tr>\n",
        "    <tr>\n",
        "      <th>18   </th>\n",
        "      <td> Spi_contig00046 </td>\n",
        "      <td> 0.196592</td>\n",
        "      <td>        other   metabolic   processes   </td>\n",
        "    </tr>\n",
        "    <tr>\n",
        "      <th>19   </th>\n",
        "      <td> Spi_contig00075 </td>\n",
        "      <td> 0.871739</td>\n",
        "      <td>        other   metabolic   processes   </td>\n",
        "    </tr>\n",
        "    <tr>\n",
        "      <th>20   </th>\n",
        "      <td> Spi_contig00075 </td>\n",
        "      <td> 0.871739</td>\n",
        "      <td>                      transport         </td>\n",
        "    </tr>\n",
        "    <tr>\n",
        "      <th>21   </th>\n",
        "      <td> Spi_contig00094 </td>\n",
        "      <td> 0.131292</td>\n",
        "      <td>                   cell   adhesion      </td>\n",
        "    </tr>\n",
        "    <tr>\n",
        "      <th>22   </th>\n",
        "      <td> Spi_contig00094 </td>\n",
        "      <td> 0.131292</td>\n",
        "      <td>      cell   cycle   and   proliferation</td>\n",
        "    </tr>\n",
        "    <tr>\n",
        "      <th>23   </th>\n",
        "      <td> Spi_contig00094 </td>\n",
        "      <td> 0.131292</td>\n",
        "      <td>  cell   organization   and   biogenesis</td>\n",
        "    </tr>\n",
        "    <tr>\n",
        "      <th>24   </th>\n",
        "      <td> Spi_contig00094 </td>\n",
        "      <td> 0.131292</td>\n",
        "      <td>                          death         </td>\n",
        "    </tr>\n",
        "    <tr>\n",
        "      <th>25   </th>\n",
        "      <td> Spi_contig00094 </td>\n",
        "      <td> 0.131292</td>\n",
        "      <td>         developmental   processes      </td>\n",
        "    </tr>\n",
        "    <tr>\n",
        "      <th>26   </th>\n",
        "      <td> Spi_contig00094 </td>\n",
        "      <td> 0.131292</td>\n",
        "      <td>                  DNA   metabolism      </td>\n",
        "    </tr>\n",
        "    <tr>\n",
        "      <th>27   </th>\n",
        "      <td> Spi_contig00094 </td>\n",
        "      <td> 0.131292</td>\n",
        "      <td>       other   biological   processes   </td>\n",
        "    </tr>\n",
        "    <tr>\n",
        "      <th>28   </th>\n",
        "      <td> Spi_contig00094 </td>\n",
        "      <td> 0.131292</td>\n",
        "      <td>        other   metabolic   processes   </td>\n",
        "    </tr>\n",
        "    <tr>\n",
        "      <th>29   </th>\n",
        "      <td> Spi_contig00094 </td>\n",
        "      <td> 0.131292</td>\n",
        "      <td>              protein   metabolism      </td>\n",
        "    </tr>\n",
        "    <tr>\n",
        "      <th>...</th>\n",
        "      <td>...</td>\n",
        "      <td>...</td>\n",
        "      <td>...</td>\n",
        "    </tr>\n",
        "    <tr>\n",
        "      <th>13714</th>\n",
        "      <td> Spi_isotig14932 </td>\n",
        "      <td> 0.617200</td>\n",
        "      <td>              protein   metabolism      </td>\n",
        "    </tr>\n",
        "    <tr>\n",
        "      <th>13715</th>\n",
        "      <td> Spi_isotig14936 </td>\n",
        "      <td> 0.249829</td>\n",
        "      <td>        other   metabolic   processes   </td>\n",
        "    </tr>\n",
        "    <tr>\n",
        "      <th>13716</th>\n",
        "      <td> Spi_isotig14955 </td>\n",
        "      <td> 0.527782</td>\n",
        "      <td>      cell   cycle   and   proliferation</td>\n",
        "    </tr>\n",
        "    <tr>\n",
        "      <th>13717</th>\n",
        "      <td> Spi_isotig14955 </td>\n",
        "      <td> 0.527782</td>\n",
        "      <td>  cell   organization   and   biogenesis</td>\n",
        "    </tr>\n",
        "    <tr>\n",
        "      <th>13718</th>\n",
        "      <td> Spi_isotig14955 </td>\n",
        "      <td> 0.527782</td>\n",
        "      <td>         developmental   processes      </td>\n",
        "    </tr>\n",
        "    <tr>\n",
        "      <th>13719</th>\n",
        "      <td> Spi_isotig14956 </td>\n",
        "      <td> 0.425249</td>\n",
        "      <td>              protein   metabolism      </td>\n",
        "    </tr>\n",
        "    <tr>\n",
        "      <th>13720</th>\n",
        "      <td> Spi_isotig14959 </td>\n",
        "      <td> 0.947377</td>\n",
        "      <td>  cell   organization   and   biogenesis</td>\n",
        "    </tr>\n",
        "    <tr>\n",
        "      <th>13721</th>\n",
        "      <td> Spi_isotig14962 </td>\n",
        "      <td> 0.344760</td>\n",
        "      <td>        other   metabolic   processes   </td>\n",
        "    </tr>\n",
        "    <tr>\n",
        "      <th>13722</th>\n",
        "      <td> Spi_isotig14962 </td>\n",
        "      <td> 0.344760</td>\n",
        "      <td>                      transport         </td>\n",
        "    </tr>\n",
        "    <tr>\n",
        "      <th>13723</th>\n",
        "      <td> Spi_isotig14966 </td>\n",
        "      <td> 0.674026</td>\n",
        "      <td>              protein   metabolism      </td>\n",
        "    </tr>\n",
        "    <tr>\n",
        "      <th>13724</th>\n",
        "      <td> Spi_isotig14969 </td>\n",
        "      <td> 0.475295</td>\n",
        "      <td>                  DNA   metabolism      </td>\n",
        "    </tr>\n",
        "    <tr>\n",
        "      <th>13725</th>\n",
        "      <td> Spi_isotig14969 </td>\n",
        "      <td> 0.475295</td>\n",
        "      <td>              protein   metabolism      </td>\n",
        "    </tr>\n",
        "    <tr>\n",
        "      <th>13726</th>\n",
        "      <td> Spi_isotig14969 </td>\n",
        "      <td> 0.475295</td>\n",
        "      <td>             signal   transduction      </td>\n",
        "    </tr>\n",
        "    <tr>\n",
        "      <th>13727</th>\n",
        "      <td> Spi_isotig14969 </td>\n",
        "      <td> 0.475295</td>\n",
        "      <td>                 stress   response      </td>\n",
        "    </tr>\n",
        "    <tr>\n",
        "      <th>13728</th>\n",
        "      <td> Spi_isotig14970 </td>\n",
        "      <td> 0.266236</td>\n",
        "      <td>  cell   organization   and   biogenesis</td>\n",
        "    </tr>\n",
        "    <tr>\n",
        "      <th>13729</th>\n",
        "      <td> Spi_isotig14970 </td>\n",
        "      <td> 0.266236</td>\n",
        "      <td>       other   biological   processes   </td>\n",
        "    </tr>\n",
        "    <tr>\n",
        "      <th>13730</th>\n",
        "      <td> Spi_isotig14970 </td>\n",
        "      <td> 0.266236</td>\n",
        "      <td>        other   metabolic   processes   </td>\n",
        "    </tr>\n",
        "    <tr>\n",
        "      <th>13731</th>\n",
        "      <td> Spi_isotig14970 </td>\n",
        "      <td> 0.266236</td>\n",
        "      <td>                  RNA   metabolism      </td>\n",
        "    </tr>\n",
        "    <tr>\n",
        "      <th>13732</th>\n",
        "      <td> Spi_isotig14970 </td>\n",
        "      <td> 0.266236</td>\n",
        "      <td>                 stress   response      </td>\n",
        "    </tr>\n",
        "    <tr>\n",
        "      <th>13733</th>\n",
        "      <td> Spi_isotig14981 </td>\n",
        "      <td> 0.198652</td>\n",
        "      <td>             signal   transduction      </td>\n",
        "    </tr>\n",
        "    <tr>\n",
        "      <th>13734</th>\n",
        "      <td> Spi_isotig14984 </td>\n",
        "      <td> 0.756834</td>\n",
        "      <td>  cell   organization   and   biogenesis</td>\n",
        "    </tr>\n",
        "    <tr>\n",
        "      <th>13735</th>\n",
        "      <td> Spi_isotig14984 </td>\n",
        "      <td> 0.756834</td>\n",
        "      <td>       other   biological   processes   </td>\n",
        "    </tr>\n",
        "    <tr>\n",
        "      <th>13736</th>\n",
        "      <td> Spi_isotig14984 </td>\n",
        "      <td> 0.756834</td>\n",
        "      <td>        other   metabolic   processes   </td>\n",
        "    </tr>\n",
        "    <tr>\n",
        "      <th>13737</th>\n",
        "      <td> Spi_isotig14993 </td>\n",
        "      <td> 0.651601</td>\n",
        "      <td>                          death         </td>\n",
        "    </tr>\n",
        "    <tr>\n",
        "      <th>13738</th>\n",
        "      <td> Spi_isotig14993 </td>\n",
        "      <td> 0.651601</td>\n",
        "      <td>       other   biological   processes   </td>\n",
        "    </tr>\n",
        "    <tr>\n",
        "      <th>13739</th>\n",
        "      <td> Spi_isotig14993 </td>\n",
        "      <td> 0.651601</td>\n",
        "      <td>                 stress   response      </td>\n",
        "    </tr>\n",
        "    <tr>\n",
        "      <th>13740</th>\n",
        "      <td> Spi_isotig14993 </td>\n",
        "      <td> 0.651601</td>\n",
        "      <td>                      transport         </td>\n",
        "    </tr>\n",
        "    <tr>\n",
        "      <th>13741</th>\n",
        "      <td> Spi_isotig14997 </td>\n",
        "      <td> 0.261195</td>\n",
        "      <td>        other   metabolic   processes   </td>\n",
        "    </tr>\n",
        "    <tr>\n",
        "      <th>13742</th>\n",
        "      <td> Spi_isotig14998 </td>\n",
        "      <td> 0.566397</td>\n",
        "      <td>       other   biological   processes   </td>\n",
        "    </tr>\n",
        "    <tr>\n",
        "      <th>13743</th>\n",
        "      <td> Spi_isotig15025 </td>\n",
        "      <td> 0.851705</td>\n",
        "      <td>              protein   metabolism      </td>\n",
        "    </tr>\n",
        "  </tbody>\n",
        "</table>\n",
        "<p>13744 rows \u00d7 3 columns</p>\n",
        "</div>"
       ],
       "metadata": {},
       "output_type": "pyout",
       "prompt_number": 37,
       "text": [
        "                      0         1                                        2\n",
        "0      Spi_contig00032   0.484363       cell   cycle   and   proliferation\n",
        "1      Spi_contig00032   0.484363   cell   organization   and   biogenesis\n",
        "2      Spi_contig00032   0.484363          developmental   processes      \n",
        "3      Spi_contig00032   0.484363        other   biological   processes   \n",
        "4      Spi_contig00032   0.484363               protein   metabolism      \n",
        "5      Spi_contig00035   0.335179       cell   cycle   and   proliferation\n",
        "6      Spi_contig00035   0.335179   cell   organization   and   biogenesis\n",
        "7      Spi_contig00035   0.335179                           death         \n",
        "8      Spi_contig00035   0.335179          developmental   processes      \n",
        "9      Spi_contig00035   0.335179        other   biological   processes   \n",
        "10     Spi_contig00035   0.335179         other   metabolic   processes   \n",
        "11     Spi_contig00035   0.335179               protein   metabolism      \n",
        "12     Spi_contig00035   0.335179                   RNA   metabolism      \n",
        "13     Spi_contig00035   0.335179              signal   transduction      \n",
        "14     Spi_contig00035   0.335179                  stress   response      \n",
        "15     Spi_contig00035   0.335179                       transport         \n",
        "16     Spi_contig00040   0.854266         other   metabolic   processes   \n",
        "17     Spi_contig00040   0.854266                       transport         \n",
        "18     Spi_contig00046   0.196592         other   metabolic   processes   \n",
        "19     Spi_contig00075   0.871739         other   metabolic   processes   \n",
        "20     Spi_contig00075   0.871739                       transport         \n",
        "21     Spi_contig00094   0.131292                    cell   adhesion      \n",
        "22     Spi_contig00094   0.131292       cell   cycle   and   proliferation\n",
        "23     Spi_contig00094   0.131292   cell   organization   and   biogenesis\n",
        "24     Spi_contig00094   0.131292                           death         \n",
        "25     Spi_contig00094   0.131292          developmental   processes      \n",
        "26     Spi_contig00094   0.131292                   DNA   metabolism      \n",
        "27     Spi_contig00094   0.131292        other   biological   processes   \n",
        "28     Spi_contig00094   0.131292         other   metabolic   processes   \n",
        "29     Spi_contig00094   0.131292               protein   metabolism      \n",
        "...                 ...       ...                                      ...\n",
        "13714  Spi_isotig14932   0.617200               protein   metabolism      \n",
        "13715  Spi_isotig14936   0.249829         other   metabolic   processes   \n",
        "13716  Spi_isotig14955   0.527782       cell   cycle   and   proliferation\n",
        "13717  Spi_isotig14955   0.527782   cell   organization   and   biogenesis\n",
        "13718  Spi_isotig14955   0.527782          developmental   processes      \n",
        "13719  Spi_isotig14956   0.425249               protein   metabolism      \n",
        "13720  Spi_isotig14959   0.947377   cell   organization   and   biogenesis\n",
        "13721  Spi_isotig14962   0.344760         other   metabolic   processes   \n",
        "13722  Spi_isotig14962   0.344760                       transport         \n",
        "13723  Spi_isotig14966   0.674026               protein   metabolism      \n",
        "13724  Spi_isotig14969   0.475295                   DNA   metabolism      \n",
        "13725  Spi_isotig14969   0.475295               protein   metabolism      \n",
        "13726  Spi_isotig14969   0.475295              signal   transduction      \n",
        "13727  Spi_isotig14969   0.475295                  stress   response      \n",
        "13728  Spi_isotig14970   0.266236   cell   organization   and   biogenesis\n",
        "13729  Spi_isotig14970   0.266236        other   biological   processes   \n",
        "13730  Spi_isotig14970   0.266236         other   metabolic   processes   \n",
        "13731  Spi_isotig14970   0.266236                   RNA   metabolism      \n",
        "13732  Spi_isotig14970   0.266236                  stress   response      \n",
        "13733  Spi_isotig14981   0.198652              signal   transduction      \n",
        "13734  Spi_isotig14984   0.756834   cell   organization   and   biogenesis\n",
        "13735  Spi_isotig14984   0.756834        other   biological   processes   \n",
        "13736  Spi_isotig14984   0.756834         other   metabolic   processes   \n",
        "13737  Spi_isotig14993   0.651601                           death         \n",
        "13738  Spi_isotig14993   0.651601        other   biological   processes   \n",
        "13739  Spi_isotig14993   0.651601                  stress   response      \n",
        "13740  Spi_isotig14993   0.651601                       transport         \n",
        "13741  Spi_isotig14997   0.261195         other   metabolic   processes   \n",
        "13742  Spi_isotig14998   0.566397        other   biological   processes   \n",
        "13743  Spi_isotig15025   0.851705               protein   metabolism      \n",
        "\n",
        "[13744 rows x 3 columns]"
       ]
      }
     ],
     "prompt_number": 37
    },
    {
     "cell_type": "code",
     "collapsed": false,
     "input": [
      "%matplotlib inline"
     ],
     "language": "python",
     "metadata": {},
     "outputs": [],
     "prompt_number": 38
    },
    {
     "cell_type": "code",
     "collapsed": false,
     "input": [
      "import matplotlib.pyplot as plt "
     ],
     "language": "python",
     "metadata": {},
     "outputs": [],
     "prompt_number": 39
    },
    {
     "cell_type": "code",
     "collapsed": false,
     "input": [
      "jData.groupby(2)[1].mean().plot(kind='barh', color=list('myb'))\n",
      "plt.axis([0.5, 0.75, -1, 14])"
     ],
     "language": "python",
     "metadata": {},
     "outputs": [
      {
       "metadata": {},
       "output_type": "pyout",
       "prompt_number": 41,
       "text": [
        "[0.5, 0.75, -1, 14]"
       ]
      },
      {
       "metadata": {},
       "output_type": "display_data",
       "png": "[encoded data removed]",
       "text": [
        "<matplotlib.figure.Figure at 0x7f87402024d0>"
       ]
      }
     ],
     "prompt_number": 41
    },
    {
     "cell_type": "code",
     "collapsed": false,
     "input": [
      "#To plot density curve, must use CpG data WITHOUT annotation\n",
      "CpG = pd.read_table('ID_CpG.tab', header=None, )\n",
      "CpG"
     ],
     "language": "python",
     "metadata": {},
     "outputs": [
      {
       "html": [
        "<div style=\"max-height:1000px;max-width:1500px;overflow:auto;\">\n",
        "<table border=\"1\" class=\"dataframe\">\n",
        "  <thead>\n",
        "    <tr style=\"text-align: right;\">\n",
        "      <th></th>\n",
        "      <th>0</th>\n",
        "      <th>1</th>\n",
        "    </tr>\n",
        "  </thead>\n",
        "  <tbody>\n",
        "    <tr>\n",
        "      <th>0    </th>\n",
        "      <td> Spi_contig00032 </td>\n",
        "      <td>  0.484363</td>\n",
        "    </tr>\n",
        "    <tr>\n",
        "      <th>1    </th>\n",
        "      <td> Spi_contig00035 </td>\n",
        "      <td>  0.335179</td>\n",
        "    </tr>\n",
        "    <tr>\n",
        "      <th>2    </th>\n",
        "      <td> Spi_contig00040 </td>\n",
        "      <td>  0.854266</td>\n",
        "    </tr>\n",
        "    <tr>\n",
        "      <th>3    </th>\n",
        "      <td> Spi_contig00044 </td>\n",
        "      <td>  0.867137</td>\n",
        "    </tr>\n",
        "    <tr>\n",
        "      <th>4    </th>\n",
        "      <td> Spi_contig00046 </td>\n",
        "      <td>  0.196592</td>\n",
        "    </tr>\n",
        "    <tr>\n",
        "      <th>5    </th>\n",
        "      <td> Spi_contig00075 </td>\n",
        "      <td>  0.871739</td>\n",
        "    </tr>\n",
        "    <tr>\n",
        "      <th>6    </th>\n",
        "      <td> Spi_contig00091 </td>\n",
        "      <td>  0.937628</td>\n",
        "    </tr>\n",
        "    <tr>\n",
        "      <th>7    </th>\n",
        "      <td> Spi_contig00094 </td>\n",
        "      <td>  0.131292</td>\n",
        "    </tr>\n",
        "    <tr>\n",
        "      <th>8    </th>\n",
        "      <td> Spi_contig00095 </td>\n",
        "      <td>  0.684932</td>\n",
        "    </tr>\n",
        "    <tr>\n",
        "      <th>9    </th>\n",
        "      <td> Spi_contig00098 </td>\n",
        "      <td>  0.584255</td>\n",
        "    </tr>\n",
        "    <tr>\n",
        "      <th>10   </th>\n",
        "      <td> Spi_contig00103 </td>\n",
        "      <td>  0.857523</td>\n",
        "    </tr>\n",
        "    <tr>\n",
        "      <th>11   </th>\n",
        "      <td> Spi_contig00108 </td>\n",
        "      <td>   1.04639</td>\n",
        "    </tr>\n",
        "    <tr>\n",
        "      <th>12   </th>\n",
        "      <td> Spi_contig00200 </td>\n",
        "      <td>  0.981477</td>\n",
        "    </tr>\n",
        "    <tr>\n",
        "      <th>13   </th>\n",
        "      <td> Spi_contig00834 </td>\n",
        "      <td>  0.654594</td>\n",
        "    </tr>\n",
        "    <tr>\n",
        "      <th>14   </th>\n",
        "      <td> Spi_contig00842 </td>\n",
        "      <td>  0.631948</td>\n",
        "    </tr>\n",
        "    <tr>\n",
        "      <th>15   </th>\n",
        "      <td> Spi_isotig00001 </td>\n",
        "      <td>   0.90794</td>\n",
        "    </tr>\n",
        "    <tr>\n",
        "      <th>16   </th>\n",
        "      <td> Spi_isotig00002 </td>\n",
        "      <td>  0.907459</td>\n",
        "    </tr>\n",
        "    <tr>\n",
        "      <th>17   </th>\n",
        "      <td> Spi_isotig00003 </td>\n",
        "      <td>  0.893439</td>\n",
        "    </tr>\n",
        "    <tr>\n",
        "      <th>18   </th>\n",
        "      <td> Spi_isotig00004 </td>\n",
        "      <td>  0.892969</td>\n",
        "    </tr>\n",
        "    <tr>\n",
        "      <th>19   </th>\n",
        "      <td> Spi_isotig00005 </td>\n",
        "      <td>  0.897282</td>\n",
        "    </tr>\n",
        "    <tr>\n",
        "      <th>20   </th>\n",
        "      <td> Spi_isotig00006 </td>\n",
        "      <td>  0.842128</td>\n",
        "    </tr>\n",
        "    <tr>\n",
        "      <th>21   </th>\n",
        "      <td> Spi_isotig00007 </td>\n",
        "      <td>  0.929425</td>\n",
        "    </tr>\n",
        "    <tr>\n",
        "      <th>22   </th>\n",
        "      <td> Spi_isotig00008 </td>\n",
        "      <td>  0.984579</td>\n",
        "    </tr>\n",
        "    <tr>\n",
        "      <th>23   </th>\n",
        "      <td> Spi_isotig00009 </td>\n",
        "      <td>  0.984025</td>\n",
        "    </tr>\n",
        "    <tr>\n",
        "      <th>24   </th>\n",
        "      <td> Spi_isotig00010 </td>\n",
        "      <td>  0.905006</td>\n",
        "    </tr>\n",
        "    <tr>\n",
        "      <th>25   </th>\n",
        "      <td> Spi_isotig00011 </td>\n",
        "      <td>   0.96928</td>\n",
        "    </tr>\n",
        "    <tr>\n",
        "      <th>26   </th>\n",
        "      <td> Spi_isotig00012 </td>\n",
        "      <td>  0.968738</td>\n",
        "    </tr>\n",
        "    <tr>\n",
        "      <th>27   </th>\n",
        "      <td> Spi_isotig00013 </td>\n",
        "      <td>  0.973709</td>\n",
        "    </tr>\n",
        "    <tr>\n",
        "      <th>28   </th>\n",
        "      <td> Spi_isotig00014 </td>\n",
        "      <td>  0.909493</td>\n",
        "    </tr>\n",
        "    <tr>\n",
        "      <th>29   </th>\n",
        "      <td> Spi_isotig00015 </td>\n",
        "      <td>  0.986323</td>\n",
        "    </tr>\n",
        "    <tr>\n",
        "      <th>...</th>\n",
        "      <td>...</td>\n",
        "      <td>...</td>\n",
        "    </tr>\n",
        "    <tr>\n",
        "      <th>15022</th>\n",
        "      <td> Spi_isotig15005 </td>\n",
        "      <td>   1.73285</td>\n",
        "    </tr>\n",
        "    <tr>\n",
        "      <th>15023</th>\n",
        "      <td> Spi_isotig15006 </td>\n",
        "      <td>   1.09892</td>\n",
        "    </tr>\n",
        "    <tr>\n",
        "      <th>15024</th>\n",
        "      <td> Spi_isotig15007 </td>\n",
        "      <td>  0.724252</td>\n",
        "    </tr>\n",
        "    <tr>\n",
        "      <th>15025</th>\n",
        "      <td> Spi_isotig15008 </td>\n",
        "      <td>  0.617582</td>\n",
        "    </tr>\n",
        "    <tr>\n",
        "      <th>15026</th>\n",
        "      <td> Spi_isotig15009 </td>\n",
        "      <td>  0.635018</td>\n",
        "    </tr>\n",
        "    <tr>\n",
        "      <th>15027</th>\n",
        "      <td> Spi_isotig15010 </td>\n",
        "      <td>   1.13154</td>\n",
        "    </tr>\n",
        "    <tr>\n",
        "      <th>15028</th>\n",
        "      <td> Spi_isotig15011 </td>\n",
        "      <td>  0.539694</td>\n",
        "    </tr>\n",
        "    <tr>\n",
        "      <th>15029</th>\n",
        "      <td> Spi_isotig15012 </td>\n",
        "      <td>  0.118409</td>\n",
        "    </tr>\n",
        "    <tr>\n",
        "      <th>15030</th>\n",
        "      <td> Spi_isotig15013 </td>\n",
        "      <td>  0.698306</td>\n",
        "    </tr>\n",
        "    <tr>\n",
        "      <th>15031</th>\n",
        "      <td> Spi_isotig15014 </td>\n",
        "      <td>  0.876617</td>\n",
        "    </tr>\n",
        "    <tr>\n",
        "      <th>15032</th>\n",
        "      <td> Spi_isotig15015 </td>\n",
        "      <td>   1.37661</td>\n",
        "    </tr>\n",
        "    <tr>\n",
        "      <th>15033</th>\n",
        "      <td> Spi_isotig15016 </td>\n",
        "      <td>  0.783859</td>\n",
        "    </tr>\n",
        "    <tr>\n",
        "      <th>15034</th>\n",
        "      <td> Spi_isotig15017 </td>\n",
        "      <td>  0.313478</td>\n",
        "    </tr>\n",
        "    <tr>\n",
        "      <th>15035</th>\n",
        "      <td> Spi_isotig15018 </td>\n",
        "      <td>   1.08239</td>\n",
        "    </tr>\n",
        "    <tr>\n",
        "      <th>15036</th>\n",
        "      <td> Spi_isotig15019 </td>\n",
        "      <td>  0.457876</td>\n",
        "    </tr>\n",
        "    <tr>\n",
        "      <th>15037</th>\n",
        "      <td> Spi_isotig15020 </td>\n",
        "      <td>  0.406831</td>\n",
        "    </tr>\n",
        "    <tr>\n",
        "      <th>15038</th>\n",
        "      <td> Spi_isotig15021 </td>\n",
        "      <td>  0.414157</td>\n",
        "    </tr>\n",
        "    <tr>\n",
        "      <th>15039</th>\n",
        "      <td> Spi_isotig15022 </td>\n",
        "      <td>  0.818539</td>\n",
        "    </tr>\n",
        "    <tr>\n",
        "      <th>15040</th>\n",
        "      <td> Spi_isotig15023 </td>\n",
        "      <td>  0.758431</td>\n",
        "    </tr>\n",
        "    <tr>\n",
        "      <th>15041</th>\n",
        "      <td> Spi_isotig15024 </td>\n",
        "      <td>      -nan</td>\n",
        "    </tr>\n",
        "    <tr>\n",
        "      <th>15042</th>\n",
        "      <td> Spi_isotig15025 </td>\n",
        "      <td>  0.851705</td>\n",
        "    </tr>\n",
        "    <tr>\n",
        "      <th>15043</th>\n",
        "      <td> Spi_isotig15026 </td>\n",
        "      <td>         0</td>\n",
        "    </tr>\n",
        "    <tr>\n",
        "      <th>15044</th>\n",
        "      <td> Spi_isotig15027 </td>\n",
        "      <td>  0.834541</td>\n",
        "    </tr>\n",
        "    <tr>\n",
        "      <th>15045</th>\n",
        "      <td> Spi_isotig15028 </td>\n",
        "      <td>   1.18376</td>\n",
        "    </tr>\n",
        "    <tr>\n",
        "      <th>15046</th>\n",
        "      <td> Spi_isotig15029 </td>\n",
        "      <td>   1.06162</td>\n",
        "    </tr>\n",
        "    <tr>\n",
        "      <th>15047</th>\n",
        "      <td> Spi_isotig15030 </td>\n",
        "      <td>  0.413952</td>\n",
        "    </tr>\n",
        "    <tr>\n",
        "      <th>15048</th>\n",
        "      <td> Spi_isotig15031 </td>\n",
        "      <td>  0.789448</td>\n",
        "    </tr>\n",
        "    <tr>\n",
        "      <th>15049</th>\n",
        "      <td> Spi_isotig15032 </td>\n",
        "      <td>  0.590835</td>\n",
        "    </tr>\n",
        "    <tr>\n",
        "      <th>15050</th>\n",
        "      <td> Spi_isotig15033 </td>\n",
        "      <td>  0.872662</td>\n",
        "    </tr>\n",
        "    <tr>\n",
        "      <th>15051</th>\n",
        "      <td> Spi_isotig15034 </td>\n",
        "      <td>  0.482625</td>\n",
        "    </tr>\n",
        "  </tbody>\n",
        "</table>\n",
        "<p>15052 rows \u00d7 2 columns</p>\n",
        "</div>"
       ],
       "metadata": {},
       "output_type": "pyout",
       "prompt_number": 42,
       "text": [
        "                      0          1\n",
        "0      Spi_contig00032    0.484363\n",
        "1      Spi_contig00035    0.335179\n",
        "2      Spi_contig00040    0.854266\n",
        "3      Spi_contig00044    0.867137\n",
        "4      Spi_contig00046    0.196592\n",
        "5      Spi_contig00075    0.871739\n",
        "6      Spi_contig00091    0.937628\n",
        "7      Spi_contig00094    0.131292\n",
        "8      Spi_contig00095    0.684932\n",
        "9      Spi_contig00098    0.584255\n",
        "10     Spi_contig00103    0.857523\n",
        "11     Spi_contig00108     1.04639\n",
        "12     Spi_contig00200    0.981477\n",
        "13     Spi_contig00834    0.654594\n",
        "14     Spi_contig00842    0.631948\n",
        "15     Spi_isotig00001     0.90794\n",
        "16     Spi_isotig00002    0.907459\n",
        "17     Spi_isotig00003    0.893439\n",
        "18     Spi_isotig00004    0.892969\n",
        "19     Spi_isotig00005    0.897282\n",
        "20     Spi_isotig00006    0.842128\n",
        "21     Spi_isotig00007    0.929425\n",
        "22     Spi_isotig00008    0.984579\n",
        "23     Spi_isotig00009    0.984025\n",
        "24     Spi_isotig00010    0.905006\n",
        "25     Spi_isotig00011     0.96928\n",
        "26     Spi_isotig00012    0.968738\n",
        "27     Spi_isotig00013    0.973709\n",
        "28     Spi_isotig00014    0.909493\n",
        "29     Spi_isotig00015    0.986323\n",
        "...                 ...        ...\n",
        "15022  Spi_isotig15005     1.73285\n",
        "15023  Spi_isotig15006     1.09892\n",
        "15024  Spi_isotig15007    0.724252\n",
        "15025  Spi_isotig15008    0.617582\n",
        "15026  Spi_isotig15009    0.635018\n",
        "15027  Spi_isotig15010     1.13154\n",
        "15028  Spi_isotig15011    0.539694\n",
        "15029  Spi_isotig15012    0.118409\n",
        "15030  Spi_isotig15013    0.698306\n",
        "15031  Spi_isotig15014    0.876617\n",
        "15032  Spi_isotig15015     1.37661\n",
        "15033  Spi_isotig15016    0.783859\n",
        "15034  Spi_isotig15017    0.313478\n",
        "15035  Spi_isotig15018     1.08239\n",
        "15036  Spi_isotig15019    0.457876\n",
        "15037  Spi_isotig15020    0.406831\n",
        "15038  Spi_isotig15021    0.414157\n",
        "15039  Spi_isotig15022    0.818539\n",
        "15040  Spi_isotig15023    0.758431\n",
        "15041  Spi_isotig15024        -nan\n",
        "15042  Spi_isotig15025    0.851705\n",
        "15043  Spi_isotig15026           0\n",
        "15044  Spi_isotig15027    0.834541\n",
        "15045  Spi_isotig15028     1.18376\n",
        "15046  Spi_isotig15029     1.06162\n",
        "15047  Spi_isotig15030    0.413952\n",
        "15048  Spi_isotig15031    0.789448\n",
        "15049  Spi_isotig15032    0.590835\n",
        "15050  Spi_isotig15033    0.872662\n",
        "15051  Spi_isotig15034    0.482625\n",
        "\n",
        "[15052 rows x 2 columns]"
       ]
      }
     ],
     "prompt_number": 42
    },
    {
     "cell_type": "code",
     "collapsed": false,
     "input": [
      "# pandas density plot\n",
      "CpG[1].plot(kind='kde', linewidth=3);\n",
      "plt.axis([-0.3, 1.7, 0, 1.7])"
     ],
     "language": "python",
     "metadata": {},
     "outputs": [
      {
       "ename": "TypeError",
       "evalue": "Empty 'Series': no numeric data to plot",
       "output_type": "pyerr",
       "traceback": [
        "\u001b[1;31m---------------------------------------------------------------------------\u001b[0m\n\u001b[1;31mTypeError\u001b[0m                                 Traceback (most recent call last)",
        "\u001b[1;32m<ipython-input-45-894c11ff9391>\u001b[0m in \u001b[0;36m<module>\u001b[1;34m()\u001b[0m\n\u001b[0;32m      1\u001b[0m \u001b[1;31m# pandas density plot\u001b[0m\u001b[1;33m\u001b[0m\u001b[1;33m\u001b[0m\u001b[0m\n\u001b[1;32m----> 2\u001b[1;33m \u001b[0mCpG\u001b[0m\u001b[1;33m[\u001b[0m\u001b[1;36m1\u001b[0m\u001b[1;33m]\u001b[0m\u001b[1;33m.\u001b[0m\u001b[0mplot\u001b[0m\u001b[1;33m(\u001b[0m\u001b[0mkind\u001b[0m\u001b[1;33m=\u001b[0m\u001b[1;34m'kde'\u001b[0m\u001b[1;33m,\u001b[0m \u001b[0mlinewidth\u001b[0m\u001b[1;33m=\u001b[0m\u001b[1;36m3\u001b[0m\u001b[1;33m)\u001b[0m\u001b[1;33m;\u001b[0m\u001b[1;33m\u001b[0m\u001b[0m\n\u001b[0m\u001b[0;32m      3\u001b[0m \u001b[0mplt\u001b[0m\u001b[1;33m.\u001b[0m\u001b[0maxis\u001b[0m\u001b[1;33m(\u001b[0m\u001b[1;33m[\u001b[0m\u001b[1;33m-\u001b[0m\u001b[1;36m0.3\u001b[0m\u001b[1;33m,\u001b[0m \u001b[1;36m1.7\u001b[0m\u001b[1;33m,\u001b[0m \u001b[1;36m0\u001b[0m\u001b[1;33m,\u001b[0m \u001b[1;36m1.7\u001b[0m\u001b[1;33m]\u001b[0m\u001b[1;33m)\u001b[0m\u001b[1;33m\u001b[0m\u001b[0m\n",
        "\u001b[1;32m/home/jay/anaconda/lib/python2.7/site-packages/pandas/tools/plotting.pyc\u001b[0m in \u001b[0;36mplot_series\u001b[1;34m(series, label, kind, use_index, rot, xticks, yticks, xlim, ylim, ax, style, grid, legend, logx, logy, secondary_y, **kwds)\u001b[0m\n\u001b[0;32m   2258\u001b[0m                      secondary_y=secondary_y, **kwds)\n\u001b[0;32m   2259\u001b[0m \u001b[1;33m\u001b[0m\u001b[0m\n\u001b[1;32m-> 2260\u001b[1;33m     \u001b[0mplot_obj\u001b[0m\u001b[1;33m.\u001b[0m\u001b[0mgenerate\u001b[0m\u001b[1;33m(\u001b[0m\u001b[1;33m)\u001b[0m\u001b[1;33m\u001b[0m\u001b[0m\n\u001b[0m\u001b[0;32m   2261\u001b[0m     \u001b[0mplot_obj\u001b[0m\u001b[1;33m.\u001b[0m\u001b[0mdraw\u001b[0m\u001b[1;33m(\u001b[0m\u001b[1;33m)\u001b[0m\u001b[1;33m\u001b[0m\u001b[0m\n\u001b[0;32m   2262\u001b[0m \u001b[1;33m\u001b[0m\u001b[0m\n",
        "\u001b[1;32m/home/jay/anaconda/lib/python2.7/site-packages/pandas/tools/plotting.pyc\u001b[0m in \u001b[0;36mgenerate\u001b[1;34m(self)\u001b[0m\n\u001b[0;32m    898\u001b[0m     \u001b[1;32mdef\u001b[0m \u001b[0mgenerate\u001b[0m\u001b[1;33m(\u001b[0m\u001b[0mself\u001b[0m\u001b[1;33m)\u001b[0m\u001b[1;33m:\u001b[0m\u001b[1;33m\u001b[0m\u001b[0m\n\u001b[0;32m    899\u001b[0m         \u001b[0mself\u001b[0m\u001b[1;33m.\u001b[0m\u001b[0m_args_adjust\u001b[0m\u001b[1;33m(\u001b[0m\u001b[1;33m)\u001b[0m\u001b[1;33m\u001b[0m\u001b[0m\n\u001b[1;32m--> 900\u001b[1;33m         \u001b[0mself\u001b[0m\u001b[1;33m.\u001b[0m\u001b[0m_compute_plot_data\u001b[0m\u001b[1;33m(\u001b[0m\u001b[1;33m)\u001b[0m\u001b[1;33m\u001b[0m\u001b[0m\n\u001b[0m\u001b[0;32m    901\u001b[0m         \u001b[0mself\u001b[0m\u001b[1;33m.\u001b[0m\u001b[0m_setup_subplots\u001b[0m\u001b[1;33m(\u001b[0m\u001b[1;33m)\u001b[0m\u001b[1;33m\u001b[0m\u001b[0m\n\u001b[0;32m    902\u001b[0m         \u001b[0mself\u001b[0m\u001b[1;33m.\u001b[0m\u001b[0m_make_plot\u001b[0m\u001b[1;33m(\u001b[0m\u001b[1;33m)\u001b[0m\u001b[1;33m\u001b[0m\u001b[0m\n",
        "\u001b[1;32m/home/jay/anaconda/lib/python2.7/site-packages/pandas/tools/plotting.pyc\u001b[0m in \u001b[0;36m_compute_plot_data\u001b[1;34m(self)\u001b[0m\n\u001b[0;32m    968\u001b[0m         \u001b[1;32mif\u001b[0m \u001b[0mis_empty\u001b[0m\u001b[1;33m:\u001b[0m\u001b[1;33m\u001b[0m\u001b[0m\n\u001b[0;32m    969\u001b[0m             raise TypeError('Empty {0!r}: no numeric data to '\n\u001b[1;32m--> 970\u001b[1;33m                             'plot'.format(numeric_data.__class__.__name__))\n\u001b[0m\u001b[0;32m    971\u001b[0m \u001b[1;33m\u001b[0m\u001b[0m\n\u001b[0;32m    972\u001b[0m         \u001b[0mself\u001b[0m\u001b[1;33m.\u001b[0m\u001b[0mdata\u001b[0m \u001b[1;33m=\u001b[0m \u001b[0mnumeric_data\u001b[0m\u001b[1;33m\u001b[0m\u001b[0m\n",
        "\u001b[1;31mTypeError\u001b[0m: Empty 'Series': no numeric data to plot"
       ]
      }
     ],
     "prompt_number": 45
    },
    {
     "cell_type": "code",
     "collapsed": false,
     "input": [],
     "language": "python",
     "metadata": {},
     "outputs": []
    }
   ],
   "metadata": {}
  }
 ]
}