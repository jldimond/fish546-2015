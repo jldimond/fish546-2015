{
 "metadata": {
  "name": "",
  "signature": "sha256:17cc02f56839b081478d0525f0a338c0979a1d1a105f4275fcd19e72d851587f"
 },
 "nbformat": 3,
 "nbformat_minor": 0,
 "worksheets": [
  {
   "cells": [
    {
     "cell_type": "heading",
     "level": 1,
     "metadata": {},
     "source": [
      "Calculating CpG ratio for *Acropora palmata* transcriptome from:\n",
      "\n",
      "https://usegalaxy.org/datasets/cb51c4a06d7ae94e/display?to_ext=fasta"
     ]
    },
    {
     "cell_type": "code",
     "collapsed": false,
     "input": [
      "cd /home/jay/Documents/fish546-2015/Data/Apalm"
     ],
     "language": "python",
     "metadata": {},
     "outputs": [
      {
       "output_type": "stream",
       "stream": "stdout",
       "text": [
        "/home/jay/Documents/fish546-2015/Data/Apalm\n"
       ]
      }
     ],
     "prompt_number": 28
    },
    {
     "cell_type": "code",
     "collapsed": false,
     "input": [
      "#fasta file\n",
      "!head -2 Apalmata_assembled.fasta\n",
      "!echo \n",
      "!echo number of seqs =\n",
      "!fgrep -c \">\" Apalmata_assembled.fasta"
     ],
     "language": "python",
     "metadata": {},
     "outputs": [
      {
       "output_type": "stream",
       "stream": "stdout",
       "text": [
        ">AOKF1013_g2_c length=710 Acc=Q9DE13 Description=Bromodomainadjacenttozincfingerdomainprotein2B\r\n",
        "AGGGCAATTGAGTCGCAAAGAAAACAAGAGGAGCGTGAAAGATTAAAGGAAGAGAAAAAAATGGAAAAGGAACTTCAAAGAGAGAAAAAGCTTGAGCAAAAGAGAAGGGAGATGATTTTAGCCCGTGAACTGAAAAAGCCAGTAGAAGATATGGTTTTAAAGGATAGCAAGACACTTCCTGCTTTCTCCAGAGTTGTGGGCCTTAAAATACCAGGGGACGCATTTGCTGACTTGTTGATGGTTCAGGAATTTGTGCACAATTTTAGTGAAGCCTTGGAACTTGATTCCAACGAAGTCCCTTCCTTGTGGGAAATGCAGTTGTCATTGTTAAATGACAGCAGTGAGGATGTCCTCGTGCCACTTTGTCAGAGTCTTCTGATGTCTGCATTAGAGGATCCTGGCTGTGAGGGGCCTGATTCATTCACAATGCTTGGAGTTGCATTAGCCAAAGTGGAATTGAATGAAACAAACTTCTCTGAAGTCTTGAGGCTGTTTATAATTTCAAGAAATGCTGGTGACCCTCATCCTTTGGCAGAAGCTTTCATCAGTACACCTTTCCAAGCACTCACCATGTCAGCTAAGGCTGGAGTCTTGGGTTACCTGTGCAATGAACTGCTGTGCAGTAGAACAATATGCAAGGAAATAGAGAATAGTATTGAACACATGTCAAATTTACGTCGAGATAAGTGGGTTGTGGAAGGCAAGTTTGG\r\n"
       ]
      },
      {
       "output_type": "stream",
       "stream": "stdout",
       "text": [
        "\r\n"
       ]
      },
      {
       "output_type": "stream",
       "stream": "stdout",
       "text": [
        "number of seqs =\r\n"
       ]
      },
      {
       "output_type": "stream",
       "stream": "stdout",
       "text": [
        "88020\r\n"
       ]
      }
     ],
     "prompt_number": 29
    },
    {
     "cell_type": "code",
     "collapsed": false,
     "input": [
      "#I remembered that this fasta is full of \" \n",
      "#Removing \" from fasta\n",
      "!sed 's/\"//g' Apalmata_assembled.fasta > Apalm.fasta"
     ],
     "language": "python",
     "metadata": {},
     "outputs": [],
     "prompt_number": 30
    },
    {
     "cell_type": "code",
     "collapsed": false,
     "input": [
      "#Just printing first line w/out comments and looking at contig names\n",
      "!awk '{print $1}' Apalm.fasta > Apalm2.fasta\n",
      "!head -10 Apalm2.fasta\n",
      "!tail -10 Apalm2.fasta"
     ],
     "language": "python",
     "metadata": {},
     "outputs": [
      {
       "output_type": "stream",
       "stream": "stdout",
       "text": [
        ">AOKF1013_g2_c\r\n",
        "AGGGCAATTGAGTCGCAAAGAAAACAAGAGGAGCGTGAAAGATTAAAGGAAGAGAAAAAAATGGAAAAGGAACTTCAAAGAGAGAAAAAGCTTGAGCAAAAGAGAAGGGAGATGATTTTAGCCCGTGAACTGAAAAAGCCAGTAGAAGATATGGTTTTAAAGGATAGCAAGACACTTCCTGCTTTCTCCAGAGTTGTGGGCCTTAAAATACCAGGGGACGCATTTGCTGACTTGTTGATGGTTCAGGAATTTGTGCACAATTTTAGTGAAGCCTTGGAACTTGATTCCAACGAAGTCCCTTCCTTGTGGGAAATGCAGTTGTCATTGTTAAATGACAGCAGTGAGGATGTCCTCGTGCCACTTTGTCAGAGTCTTCTGATGTCTGCATTAGAGGATCCTGGCTGTGAGGGGCCTGATTCATTCACAATGCTTGGAGTTGCATTAGCCAAAGTGGAATTGAATGAAACAAACTTCTCTGAAGTCTTGAGGCTGTTTATAATTTCAAGAAATGCTGGTGACCCTCATCCTTTGGCAGAAGCTTTCATCAGTACACCTTTCCAAGCACTCACCATGTCAGCTAAGGCTGGAGTCTTGGGTTACCTGTGCAATGAACTGCTGTGCAGTAGAACAATATGCAAGGAAATAGAGAATAGTATTGAACACATGTCAAATTTACGTCGAGATAAGTGGGTTGTGGAAGGCAAGTTTGG\r\n",
        ">AOKF1022_b2_c\r\n",
        "GGGCAAAACGAACAAATTTTGACAATAATCTCTCAAATCTGTCAAGTCACGGCAGGGCTGCAAATAGCTATCGGGGAGGCGCCGGTCACGTCCGGTCAAACATGATTTTGCTCGGACAAGACCCGCTTTTGGCCGGTCAAATTTTAACAGTCGTAACTCTTACGATAGTGAACCCAGATTGCGCAGTAATCCTTTTATAACTACAAAACAATTGAATCCAAGTCGGTTTGGCAATAAAAGGTACTACTTTTACCACTCTTTGCTTTTCGCACTTTGCAATAAATTCTACGTAGAGGATTCTTGGTGTAGCGAGATTATTCTTCGTGGGAGTGCTTTCCGATCATTCAATCAATCAATCAATCACTTTATTTGTGAGTCAATCACGGTATCTCTCCAAAGATAAAACCCTCTACCAAGTGGGAACACCTAAGGCTAATAAAAATAACGGACGACTCGATGATTTGCCGTCGTGACAGGACTTGATGACATCGTGGAAATTTTCTAGTACCGGGAATTTCACTACCAAGAATTTGTCTAGTTTTATATTCGTTTTTTTTTATCATACATGTCCCTCGTGATTATCAAATAGTTAAAACTTAAAACTTGTCTGAACGAGTGAATAAAGGGTT\r\n",
        ">AOKF1022_g2_c\r\n",
        "TTTGGGGGGGGGCCGGTCCCGTCCGGTCAAACATGATTTTGCTCGGACAAGACCCGCTTTTGGCCGGTCAAATTTTAACAGTGGTAACTCTTTCGATAGGGAACCCAGATTGGGCCGTAATCCTTTTTTAACTTCAAAACAATTGAATCCAAGTCGGTTTGGCAATAAAAGGGACTACTTTTACCCCTCTTTGCTTTTCGCCCTTTGCAAAAAATTTTACGTAGGGGGTTTTTGGGGTAGGGGGATTTTTTTTTGGGGGGGGGGTTTCCGGTCATTCAATCAATCAATCAATCCCTTTTTTTGGGGGGCAATCCCGGGATTTCTCCAAAGATAAAACCCTTTTCCAAGGGGGGACCCCTAAGGGTAATAAAAAAAACGGGCGGCCCGATGATTTGCCGTCGTGACAGGACTTGAAGACATCGGGGAAATTTTTTAGTTCCGGGAATTTCCCTCCCAAGAATTTGTCTAGTTTTAAATTCGTTTTTTTTTATCAAACAAGTCCCCCGGGGTTTTCAAAAAGTTAAAACTTAAAACTTGTTTGAACGGGGGAATAAAGGGTTTaaaaaaaaaaaaaaaaaaaaaaaaaaaaaaaaaaaaaaaaaaagccgg\r\n",
        ">AOKF1024_g2_c\r\n",
        "TTTTTTTAAACCCCTTTTTTTAAACGGTAGGGGGCCAAAAAATGTTGTTAAAAATTCCTTTAACTAAGGGTTTTTTTTGGGAAAAAAAAAAAAGGGGGGCCTTGTCCTTTTTTTTTTTTTTTTTTTTTTaaaaaaaaaaaaaaaaaaaaaaaaaaaaaaaaaaaaaaaaaaccc\r\n",
        ">AOKF1029_g2_c\r\n",
        "TAAGCTGCTCCAACCACTGGTACATACATTAAATTTTATTTCCACTGAAAGGGTATAAATGACCCGATCAATTTTCATGTTTTTTTCCCCTCAAAGACAGTATGCCAACTATGGTATTTTCCATTTTACACGATTCCTTGTTCTTTTTTTTTTTGAGAGACCTTGTTTCTGTAACATGCAAATTGTCCCCAAGCTGAGGTAGGCATAAGTGTCCTACTGTTGTGATGATTTTCTCTTAATATATTTTAACTGGACATCATTGTATAGTTGCATATAGTTGTTTGGCTTTGCCTAGAACAAGAGGGTAAGACATTTTCTAACCTACCGACCTATAATCTGACTTTTAATATAGAAGAATTTTCATGAATAAACTGTTTCATGTCTCTAGTTCACTAACATAACATGTTTCATAAAAAAGTTCTTTTGAAAGTAAAATAAAGCCATTATTGACTTCTTTCATAATTTTAAAAATTAATCCAGGAAAAATTTATTTGCAAAAAGAGAAAATGGAAACATCAATAAATCACCATCAGCTACTTTCTTTTAATCTCTTTATGCAAAACCAAAATTTGCATTGGTTGTAAATTAGTCTGGTAACTAAAGTTTCTACCAGTTTCAAAACTGGCAGCTTTGAGTACCAACTCGATACCAATAGTAAATCTGTTTAGATCTAATCCAGCTGTAATGATTGTCGAAGACCAGAGCGTACTGCCCTGCATCAACTAACCCCC\r\n"
       ]
      },
      {
       "output_type": "stream",
       "stream": "stdout",
       "text": [
        ">F66KHFO02JZYYU\r\n",
        "ACTAAGTCTGGATATTCTAGCTTGGACTGCAGGGATATTATTAATCAACACAATAGATAATAATAATAATAATATTATTACTTCAACATTTGACTGACTGATTGGCTGACAAATGGGAAATAGTACCCATAATAGTCTGTAACATGATTTACACAGATTTCTCCTCAGGGACAATACAGTTGCGAAAATGATTCAGTTTCATGGGTGGGAGCAGTCTCCATCTGAGAGATGGCTTCCAGTAGTGGAAGCTCACGACGTTGTTTCTCAGGAATCAAACCTTCACACTGCAACTCAGCTGTTAAACCAAAACATTAGCATGCATGCAATTCCTGACCTCAATGAAAATAATAACCTTGAATCAACTTTGTATCTGGAAACTGCCATTTCAAATTCCTCTGGCAGTAAAAGAACAACAGCACATGCAGTCTTCGACATCTGATTCACATTTGTNCAGATGACTTGGTCAATC\r\n",
        ">F66KHFO02JZZ42\r\n",
        "ATTTAACTCAGTATCAGAATTCATCCGCTCTACTTGTTTTGCACCGTGACAAGTTGTTTTCGGGTGAAAGGATTTCAAGCGGAACTGAGCTTCATCTCGCTTTCAACCCACTACACAGTGGCTGAAAGACGAGCCTTAAGCTCTCTAATAACGCAACAGCAATAAGGAGAAATGAACGCTGGGAGAACAGAAGACGAGTTTTTCTGCGAAGGAGATTCAAGAAGGCACCACCGCTCCGTCTCCCATTTGTGGCGCGTCTGGCACTTATACGAGGAATTTGGCTTCCTCTAATGTCCCTCATCTACTCAGCTTGTCGGGTGGCGAGGAAACACTATTATAAGAGCCCCCACATCAACTCAACAGGTGGTTCCTCTTTGTTTAACTTGGCAACAACTTTGTGGACTCATACCCGTAATTTTAGCTCTTTAGTAGAATAAACATCATGTCCACCACTTATGACATATGATTGATATTATTCTGGTATTT\r\n",
        ">F66KHFO02JZZ9J\r\n",
        "GCAACAATGAAGTGGACAAAAACACTGACAAGTTTGCGACTTGTCCAGGAATGCACTTTAACGAAATAAAAAACATTCAATAAGCATAATCAAATGAAGTCCAAGAAGGGCCGTGAATGAGATTGCGAATACTACAAAATTGCAAAATTTACAATAAATAGGATCAGGACAGTTAGGTAAATAGTCTGAGAAAAAGAACAAAAGTTATACAAAACCGAAATAAGGCCCTGAAGGGAAGGCTATACCTCTTGATACTTGATAAATGGTGTACATAGCAGCTGGTACTCCGGAGTTCAAACGACATGAATGATTAAAGCAATTTTGGGTAGGTTTATTTAAGCAAGGACTTTCTTGGGTGTTAAAAAAAATGAGAGGATTCAGGATAGTTTCCACGTATCCCTGAGTG\r\n",
        ">F66KHFO02JZZML\r\n",
        "ACTTTCATTCAAGGGAGNACCAAAGACAGCCTTCCACACAGTAAGATGTAAGACTGCATCTCTATGTTTCATAAAACTATTGCAATTTAACTGCCGCATTCCTCTCAATTTCCGCGGTCAAAAACACAGCTGTTTATAACCCCTTATATACTTTCTGTGAAATTCACACGCAAAGTTAAATTCTTGATCTTTGTATTGAAATTTACTTGTAAGTGGACGGGTATTCTGCAATCTAGCCTTTGCTTCTATTCATTTTAGATGTGAGAACTTGTCTACCGGCGAAGAAGATAATTTTACATTATATTTTTTCCGGCGTTTAAGCATAATTAGGAATAATTATGGTGAAAGATGAAACAGGATGTTGATCCGACAAAGCAGGAGCCATCTGGCTGTTCAGCGAGACC\r\n",
        ">F66KHFO02JZZVO\r\n",
        "GTGAATTTCCAACTGATAAGCTCTTCCTTTATCACTCAAAGTTCACTCGTGTGAGGCACACAGTCCTGGATGACCGCATTGTATGTCCGGAAGACTTTGTTCTTGATCTAAACCAAAGTTTCTAAGATCATGTTACCAATTTGAAATTTCGGCATTTGGAGCTTCTTTATCTTCTGCCACAAGAATCTTTGGAACTGTAACTCGAGGTGAAGGGGTACGACTAACACCCATCTTTGCAAACTCAAATTTAAACCCAGGCGTGTGGTGAAAGGGTACCACTAACACTCATCTTTGACAAACTCAAATTCAAACCCAGGTGTCTATTACTATATTTTACTCTAGCGGCAAGCGAACATCAAAGCCGAATGTATTGCCAAGAAAATCGCACCAAGCAAAATACCAAAAGGGGCGTACTATACAGAGACCAAAGTGACATTTAAATCGTGTTTATTGATTGATCTCGTAAACTGCAAATAAACGATAAAACGCAGGTATAAGACGTCTA\r\n"
       ]
      }
     ],
     "prompt_number": 43
    },
    {
     "cell_type": "code",
     "collapsed": false,
     "input": [
      "#Converting FASTA to tabular format and placing output file in analyses directory\n",
      "!perl -e '$count=0; $len=0; while(<>) {s/\\r?\\n//; s/\\t/ /g; if (s/^>//) { if ($. != 1) {print \"\\n\"} s/ |$/\\t/; $count++; $_ .= \"\\t\";} else {s/ //g; $len += length($_)} print $_;} print \"\\n\"; warn \"\\nConverted $count FASTA records in $. lines to tabular format\\nTotal sequence length: $len\\n\\n\";' \\\n",
      "Apalm2.fasta > /home/jay/Documents/fish546-2015/Analyses/Apalm/fasta2tab"
     ],
     "language": "python",
     "metadata": {},
     "outputs": [
      {
       "output_type": "stream",
       "stream": "stdout",
       "text": [
        "\r\n",
        "Converted 88020 FASTA records in 176040 lines to tabular format\r\n",
        "Total sequence length: 63829400\r\n",
        "\r\n"
       ]
      }
     ],
     "prompt_number": 44
    },
    {
     "cell_type": "code",
     "collapsed": false,
     "input": [
      "cd /home/jay/Documents/fish546-2015/Analyses/Apalm"
     ],
     "language": "python",
     "metadata": {},
     "outputs": [
      {
       "output_type": "stream",
       "stream": "stdout",
       "text": [
        "/home/jay/Documents/fish546-2015/Analyses/Apalm\n"
       ]
      }
     ],
     "prompt_number": 45
    },
    {
     "cell_type": "code",
     "collapsed": false,
     "input": [
      "#Checking header on new tabular format file\n",
      "!head -2 fasta2tab"
     ],
     "language": "python",
     "metadata": {},
     "outputs": [
      {
       "output_type": "stream",
       "stream": "stdout",
       "text": [
        "AOKF1013_g2_c\t\tAGGGCAATTGAGTCGCAAAGAAAACAAGAGGAGCGTGAAAGATTAAAGGAAGAGAAAAAAATGGAAAAGGAACTTCAAAGAGAGAAAAAGCTTGAGCAAAAGAGAAGGGAGATGATTTTAGCCCGTGAACTGAAAAAGCCAGTAGAAGATATGGTTTTAAAGGATAGCAAGACACTTCCTGCTTTCTCCAGAGTTGTGGGCCTTAAAATACCAGGGGACGCATTTGCTGACTTGTTGATGGTTCAGGAATTTGTGCACAATTTTAGTGAAGCCTTGGAACTTGATTCCAACGAAGTCCCTTCCTTGTGGGAAATGCAGTTGTCATTGTTAAATGACAGCAGTGAGGATGTCCTCGTGCCACTTTGTCAGAGTCTTCTGATGTCTGCATTAGAGGATCCTGGCTGTGAGGGGCCTGATTCATTCACAATGCTTGGAGTTGCATTAGCCAAAGTGGAATTGAATGAAACAAACTTCTCTGAAGTCTTGAGGCTGTTTATAATTTCAAGAAATGCTGGTGACCCTCATCCTTTGGCAGAAGCTTTCATCAGTACACCTTTCCAAGCACTCACCATGTCAGCTAAGGCTGGAGTCTTGGGTTACCTGTGCAATGAACTGCTGTGCAGTAGAACAATATGCAAGGAAATAGAGAATAGTATTGAACACATGTCAAATTTACGTCGAGATAAGTGGGTTGTGGAAGGCAAGTTTGG\r\n",
        "AOKF1022_b2_c\t\tGGGCAAAACGAACAAATTTTGACAATAATCTCTCAAATCTGTCAAGTCACGGCAGGGCTGCAAATAGCTATCGGGGAGGCGCCGGTCACGTCCGGTCAAACATGATTTTGCTCGGACAAGACCCGCTTTTGGCCGGTCAAATTTTAACAGTCGTAACTCTTACGATAGTGAACCCAGATTGCGCAGTAATCCTTTTATAACTACAAAACAATTGAATCCAAGTCGGTTTGGCAATAAAAGGTACTACTTTTACCACTCTTTGCTTTTCGCACTTTGCAATAAATTCTACGTAGAGGATTCTTGGTGTAGCGAGATTATTCTTCGTGGGAGTGCTTTCCGATCATTCAATCAATCAATCAATCACTTTATTTGTGAGTCAATCACGGTATCTCTCCAAAGATAAAACCCTCTACCAAGTGGGAACACCTAAGGCTAATAAAAATAACGGACGACTCGATGATTTGCCGTCGTGACAGGACTTGATGACATCGTGGAAATTTTCTAGTACCGGGAATTTCACTACCAAGAATTTGTCTAGTTTTATATTCGTTTTTTTTTATCATACATGTCCCTCGTGATTATCAAATAGTTAAAACTTAAAACTTGTCTGAACGAGTGAATAAAGGGTT\r\n"
       ]
      }
     ],
     "prompt_number": 46
    },
    {
     "cell_type": "code",
     "collapsed": false,
     "input": [
      "!tail -2 fasta2tab"
     ],
     "language": "python",
     "metadata": {},
     "outputs": [
      {
       "output_type": "stream",
       "stream": "stdout",
       "text": [
        "F66KHFO02JZZML\t\tACTTTCATTCAAGGGAGNACCAAAGACAGCCTTCCACACAGTAAGATGTAAGACTGCATCTCTATGTTTCATAAAACTATTGCAATTTAACTGCCGCATTCCTCTCAATTTCCGCGGTCAAAAACACAGCTGTTTATAACCCCTTATATACTTTCTGTGAAATTCACACGCAAAGTTAAATTCTTGATCTTTGTATTGAAATTTACTTGTAAGTGGACGGGTATTCTGCAATCTAGCCTTTGCTTCTATTCATTTTAGATGTGAGAACTTGTCTACCGGCGAAGAAGATAATTTTACATTATATTTTTTCCGGCGTTTAAGCATAATTAGGAATAATTATGGTGAAAGATGAAACAGGATGTTGATCCGACAAAGCAGGAGCCATCTGGCTGTTCAGCGAGACC\r\n",
        "F66KHFO02JZZVO\t\tGTGAATTTCCAACTGATAAGCTCTTCCTTTATCACTCAAAGTTCACTCGTGTGAGGCACACAGTCCTGGATGACCGCATTGTATGTCCGGAAGACTTTGTTCTTGATCTAAACCAAAGTTTCTAAGATCATGTTACCAATTTGAAATTTCGGCATTTGGAGCTTCTTTATCTTCTGCCACAAGAATCTTTGGAACTGTAACTCGAGGTGAAGGGGTACGACTAACACCCATCTTTGCAAACTCAAATTTAAACCCAGGCGTGTGGTGAAAGGGTACCACTAACACTCATCTTTGACAAACTCAAATTCAAACCCAGGTGTCTATTACTATATTTTACTCTAGCGGCAAGCGAACATCAAAGCCGAATGTATTGCCAAGAAAATCGCACCAAGCAAAATACCAAAAGGGGCGTACTATACAGAGACCAAAGTGACATTTAAATCGTGTTTATTGATTGATCTCGTAAACTGCAAATAAACGATAAAACGCAGGTATAAGACGTCTA\r\n"
       ]
      }
     ],
     "prompt_number": 47
    },
    {
     "cell_type": "code",
     "collapsed": false,
     "input": [
      "#This file has no common contig identifiers, so the following step is not used here\n",
      "#\n",
      "#  NOTE THIS REQUIRES File specific knowledge\n",
      "#\n",
      "##to make sure we don't get description name issues \n",
      "#!sed 's/contig/999999/g' <fasta2tab> fasta2tab_c"
     ],
     "language": "python",
     "metadata": {},
     "outputs": [],
     "prompt_number": 18
    },
    {
     "cell_type": "code",
     "collapsed": false,
     "input": [
      "#Add column with length of sequence\n",
      "!perl -e '$col = 2;' -e 'while (<>) { s/\\r?\\n//; @F = split /\\t/, $_; $len = length($F[$col]); print \"$_\\t$len\\n\" } warn \"\\nAdded column with length of column $col for $. lines.\\n\\n\";' \\\n",
      "fasta2tab > tab_1\n"
     ],
     "language": "python",
     "metadata": {},
     "outputs": [
      {
       "output_type": "stream",
       "stream": "stdout",
       "text": [
        "\r\n",
        "Added column with length of column 2 for 88020 lines.\r\n",
        "\r\n"
       ]
      }
     ],
     "prompt_number": 48
    },
    {
     "cell_type": "code",
     "collapsed": false,
     "input": [
      "!wc tab_1"
     ],
     "language": "python",
     "metadata": {},
     "outputs": [
      {
       "output_type": "stream",
       "stream": "stdout",
       "text": [
        "   88020   264060 65591859 tab_1\r\n"
       ]
      }
     ],
     "prompt_number": 49
    },
    {
     "cell_type": "code",
     "collapsed": false,
     "input": [
      "#Instead of using the step to deal with description name issues above, the file used to count Cs and Gs will only include the sequence\n",
      "!awk '{print $2}' tab_1 > tab_2"
     ],
     "language": "python",
     "metadata": {},
     "outputs": [],
     "prompt_number": 60
    },
    {
     "cell_type": "code",
     "collapsed": false,
     "input": [
      "#This counts CGs\n",
      "!awk -F\\CG '{print NF-1}' tab_2 > CG"
     ],
     "language": "python",
     "metadata": {},
     "outputs": [],
     "prompt_number": 66
    },
    {
     "cell_type": "code",
     "collapsed": false,
     "input": [
      "#Counts Cs\n",
      "!awk -F\\C '{print NF-1}' tab_2 > C"
     ],
     "language": "python",
     "metadata": {},
     "outputs": [],
     "prompt_number": 67
    },
    {
     "cell_type": "code",
     "collapsed": false,
     "input": [
      "#Counts Gs\n",
      "!awk -F\\G '{print NF-1}' tab_2 > G"
     ],
     "language": "python",
     "metadata": {},
     "outputs": [],
     "prompt_number": 68
    },
    {
     "cell_type": "code",
     "collapsed": false,
     "input": [
      "#Combining counts\n",
      "!paste tab_1 \\\n",
      "CG \\\n",
      "C \\\n",
      "G \\\n",
      "> comb\n",
      "!head -1 comb"
     ],
     "language": "python",
     "metadata": {},
     "outputs": [
      {
       "output_type": "stream",
       "stream": "stdout",
       "text": [
        "AOKF1013_g2_c\t\tAGGGCAATTGAGTCGCAAAGAAAACAAGAGGAGCGTGAAAGATTAAAGGAAGAGAAAAAAATGGAAAAGGAACTTCAAAGAGAGAAAAAGCTTGAGCAAAAGAGAAGGGAGATGATTTTAGCCCGTGAACTGAAAAAGCCAGTAGAAGATATGGTTTTAAAGGATAGCAAGACACTTCCTGCTTTCTCCAGAGTTGTGGGCCTTAAAATACCAGGGGACGCATTTGCTGACTTGTTGATGGTTCAGGAATTTGTGCACAATTTTAGTGAAGCCTTGGAACTTGATTCCAACGAAGTCCCTTCCTTGTGGGAAATGCAGTTGTCATTGTTAAATGACAGCAGTGAGGATGTCCTCGTGCCACTTTGTCAGAGTCTTCTGATGTCTGCATTAGAGGATCCTGGCTGTGAGGGGCCTGATTCATTCACAATGCTTGGAGTTGCATTAGCCAAAGTGGAATTGAATGAAACAAACTTCTCTGAAGTCTTGAGGCTGTTTATAATTTCAAGAAATGCTGGTGACCCTCATCCTTTGGCAGAAGCTTTCATCAGTACACCTTTCCAAGCACTCACCATGTCAGCTAAGGCTGGAGTCTTGGGTTACCTGTGCAATGAACTGCTGTGCAGTAGAACAATATGCAAGGAAATAGAGAATAGTATTGAACACATGTCAAATTTACGTCGAGATAAGTGGGTTGTGGAAGGCAAGTTTGG\t710\t8\t119\t183\r\n"
       ]
      }
     ],
     "prompt_number": 69
    },
    {
     "cell_type": "heading",
     "level": 1,
     "metadata": {},
     "source": [
      "Calculating CpGo/e based on [Gavery and Roberts (2010)](http://www.biomedcentral.com/1471-2164/11/483)"
     ]
    },
    {
     "cell_type": "markdown",
     "metadata": {},
     "source": [
      "<img src=\"http://eagle.fish.washington.edu/cnidarian/skitch/BMC_Genomics___Full_text___DNA_methylation_patterns_provide_insight_into_epigenetic_regulation_in_the_Pacific_oyster__Crassostrea_gigas__1A0683A5.png\" alt=\"BMC_Genomics___Full_text___DNA_methylation_patterns_provide_insight_into_epigenetic_regulation_in_the_Pacific_oyster__Crassostrea_gigas__1A0683A5.png\"/>"
     ]
    },
    {
     "cell_type": "code",
     "collapsed": false,
     "input": [
      "#Calculation of CpG o/e\n",
      "!awk '{print $1, \"\\t\", (($4)/($5*$6))*(($3^2)/($3-1))}' comb > ID_CpG  #use ^ instead of ** for exponent"
     ],
     "language": "python",
     "metadata": {},
     "outputs": [],
     "prompt_number": 70
    },
    {
     "cell_type": "code",
     "collapsed": false,
     "input": [
      "!head ID_CpG"
     ],
     "language": "python",
     "metadata": {},
     "outputs": [
      {
       "output_type": "stream",
       "stream": "stdout",
       "text": [
        "AOKF1013_g2_c \t 0.261194\r\n",
        "AOKF1022_b2_c \t 1.21084\r\n",
        "AOKF1022_g2_c \t 0.930991\r\n",
        "AOKF1024_g2_c \t 0.568201\r\n",
        "AOKF1029_g2_c \t 0.305319\r\n",
        "AOKF1031_g2_c \t 0.476647\r\n",
        "AOKF1034_g2_c \t 0.250371\r\n",
        "AOKF1040_g2_c \t 1.11148\r\n",
        "AOKF1045_g2_c \t 0.415524\r\n",
        "AOKF1046_g2_c \t 0.278746\r\n"
       ]
      }
     ],
     "prompt_number": 71
    },
    {
     "cell_type": "heading",
     "level": 1,
     "metadata": {},
     "source": [
      "Now joining CpG to GOslim, but first must sort files."
     ]
    },
    {
     "cell_type": "code",
     "collapsed": false,
     "input": [
      "#Sorting Ahya GOSlim annotation file. This file was the result of work done in another notebook: Ahya_blast_anno.ipynb\n",
      "!sort Apalm_GOSlim.tab | tail -n +2 > Apalm_GOSlim.sorted\n",
      "!head Apalm_GOSlim.sorted"
     ],
     "language": "python",
     "metadata": {},
     "outputs": [
      {
       "output_type": "stream",
       "stream": "stdout",
       "text": [
        "AOKF1045_g2_c\tcell organization and biogenesis\r",
        "\r\n",
        "AOKF1045_g2_c\tother biological processes\r",
        "\r\n",
        "AOKF1045_g2_c\tsignal transduction\r",
        "\r\n",
        "AOKF1050_b2_c\ttransport\r",
        "\r\n",
        "AOKF1057_b2_c\tcell cycle and proliferation\r",
        "\r\n",
        "AOKF1057_b2_c\tcell organization and biogenesis\r",
        "\r\n",
        "AOKF1057_b2_c\tother biological processes\r",
        "\r\n",
        "AOKF1057_b2_c\tprotein metabolism\r",
        "\r\n",
        "AOKF1062_g2_c\tother biological processes\r",
        "\r\n",
        "AOKF1062_g2_c\tother metabolic processes\r",
        "\r\n"
       ]
      }
     ],
     "prompt_number": 72
    },
    {
     "cell_type": "code",
     "collapsed": false,
     "input": [
      "#Converting file from DOS to UNIX using dos2unix tool (had to install tool)\n",
      "!dos2unix Apalm_GOSlim.sorted "
     ],
     "language": "python",
     "metadata": {},
     "outputs": [
      {
       "output_type": "stream",
       "stream": "stdout",
       "text": [
        "dos2unix: converting file Apalm_GOSlim.sorted to Unix format ...\r\n"
       ]
      }
     ],
     "prompt_number": 73
    },
    {
     "cell_type": "code",
     "collapsed": false,
     "input": [
      "!head Apalm_GOSlim.sorted"
     ],
     "language": "python",
     "metadata": {},
     "outputs": [
      {
       "output_type": "stream",
       "stream": "stdout",
       "text": [
        "AOKF1045_g2_c\tcell organization and biogenesis\r\n",
        "AOKF1045_g2_c\tother biological processes\r\n",
        "AOKF1045_g2_c\tsignal transduction\r\n",
        "AOKF1050_b2_c\ttransport\r\n",
        "AOKF1057_b2_c\tcell cycle and proliferation\r\n",
        "AOKF1057_b2_c\tcell organization and biogenesis\r\n",
        "AOKF1057_b2_c\tother biological processes\r\n",
        "AOKF1057_b2_c\tprotein metabolism\r\n",
        "AOKF1062_g2_c\tother biological processes\r\n",
        "AOKF1062_g2_c\tother metabolic processes\r\n"
       ]
      }
     ],
     "prompt_number": 75
    },
    {
     "cell_type": "code",
     "collapsed": false,
     "input": [
      "#Sorting Ahya CpG file\n",
      "!sort ID_CpG > ID_CpG.sorted\n",
      "!head ID_CpG.sorted"
     ],
     "language": "python",
     "metadata": {},
     "outputs": [
      {
       "output_type": "stream",
       "stream": "stdout",
       "text": [
        "AOKF1013_g2_c \t 0.261194\r\n",
        "AOKF1022_b2_c \t 1.21084\r\n",
        "AOKF1022_g2_c \t 0.930991\r\n",
        "AOKF1024_g2_c \t 0.568201\r\n",
        "AOKF1029_g2_c \t 0.305319\r\n",
        "AOKF1031_g2_c \t 0.476647\r\n",
        "AOKF1034_g2_c \t 0.250371\r\n",
        "AOKF1040_g2_c \t 1.11148\r\n",
        "AOKF1045_g2_c \t 0.415524\r\n",
        "AOKF1046_g2_c \t 0.278746\r\n"
       ]
      }
     ],
     "prompt_number": 77
    },
    {
     "cell_type": "code",
     "collapsed": false,
     "input": [
      "!dos2unix ID_CpG.sorted "
     ],
     "language": "python",
     "metadata": {},
     "outputs": [
      {
       "output_type": "stream",
       "stream": "stdout",
       "text": [
        "dos2unix: converting file ID_CpG.sorted to Unix format ...\r\n"
       ]
      }
     ],
     "prompt_number": 78
    },
    {
     "cell_type": "code",
     "collapsed": true,
     "input": [
      "!join ID_CpG.sorted Apalm_GOSlim.sorted > Apalm_cpg_GOslim"
     ],
     "language": "python",
     "metadata": {},
     "outputs": [
      {
       "output_type": "stream",
       "stream": "stdout",
       "text": [
        "join: ID_CpG.sorted:5594: is not sorted: Contig_1000 \t 0.428548\r\n",
        "join: Apalm_GOSlim.sorted:2171: is not sorted: Contig_1000\tcell cycle and proliferation\r\n"
       ]
      }
     ],
     "prompt_number": 79
    },
    {
     "cell_type": "code",
     "collapsed": false,
     "input": [
      "!head Apalm_cpg_GOslim"
     ],
     "language": "python",
     "metadata": {},
     "outputs": [
      {
       "output_type": "stream",
       "stream": "stdout",
       "text": [
        "AOKF1045_g2_c 0.415524 cell organization and biogenesis\r\n",
        "AOKF1045_g2_c 0.415524 other biological processes\r\n",
        "AOKF1045_g2_c 0.415524 signal transduction\r\n",
        "AOKF1050_b2_c 0.405247 transport\r\n",
        "AOKF1057_b2_c 0.337031 cell cycle and proliferation\r\n",
        "AOKF1057_b2_c 0.337031 cell organization and biogenesis\r\n",
        "AOKF1057_b2_c 0.337031 other biological processes\r\n",
        "AOKF1057_b2_c 0.337031 protein metabolism\r\n",
        "AOKF1062_g2_c 1.00104 other biological processes\r\n",
        "AOKF1062_g2_c 1.00104 other metabolic processes\r\n"
       ]
      }
     ],
     "prompt_number": 80
    },
    {
     "cell_type": "code",
     "collapsed": false,
     "input": [
      "#Replacing spaces with tabs...this will also put tabs between words in GO terms...next step corrects this.\n",
      "!sed \"s/ /\\t/g\" Apalm_cpg_GOslim > Apalm_cpg_GOslim.tab"
     ],
     "language": "python",
     "metadata": {},
     "outputs": [],
     "prompt_number": 81
    },
    {
     "cell_type": "code",
     "collapsed": false,
     "input": [
      "!head Apalm_cpg_GOslim.tab"
     ],
     "language": "python",
     "metadata": {},
     "outputs": [
      {
       "output_type": "stream",
       "stream": "stdout",
       "text": [
        "AOKF1045_g2_c\t0.415524\tcell\torganization\tand\tbiogenesis\r\n",
        "AOKF1045_g2_c\t0.415524\tother\tbiological\tprocesses\r\n",
        "AOKF1045_g2_c\t0.415524\tsignal\ttransduction\r\n",
        "AOKF1050_b2_c\t0.405247\ttransport\r\n",
        "AOKF1057_b2_c\t0.337031\tcell\tcycle\tand\tproliferation\r\n",
        "AOKF1057_b2_c\t0.337031\tcell\torganization\tand\tbiogenesis\r\n",
        "AOKF1057_b2_c\t0.337031\tother\tbiological\tprocesses\r\n",
        "AOKF1057_b2_c\t0.337031\tprotein\tmetabolism\r\n",
        "AOKF1062_g2_c\t1.00104\tother\tbiological\tprocesses\r\n",
        "AOKF1062_g2_c\t1.00104\tother\tmetabolic\tprocesses\r\n"
       ]
      }
     ],
     "prompt_number": 82
    },
    {
     "cell_type": "code",
     "collapsed": false,
     "input": [
      "#Rewriting file so only contig ID and CpG o/e have tabs between them, while words in GOslim have space between them.\n",
      "!awk '{print $1, \"\\t\", $2, \"\\t\", $3, \" \", $4, \" \", $5, \" \", $6}' Apalm_cpg_GOslim.tab > Apalm_cpg_GOslim.tab2\n",
      "!head Apalm_cpg_GOslim.tab2"
     ],
     "language": "python",
     "metadata": {},
     "outputs": [
      {
       "output_type": "stream",
       "stream": "stdout",
       "text": [
        "AOKF1045_g2_c \t 0.415524 \t cell   organization   and   biogenesis\r\n",
        "AOKF1045_g2_c \t 0.415524 \t other   biological   processes   \r\n",
        "AOKF1045_g2_c \t 0.415524 \t signal   transduction      \r\n",
        "AOKF1050_b2_c \t 0.405247 \t transport         \r\n",
        "AOKF1057_b2_c \t 0.337031 \t cell   cycle   and   proliferation\r\n",
        "AOKF1057_b2_c \t 0.337031 \t cell   organization   and   biogenesis\r\n",
        "AOKF1057_b2_c \t 0.337031 \t other   biological   processes   \r\n",
        "AOKF1057_b2_c \t 0.337031 \t protein   metabolism      \r\n",
        "AOKF1062_g2_c \t 1.00104 \t other   biological   processes   \r\n",
        "AOKF1062_g2_c \t 1.00104 \t other   metabolic   processes   \r\n"
       ]
      }
     ],
     "prompt_number": 87
    },
    {
     "cell_type": "heading",
     "level": 1,
     "metadata": {},
     "source": [
      "Now time to plot data using pandas and matplot"
     ]
    },
    {
     "cell_type": "code",
     "collapsed": false,
     "input": [
      "import pandas as pd"
     ],
     "language": "python",
     "metadata": {},
     "outputs": [],
     "prompt_number": 88
    },
    {
     "cell_type": "code",
     "collapsed": false,
     "input": [
      "jData = pd.read_table('Apalm_cpg_GOslim.tab2', header=None)\n",
      "jData"
     ],
     "language": "python",
     "metadata": {},
     "outputs": [
      {
       "html": [
        "<div style=\"max-height:1000px;max-width:1500px;overflow:auto;\">\n",
        "<table border=\"1\" class=\"dataframe\">\n",
        "  <thead>\n",
        "    <tr style=\"text-align: right;\">\n",
        "      <th></th>\n",
        "      <th>0</th>\n",
        "      <th>1</th>\n",
        "      <th>2</th>\n",
        "    </tr>\n",
        "  </thead>\n",
        "  <tbody>\n",
        "    <tr>\n",
        "      <th>0    </th>\n",
        "      <td>  AOKF1045_g2_c </td>\n",
        "      <td> 0.415524</td>\n",
        "      <td>  cell   organization   and   biogenesis</td>\n",
        "    </tr>\n",
        "    <tr>\n",
        "      <th>1    </th>\n",
        "      <td>  AOKF1045_g2_c </td>\n",
        "      <td> 0.415524</td>\n",
        "      <td>       other   biological   processes   </td>\n",
        "    </tr>\n",
        "    <tr>\n",
        "      <th>2    </th>\n",
        "      <td>  AOKF1045_g2_c </td>\n",
        "      <td> 0.415524</td>\n",
        "      <td>             signal   transduction      </td>\n",
        "    </tr>\n",
        "    <tr>\n",
        "      <th>3    </th>\n",
        "      <td>  AOKF1050_b2_c </td>\n",
        "      <td> 0.405247</td>\n",
        "      <td>                      transport         </td>\n",
        "    </tr>\n",
        "    <tr>\n",
        "      <th>4    </th>\n",
        "      <td>  AOKF1057_b2_c </td>\n",
        "      <td> 0.337031</td>\n",
        "      <td>      cell   cycle   and   proliferation</td>\n",
        "    </tr>\n",
        "    <tr>\n",
        "      <th>5    </th>\n",
        "      <td>  AOKF1057_b2_c </td>\n",
        "      <td> 0.337031</td>\n",
        "      <td>  cell   organization   and   biogenesis</td>\n",
        "    </tr>\n",
        "    <tr>\n",
        "      <th>6    </th>\n",
        "      <td>  AOKF1057_b2_c </td>\n",
        "      <td> 0.337031</td>\n",
        "      <td>       other   biological   processes   </td>\n",
        "    </tr>\n",
        "    <tr>\n",
        "      <th>7    </th>\n",
        "      <td>  AOKF1057_b2_c </td>\n",
        "      <td> 0.337031</td>\n",
        "      <td>              protein   metabolism      </td>\n",
        "    </tr>\n",
        "    <tr>\n",
        "      <th>8    </th>\n",
        "      <td>  AOKF1062_g2_c </td>\n",
        "      <td> 1.001040</td>\n",
        "      <td>       other   biological   processes   </td>\n",
        "    </tr>\n",
        "    <tr>\n",
        "      <th>9    </th>\n",
        "      <td>  AOKF1062_g2_c </td>\n",
        "      <td> 1.001040</td>\n",
        "      <td>        other   metabolic   processes   </td>\n",
        "    </tr>\n",
        "    <tr>\n",
        "      <th>10   </th>\n",
        "      <td>  AOKF1062_g2_c </td>\n",
        "      <td> 1.001040</td>\n",
        "      <td>             signal   transduction      </td>\n",
        "    </tr>\n",
        "    <tr>\n",
        "      <th>11   </th>\n",
        "      <td>  AOKF1091_g2_c </td>\n",
        "      <td> 0.503552</td>\n",
        "      <td>  cell   organization   and   biogenesis</td>\n",
        "    </tr>\n",
        "    <tr>\n",
        "      <th>12   </th>\n",
        "      <td>  AOKF1091_g2_c </td>\n",
        "      <td> 0.503552</td>\n",
        "      <td>                  RNA   metabolism      </td>\n",
        "    </tr>\n",
        "    <tr>\n",
        "      <th>13   </th>\n",
        "      <td>  AOKF1114_g2_c </td>\n",
        "      <td> 0.964931</td>\n",
        "      <td>                   cell   adhesion      </td>\n",
        "    </tr>\n",
        "    <tr>\n",
        "      <th>14   </th>\n",
        "      <td>  AOKF1114_g2_c </td>\n",
        "      <td> 0.964931</td>\n",
        "      <td>  cell   organization   and   biogenesis</td>\n",
        "    </tr>\n",
        "    <tr>\n",
        "      <th>15   </th>\n",
        "      <td>  AOKF1114_g2_c </td>\n",
        "      <td> 0.964931</td>\n",
        "      <td>       other   biological   processes   </td>\n",
        "    </tr>\n",
        "    <tr>\n",
        "      <th>16   </th>\n",
        "      <td>  AOKF1114_g2_c </td>\n",
        "      <td> 0.964931</td>\n",
        "      <td>        other   metabolic   processes   </td>\n",
        "    </tr>\n",
        "    <tr>\n",
        "      <th>17   </th>\n",
        "      <td>  AOKF1114_g2_c </td>\n",
        "      <td> 0.964931</td>\n",
        "      <td>             signal   transduction      </td>\n",
        "    </tr>\n",
        "    <tr>\n",
        "      <th>18   </th>\n",
        "      <td>  AOKF1114_g2_c </td>\n",
        "      <td> 0.964931</td>\n",
        "      <td>                      transport         </td>\n",
        "    </tr>\n",
        "    <tr>\n",
        "      <th>19   </th>\n",
        "      <td>  AOKF1132_g2_c </td>\n",
        "      <td> 0.228244</td>\n",
        "      <td>       other   biological   processes   </td>\n",
        "    </tr>\n",
        "    <tr>\n",
        "      <th>20   </th>\n",
        "      <td>  AOKF1164_g2_c </td>\n",
        "      <td> 0.910002</td>\n",
        "      <td>  cell   organization   and   biogenesis</td>\n",
        "    </tr>\n",
        "    <tr>\n",
        "      <th>21   </th>\n",
        "      <td>  AOKF1164_g2_c </td>\n",
        "      <td> 0.910002</td>\n",
        "      <td>        other   metabolic   processes   </td>\n",
        "    </tr>\n",
        "    <tr>\n",
        "      <th>22   </th>\n",
        "      <td>  AOKF1164_g2_c </td>\n",
        "      <td> 0.910002</td>\n",
        "      <td>              protein   metabolism      </td>\n",
        "    </tr>\n",
        "    <tr>\n",
        "      <th>23   </th>\n",
        "      <td>  AOKF1164_g2_c </td>\n",
        "      <td> 0.910002</td>\n",
        "      <td>                  RNA   metabolism      </td>\n",
        "    </tr>\n",
        "    <tr>\n",
        "      <th>24   </th>\n",
        "      <td>  AOKF1206_g2_c </td>\n",
        "      <td> 0.820971</td>\n",
        "      <td>                 stress   response      </td>\n",
        "    </tr>\n",
        "    <tr>\n",
        "      <th>25   </th>\n",
        "      <td>  AOKF1230_g2_c </td>\n",
        "      <td> 0.716592</td>\n",
        "      <td>  cell   organization   and   biogenesis</td>\n",
        "    </tr>\n",
        "    <tr>\n",
        "      <th>26   </th>\n",
        "      <td>  AOKF1230_g2_c </td>\n",
        "      <td> 0.716592</td>\n",
        "      <td>       other   biological   processes   </td>\n",
        "    </tr>\n",
        "    <tr>\n",
        "      <th>27   </th>\n",
        "      <td>  AOKF1238_g2_c </td>\n",
        "      <td> 0.487211</td>\n",
        "      <td>        other   metabolic   processes   </td>\n",
        "    </tr>\n",
        "    <tr>\n",
        "      <th>28   </th>\n",
        "      <td>  AOKF1251_g2_c </td>\n",
        "      <td> 0.253120</td>\n",
        "      <td>                  RNA   metabolism      </td>\n",
        "    </tr>\n",
        "    <tr>\n",
        "      <th>29   </th>\n",
        "      <td>  AOKF1251_g2_c </td>\n",
        "      <td> 0.253120</td>\n",
        "      <td>             signal   transduction      </td>\n",
        "    </tr>\n",
        "    <tr>\n",
        "      <th>...</th>\n",
        "      <td>...</td>\n",
        "      <td>...</td>\n",
        "      <td>...</td>\n",
        "    </tr>\n",
        "    <tr>\n",
        "      <th>67481</th>\n",
        "      <td> F66KHFO02JZLMO </td>\n",
        "      <td> 0.494197</td>\n",
        "      <td>             signal   transduction      </td>\n",
        "    </tr>\n",
        "    <tr>\n",
        "      <th>67482</th>\n",
        "      <td> F66KHFO02JZMWV </td>\n",
        "      <td> 0.838499</td>\n",
        "      <td>                  RNA   metabolism      </td>\n",
        "    </tr>\n",
        "    <tr>\n",
        "      <th>67483</th>\n",
        "      <td> F66KHFO02JZND4 </td>\n",
        "      <td> 0.282860</td>\n",
        "      <td>      cell   cycle   and   proliferation</td>\n",
        "    </tr>\n",
        "    <tr>\n",
        "      <th>67484</th>\n",
        "      <td> F66KHFO02JZND4 </td>\n",
        "      <td> 0.282860</td>\n",
        "      <td>                          death         </td>\n",
        "    </tr>\n",
        "    <tr>\n",
        "      <th>67485</th>\n",
        "      <td> F66KHFO02JZND4 </td>\n",
        "      <td> 0.282860</td>\n",
        "      <td>         developmental   processes      </td>\n",
        "    </tr>\n",
        "    <tr>\n",
        "      <th>67486</th>\n",
        "      <td> F66KHFO02JZND4 </td>\n",
        "      <td> 0.282860</td>\n",
        "      <td>       other   biological   processes   </td>\n",
        "    </tr>\n",
        "    <tr>\n",
        "      <th>67487</th>\n",
        "      <td> F66KHFO02JZND4 </td>\n",
        "      <td> 0.282860</td>\n",
        "      <td>        other   metabolic   processes   </td>\n",
        "    </tr>\n",
        "    <tr>\n",
        "      <th>67488</th>\n",
        "      <td> F66KHFO02JZND4 </td>\n",
        "      <td> 0.282860</td>\n",
        "      <td>              protein   metabolism      </td>\n",
        "    </tr>\n",
        "    <tr>\n",
        "      <th>67489</th>\n",
        "      <td> F66KHFO02JZND4 </td>\n",
        "      <td> 0.282860</td>\n",
        "      <td>             signal   transduction      </td>\n",
        "    </tr>\n",
        "    <tr>\n",
        "      <th>67490</th>\n",
        "      <td> F66KHFO02JZND4 </td>\n",
        "      <td> 0.282860</td>\n",
        "      <td>                 stress   response      </td>\n",
        "    </tr>\n",
        "    <tr>\n",
        "      <th>67491</th>\n",
        "      <td> F66KHFO02JZND4 </td>\n",
        "      <td> 0.282860</td>\n",
        "      <td>                      transport         </td>\n",
        "    </tr>\n",
        "    <tr>\n",
        "      <th>67492</th>\n",
        "      <td> F66KHFO02JZND7 </td>\n",
        "      <td> 0.645784</td>\n",
        "      <td>      cell   cycle   and   proliferation</td>\n",
        "    </tr>\n",
        "    <tr>\n",
        "      <th>67493</th>\n",
        "      <td> F66KHFO02JZND7 </td>\n",
        "      <td> 0.645784</td>\n",
        "      <td>  cell   organization   and   biogenesis</td>\n",
        "    </tr>\n",
        "    <tr>\n",
        "      <th>67494</th>\n",
        "      <td> F66KHFO02JZND7 </td>\n",
        "      <td> 0.645784</td>\n",
        "      <td>       other   biological   processes   </td>\n",
        "    </tr>\n",
        "    <tr>\n",
        "      <th>67495</th>\n",
        "      <td> F66KHFO02JZND7 </td>\n",
        "      <td> 0.645784</td>\n",
        "      <td>              protein   metabolism      </td>\n",
        "    </tr>\n",
        "    <tr>\n",
        "      <th>67496</th>\n",
        "      <td> F66KHFO02JZND7 </td>\n",
        "      <td> 0.645784</td>\n",
        "      <td>                  RNA   metabolism      </td>\n",
        "    </tr>\n",
        "    <tr>\n",
        "      <th>67497</th>\n",
        "      <td> F66KHFO02JZND7 </td>\n",
        "      <td> 0.645784</td>\n",
        "      <td>             signal   transduction      </td>\n",
        "    </tr>\n",
        "    <tr>\n",
        "      <th>67498</th>\n",
        "      <td> F66KHFO02JZO8X </td>\n",
        "      <td> 0.858204</td>\n",
        "      <td>       other   biological   processes   </td>\n",
        "    </tr>\n",
        "    <tr>\n",
        "      <th>67499</th>\n",
        "      <td> F66KHFO02JZO8X </td>\n",
        "      <td> 0.858204</td>\n",
        "      <td>                  RNA   metabolism      </td>\n",
        "    </tr>\n",
        "    <tr>\n",
        "      <th>67500</th>\n",
        "      <td> F66KHFO02JZO8X </td>\n",
        "      <td> 0.858204</td>\n",
        "      <td>                 stress   response      </td>\n",
        "    </tr>\n",
        "    <tr>\n",
        "      <th>67501</th>\n",
        "      <td> F66KHFO02JZOT7 </td>\n",
        "      <td> 0.657806</td>\n",
        "      <td>        other   metabolic   processes   </td>\n",
        "    </tr>\n",
        "    <tr>\n",
        "      <th>67502</th>\n",
        "      <td> F66KHFO02JZQBN </td>\n",
        "      <td> 0.852378</td>\n",
        "      <td>              protein   metabolism      </td>\n",
        "    </tr>\n",
        "    <tr>\n",
        "      <th>67503</th>\n",
        "      <td> F66KHFO02JZTL8 </td>\n",
        "      <td> 0.713145</td>\n",
        "      <td>                          death         </td>\n",
        "    </tr>\n",
        "    <tr>\n",
        "      <th>67504</th>\n",
        "      <td> F66KHFO02JZTL8 </td>\n",
        "      <td> 0.713145</td>\n",
        "      <td>                      transport         </td>\n",
        "    </tr>\n",
        "    <tr>\n",
        "      <th>67505</th>\n",
        "      <td> F66KHFO02JZV0J </td>\n",
        "      <td> 0.375928</td>\n",
        "      <td>              protein   metabolism      </td>\n",
        "    </tr>\n",
        "    <tr>\n",
        "      <th>67506</th>\n",
        "      <td> F66KHFO02JZWQ6 </td>\n",
        "      <td> 0.488831</td>\n",
        "      <td>                      transport         </td>\n",
        "    </tr>\n",
        "    <tr>\n",
        "      <th>67507</th>\n",
        "      <td> F66KHFO02JZX3R </td>\n",
        "      <td> 0.916672</td>\n",
        "      <td>        other   metabolic   processes   </td>\n",
        "    </tr>\n",
        "    <tr>\n",
        "      <th>67508</th>\n",
        "      <td> F66KHFO02JZX9S </td>\n",
        "      <td> 0.545160</td>\n",
        "      <td>       other   biological   processes   </td>\n",
        "    </tr>\n",
        "    <tr>\n",
        "      <th>67509</th>\n",
        "      <td> F66KHFO02JZXKF </td>\n",
        "      <td> 0.926412</td>\n",
        "      <td>       other   biological   processes   </td>\n",
        "    </tr>\n",
        "    <tr>\n",
        "      <th>67510</th>\n",
        "      <td> F66KHFO02JZXKF </td>\n",
        "      <td> 0.926412</td>\n",
        "      <td>        other   metabolic   processes   </td>\n",
        "    </tr>\n",
        "  </tbody>\n",
        "</table>\n",
        "<p>67511 rows \u00d7 3 columns</p>\n",
        "</div>"
       ],
       "metadata": {},
       "output_type": "pyout",
       "prompt_number": 89,
       "text": [
        "                     0         1                                        2\n",
        "0       AOKF1045_g2_c   0.415524   cell   organization   and   biogenesis\n",
        "1       AOKF1045_g2_c   0.415524        other   biological   processes   \n",
        "2       AOKF1045_g2_c   0.415524              signal   transduction      \n",
        "3       AOKF1050_b2_c   0.405247                       transport         \n",
        "4       AOKF1057_b2_c   0.337031       cell   cycle   and   proliferation\n",
        "5       AOKF1057_b2_c   0.337031   cell   organization   and   biogenesis\n",
        "6       AOKF1057_b2_c   0.337031        other   biological   processes   \n",
        "7       AOKF1057_b2_c   0.337031               protein   metabolism      \n",
        "8       AOKF1062_g2_c   1.001040        other   biological   processes   \n",
        "9       AOKF1062_g2_c   1.001040         other   metabolic   processes   \n",
        "10      AOKF1062_g2_c   1.001040              signal   transduction      \n",
        "11      AOKF1091_g2_c   0.503552   cell   organization   and   biogenesis\n",
        "12      AOKF1091_g2_c   0.503552                   RNA   metabolism      \n",
        "13      AOKF1114_g2_c   0.964931                    cell   adhesion      \n",
        "14      AOKF1114_g2_c   0.964931   cell   organization   and   biogenesis\n",
        "15      AOKF1114_g2_c   0.964931        other   biological   processes   \n",
        "16      AOKF1114_g2_c   0.964931         other   metabolic   processes   \n",
        "17      AOKF1114_g2_c   0.964931              signal   transduction      \n",
        "18      AOKF1114_g2_c   0.964931                       transport         \n",
        "19      AOKF1132_g2_c   0.228244        other   biological   processes   \n",
        "20      AOKF1164_g2_c   0.910002   cell   organization   and   biogenesis\n",
        "21      AOKF1164_g2_c   0.910002         other   metabolic   processes   \n",
        "22      AOKF1164_g2_c   0.910002               protein   metabolism      \n",
        "23      AOKF1164_g2_c   0.910002                   RNA   metabolism      \n",
        "24      AOKF1206_g2_c   0.820971                  stress   response      \n",
        "25      AOKF1230_g2_c   0.716592   cell   organization   and   biogenesis\n",
        "26      AOKF1230_g2_c   0.716592        other   biological   processes   \n",
        "27      AOKF1238_g2_c   0.487211         other   metabolic   processes   \n",
        "28      AOKF1251_g2_c   0.253120                   RNA   metabolism      \n",
        "29      AOKF1251_g2_c   0.253120              signal   transduction      \n",
        "...                ...       ...                                      ...\n",
        "67481  F66KHFO02JZLMO   0.494197              signal   transduction      \n",
        "67482  F66KHFO02JZMWV   0.838499                   RNA   metabolism      \n",
        "67483  F66KHFO02JZND4   0.282860       cell   cycle   and   proliferation\n",
        "67484  F66KHFO02JZND4   0.282860                           death         \n",
        "67485  F66KHFO02JZND4   0.282860          developmental   processes      \n",
        "67486  F66KHFO02JZND4   0.282860        other   biological   processes   \n",
        "67487  F66KHFO02JZND4   0.282860         other   metabolic   processes   \n",
        "67488  F66KHFO02JZND4   0.282860               protein   metabolism      \n",
        "67489  F66KHFO02JZND4   0.282860              signal   transduction      \n",
        "67490  F66KHFO02JZND4   0.282860                  stress   response      \n",
        "67491  F66KHFO02JZND4   0.282860                       transport         \n",
        "67492  F66KHFO02JZND7   0.645784       cell   cycle   and   proliferation\n",
        "67493  F66KHFO02JZND7   0.645784   cell   organization   and   biogenesis\n",
        "67494  F66KHFO02JZND7   0.645784        other   biological   processes   \n",
        "67495  F66KHFO02JZND7   0.645784               protein   metabolism      \n",
        "67496  F66KHFO02JZND7   0.645784                   RNA   metabolism      \n",
        "67497  F66KHFO02JZND7   0.645784              signal   transduction      \n",
        "67498  F66KHFO02JZO8X   0.858204        other   biological   processes   \n",
        "67499  F66KHFO02JZO8X   0.858204                   RNA   metabolism      \n",
        "67500  F66KHFO02JZO8X   0.858204                  stress   response      \n",
        "67501  F66KHFO02JZOT7   0.657806         other   metabolic   processes   \n",
        "67502  F66KHFO02JZQBN   0.852378               protein   metabolism      \n",
        "67503  F66KHFO02JZTL8   0.713145                           death         \n",
        "67504  F66KHFO02JZTL8   0.713145                       transport         \n",
        "67505  F66KHFO02JZV0J   0.375928               protein   metabolism      \n",
        "67506  F66KHFO02JZWQ6   0.488831                       transport         \n",
        "67507  F66KHFO02JZX3R   0.916672         other   metabolic   processes   \n",
        "67508  F66KHFO02JZX9S   0.545160        other   biological   processes   \n",
        "67509  F66KHFO02JZXKF   0.926412        other   biological   processes   \n",
        "67510  F66KHFO02JZXKF   0.926412         other   metabolic   processes   \n",
        "\n",
        "[67511 rows x 3 columns]"
       ]
      }
     ],
     "prompt_number": 89
    },
    {
     "cell_type": "code",
     "collapsed": false,
     "input": [
      "%matplotlib inline"
     ],
     "language": "python",
     "metadata": {},
     "outputs": [],
     "prompt_number": 90
    },
    {
     "cell_type": "code",
     "collapsed": false,
     "input": [
      "import matplotlib.pyplot as plt "
     ],
     "language": "python",
     "metadata": {},
     "outputs": [],
     "prompt_number": 91
    },
    {
     "cell_type": "code",
     "collapsed": false,
     "input": [
      "jData.groupby(2)[1].mean().plot(kind='barh', color=list('myb'))\n",
      "plt.axis([0.55, 0.75, -1, 14])"
     ],
     "language": "python",
     "metadata": {},
     "outputs": [
      {
       "metadata": {},
       "output_type": "pyout",
       "prompt_number": 95,
       "text": [
        "[0.55, 0.75, -1, 14]"
       ]
      },
      {
       "metadata": {},
       "output_type": "display_data",
       "png": "[encoded data removed]",
       "text": [
        "<matplotlib.figure.Figure at 0x7faa9fc373d0>"
       ]
      }
     ],
     "prompt_number": 95
    },
    {
     "cell_type": "code",
     "collapsed": false,
     "input": [
      "#To plot density curve, must use CpG data WITHOUT annotation\n",
      "CpG = pd.read_table('ID_CpG', header=None)\n",
      "CpG"
     ],
     "language": "python",
     "metadata": {},
     "outputs": [
      {
       "html": [
        "<div style=\"max-height:1000px;max-width:1500px;overflow:auto;\">\n",
        "<table border=\"1\" class=\"dataframe\">\n",
        "  <thead>\n",
        "    <tr style=\"text-align: right;\">\n",
        "      <th></th>\n",
        "      <th>0</th>\n",
        "      <th>1</th>\n",
        "    </tr>\n",
        "  </thead>\n",
        "  <tbody>\n",
        "    <tr>\n",
        "      <th>0    </th>\n",
        "      <td>  AOKF1013_g2_c </td>\n",
        "      <td> 0.261194</td>\n",
        "    </tr>\n",
        "    <tr>\n",
        "      <th>1    </th>\n",
        "      <td>  AOKF1022_b2_c </td>\n",
        "      <td> 1.210840</td>\n",
        "    </tr>\n",
        "    <tr>\n",
        "      <th>2    </th>\n",
        "      <td>  AOKF1022_g2_c </td>\n",
        "      <td> 0.930991</td>\n",
        "    </tr>\n",
        "    <tr>\n",
        "      <th>3    </th>\n",
        "      <td>  AOKF1024_g2_c </td>\n",
        "      <td> 0.568201</td>\n",
        "    </tr>\n",
        "    <tr>\n",
        "      <th>4    </th>\n",
        "      <td>  AOKF1029_g2_c </td>\n",
        "      <td> 0.305319</td>\n",
        "    </tr>\n",
        "    <tr>\n",
        "      <th>5    </th>\n",
        "      <td>  AOKF1031_g2_c </td>\n",
        "      <td> 0.476647</td>\n",
        "    </tr>\n",
        "    <tr>\n",
        "      <th>6    </th>\n",
        "      <td>  AOKF1034_g2_c </td>\n",
        "      <td> 0.250371</td>\n",
        "    </tr>\n",
        "    <tr>\n",
        "      <th>7    </th>\n",
        "      <td>  AOKF1040_g2_c </td>\n",
        "      <td> 1.111480</td>\n",
        "    </tr>\n",
        "    <tr>\n",
        "      <th>8    </th>\n",
        "      <td>  AOKF1045_g2_c </td>\n",
        "      <td> 0.415524</td>\n",
        "    </tr>\n",
        "    <tr>\n",
        "      <th>9    </th>\n",
        "      <td>  AOKF1046_g2_c </td>\n",
        "      <td> 0.278746</td>\n",
        "    </tr>\n",
        "    <tr>\n",
        "      <th>10   </th>\n",
        "      <td>  AOKF1050_b2_c </td>\n",
        "      <td> 0.405247</td>\n",
        "    </tr>\n",
        "    <tr>\n",
        "      <th>11   </th>\n",
        "      <td>  AOKF1057_b2_c </td>\n",
        "      <td> 0.337031</td>\n",
        "    </tr>\n",
        "    <tr>\n",
        "      <th>12   </th>\n",
        "      <td>  AOKF1057_g2_c </td>\n",
        "      <td> 0.199252</td>\n",
        "    </tr>\n",
        "    <tr>\n",
        "      <th>13   </th>\n",
        "      <td>  AOKF1062_g2_c </td>\n",
        "      <td> 1.001040</td>\n",
        "    </tr>\n",
        "    <tr>\n",
        "      <th>14   </th>\n",
        "      <td>  AOKF1064_b2_c </td>\n",
        "      <td> 0.346250</td>\n",
        "    </tr>\n",
        "    <tr>\n",
        "      <th>15   </th>\n",
        "      <td>  AOKF1091_g2_c </td>\n",
        "      <td> 0.503552</td>\n",
        "    </tr>\n",
        "    <tr>\n",
        "      <th>16   </th>\n",
        "      <td>  AOKF1098_g2_c </td>\n",
        "      <td> 1.027100</td>\n",
        "    </tr>\n",
        "    <tr>\n",
        "      <th>17   </th>\n",
        "      <td>  AOKF1100_g2_c </td>\n",
        "      <td> 0.616876</td>\n",
        "    </tr>\n",
        "    <tr>\n",
        "      <th>18   </th>\n",
        "      <td>  AOKF1114_g2_c </td>\n",
        "      <td> 0.964931</td>\n",
        "    </tr>\n",
        "    <tr>\n",
        "      <th>19   </th>\n",
        "      <td>  AOKF1122_g2_c </td>\n",
        "      <td> 0.736433</td>\n",
        "    </tr>\n",
        "    <tr>\n",
        "      <th>20   </th>\n",
        "      <td>  AOKF1127_g2_c </td>\n",
        "      <td> 0.633706</td>\n",
        "    </tr>\n",
        "    <tr>\n",
        "      <th>21   </th>\n",
        "      <td>  AOKF1132_g2_c </td>\n",
        "      <td> 0.228244</td>\n",
        "    </tr>\n",
        "    <tr>\n",
        "      <th>22   </th>\n",
        "      <td>  AOKF1140_b2_c </td>\n",
        "      <td> 0.828815</td>\n",
        "    </tr>\n",
        "    <tr>\n",
        "      <th>23   </th>\n",
        "      <td>  AOKF1148_g2_c </td>\n",
        "      <td> 0.938300</td>\n",
        "    </tr>\n",
        "    <tr>\n",
        "      <th>24   </th>\n",
        "      <td>  AOKF1164_g2_c </td>\n",
        "      <td> 0.910002</td>\n",
        "    </tr>\n",
        "    <tr>\n",
        "      <th>25   </th>\n",
        "      <td>  AOKF1168_g2_c </td>\n",
        "      <td> 0.653118</td>\n",
        "    </tr>\n",
        "    <tr>\n",
        "      <th>26   </th>\n",
        "      <td>  AOKF1172_g2_c </td>\n",
        "      <td> 0.123120</td>\n",
        "    </tr>\n",
        "    <tr>\n",
        "      <th>27   </th>\n",
        "      <td>  AOKF1179_b2_c </td>\n",
        "      <td> 1.093800</td>\n",
        "    </tr>\n",
        "    <tr>\n",
        "      <th>28   </th>\n",
        "      <td>  AOKF1181_b2_c </td>\n",
        "      <td> 0.000000</td>\n",
        "    </tr>\n",
        "    <tr>\n",
        "      <th>29   </th>\n",
        "      <td>  AOKF1188_g2_c </td>\n",
        "      <td> 0.676796</td>\n",
        "    </tr>\n",
        "    <tr>\n",
        "      <th>...</th>\n",
        "      <td>...</td>\n",
        "      <td>...</td>\n",
        "    </tr>\n",
        "    <tr>\n",
        "      <th>87990</th>\n",
        "      <td> F66KHFO02JZSBG </td>\n",
        "      <td> 0.286240</td>\n",
        "    </tr>\n",
        "    <tr>\n",
        "      <th>87991</th>\n",
        "      <td> F66KHFO02JZSNY </td>\n",
        "      <td> 1.009290</td>\n",
        "    </tr>\n",
        "    <tr>\n",
        "      <th>87992</th>\n",
        "      <td> F66KHFO02JZSSB </td>\n",
        "      <td> 0.714766</td>\n",
        "    </tr>\n",
        "    <tr>\n",
        "      <th>87993</th>\n",
        "      <td> F66KHFO02JZSY2 </td>\n",
        "      <td> 0.880767</td>\n",
        "    </tr>\n",
        "    <tr>\n",
        "      <th>87994</th>\n",
        "      <td> F66KHFO02JZT8Y </td>\n",
        "      <td> 0.666669</td>\n",
        "    </tr>\n",
        "    <tr>\n",
        "      <th>87995</th>\n",
        "      <td> F66KHFO02JZTL8 </td>\n",
        "      <td> 0.713145</td>\n",
        "    </tr>\n",
        "    <tr>\n",
        "      <th>87996</th>\n",
        "      <td> F66KHFO02JZUK4 </td>\n",
        "      <td> 1.507330</td>\n",
        "    </tr>\n",
        "    <tr>\n",
        "      <th>87997</th>\n",
        "      <td> F66KHFO02JZUO1 </td>\n",
        "      <td> 1.073050</td>\n",
        "    </tr>\n",
        "    <tr>\n",
        "      <th>87998</th>\n",
        "      <td> F66KHFO02JZUOE </td>\n",
        "      <td> 0.187257</td>\n",
        "    </tr>\n",
        "    <tr>\n",
        "      <th>87999</th>\n",
        "      <td> F66KHFO02JZV0J </td>\n",
        "      <td> 0.375928</td>\n",
        "    </tr>\n",
        "    <tr>\n",
        "      <th>88000</th>\n",
        "      <td> F66KHFO02JZV39 </td>\n",
        "      <td> 0.347224</td>\n",
        "    </tr>\n",
        "    <tr>\n",
        "      <th>88001</th>\n",
        "      <td> F66KHFO02JZVVY </td>\n",
        "      <td> 0.818836</td>\n",
        "    </tr>\n",
        "    <tr>\n",
        "      <th>88002</th>\n",
        "      <td> F66KHFO02JZWBE </td>\n",
        "      <td> 0.558107</td>\n",
        "    </tr>\n",
        "    <tr>\n",
        "      <th>88003</th>\n",
        "      <td> F66KHFO02JZWLB </td>\n",
        "      <td> 0.801189</td>\n",
        "    </tr>\n",
        "    <tr>\n",
        "      <th>88004</th>\n",
        "      <td> F66KHFO02JZWPR </td>\n",
        "      <td> 0.966041</td>\n",
        "    </tr>\n",
        "    <tr>\n",
        "      <th>88005</th>\n",
        "      <td> F66KHFO02JZWQ6 </td>\n",
        "      <td> 0.488831</td>\n",
        "    </tr>\n",
        "    <tr>\n",
        "      <th>88006</th>\n",
        "      <td> F66KHFO02JZWS2 </td>\n",
        "      <td> 0.934380</td>\n",
        "    </tr>\n",
        "    <tr>\n",
        "      <th>88007</th>\n",
        "      <td> F66KHFO02JZX11 </td>\n",
        "      <td> 1.628810</td>\n",
        "    </tr>\n",
        "    <tr>\n",
        "      <th>88008</th>\n",
        "      <td> F66KHFO02JZX3R </td>\n",
        "      <td> 0.916672</td>\n",
        "    </tr>\n",
        "    <tr>\n",
        "      <th>88009</th>\n",
        "      <td> F66KHFO02JZX6F </td>\n",
        "      <td> 1.014390</td>\n",
        "    </tr>\n",
        "    <tr>\n",
        "      <th>88010</th>\n",
        "      <td> F66KHFO02JZX9S </td>\n",
        "      <td> 0.545160</td>\n",
        "    </tr>\n",
        "    <tr>\n",
        "      <th>88011</th>\n",
        "      <td> F66KHFO02JZXFZ </td>\n",
        "      <td> 1.316570</td>\n",
        "    </tr>\n",
        "    <tr>\n",
        "      <th>88012</th>\n",
        "      <td> F66KHFO02JZXKF </td>\n",
        "      <td> 0.926412</td>\n",
        "    </tr>\n",
        "    <tr>\n",
        "      <th>88013</th>\n",
        "      <td> F66KHFO02JZXMY </td>\n",
        "      <td> 0.254724</td>\n",
        "    </tr>\n",
        "    <tr>\n",
        "      <th>88014</th>\n",
        "      <td> F66KHFO02JZXVC </td>\n",
        "      <td> 0.082266</td>\n",
        "    </tr>\n",
        "    <tr>\n",
        "      <th>88015</th>\n",
        "      <td> F66KHFO02JZYYU </td>\n",
        "      <td> 0.238428</td>\n",
        "    </tr>\n",
        "    <tr>\n",
        "      <th>88016</th>\n",
        "      <td> F66KHFO02JZZ42 </td>\n",
        "      <td> 0.776718</td>\n",
        "    </tr>\n",
        "    <tr>\n",
        "      <th>88017</th>\n",
        "      <td> F66KHFO02JZZ9J </td>\n",
        "      <td> 0.606561</td>\n",
        "    </tr>\n",
        "    <tr>\n",
        "      <th>88018</th>\n",
        "      <td> F66KHFO02JZZML </td>\n",
        "      <td> 0.772503</td>\n",
        "    </tr>\n",
        "    <tr>\n",
        "      <th>88019</th>\n",
        "      <td> F66KHFO02JZZVO </td>\n",
        "      <td> 0.848578</td>\n",
        "    </tr>\n",
        "  </tbody>\n",
        "</table>\n",
        "<p>88020 rows \u00d7 2 columns</p>\n",
        "</div>"
       ],
       "metadata": {},
       "output_type": "pyout",
       "prompt_number": 96,
       "text": [
        "                     0         1\n",
        "0       AOKF1013_g2_c   0.261194\n",
        "1       AOKF1022_b2_c   1.210840\n",
        "2       AOKF1022_g2_c   0.930991\n",
        "3       AOKF1024_g2_c   0.568201\n",
        "4       AOKF1029_g2_c   0.305319\n",
        "5       AOKF1031_g2_c   0.476647\n",
        "6       AOKF1034_g2_c   0.250371\n",
        "7       AOKF1040_g2_c   1.111480\n",
        "8       AOKF1045_g2_c   0.415524\n",
        "9       AOKF1046_g2_c   0.278746\n",
        "10      AOKF1050_b2_c   0.405247\n",
        "11      AOKF1057_b2_c   0.337031\n",
        "12      AOKF1057_g2_c   0.199252\n",
        "13      AOKF1062_g2_c   1.001040\n",
        "14      AOKF1064_b2_c   0.346250\n",
        "15      AOKF1091_g2_c   0.503552\n",
        "16      AOKF1098_g2_c   1.027100\n",
        "17      AOKF1100_g2_c   0.616876\n",
        "18      AOKF1114_g2_c   0.964931\n",
        "19      AOKF1122_g2_c   0.736433\n",
        "20      AOKF1127_g2_c   0.633706\n",
        "21      AOKF1132_g2_c   0.228244\n",
        "22      AOKF1140_b2_c   0.828815\n",
        "23      AOKF1148_g2_c   0.938300\n",
        "24      AOKF1164_g2_c   0.910002\n",
        "25      AOKF1168_g2_c   0.653118\n",
        "26      AOKF1172_g2_c   0.123120\n",
        "27      AOKF1179_b2_c   1.093800\n",
        "28      AOKF1181_b2_c   0.000000\n",
        "29      AOKF1188_g2_c   0.676796\n",
        "...                ...       ...\n",
        "87990  F66KHFO02JZSBG   0.286240\n",
        "87991  F66KHFO02JZSNY   1.009290\n",
        "87992  F66KHFO02JZSSB   0.714766\n",
        "87993  F66KHFO02JZSY2   0.880767\n",
        "87994  F66KHFO02JZT8Y   0.666669\n",
        "87995  F66KHFO02JZTL8   0.713145\n",
        "87996  F66KHFO02JZUK4   1.507330\n",
        "87997  F66KHFO02JZUO1   1.073050\n",
        "87998  F66KHFO02JZUOE   0.187257\n",
        "87999  F66KHFO02JZV0J   0.375928\n",
        "88000  F66KHFO02JZV39   0.347224\n",
        "88001  F66KHFO02JZVVY   0.818836\n",
        "88002  F66KHFO02JZWBE   0.558107\n",
        "88003  F66KHFO02JZWLB   0.801189\n",
        "88004  F66KHFO02JZWPR   0.966041\n",
        "88005  F66KHFO02JZWQ6   0.488831\n",
        "88006  F66KHFO02JZWS2   0.934380\n",
        "88007  F66KHFO02JZX11   1.628810\n",
        "88008  F66KHFO02JZX3R   0.916672\n",
        "88009  F66KHFO02JZX6F   1.014390\n",
        "88010  F66KHFO02JZX9S   0.545160\n",
        "88011  F66KHFO02JZXFZ   1.316570\n",
        "88012  F66KHFO02JZXKF   0.926412\n",
        "88013  F66KHFO02JZXMY   0.254724\n",
        "88014  F66KHFO02JZXVC   0.082266\n",
        "88015  F66KHFO02JZYYU   0.238428\n",
        "88016  F66KHFO02JZZ42   0.776718\n",
        "88017  F66KHFO02JZZ9J   0.606561\n",
        "88018  F66KHFO02JZZML   0.772503\n",
        "88019  F66KHFO02JZZVO   0.848578\n",
        "\n",
        "[88020 rows x 2 columns]"
       ]
      }
     ],
     "prompt_number": 96
    },
    {
     "cell_type": "code",
     "collapsed": false,
     "input": [
      "# pandas density plot\n",
      "CpG[1].plot(kind='kde', linewidth=3);\n",
      "plt.axis([-0.3, 1.7, 0, 1.7])"
     ],
     "language": "python",
     "metadata": {},
     "outputs": [
      {
       "metadata": {},
       "output_type": "pyout",
       "prompt_number": 97,
       "text": [
        "[-0.3, 1.7, 0, 1.7]"
       ]
      },
      {
       "metadata": {},
       "output_type": "display_data",
       "png": "[encoded data removed]",
       "text": [
        "<matplotlib.figure.Figure at 0x7faa9fc37dd0>"
       ]
      }
     ],
     "prompt_number": 97
    }
   ],
   "metadata": {}
  }
 ]
}