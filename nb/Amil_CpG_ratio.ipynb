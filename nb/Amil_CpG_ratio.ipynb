{
 "metadata": {
  "name": "",
  "signature": "sha256:52a959872c053f4e730d1f9d32a6d2c1658967d42c9c15aab2c050f29e645c36"
 },
 "nbformat": 3,
 "nbformat_minor": 0,
 "worksheets": [
  {
   "cells": [
    {
     "cell_type": "heading",
     "level": 1,
     "metadata": {},
     "source": [
      "Calculating CpG ratio for *Acropora millepora* transcriptome from:\n",
      "\n",
      "http://www.ncbi.nlm.nih.gov/nuccore?term=74409%5BBioProject%5D"
     ]
    },
    {
     "cell_type": "code",
     "collapsed": false,
     "input": [
      "cd /home/jay/Documents/fish546-2015/Data/Amil"
     ],
     "language": "python",
     "metadata": {},
     "outputs": [
      {
       "output_type": "stream",
       "stream": "stdout",
       "text": [
        "/home/jay/Documents/fish546-2015/Data/Amil\n"
       ]
      }
     ],
     "prompt_number": 2
    },
    {
     "cell_type": "code",
     "collapsed": false,
     "input": [
      "#fasta file\n",
      "!head -2 /home/jay/Documents/fish546-2015/Data/Amil/Amil_Moya.fasta\n",
      "!echo \n",
      "!echo number of seqs =\n",
      "!fgrep -c \">\" /home/jay/Documents/fish546-2015/Data/Amil/Amil_Moya.fasta"
     ],
     "language": "python",
     "metadata": {},
     "outputs": [
      {
       "output_type": "stream",
       "stream": "stdout",
       "text": [
        ">gi|379072745|gb|JR970414.1| TSA: Acropora millepora Cluster034439.Acmimixed mRNA sequence\r\n",
        "TCATCATTATTTCTTTTTGTTTTTCTGTGATCTTCGGTCAATGCGATAGATCCTCGAGTTATCGTGACTG\r\n"
       ]
      },
      {
       "output_type": "stream",
       "stream": "stdout",
       "text": [
        "\r\n"
       ]
      },
      {
       "output_type": "stream",
       "stream": "stdout",
       "text": [
        "number of seqs =\r\n"
       ]
      },
      {
       "output_type": "stream",
       "stream": "stdout",
       "text": [
        "52963\r\n"
       ]
      }
     ],
     "prompt_number": 2
    },
    {
     "cell_type": "code",
     "collapsed": false,
     "input": [
      "#Converting FASTA to tabular format and placing output file in analyses directory\n",
      "!perl -e '$count=0; $len=0; while(<>) {s/\\r?\\n//; s/\\t/ /g; if (s/^>//) { if ($. != 1) {print \"\\n\"} s/ |$/\\t/; $count++; $_ .= \"\\t\";} else {s/ //g; $len += length($_)} print $_;} print \"\\n\"; warn \"\\nConverted $count FASTA records in $. lines to tabular format\\nTotal sequence length: $len\\n\\n\";' \\\n",
      "Amil_Moya.fasta > /home/jay/Documents/fish546-2015/Analyses/Amil/fasta2tab"
     ],
     "language": "python",
     "metadata": {},
     "outputs": [
      {
       "output_type": "stream",
       "stream": "stdout",
       "text": [
        "\r\n",
        "Converted 52963 FASTA records in 1149658 lines to tabular format\r\n",
        "Total sequence length: 71250280\r\n",
        "\r\n"
       ]
      }
     ],
     "prompt_number": 4
    },
    {
     "cell_type": "code",
     "collapsed": false,
     "input": [
      "cd /home/jay/Documents/fish546-2015/Analyses/Amil"
     ],
     "language": "python",
     "metadata": {},
     "outputs": [
      {
       "output_type": "stream",
       "stream": "stdout",
       "text": [
        "/home/jay/Documents/fish546-2015/Analyses/Amil\n"
       ]
      }
     ],
     "prompt_number": 4
    },
    {
     "cell_type": "code",
     "collapsed": false,
     "input": [
      "#Checking header on new tabular format file\n",
      "!head -2 fasta2tab"
     ],
     "language": "python",
     "metadata": {},
     "outputs": [
      {
       "output_type": "stream",
       "stream": "stdout",
       "text": [
        "gi|379072745|gb|JR970414.1|\tTSA: Acropora millepora Cluster034439.Acmimixed mRNA sequence\tTCATCATTATTTCTTTTTGTTTTTCTGTGATCTTCGGTCAATGCGATAGATCCTCGAGTTATCGTGACTGCGCTCCAGACCAAGTCTGTTGTAGGAGGCAGTGTTTTTACAGCTCGAACTGTTTATATCTGTCTTGCTCCATGGACTCCGATTGTTCAGTGAATGAAGTCTGTTGTAGCAGCAAGTGTCGTTCTGGTNNNNNNNNNNCTGACTGCAGTGGGGATTTTTGTCGCTCGAACAATGATTGCAGCGTTGGGCAAAAGTGTTGTGTGAATACCTGCACCAACTATGATTGTGAGGACCCTACCGTCGCCATTCTTATCGCGGTAGTGGGTTCGCTCGTGGGCTTATTTGTTGTTTTCATTTCAATTTACTACTGCCACAGAAGAGCTCGTTTGGGTCGTTCCGGTACAGCAGAGGTGGGAAGACAAGTTGCCCCAACCGATGCTATCACAACCCAATCAGCAAACCAACAAGGCTACGCATATCAGCAACTCCCTTAAATATCATCAGTATCAGACACCCATTTACAATCCGGAGACACAGAGACAACCAGGAGGAATACTTACTTCACATCGTGCATATGGTGAACTTCAAACCACTTGATCCCCATGTCCAGCGGAAGACT\r\n",
        "gi|379072746|gb|JR970415.1|\tTSA: Acropora millepora Cluster034438.Acmimixed mRNA sequence\tCGCCCCCACGTCGTCATCTGACGTTCCTGTCCTGTTGCTAAATCAGCCTATTGATTGCGGGAACACATCAATCAACTACTAAACAACAGAATCCTGGGTTTTCAGACTTACAGTGTCTCTGCGATGAGGAGAATGTTCCCCTGTCACCACAAGCACTCCTGTCTGGGCACTAAGACAAATCAGCAATGAGACATTCTTGGCTTCCAAATCAATAAGTGCACATTAACTGGTGTTTGGAGAGACCAATCACCTATCTAGATATGGTCCACCATATTGCAGATTGAAACAATGAATAATAGAACACAAACAATACCCTAACTTGACCACAATAGAAGGTACAGGTTATAAGGACAAATAACAACAGAGGTCTGGAAAAGCCACAGGATTACTCAGTTTGAGGCAAGACATGCCACCTCATAAAATATCTTTGAACATCTATTATTGAATGTTTACATTAACCACCTGTAGATAAAGTGCTTAAGCCTCTTTGTAAAATACAAGAACACAAAACTATATATACACTAATTTGCAGTATCTCAAGTTGTTGTAACAGGCTACTCACTCAATCCTGTGTCCCTTCATATCTTTCATCAAATCAGAGCGAGCATTGGAATGCACACAATGTAGC\r\n"
       ]
      }
     ],
     "prompt_number": 6
    },
    {
     "cell_type": "code",
     "collapsed": false,
     "input": [
      "#Removing pipes\n",
      "!tr '|' \"\\t\" <fasta2tab> fasta2tab2\n",
      "!head -2 fasta2tab2"
     ],
     "language": "python",
     "metadata": {},
     "outputs": [
      {
       "output_type": "stream",
       "stream": "stdout",
       "text": [
        "gi\t379072745\tgb\tJR970414.1\t\tTSA: Acropora millepora Cluster034439.Acmimixed mRNA sequence\tTCATCATTATTTCTTTTTGTTTTTCTGTGATCTTCGGTCAATGCGATAGATCCTCGAGTTATCGTGACTGCGCTCCAGACCAAGTCTGTTGTAGGAGGCAGTGTTTTTACAGCTCGAACTGTTTATATCTGTCTTGCTCCATGGACTCCGATTGTTCAGTGAATGAAGTCTGTTGTAGCAGCAAGTGTCGTTCTGGTNNNNNNNNNNCTGACTGCAGTGGGGATTTTTGTCGCTCGAACAATGATTGCAGCGTTGGGCAAAAGTGTTGTGTGAATACCTGCACCAACTATGATTGTGAGGACCCTACCGTCGCCATTCTTATCGCGGTAGTGGGTTCGCTCGTGGGCTTATTTGTTGTTTTCATTTCAATTTACTACTGCCACAGAAGAGCTCGTTTGGGTCGTTCCGGTACAGCAGAGGTGGGAAGACAAGTTGCCCCAACCGATGCTATCACAACCCAATCAGCAAACCAACAAGGCTACGCATATCAGCAACTCCCTTAAATATCATCAGTATCAGACACCCATTTACAATCCGGAGACACAGAGACAACCAGGAGGAATACTTACTTCACATCGTGCATATGGTGAACTTCAAACCACTTGATCCCCATGTCCAGCGGAAGACT\r\n",
        "gi\t379072746\tgb\tJR970415.1\t\tTSA: Acropora millepora Cluster034438.Acmimixed mRNA sequence\tCGCCCCCACGTCGTCATCTGACGTTCCTGTCCTGTTGCTAAATCAGCCTATTGATTGCGGGAACACATCAATCAACTACTAAACAACAGAATCCTGGGTTTTCAGACTTACAGTGTCTCTGCGATGAGGAGAATGTTCCCCTGTCACCACAAGCACTCCTGTCTGGGCACTAAGACAAATCAGCAATGAGACATTCTTGGCTTCCAAATCAATAAGTGCACATTAACTGGTGTTTGGAGAGACCAATCACCTATCTAGATATGGTCCACCATATTGCAGATTGAAACAATGAATAATAGAACACAAACAATACCCTAACTTGACCACAATAGAAGGTACAGGTTATAAGGACAAATAACAACAGAGGTCTGGAAAAGCCACAGGATTACTCAGTTTGAGGCAAGACATGCCACCTCATAAAATATCTTTGAACATCTATTATTGAATGTTTACATTAACCACCTGTAGATAAAGTGCTTAAGCCTCTTTGTAAAATACAAGAACACAAAACTATATATACACTAATTTGCAGTATCTCAAGTTGTTGTAACAGGCTACTCACTCAATCCTGTGTCCCTTCATATCTTTCATCAAATCAGAGCGAGCATTGGAATGCACACAATGTAGC\r\n"
       ]
      }
     ],
     "prompt_number": 9
    },
    {
     "cell_type": "code",
     "collapsed": false,
     "input": [
      "#\n",
      "#\n",
      "#  NOTE THIS REQUIRES File specific knowledge\n",
      "#\n",
      "##to make sure we don't get description name issues \n",
      "!sed 's/379/999999/g' <fasta2tab2> fasta2tab_c"
     ],
     "language": "python",
     "metadata": {},
     "outputs": [],
     "prompt_number": 41
    },
    {
     "cell_type": "code",
     "collapsed": false,
     "input": [
      "#Add column with length of sequence\n",
      "!perl -e '$col = 6;' -e 'while (<>) { s/\\r?\\n//; @F = split /\\t/, $_; $len = length($F[$col]); print \"$_\\t$len\\n\" } warn \"\\nAdded column with length of column $col for $. lines.\\n\\n\";' \\\n",
      "fasta2tab_c > tab_1"
     ],
     "language": "python",
     "metadata": {},
     "outputs": [
      {
       "output_type": "stream",
       "stream": "stdout",
       "text": [
        "\r\n",
        "Added column with length of column 6 for 52963 lines.\r\n",
        "\r\n"
       ]
      }
     ],
     "prompt_number": 42
    },
    {
     "cell_type": "code",
     "collapsed": false,
     "input": [
      "!head -1 tab_1\n",
      "!wc tab_1"
     ],
     "language": "python",
     "metadata": {},
     "outputs": [
      {
       "output_type": "stream",
       "stream": "stdout",
       "text": [
        "gi\t999999072745\tgb\tJR970414.1\t\tTSA: Acropora millepora Cluster034439.Acmimixed mRNA sequence\tTCATCATTATTTCTTTTTGTTTTTCTGTGATCTTCGGTCAATGCGATAGATCCTCGAGTTATCGTGACTGCGCTCCAGACCAAGTCTGTTGTAGGAGGCAGTGTTTTTACAGCTCGAACTGTTTATATCTGTCTTGCTCCATGGACTCCGATTGTTCAGTGAATGAAGTCTGTTGTAGCAGCAAGTGTCGTTCTGGTNNNNNNNNNNCTGACTGCAGTGGGGATTTTTGTCGCTCGAACAATGATTGCAGCGTTGGGCAAAAGTGTTGTGTGAATACCTGCACCAACTATGATTGTGAGGACCCTACCGTCGCCATTCTTATCGCGGTAGTGGGTTCGCTCGTGGGCTTATTTGTTGTTTTCATTTCAATTTACTACTGCCACAGAAGAGCTCGTTTGGGTCGTTCCGGTACAGCAGAGGTGGGAAGACAAGTTGCCCCAACCGATGCTATCACAACCCAATCAGCAAACCAACAAGGCTACGCATATCAGCAACTCCCTTAAATATCATCAGTATCAGACACCCATTTACAATCCGGAGACACAGAGACAACCAGGAGGAATACTTACTTCACATCGTGCATATGGTGAACTTCAAACCACTTGATCCCCATGTCCAGCGGAAGACT\t628\r\n"
       ]
      },
      {
       "output_type": "stream",
       "stream": "stdout",
       "text": [
        "   52963   635556 76471099 tab_1\r\n"
       ]
      }
     ],
     "prompt_number": 46
    },
    {
     "cell_type": "code",
     "collapsed": false,
     "input": [
      "#Just printing contig ID in column 2\n",
      "!awk '{print $2, \"\\t\", $11, \"\\t\", $12}' tab_1 > tab_2\n",
      "!head -1 tab_2"
     ],
     "language": "python",
     "metadata": {},
     "outputs": [
      {
       "output_type": "stream",
       "stream": "stdout",
       "text": [
        "999999072745 \t TCATCATTATTTCTTTTTGTTTTTCTGTGATCTTCGGTCAATGCGATAGATCCTCGAGTTATCGTGACTGCGCTCCAGACCAAGTCTGTTGTAGGAGGCAGTGTTTTTACAGCTCGAACTGTTTATATCTGTCTTGCTCCATGGACTCCGATTGTTCAGTGAATGAAGTCTGTTGTAGCAGCAAGTGTCGTTCTGGTNNNNNNNNNNCTGACTGCAGTGGGGATTTTTGTCGCTCGAACAATGATTGCAGCGTTGGGCAAAAGTGTTGTGTGAATACCTGCACCAACTATGATTGTGAGGACCCTACCGTCGCCATTCTTATCGCGGTAGTGGGTTCGCTCGTGGGCTTATTTGTTGTTTTCATTTCAATTTACTACTGCCACAGAAGAGCTCGTTTGGGTCGTTCCGGTACAGCAGAGGTGGGAAGACAAGTTGCCCCAACCGATGCTATCACAACCCAATCAGCAAACCAACAAGGCTACGCATATCAGCAACTCCCTTAAATATCATCAGTATCAGACACCCATTTACAATCCGGAGACACAGAGACAACCAGGAGGAATACTTACTTCACATCGTGCATATGGTGAACTTCAAACCACTTGATCCCCATGTCCAGCGGAAGACT \t 628\r\n"
       ]
      }
     ],
     "prompt_number": 48
    },
    {
     "cell_type": "code",
     "collapsed": false,
     "input": [
      "#This counts CGs\n",
      "!awk -F\\CG '{print NF-1}' tab_2 > CG"
     ],
     "language": "python",
     "metadata": {},
     "outputs": [],
     "prompt_number": 49
    },
    {
     "cell_type": "code",
     "collapsed": false,
     "input": [
      "#Counts Cs\n",
      "!awk -F\\C '{print NF-1}' tab_2 > C"
     ],
     "language": "python",
     "metadata": {},
     "outputs": [],
     "prompt_number": 50
    },
    {
     "cell_type": "code",
     "collapsed": false,
     "input": [
      "#Counts Gs\n",
      "!awk -F\\G '{print NF-1}' tab_2 > G"
     ],
     "language": "python",
     "metadata": {},
     "outputs": [],
     "prompt_number": 51
    },
    {
     "cell_type": "code",
     "collapsed": false,
     "input": [
      "#Combining counts\n",
      "!paste tab_2 \\\n",
      "CG \\\n",
      "C \\\n",
      "G \\\n",
      "> comb\n",
      "!head -5 comb"
     ],
     "language": "python",
     "metadata": {},
     "outputs": [
      {
       "output_type": "stream",
       "stream": "stdout",
       "text": [
        "999999072745 \t TCATCATTATTTCTTTTTGTTTTTCTGTGATCTTCGGTCAATGCGATAGATCCTCGAGTTATCGTGACTGCGCTCCAGACCAAGTCTGTTGTAGGAGGCAGTGTTTTTACAGCTCGAACTGTTTATATCTGTCTTGCTCCATGGACTCCGATTGTTCAGTGAATGAAGTCTGTTGTAGCAGCAAGTGTCGTTCTGGTNNNNNNNNNNCTGACTGCAGTGGGGATTTTTGTCGCTCGAACAATGATTGCAGCGTTGGGCAAAAGTGTTGTGTGAATACCTGCACCAACTATGATTGTGAGGACCCTACCGTCGCCATTCTTATCGCGGTAGTGGGTTCGCTCGTGGGCTTATTTGTTGTTTTCATTTCAATTTACTACTGCCACAGAAGAGCTCGTTTGGGTCGTTCCGGTACAGCAGAGGTGGGAAGACAAGTTGCCCCAACCGATGCTATCACAACCCAATCAGCAAACCAACAAGGCTACGCATATCAGCAACTCCCTTAAATATCATCAGTATCAGACACCCATTTACAATCCGGAGACACAGAGACAACCAGGAGGAATACTTACTTCACATCGTGCATATGGTGAACTTCAAACCACTTGATCCCCATGTCCAGCGGAAGACT \t 628\t25\t145\t140\r\n",
        "999999072746 \t CGCCCCCACGTCGTCATCTGACGTTCCTGTCCTGTTGCTAAATCAGCCTATTGATTGCGGGAACACATCAATCAACTACTAAACAACAGAATCCTGGGTTTTCAGACTTACAGTGTCTCTGCGATGAGGAGAATGTTCCCCTGTCACCACAAGCACTCCTGTCTGGGCACTAAGACAAATCAGCAATGAGACATTCTTGGCTTCCAAATCAATAAGTGCACATTAACTGGTGTTTGGAGAGACCAATCACCTATCTAGATATGGTCCACCATATTGCAGATTGAAACAATGAATAATAGAACACAAACAATACCCTAACTTGACCACAATAGAAGGTACAGGTTATAAGGACAAATAACAACAGAGGTCTGGAAAAGCCACAGGATTACTCAGTTTGAGGCAAGACATGCCACCTCATAAAATATCTTTGAACATCTATTATTGAATGTTTACATTAACCACCTGTAGATAAAGTGCTTAAGCCTCTTTGTAAAATACAAGAACACAAAACTATATATACACTAATTTGCAGTATCTCAAGTTGTTGTAACAGGCTACTCACTCAATCCTGTGTCCCTTCATATCTTTCATCAAATCAGAGCGAGCATTGGAATGCACACAATGTAGC \t 628\t7\t145\t107\r\n",
        "999999072747 \t CGTCCTCGTGACTCATCATTGCTTTTGTCAATACACGAGAGTGAAAAGTCCCAGATAATTGGGAGGCTGGAGGATACTGTGATCATAATATTGTAACTATTAATAAAGTATGAACAATGTGGCTGCACTGGGAAGAGCACCAATATGGCCTGCATGGGTCAGGAGCCTGACTTGGGGCTGTGTGCTGGTTGAGTCTGTAACAAGGTTTTCTTCACTGTTCCAAGAGGTTTAATCTTCAGTTCTTATAGGTTTGTATTTGATAGTGAATCACTATGGCAACCAATTGGAGACAGCTGCTGACTGTAGAACCAGTGATGTTCTTTTATGCATATGGCTTGTTTATGGCAATGCCTGTTTTCCAGCAATATATCTACCATCGGCTTAGTGAAGAACATCATTTTCCATACAACTTTAAGGAACAAACCTCAAGTTGCGGAAGTTCCTTGAATGAATCAATGGAGAAACTTGAGAAAAAGGTGCAGTCTTCTGCTTCTTATGTTCAACTGGGCGTTGTCATGTTTTCTACCTTTCCATCGATTGTGATGACCCTCTTCATGGGTGGTTGGACAGATAAGGTGGGCCGACGCCCTGCTCTGATCATGCCACTTCTTGGCAGTGCACTGGATGCTGCTGTTGTACTTACTGTCATGTATGCCAAGTTGCCTGTGTACTGTCTCTTTATTGGCTCTTTTATCCATGGAGTTTGTGGATATTACACCACCATTCTCTTGGCCTGTTTGGCCTACATTGCGGACACCACTGAGCGGGGACATTTTGCATTTAGATTGGGTATTTTAGAAGCCATTGTTTTTGTGGGAGGAATGGTTGCCCAGTTAACAAGTGGGTTTTGGATTGAAAAGCTGGGATTCACTGCTCCGTATTGGTTCATATTTGGATGTGAAGTCTTTGCGCTGATTTATGCAGCTGTTCTTGTTCCTGAGTCAAAATGCCCATCCAAGGAAGAGAGAGGAAAGCTTTTCAGCTTGGATAACTTGAAGTCTTCTTGGAAAGTTTACAAAAAGGCTGTGGGCACTAAGAAGAGAAATTTAATCATTTTGACATTTTGCTGTGGTATCACGGCCATACCAATCATGGGTATACGTGGAGTTTCGAGCCTGTTTTTGCTTTATTCCCCACTCTGTTTCTCACCAGAACGTGTGGGATATTTTTCAGCCTTGCAGAATTCTGTTTATGGTGTTGGTGGTATTGTGACTATAAAAGCATTTGGAATGTGTCTTTCTCATGTCAATGTAGCGCGCATATCCATTCTATCATATCTAGGATTCCTCGTATACTTTGGATTTTCAAGAACTCTGCTCATGGTCTTTTTGAGTCCCTTGATAGGGATTCTTGGTGGAGCTGTAGCCCCTTTAATCAGAGCGATGATGTCCGAGATTGTCAGTTCAGATGACCAAGGTTCACTTTTTTCAGCCACATCATCTATGGAGGTTCTATTCACGTACCTCGGAGCTCTCCTATTGAACTCACTCTACGCGAAATCTCTAAAATTCAATGCTCCTGGGTTTGTGTTTTTCCTGGCTGCTGGCATACTATTGCTGCCCCTCGCTTTAACTTTCTGCTTAAAAGATCTGTCCATGTTTAAAATGGGAAGGAAGCTAATAAATAAAGCCAGTAGATATGAGAGCATAACAGACGAGGAAGACGGGAGAGAGGGCCAAACAGGATCTCCCGATTCACCGTATTCTGACATAACTGGCGATGATCTGCATGTTATTCCGGGCGGTGACGGGAGGAATGTGTAAACTGAGGAAGTCCGCGTACGATGGGATAAAAACAGGTTTCTCTTCTTGGGGTTCTAGTGCTAAAGTTGCAGCCAAATTCTGACCAAAAAATCACAGAAGACGCCATGATACTTCATTTTGATGTCGATCATTGTACTGTTTGATATATTTTGGAACGTAAGATATGGTCGCATGCAATGAAAACCTTATTTCCATGCTGATTTGGTGTCATATATTTTGGTTCAACCAATCAGATCTGCTGTTAGATGAAAAAAAGGTGAAGCGTAGAAAATGATAAGCGTAACCAATAATAGCCAAAGAGGTCATTGTTCTTAAATGGAAACGAGGCTTCTGTCTCACGTGATCAAAGACTCGTTTGGTCTGTCTATCCACTCTTTGTAATGCGACCAGGAGCTTTACATCTCACATGTAGTTGTCTTTTCAAGGAAAAGGAATTTATTTAACACTGAAAATAGTTTGAACCCAGGAGTGACACGCCTTGATTGAATCTGATTGTATGGGCAAGTGGAATCCTGAGAAGAATTGTGGTTGGCTGTGACTGACGTTTCGACAACCTTTGCGGCAGAAATTTTCTGTGTCAAGTAATGATGTAATCAGTTGCTTTTATGTTCTTATTAATAAGTACTCCTCTCGCCAAGACGACCAGCTTTCATCAAGAAATTTTATTTACTTGTCGATTTGTAAATATTTCATAATCGACTGTCCCCAGTCGCTCAAAGGCTGGGTGGCACTTAGTCTATCCACTGGACAGAGACTTGGACATAGCGCTATCCACAGGTTGAACGACAGGGGCCTGGTATGTGTAAAATTAAGCTGAATATAGCAGATATCCGCGGACTTCGAACACCGATACGTTATTGAGATTAGGCGGTAGAAAGATAGATAGATAGAAAGATAGATAGATAGATAGATAGAT \t 2679\t65\t501\t623\r\n",
        "999999072748 \t TCGACTTCGTCTTGGGAAACAGATATTCAAGGGAAACAAAATTCATTGTTCCCCAAAGGACCAGTCATTAAGTTATTTGTTGCATAGGAAAACAAAGGAAGAAAAAGCGTGCTGAGATTCCAGTGACAACAACAGGCCAACTTCAACGGCATGCTCAGATCACGTGTAGCAGCAGTCAACGTAGCCCGGGTAACAGTGAACTATTTCCCATTTTACGTTATCGTTTTCGCAATTGTTGCTGCTTGCGGCATTTGGCGGTGAACAGTTTCACAGTCAGAGGTCATGTGGCCATGAACTAGTCAATGAATGGGTGAGCCATGGCGGATGGCGGGAAGAACACCAGCTGTACAAAAATTTGTGTTAAGGTTGCATAAGTTTGATTCACAATTACAGTGCACAATAGAACTGAATCATAGGAAAACATGGACAAAGCACATCAAATCAAAACAAACATTGCTTGATATGCACCACAACGAAACTATTGTGAGAAGTCATTGAGACTCGGGTGGCTAAGTGTCTCAGTACCATATCCAGCAAAGTTGTATGAAAGGAGAGAATGATGCTCGCCCTTTATGTTATTTAGTCAGGGAGCCATTTAGTTTTTGGTGTGGTCACGCAACGCTACTCTC \t 629\t19\t123\t147\r\n",
        "999999072749 \t TTGAGACGTAGCCTGGTGTAACAACCAATAAAATCCCTGTAAGCAAATCAGTTATTGCCAGGTTAAACAGCAGCATATTATGAGGCTTTCGTAACATTTCACGTTTCTTGAATAATACGAGACAAAACATGAGGTTGAACGTGAAGGCTGAGCCAGCGATGACGGTGAAAGCGGTTTCAAGCACACTCTCTGATAGCGACTCGCTTTGTTCGGTAAATGCAGTTGATTGGTTGTTTTCTTGTCCATTCAAGCTATATGATTGGCTTATTTCAGTGGCTGATATCAACGTTGATTGGTTGATTGCAGATTCCATGATGGCAGTTGATTGGCTTAATCAAAGCTTCGAACGCAGTGTCATTAGTTTCGTGCTTTTAGATGTGATGATGCCGAGTAAATTCTAAATCCTGTTTAGAAAGACCAGGCTCAAAGGTCAGTGTGACAAGTTATCTTCAAACAGATTCTACTTCTTTCAAGTGTTCTGGTTGTAGTCTTTCTGTGTCGAGCTTTTAAGATGTGTGCAGTGGGCCACCTCAATCAGTTACAACAGGATCACTTCCGGAAATGAAAATACAGGTTAATTCTCTGGAGTAAGCTTTGAGGTTGGATAAAACATTACTGACCGATGTGTG \t 629\t19\t111\t146\r\n"
       ]
      }
     ],
     "prompt_number": 52
    },
    {
     "cell_type": "heading",
     "level": 1,
     "metadata": {},
     "source": [
      "Calculating CpGo/e based on [Gavery and Roberts (2010)](http://www.biomedcentral.com/1471-2164/11/483)"
     ]
    },
    {
     "cell_type": "markdown",
     "metadata": {},
     "source": [
      "<img src=\"http://eagle.fish.washington.edu/cnidarian/skitch/BMC_Genomics___Full_text___DNA_methylation_patterns_provide_insight_into_epigenetic_regulation_in_the_Pacific_oyster__Crassostrea_gigas__1A0683A5.png\" alt=\"BMC_Genomics___Full_text___DNA_methylation_patterns_provide_insight_into_epigenetic_regulation_in_the_Pacific_oyster__Crassostrea_gigas__1A0683A5.png\"/>"
     ]
    },
    {
     "cell_type": "code",
     "collapsed": false,
     "input": [
      "!awk '{print $1, \"\\t\", (($4)/($5*$6))*(($3^2)/($3-1))}' comb > ID_CpG #use ^ instead of ** for exponent\n"
     ],
     "language": "python",
     "metadata": {},
     "outputs": [],
     "prompt_number": 53
    },
    {
     "cell_type": "code",
     "collapsed": false,
     "input": [
      "!head ID_CpG"
     ],
     "language": "python",
     "metadata": {},
     "outputs": [
      {
       "output_type": "stream",
       "stream": "stdout",
       "text": [
        "999999072745 \t 0.774633\r\n",
        "999999072746 \t 0.283791\r\n",
        "999999072747 \t 0.558113\r\n",
        "999999072748 \t 0.662023\r\n",
        "999999072749 \t 0.738617\r\n",
        "999999072750 \t 0.318018\r\n",
        "999999072751 \t 1.25641\r\n",
        "999999072752 \t 0.328632\r\n",
        "999999072753 \t 1.11106\r\n",
        "999999072754 \t 0.801276\r\n"
       ]
      }
     ],
     "prompt_number": 54
    },
    {
     "cell_type": "code",
     "collapsed": false,
     "input": [
      "#Replacing contig ID prefix with orginal one\n",
      "!sed 's/999999/379/g' <ID_CpG> ID_CpG.tab\n",
      "!head ID_CpG.tab\n",
      "!echo line number\n",
      "!wc -l ID_CpG.tab"
     ],
     "language": "python",
     "metadata": {},
     "outputs": [
      {
       "output_type": "stream",
       "stream": "stdout",
       "text": [
        "379072745 \t 0.774633\r\n",
        "379072746 \t 0.283791\r\n",
        "379072747 \t 0.558113\r\n",
        "379072748 \t 0.662023\r\n",
        "379072749 \t 0.738617\r\n",
        "379072750 \t 0.318018\r\n",
        "379072751 \t 1.25641\r\n",
        "379072752 \t 0.328632\r\n",
        "379072753 \t 1.11106\r\n",
        "379072754 \t 0.801276\r\n"
       ]
      },
      {
       "output_type": "stream",
       "stream": "stdout",
       "text": [
        "line number\r\n"
       ]
      },
      {
       "output_type": "stream",
       "stream": "stdout",
       "text": [
        "52963 ID_CpG.tab\r\n"
       ]
      }
     ],
     "prompt_number": 55
    },
    {
     "cell_type": "heading",
     "level": 1,
     "metadata": {},
     "source": [
      "Now joining CpG to GOslim, but first must sort files."
     ]
    },
    {
     "cell_type": "code",
     "collapsed": false,
     "input": [
      "#Sorting GOSlim annotation file. This file was the result of work done in another notebook: Amil_blast_anno.ipynb\n",
      "!sort Amil_GOSlim.tab | tail -n +2 > Amil_GOSlim.sorted\n",
      "!head Amil_GOSlim.sorted"
     ],
     "language": "python",
     "metadata": {},
     "outputs": [
      {
       "output_type": "stream",
       "stream": "stdout",
       "text": [
        "379072753\tother biological processes\r",
        "\r\n",
        "379072753\ttransport\r",
        "\r\n",
        "379072756\tcell organization and biogenesis\r",
        "\r\n",
        "379072758\tcell adhesion\r",
        "\r\n",
        "379072759\tother biological processes\r",
        "\r\n",
        "379072759\tsignal transduction\r",
        "\r\n",
        "379072759\ttransport\r",
        "\r\n",
        "379072761\tother metabolic processes\r",
        "\r\n",
        "379072761\tRNA metabolism\r",
        "\r\n",
        "379072762\tcell cycle and proliferation\r",
        "\r\n"
       ]
      }
     ],
     "prompt_number": 5
    },
    {
     "cell_type": "code",
     "collapsed": false,
     "input": [
      "#Converting file from DOS to UNIX\n",
      "!dos2unix Amil_GOSlim.sorted "
     ],
     "language": "python",
     "metadata": {},
     "outputs": [
      {
       "output_type": "stream",
       "stream": "stdout",
       "text": [
        "dos2unix: converting file Amil_GOSlim.sorted to Unix format ...\r\n"
       ]
      }
     ],
     "prompt_number": 6
    },
    {
     "cell_type": "code",
     "collapsed": false,
     "input": [
      "!head Amil_GOSlim.sorted"
     ],
     "language": "python",
     "metadata": {},
     "outputs": [
      {
       "output_type": "stream",
       "stream": "stdout",
       "text": [
        "379072753\tother biological processes\r\n",
        "379072753\ttransport\r\n",
        "379072756\tcell organization and biogenesis\r\n",
        "379072758\tcell adhesion\r\n",
        "379072759\tother biological processes\r\n",
        "379072759\tsignal transduction\r\n",
        "379072759\ttransport\r\n",
        "379072761\tother metabolic processes\r\n",
        "379072761\tRNA metabolism\r\n",
        "379072762\tcell cycle and proliferation\r\n"
       ]
      }
     ],
     "prompt_number": 7
    },
    {
     "cell_type": "code",
     "collapsed": false,
     "input": [
      "#Sorting CpG file\n",
      "!sort ID_CpG.tab > ID_CpG.sorted\n",
      "!head ID_CpG.sorted"
     ],
     "language": "python",
     "metadata": {},
     "outputs": [
      {
       "output_type": "stream",
       "stream": "stdout",
       "text": [
        "379037990 \t 0.80436\r\n",
        "379037991 \t 1.14439\r\n",
        "379037992 \t 0.687604\r\n",
        "379037993 \t 1.05307\r\n",
        "379037994 \t 0.521343\r\n",
        "379037995 \t 0.920757\r\n",
        "379037996 \t 1.15806\r\n",
        "379037997 \t 0.626977\r\n",
        "379037998 \t 0.69829\r\n",
        "379037999 \t 0.957918\r\n"
       ]
      }
     ],
     "prompt_number": 8
    },
    {
     "cell_type": "code",
     "collapsed": false,
     "input": [
      "!dos2unix ID_CpG.sorted "
     ],
     "language": "python",
     "metadata": {},
     "outputs": [
      {
       "output_type": "stream",
       "stream": "stdout",
       "text": [
        "dos2unix: converting file ID_CpG.sorted to Unix format ...\r\n"
       ]
      }
     ],
     "prompt_number": 9
    },
    {
     "cell_type": "code",
     "collapsed": true,
     "input": [
      "!join ID_CpG.sorted Amil_GOSlim.sorted > Amil_cpg_GOslim"
     ],
     "language": "python",
     "metadata": {},
     "outputs": [],
     "prompt_number": 10
    },
    {
     "cell_type": "code",
     "collapsed": false,
     "input": [
      "!head Amil_cpg_GOslim"
     ],
     "language": "python",
     "metadata": {},
     "outputs": [
      {
       "output_type": "stream",
       "stream": "stdout",
       "text": [
        "379072753 1.11106 other biological processes\r\n",
        "379072753 1.11106 transport\r\n",
        "379072756 0.552288 cell organization and biogenesis\r\n",
        "379072758 0.764334 cell adhesion\r\n",
        "379072759 0.50257 other biological processes\r\n",
        "379072759 0.50257 signal transduction\r\n",
        "379072759 0.50257 transport\r\n",
        "379072761 0.76335 other metabolic processes\r\n",
        "379072761 0.76335 RNA metabolism\r\n",
        "379072762 0.442442 cell cycle and proliferation\r\n"
       ]
      }
     ],
     "prompt_number": 11
    },
    {
     "cell_type": "code",
     "collapsed": false,
     "input": [
      "#Replacing spaces with tabs...this will also put tabs between words in GO terms...next step corrects this.\n",
      "!sed \"s/ /\\t/g\" Amil_cpg_GOslim > Amil_cpg_GOslim.tab"
     ],
     "language": "python",
     "metadata": {},
     "outputs": [],
     "prompt_number": 12
    },
    {
     "cell_type": "code",
     "collapsed": false,
     "input": [
      "!head Amil_cpg_GOslim.tab"
     ],
     "language": "python",
     "metadata": {},
     "outputs": [
      {
       "output_type": "stream",
       "stream": "stdout",
       "text": [
        "379072753\t1.11106\tother\tbiological\tprocesses\r\n",
        "379072753\t1.11106\ttransport\r\n",
        "379072756\t0.552288\tcell\torganization\tand\tbiogenesis\r\n",
        "379072758\t0.764334\tcell\tadhesion\r\n",
        "379072759\t0.50257\tother\tbiological\tprocesses\r\n",
        "379072759\t0.50257\tsignal\ttransduction\r\n",
        "379072759\t0.50257\ttransport\r\n",
        "379072761\t0.76335\tother\tmetabolic\tprocesses\r\n",
        "379072761\t0.76335\tRNA\tmetabolism\r\n",
        "379072762\t0.442442\tcell\tcycle\tand\tproliferation\r\n"
       ]
      }
     ],
     "prompt_number": 13
    },
    {
     "cell_type": "code",
     "collapsed": false,
     "input": [
      "#Rewriting file so only contig ID and CpG o/e have tabs between them, while words in GOslim have space between them.\n",
      "!awk '{print $1, \"\\t\", $2, \"\\t\", $3, \" \", $4, \" \", $5, \" \", $6}' Amil_cpg_GOslim.tab > Amil_cpg_GOslim.tab2"
     ],
     "language": "python",
     "metadata": {},
     "outputs": [],
     "prompt_number": 27
    },
    {
     "cell_type": "code",
     "collapsed": false,
     "input": [
      "!head Amil_cpg_GOslim.tab2"
     ],
     "language": "python",
     "metadata": {},
     "outputs": [
      {
       "output_type": "stream",
       "stream": "stdout",
       "text": [
        "379072753 \t 1.11106 \t other   biological   processes   \r\n",
        "379072753 \t 1.11106 \t transport         \r\n",
        "379072756 \t 0.552288 \t cell   organization   and   biogenesis\r\n",
        "379072758 \t 0.764334 \t cell   adhesion      \r\n",
        "379072759 \t 0.50257 \t other   biological   processes   \r\n",
        "379072759 \t 0.50257 \t signal   transduction      \r\n",
        "379072759 \t 0.50257 \t transport         \r\n",
        "379072761 \t 0.76335 \t other   metabolic   processes   \r\n",
        "379072761 \t 0.76335 \t RNA   metabolism      \r\n",
        "379072762 \t 0.442442 \t cell   cycle   and   proliferation\r\n"
       ]
      }
     ],
     "prompt_number": 28
    },
    {
     "cell_type": "heading",
     "level": 1,
     "metadata": {},
     "source": [
      "Now time to plot data using pandas and matplot"
     ]
    },
    {
     "cell_type": "code",
     "collapsed": false,
     "input": [
      "import pandas as pd"
     ],
     "language": "python",
     "metadata": {},
     "outputs": [],
     "prompt_number": 29
    },
    {
     "cell_type": "code",
     "collapsed": false,
     "input": [
      "jData = pd.read_table('Amil_cpg_GOslim.tab2', header=None)\n",
      "jData"
     ],
     "language": "python",
     "metadata": {},
     "outputs": [
      {
       "html": [
        "<div style=\"max-height:1000px;max-width:1500px;overflow:auto;\">\n",
        "<table border=\"1\" class=\"dataframe\">\n",
        "  <thead>\n",
        "    <tr style=\"text-align: right;\">\n",
        "      <th></th>\n",
        "      <th>0</th>\n",
        "      <th>1</th>\n",
        "      <th>2</th>\n",
        "    </tr>\n",
        "  </thead>\n",
        "  <tbody>\n",
        "    <tr>\n",
        "      <th>0    </th>\n",
        "      <td> 379072753</td>\n",
        "      <td> 1.111060</td>\n",
        "      <td>       other   biological   processes   </td>\n",
        "    </tr>\n",
        "    <tr>\n",
        "      <th>1    </th>\n",
        "      <td> 379072753</td>\n",
        "      <td> 1.111060</td>\n",
        "      <td>                      transport         </td>\n",
        "    </tr>\n",
        "    <tr>\n",
        "      <th>2    </th>\n",
        "      <td> 379072756</td>\n",
        "      <td> 0.552288</td>\n",
        "      <td>  cell   organization   and   biogenesis</td>\n",
        "    </tr>\n",
        "    <tr>\n",
        "      <th>3    </th>\n",
        "      <td> 379072758</td>\n",
        "      <td> 0.764334</td>\n",
        "      <td>                   cell   adhesion      </td>\n",
        "    </tr>\n",
        "    <tr>\n",
        "      <th>4    </th>\n",
        "      <td> 379072759</td>\n",
        "      <td> 0.502570</td>\n",
        "      <td>       other   biological   processes   </td>\n",
        "    </tr>\n",
        "    <tr>\n",
        "      <th>5    </th>\n",
        "      <td> 379072759</td>\n",
        "      <td> 0.502570</td>\n",
        "      <td>             signal   transduction      </td>\n",
        "    </tr>\n",
        "    <tr>\n",
        "      <th>6    </th>\n",
        "      <td> 379072759</td>\n",
        "      <td> 0.502570</td>\n",
        "      <td>                      transport         </td>\n",
        "    </tr>\n",
        "    <tr>\n",
        "      <th>7    </th>\n",
        "      <td> 379072761</td>\n",
        "      <td> 0.763350</td>\n",
        "      <td>        other   metabolic   processes   </td>\n",
        "    </tr>\n",
        "    <tr>\n",
        "      <th>8    </th>\n",
        "      <td> 379072761</td>\n",
        "      <td> 0.763350</td>\n",
        "      <td>                  RNA   metabolism      </td>\n",
        "    </tr>\n",
        "    <tr>\n",
        "      <th>9    </th>\n",
        "      <td> 379072762</td>\n",
        "      <td> 0.442442</td>\n",
        "      <td>      cell   cycle   and   proliferation</td>\n",
        "    </tr>\n",
        "    <tr>\n",
        "      <th>10   </th>\n",
        "      <td> 379072762</td>\n",
        "      <td> 0.442442</td>\n",
        "      <td>  cell   organization   and   biogenesis</td>\n",
        "    </tr>\n",
        "    <tr>\n",
        "      <th>11   </th>\n",
        "      <td> 379072762</td>\n",
        "      <td> 0.442442</td>\n",
        "      <td>                  DNA   metabolism      </td>\n",
        "    </tr>\n",
        "    <tr>\n",
        "      <th>12   </th>\n",
        "      <td> 379072762</td>\n",
        "      <td> 0.442442</td>\n",
        "      <td>       other   biological   processes   </td>\n",
        "    </tr>\n",
        "    <tr>\n",
        "      <th>13   </th>\n",
        "      <td> 379072763</td>\n",
        "      <td> 0.592282</td>\n",
        "      <td>       other   biological   processes   </td>\n",
        "    </tr>\n",
        "    <tr>\n",
        "      <th>14   </th>\n",
        "      <td> 379072763</td>\n",
        "      <td> 0.592282</td>\n",
        "      <td>        other   metabolic   processes   </td>\n",
        "    </tr>\n",
        "    <tr>\n",
        "      <th>15   </th>\n",
        "      <td> 379072763</td>\n",
        "      <td> 0.592282</td>\n",
        "      <td>              protein   metabolism      </td>\n",
        "    </tr>\n",
        "    <tr>\n",
        "      <th>16   </th>\n",
        "      <td> 379072764</td>\n",
        "      <td> 0.773241</td>\n",
        "      <td>                      transport         </td>\n",
        "    </tr>\n",
        "    <tr>\n",
        "      <th>17   </th>\n",
        "      <td> 379072772</td>\n",
        "      <td> 0.689241</td>\n",
        "      <td>  cell   organization   and   biogenesis</td>\n",
        "    </tr>\n",
        "    <tr>\n",
        "      <th>18   </th>\n",
        "      <td> 379072772</td>\n",
        "      <td> 0.689241</td>\n",
        "      <td>         developmental   processes      </td>\n",
        "    </tr>\n",
        "    <tr>\n",
        "      <th>19   </th>\n",
        "      <td> 379072772</td>\n",
        "      <td> 0.689241</td>\n",
        "      <td>       other   biological   processes   </td>\n",
        "    </tr>\n",
        "    <tr>\n",
        "      <th>20   </th>\n",
        "      <td> 379072772</td>\n",
        "      <td> 0.689241</td>\n",
        "      <td>        other   metabolic   processes   </td>\n",
        "    </tr>\n",
        "    <tr>\n",
        "      <th>21   </th>\n",
        "      <td> 379072772</td>\n",
        "      <td> 0.689241</td>\n",
        "      <td>                      transport         </td>\n",
        "    </tr>\n",
        "    <tr>\n",
        "      <th>22   </th>\n",
        "      <td> 379072775</td>\n",
        "      <td> 0.537750</td>\n",
        "      <td>  cell   organization   and   biogenesis</td>\n",
        "    </tr>\n",
        "    <tr>\n",
        "      <th>23   </th>\n",
        "      <td> 379072775</td>\n",
        "      <td> 0.537750</td>\n",
        "      <td>       other   biological   processes   </td>\n",
        "    </tr>\n",
        "    <tr>\n",
        "      <th>24   </th>\n",
        "      <td> 379072775</td>\n",
        "      <td> 0.537750</td>\n",
        "      <td>                  RNA   metabolism      </td>\n",
        "    </tr>\n",
        "    <tr>\n",
        "      <th>25   </th>\n",
        "      <td> 379072779</td>\n",
        "      <td> 0.481619</td>\n",
        "      <td>        other   metabolic   processes   </td>\n",
        "    </tr>\n",
        "    <tr>\n",
        "      <th>26   </th>\n",
        "      <td> 379072782</td>\n",
        "      <td> 0.402079</td>\n",
        "      <td>       other   biological   processes   </td>\n",
        "    </tr>\n",
        "    <tr>\n",
        "      <th>27   </th>\n",
        "      <td> 379072782</td>\n",
        "      <td> 0.402079</td>\n",
        "      <td>                  RNA   metabolism      </td>\n",
        "    </tr>\n",
        "    <tr>\n",
        "      <th>28   </th>\n",
        "      <td> 379072785</td>\n",
        "      <td> 1.046400</td>\n",
        "      <td>         developmental   processes      </td>\n",
        "    </tr>\n",
        "    <tr>\n",
        "      <th>29   </th>\n",
        "      <td> 379072785</td>\n",
        "      <td> 1.046400</td>\n",
        "      <td>                  RNA   metabolism      </td>\n",
        "    </tr>\n",
        "    <tr>\n",
        "      <th>...</th>\n",
        "      <td>...</td>\n",
        "      <td>...</td>\n",
        "      <td>...</td>\n",
        "    </tr>\n",
        "    <tr>\n",
        "      <th>41722</th>\n",
        "      <td> 379125650</td>\n",
        "      <td> 0.748982</td>\n",
        "      <td>              protein   metabolism      </td>\n",
        "    </tr>\n",
        "    <tr>\n",
        "      <th>41723</th>\n",
        "      <td> 379125652</td>\n",
        "      <td> 0.929860</td>\n",
        "      <td>  cell   organization   and   biogenesis</td>\n",
        "    </tr>\n",
        "    <tr>\n",
        "      <th>41724</th>\n",
        "      <td> 379125652</td>\n",
        "      <td> 0.929860</td>\n",
        "      <td>       other   biological   processes   </td>\n",
        "    </tr>\n",
        "    <tr>\n",
        "      <th>41725</th>\n",
        "      <td> 379125652</td>\n",
        "      <td> 0.929860</td>\n",
        "      <td>        other   metabolic   processes   </td>\n",
        "    </tr>\n",
        "    <tr>\n",
        "      <th>41726</th>\n",
        "      <td> 379125652</td>\n",
        "      <td> 0.929860</td>\n",
        "      <td>              protein   metabolism      </td>\n",
        "    </tr>\n",
        "    <tr>\n",
        "      <th>41727</th>\n",
        "      <td> 379125653</td>\n",
        "      <td> 0.742625</td>\n",
        "      <td>        other   metabolic   processes   </td>\n",
        "    </tr>\n",
        "    <tr>\n",
        "      <th>41728</th>\n",
        "      <td> 379125654</td>\n",
        "      <td> 1.298870</td>\n",
        "      <td>        other   metabolic   processes   </td>\n",
        "    </tr>\n",
        "    <tr>\n",
        "      <th>41729</th>\n",
        "      <td> 379125655</td>\n",
        "      <td> 0.827989</td>\n",
        "      <td>        other   metabolic   processes   </td>\n",
        "    </tr>\n",
        "    <tr>\n",
        "      <th>41730</th>\n",
        "      <td> 379125655</td>\n",
        "      <td> 0.827989</td>\n",
        "      <td>             signal   transduction      </td>\n",
        "    </tr>\n",
        "    <tr>\n",
        "      <th>41731</th>\n",
        "      <td> 379125656</td>\n",
        "      <td> 0.358576</td>\n",
        "      <td>              protein   metabolism      </td>\n",
        "    </tr>\n",
        "    <tr>\n",
        "      <th>41732</th>\n",
        "      <td> 379125672</td>\n",
        "      <td> 0.793318</td>\n",
        "      <td>                      transport         </td>\n",
        "    </tr>\n",
        "    <tr>\n",
        "      <th>41733</th>\n",
        "      <td> 379125695</td>\n",
        "      <td> 1.065260</td>\n",
        "      <td>       other   biological   processes   </td>\n",
        "    </tr>\n",
        "    <tr>\n",
        "      <th>41734</th>\n",
        "      <td> 379125697</td>\n",
        "      <td> 0.903123</td>\n",
        "      <td>             signal   transduction      </td>\n",
        "    </tr>\n",
        "    <tr>\n",
        "      <th>41735</th>\n",
        "      <td> 379125698</td>\n",
        "      <td> 0.777251</td>\n",
        "      <td>              protein   metabolism      </td>\n",
        "    </tr>\n",
        "    <tr>\n",
        "      <th>41736</th>\n",
        "      <td> 379125698</td>\n",
        "      <td> 0.777251</td>\n",
        "      <td>             signal   transduction      </td>\n",
        "    </tr>\n",
        "    <tr>\n",
        "      <th>41737</th>\n",
        "      <td> 379125699</td>\n",
        "      <td> 0.910527</td>\n",
        "      <td>             cell-cell   signaling      </td>\n",
        "    </tr>\n",
        "    <tr>\n",
        "      <th>41738</th>\n",
        "      <td> 379125699</td>\n",
        "      <td> 0.910527</td>\n",
        "      <td>      cell   cycle   and   proliferation</td>\n",
        "    </tr>\n",
        "    <tr>\n",
        "      <th>41739</th>\n",
        "      <td> 379125699</td>\n",
        "      <td> 0.910527</td>\n",
        "      <td>         developmental   processes      </td>\n",
        "    </tr>\n",
        "    <tr>\n",
        "      <th>41740</th>\n",
        "      <td> 379125699</td>\n",
        "      <td> 0.910527</td>\n",
        "      <td>       other   biological   processes   </td>\n",
        "    </tr>\n",
        "    <tr>\n",
        "      <th>41741</th>\n",
        "      <td> 379125699</td>\n",
        "      <td> 0.910527</td>\n",
        "      <td>             signal   transduction      </td>\n",
        "    </tr>\n",
        "    <tr>\n",
        "      <th>41742</th>\n",
        "      <td> 379125702</td>\n",
        "      <td> 0.343027</td>\n",
        "      <td>                   cell   adhesion      </td>\n",
        "    </tr>\n",
        "    <tr>\n",
        "      <th>41743</th>\n",
        "      <td> 379125702</td>\n",
        "      <td> 0.343027</td>\n",
        "      <td>  cell   organization   and   biogenesis</td>\n",
        "    </tr>\n",
        "    <tr>\n",
        "      <th>41744</th>\n",
        "      <td> 379125702</td>\n",
        "      <td> 0.343027</td>\n",
        "      <td>         developmental   processes      </td>\n",
        "    </tr>\n",
        "    <tr>\n",
        "      <th>41745</th>\n",
        "      <td> 379125702</td>\n",
        "      <td> 0.343027</td>\n",
        "      <td>       other   biological   processes   </td>\n",
        "    </tr>\n",
        "    <tr>\n",
        "      <th>41746</th>\n",
        "      <td> 379125702</td>\n",
        "      <td> 0.343027</td>\n",
        "      <td>                 stress   response      </td>\n",
        "    </tr>\n",
        "    <tr>\n",
        "      <th>41747</th>\n",
        "      <td> 379125703</td>\n",
        "      <td> 0.749044</td>\n",
        "      <td>  cell   organization   and   biogenesis</td>\n",
        "    </tr>\n",
        "    <tr>\n",
        "      <th>41748</th>\n",
        "      <td> 379125703</td>\n",
        "      <td> 0.749044</td>\n",
        "      <td>              protein   metabolism      </td>\n",
        "    </tr>\n",
        "    <tr>\n",
        "      <th>41749</th>\n",
        "      <td> 379125703</td>\n",
        "      <td> 0.749044</td>\n",
        "      <td>                  RNA   metabolism      </td>\n",
        "    </tr>\n",
        "    <tr>\n",
        "      <th>41750</th>\n",
        "      <td> 379125706</td>\n",
        "      <td> 0.510595</td>\n",
        "      <td>        other   metabolic   processes   </td>\n",
        "    </tr>\n",
        "    <tr>\n",
        "      <th>41751</th>\n",
        "      <td> 379125706</td>\n",
        "      <td> 0.510595</td>\n",
        "      <td>                      transport         </td>\n",
        "    </tr>\n",
        "  </tbody>\n",
        "</table>\n",
        "<p>41752 rows \u00d7 3 columns</p>\n",
        "</div>"
       ],
       "metadata": {},
       "output_type": "pyout",
       "prompt_number": 30,
       "text": [
        "               0         1                                        2\n",
        "0      379072753  1.111060        other   biological   processes   \n",
        "1      379072753  1.111060                       transport         \n",
        "2      379072756  0.552288   cell   organization   and   biogenesis\n",
        "3      379072758  0.764334                    cell   adhesion      \n",
        "4      379072759  0.502570        other   biological   processes   \n",
        "5      379072759  0.502570              signal   transduction      \n",
        "6      379072759  0.502570                       transport         \n",
        "7      379072761  0.763350         other   metabolic   processes   \n",
        "8      379072761  0.763350                   RNA   metabolism      \n",
        "9      379072762  0.442442       cell   cycle   and   proliferation\n",
        "10     379072762  0.442442   cell   organization   and   biogenesis\n",
        "11     379072762  0.442442                   DNA   metabolism      \n",
        "12     379072762  0.442442        other   biological   processes   \n",
        "13     379072763  0.592282        other   biological   processes   \n",
        "14     379072763  0.592282         other   metabolic   processes   \n",
        "15     379072763  0.592282               protein   metabolism      \n",
        "16     379072764  0.773241                       transport         \n",
        "17     379072772  0.689241   cell   organization   and   biogenesis\n",
        "18     379072772  0.689241          developmental   processes      \n",
        "19     379072772  0.689241        other   biological   processes   \n",
        "20     379072772  0.689241         other   metabolic   processes   \n",
        "21     379072772  0.689241                       transport         \n",
        "22     379072775  0.537750   cell   organization   and   biogenesis\n",
        "23     379072775  0.537750        other   biological   processes   \n",
        "24     379072775  0.537750                   RNA   metabolism      \n",
        "25     379072779  0.481619         other   metabolic   processes   \n",
        "26     379072782  0.402079        other   biological   processes   \n",
        "27     379072782  0.402079                   RNA   metabolism      \n",
        "28     379072785  1.046400          developmental   processes      \n",
        "29     379072785  1.046400                   RNA   metabolism      \n",
        "...          ...       ...                                      ...\n",
        "41722  379125650  0.748982               protein   metabolism      \n",
        "41723  379125652  0.929860   cell   organization   and   biogenesis\n",
        "41724  379125652  0.929860        other   biological   processes   \n",
        "41725  379125652  0.929860         other   metabolic   processes   \n",
        "41726  379125652  0.929860               protein   metabolism      \n",
        "41727  379125653  0.742625         other   metabolic   processes   \n",
        "41728  379125654  1.298870         other   metabolic   processes   \n",
        "41729  379125655  0.827989         other   metabolic   processes   \n",
        "41730  379125655  0.827989              signal   transduction      \n",
        "41731  379125656  0.358576               protein   metabolism      \n",
        "41732  379125672  0.793318                       transport         \n",
        "41733  379125695  1.065260        other   biological   processes   \n",
        "41734  379125697  0.903123              signal   transduction      \n",
        "41735  379125698  0.777251               protein   metabolism      \n",
        "41736  379125698  0.777251              signal   transduction      \n",
        "41737  379125699  0.910527              cell-cell   signaling      \n",
        "41738  379125699  0.910527       cell   cycle   and   proliferation\n",
        "41739  379125699  0.910527          developmental   processes      \n",
        "41740  379125699  0.910527        other   biological   processes   \n",
        "41741  379125699  0.910527              signal   transduction      \n",
        "41742  379125702  0.343027                    cell   adhesion      \n",
        "41743  379125702  0.343027   cell   organization   and   biogenesis\n",
        "41744  379125702  0.343027          developmental   processes      \n",
        "41745  379125702  0.343027        other   biological   processes   \n",
        "41746  379125702  0.343027                  stress   response      \n",
        "41747  379125703  0.749044   cell   organization   and   biogenesis\n",
        "41748  379125703  0.749044               protein   metabolism      \n",
        "41749  379125703  0.749044                   RNA   metabolism      \n",
        "41750  379125706  0.510595         other   metabolic   processes   \n",
        "41751  379125706  0.510595                       transport         \n",
        "\n",
        "[41752 rows x 3 columns]"
       ]
      }
     ],
     "prompt_number": 30
    },
    {
     "cell_type": "code",
     "collapsed": false,
     "input": [
      "%matplotlib inline"
     ],
     "language": "python",
     "metadata": {},
     "outputs": [],
     "prompt_number": 31
    },
    {
     "cell_type": "code",
     "collapsed": false,
     "input": [
      "import matplotlib.pyplot as plt "
     ],
     "language": "python",
     "metadata": {},
     "outputs": [],
     "prompt_number": 32
    },
    {
     "cell_type": "code",
     "collapsed": false,
     "input": [
      "jData.groupby(2)[1].mean().plot(kind='barh', color=list('myb'))\n",
      "plt.axis([0.6, 0.8, -1, 14])"
     ],
     "language": "python",
     "metadata": {},
     "outputs": [
      {
       "metadata": {},
       "output_type": "pyout",
       "prompt_number": 33,
       "text": [
        "[0.6, 0.8, -1, 14]"
       ]
      },
      {
       "metadata": {},
       "output_type": "display_data",
       "png": "[encoded data removed]",
       "text": [
        "<matplotlib.figure.Figure at 0x7ffc96a0a4d0>"
       ]
      }
     ],
     "prompt_number": 33
    },
    {
     "cell_type": "code",
     "collapsed": false,
     "input": [
      "#To plot density curve, must use CpG data WITHOUT annotation\n",
      "CpG = pd.read_table('ID_CpG.tab', header=None)\n",
      "CpG"
     ],
     "language": "python",
     "metadata": {},
     "outputs": [
      {
       "html": [
        "<div style=\"max-height:1000px;max-width:1500px;overflow:auto;\">\n",
        "<table border=\"1\" class=\"dataframe\">\n",
        "  <thead>\n",
        "    <tr style=\"text-align: right;\">\n",
        "      <th></th>\n",
        "      <th>0</th>\n",
        "      <th>1</th>\n",
        "    </tr>\n",
        "  </thead>\n",
        "  <tbody>\n",
        "    <tr>\n",
        "      <th>0    </th>\n",
        "      <td> 379072745</td>\n",
        "      <td> 0.774633</td>\n",
        "    </tr>\n",
        "    <tr>\n",
        "      <th>1    </th>\n",
        "      <td> 379072746</td>\n",
        "      <td> 0.283791</td>\n",
        "    </tr>\n",
        "    <tr>\n",
        "      <th>2    </th>\n",
        "      <td> 379072747</td>\n",
        "      <td> 0.558113</td>\n",
        "    </tr>\n",
        "    <tr>\n",
        "      <th>3    </th>\n",
        "      <td> 379072748</td>\n",
        "      <td> 0.662023</td>\n",
        "    </tr>\n",
        "    <tr>\n",
        "      <th>4    </th>\n",
        "      <td> 379072749</td>\n",
        "      <td> 0.738617</td>\n",
        "    </tr>\n",
        "    <tr>\n",
        "      <th>5    </th>\n",
        "      <td> 379072750</td>\n",
        "      <td> 0.318018</td>\n",
        "    </tr>\n",
        "    <tr>\n",
        "      <th>6    </th>\n",
        "      <td> 379072751</td>\n",
        "      <td> 1.256410</td>\n",
        "    </tr>\n",
        "    <tr>\n",
        "      <th>7    </th>\n",
        "      <td> 379072752</td>\n",
        "      <td> 0.328632</td>\n",
        "    </tr>\n",
        "    <tr>\n",
        "      <th>8    </th>\n",
        "      <td> 379072753</td>\n",
        "      <td> 1.111060</td>\n",
        "    </tr>\n",
        "    <tr>\n",
        "      <th>9    </th>\n",
        "      <td> 379072754</td>\n",
        "      <td> 0.801276</td>\n",
        "    </tr>\n",
        "    <tr>\n",
        "      <th>10   </th>\n",
        "      <td> 379072755</td>\n",
        "      <td> 1.160840</td>\n",
        "    </tr>\n",
        "    <tr>\n",
        "      <th>11   </th>\n",
        "      <td> 379072756</td>\n",
        "      <td> 0.552288</td>\n",
        "    </tr>\n",
        "    <tr>\n",
        "      <th>12   </th>\n",
        "      <td> 379072757</td>\n",
        "      <td> 0.827515</td>\n",
        "    </tr>\n",
        "    <tr>\n",
        "      <th>13   </th>\n",
        "      <td> 379072758</td>\n",
        "      <td> 0.764334</td>\n",
        "    </tr>\n",
        "    <tr>\n",
        "      <th>14   </th>\n",
        "      <td> 379072759</td>\n",
        "      <td> 0.502570</td>\n",
        "    </tr>\n",
        "    <tr>\n",
        "      <th>15   </th>\n",
        "      <td> 379072760</td>\n",
        "      <td> 0.000000</td>\n",
        "    </tr>\n",
        "    <tr>\n",
        "      <th>16   </th>\n",
        "      <td> 379072761</td>\n",
        "      <td> 0.763350</td>\n",
        "    </tr>\n",
        "    <tr>\n",
        "      <th>17   </th>\n",
        "      <td> 379072762</td>\n",
        "      <td> 0.442442</td>\n",
        "    </tr>\n",
        "    <tr>\n",
        "      <th>18   </th>\n",
        "      <td> 379072763</td>\n",
        "      <td> 0.592282</td>\n",
        "    </tr>\n",
        "    <tr>\n",
        "      <th>19   </th>\n",
        "      <td> 379072764</td>\n",
        "      <td> 0.773241</td>\n",
        "    </tr>\n",
        "    <tr>\n",
        "      <th>20   </th>\n",
        "      <td> 379072765</td>\n",
        "      <td> 0.427009</td>\n",
        "    </tr>\n",
        "    <tr>\n",
        "      <th>21   </th>\n",
        "      <td> 379072766</td>\n",
        "      <td> 0.885126</td>\n",
        "    </tr>\n",
        "    <tr>\n",
        "      <th>22   </th>\n",
        "      <td> 379072767</td>\n",
        "      <td> 0.188429</td>\n",
        "    </tr>\n",
        "    <tr>\n",
        "      <th>23   </th>\n",
        "      <td> 379072768</td>\n",
        "      <td> 0.261590</td>\n",
        "    </tr>\n",
        "    <tr>\n",
        "      <th>24   </th>\n",
        "      <td> 379072769</td>\n",
        "      <td> 1.084730</td>\n",
        "    </tr>\n",
        "    <tr>\n",
        "      <th>25   </th>\n",
        "      <td> 379072770</td>\n",
        "      <td> 1.195710</td>\n",
        "    </tr>\n",
        "    <tr>\n",
        "      <th>26   </th>\n",
        "      <td> 379072771</td>\n",
        "      <td> 0.460331</td>\n",
        "    </tr>\n",
        "    <tr>\n",
        "      <th>27   </th>\n",
        "      <td> 379072772</td>\n",
        "      <td> 0.689241</td>\n",
        "    </tr>\n",
        "    <tr>\n",
        "      <th>28   </th>\n",
        "      <td> 379072773</td>\n",
        "      <td> 0.498022</td>\n",
        "    </tr>\n",
        "    <tr>\n",
        "      <th>29   </th>\n",
        "      <td> 379072774</td>\n",
        "      <td> 0.441143</td>\n",
        "    </tr>\n",
        "    <tr>\n",
        "      <th>...</th>\n",
        "      <td>...</td>\n",
        "      <td>...</td>\n",
        "    </tr>\n",
        "    <tr>\n",
        "      <th>52933</th>\n",
        "      <td> 379125678</td>\n",
        "      <td> 1.010510</td>\n",
        "    </tr>\n",
        "    <tr>\n",
        "      <th>52934</th>\n",
        "      <td> 379125679</td>\n",
        "      <td> 0.593928</td>\n",
        "    </tr>\n",
        "    <tr>\n",
        "      <th>52935</th>\n",
        "      <td> 379125680</td>\n",
        "      <td> 0.859756</td>\n",
        "    </tr>\n",
        "    <tr>\n",
        "      <th>52936</th>\n",
        "      <td> 379125681</td>\n",
        "      <td> 0.450516</td>\n",
        "    </tr>\n",
        "    <tr>\n",
        "      <th>52937</th>\n",
        "      <td> 379125682</td>\n",
        "      <td> 1.264450</td>\n",
        "    </tr>\n",
        "    <tr>\n",
        "      <th>52938</th>\n",
        "      <td> 379125683</td>\n",
        "      <td> 0.942060</td>\n",
        "    </tr>\n",
        "    <tr>\n",
        "      <th>52939</th>\n",
        "      <td> 379125684</td>\n",
        "      <td> 0.918421</td>\n",
        "    </tr>\n",
        "    <tr>\n",
        "      <th>52940</th>\n",
        "      <td> 379125685</td>\n",
        "      <td> 0.603835</td>\n",
        "    </tr>\n",
        "    <tr>\n",
        "      <th>52941</th>\n",
        "      <td> 379125686</td>\n",
        "      <td> 0.687941</td>\n",
        "    </tr>\n",
        "    <tr>\n",
        "      <th>52942</th>\n",
        "      <td> 379125687</td>\n",
        "      <td> 0.962155</td>\n",
        "    </tr>\n",
        "    <tr>\n",
        "      <th>52943</th>\n",
        "      <td> 379125688</td>\n",
        "      <td> 0.000000</td>\n",
        "    </tr>\n",
        "    <tr>\n",
        "      <th>52944</th>\n",
        "      <td> 379125689</td>\n",
        "      <td> 0.329086</td>\n",
        "    </tr>\n",
        "    <tr>\n",
        "      <th>52945</th>\n",
        "      <td> 379125690</td>\n",
        "      <td> 0.742127</td>\n",
        "    </tr>\n",
        "    <tr>\n",
        "      <th>52946</th>\n",
        "      <td> 379125691</td>\n",
        "      <td> 1.119050</td>\n",
        "    </tr>\n",
        "    <tr>\n",
        "      <th>52947</th>\n",
        "      <td> 379125692</td>\n",
        "      <td> 0.779990</td>\n",
        "    </tr>\n",
        "    <tr>\n",
        "      <th>52948</th>\n",
        "      <td> 379125693</td>\n",
        "      <td> 1.073110</td>\n",
        "    </tr>\n",
        "    <tr>\n",
        "      <th>52949</th>\n",
        "      <td> 379125694</td>\n",
        "      <td> 0.753624</td>\n",
        "    </tr>\n",
        "    <tr>\n",
        "      <th>52950</th>\n",
        "      <td> 379125695</td>\n",
        "      <td> 1.065260</td>\n",
        "    </tr>\n",
        "    <tr>\n",
        "      <th>52951</th>\n",
        "      <td> 379125696</td>\n",
        "      <td> 0.076497</td>\n",
        "    </tr>\n",
        "    <tr>\n",
        "      <th>52952</th>\n",
        "      <td> 379125697</td>\n",
        "      <td> 0.903123</td>\n",
        "    </tr>\n",
        "    <tr>\n",
        "      <th>52953</th>\n",
        "      <td> 379125698</td>\n",
        "      <td> 0.777251</td>\n",
        "    </tr>\n",
        "    <tr>\n",
        "      <th>52954</th>\n",
        "      <td> 379125699</td>\n",
        "      <td> 0.910527</td>\n",
        "    </tr>\n",
        "    <tr>\n",
        "      <th>52955</th>\n",
        "      <td> 379125700</td>\n",
        "      <td> 0.495359</td>\n",
        "    </tr>\n",
        "    <tr>\n",
        "      <th>52956</th>\n",
        "      <td> 379125701</td>\n",
        "      <td> 0.555303</td>\n",
        "    </tr>\n",
        "    <tr>\n",
        "      <th>52957</th>\n",
        "      <td> 379125702</td>\n",
        "      <td> 0.343027</td>\n",
        "    </tr>\n",
        "    <tr>\n",
        "      <th>52958</th>\n",
        "      <td> 379125703</td>\n",
        "      <td> 0.749044</td>\n",
        "    </tr>\n",
        "    <tr>\n",
        "      <th>52959</th>\n",
        "      <td> 379125704</td>\n",
        "      <td> 0.473594</td>\n",
        "    </tr>\n",
        "    <tr>\n",
        "      <th>52960</th>\n",
        "      <td> 379125705</td>\n",
        "      <td> 0.660053</td>\n",
        "    </tr>\n",
        "    <tr>\n",
        "      <th>52961</th>\n",
        "      <td> 379125706</td>\n",
        "      <td> 0.510595</td>\n",
        "    </tr>\n",
        "    <tr>\n",
        "      <th>52962</th>\n",
        "      <td> 379125707</td>\n",
        "      <td> 0.900463</td>\n",
        "    </tr>\n",
        "  </tbody>\n",
        "</table>\n",
        "<p>52963 rows \u00d7 2 columns</p>\n",
        "</div>"
       ],
       "metadata": {},
       "output_type": "pyout",
       "prompt_number": 25,
       "text": [
        "               0         1\n",
        "0      379072745  0.774633\n",
        "1      379072746  0.283791\n",
        "2      379072747  0.558113\n",
        "3      379072748  0.662023\n",
        "4      379072749  0.738617\n",
        "5      379072750  0.318018\n",
        "6      379072751  1.256410\n",
        "7      379072752  0.328632\n",
        "8      379072753  1.111060\n",
        "9      379072754  0.801276\n",
        "10     379072755  1.160840\n",
        "11     379072756  0.552288\n",
        "12     379072757  0.827515\n",
        "13     379072758  0.764334\n",
        "14     379072759  0.502570\n",
        "15     379072760  0.000000\n",
        "16     379072761  0.763350\n",
        "17     379072762  0.442442\n",
        "18     379072763  0.592282\n",
        "19     379072764  0.773241\n",
        "20     379072765  0.427009\n",
        "21     379072766  0.885126\n",
        "22     379072767  0.188429\n",
        "23     379072768  0.261590\n",
        "24     379072769  1.084730\n",
        "25     379072770  1.195710\n",
        "26     379072771  0.460331\n",
        "27     379072772  0.689241\n",
        "28     379072773  0.498022\n",
        "29     379072774  0.441143\n",
        "...          ...       ...\n",
        "52933  379125678  1.010510\n",
        "52934  379125679  0.593928\n",
        "52935  379125680  0.859756\n",
        "52936  379125681  0.450516\n",
        "52937  379125682  1.264450\n",
        "52938  379125683  0.942060\n",
        "52939  379125684  0.918421\n",
        "52940  379125685  0.603835\n",
        "52941  379125686  0.687941\n",
        "52942  379125687  0.962155\n",
        "52943  379125688  0.000000\n",
        "52944  379125689  0.329086\n",
        "52945  379125690  0.742127\n",
        "52946  379125691  1.119050\n",
        "52947  379125692  0.779990\n",
        "52948  379125693  1.073110\n",
        "52949  379125694  0.753624\n",
        "52950  379125695  1.065260\n",
        "52951  379125696  0.076497\n",
        "52952  379125697  0.903123\n",
        "52953  379125698  0.777251\n",
        "52954  379125699  0.910527\n",
        "52955  379125700  0.495359\n",
        "52956  379125701  0.555303\n",
        "52957  379125702  0.343027\n",
        "52958  379125703  0.749044\n",
        "52959  379125704  0.473594\n",
        "52960  379125705  0.660053\n",
        "52961  379125706  0.510595\n",
        "52962  379125707  0.900463\n",
        "\n",
        "[52963 rows x 2 columns]"
       ]
      }
     ],
     "prompt_number": 25
    },
    {
     "cell_type": "code",
     "collapsed": false,
     "input": [
      "# pandas density plot\n",
      "CpG[1].plot(kind='kde', linewidth=3);\n",
      "plt.axis([-0.3, 1.7, 0, 1.7])"
     ],
     "language": "python",
     "metadata": {},
     "outputs": [
      {
       "metadata": {},
       "output_type": "pyout",
       "prompt_number": 26,
       "text": [
        "[-0.3, 1.7, 0, 1.7]"
       ]
      },
      {
       "metadata": {},
       "output_type": "display_data",
       "png": "[encoded data removed]",
       "text": [
        "<matplotlib.figure.Figure at 0x7ffc9df0f390>"
       ]
      }
     ],
     "prompt_number": 26
    }
   ],
   "metadata": {}
  }
 ]
}