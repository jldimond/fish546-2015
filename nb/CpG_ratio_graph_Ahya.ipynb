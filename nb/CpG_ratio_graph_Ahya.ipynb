{
 "metadata": {
  "name": "",
  "signature": "sha256:7f8e750ca5e93f1d72d9f171eed15866ebacd55e66c6074ff99a68b9c2128fe0"
 },
 "nbformat": 3,
 "nbformat_minor": 0,
 "worksheets": [
  {
   "cells": [
    {
     "cell_type": "markdown",
     "metadata": {},
     "source": [
      "Calculating CpG ratio for A. hyacinthus transcriptome from:\n",
      "\n",
      "http://palumbi.stanford.edu/data/33496_Ahyacinthus_CoralContigs.fasta.zip\n",
      "\n",
      "Data on differentially expressed contigs from:\n",
      "\n",
      "http://www.pnas.org/content/suppl/2013/01/02/1210224110.DCSupplemental/sd01.xlsx"
     ]
    },
    {
     "cell_type": "code",
     "collapsed": false,
     "input": [
      "cd /home/jay/Documents/fish546-2015/Data/Ahya"
     ],
     "language": "python",
     "metadata": {},
     "outputs": [
      {
       "output_type": "stream",
       "stream": "stdout",
       "text": [
        "/home/jay/Documents/fish546-2015/Data/Ahya\n"
       ]
      }
     ],
     "prompt_number": 2
    },
    {
     "cell_type": "code",
     "collapsed": false,
     "input": [
      "#fasta file\n",
      "!head -2 /home/jay/Documents/fish546-2015/Data/Ahya/33496_Ahyacinthus_CoralContigs.fasta\n",
      "!echo \n",
      "!echo number of seqs =\n",
      "!fgrep -c \">\" /home/jay/Documents/fish546-2015/Data/Ahya/33496_Ahyacinthus_CoralContigs.fasta"
     ],
     "language": "python",
     "metadata": {},
     "outputs": [
      {
       "output_type": "stream",
       "stream": "stdout",
       "text": [
        ">contig27\r\n",
        "CAAAATTCCAGCACTCCGTTTTGCATGGTAAACTTGTCTTAGTAGGACACTGTGGAAGATGTACAGCGCAAGACATCACAGTTGCAAGCGCCGACGAACAGCTGTTAAACTCTCCTCTCATATTCTCGAACAAACCAAATATTTCTTCCTCTCTGTTGTTGCTAACCTTTGAATATATGAAGCTGGCATTAGCACAGGACTCAAAGTTTCCGCCGAGCAGTTT\r\n"
       ]
      },
      {
       "output_type": "stream",
       "stream": "stdout",
       "text": [
        "\r\n"
       ]
      },
      {
       "output_type": "stream",
       "stream": "stdout",
       "text": [
        "number of seqs =\r\n"
       ]
      },
      {
       "output_type": "stream",
       "stream": "stdout",
       "text": [
        "33496\r\n"
       ]
      }
     ],
     "prompt_number": 3
    },
    {
     "cell_type": "code",
     "collapsed": false,
     "input": [
      "!perl -e '$count=0; $len=0; while(<>) {s/\\r?\\n//; s/\\t/ /g; if (s/^>//) { if ($. != 1) {print \"\\n\"} s/ |$/\\t/; $count++; $_ .= \"\\t\";} else {s/ //g; $len += length($_)} print $_;} print \"\\n\"; warn \"\\nConverted $count FASTA records in $. lines to tabular format\\nTotal sequence length: $len\\n\\n\";' \\\n",
      "33496_Ahyacinthus_CoralContigs.fasta > /home/jay/Documents/fish546-2015/Analyses/Ahya/fasta2tab"
     ],
     "language": "python",
     "metadata": {},
     "outputs": [
      {
       "output_type": "stream",
       "stream": "stdout",
       "text": [
        "\r\n",
        "Converted 33496 FASTA records in 66992 lines to tabular format\r\n",
        "Total sequence length: 17056543\r\n",
        "\r\n"
       ]
      }
     ],
     "prompt_number": 4
    },
    {
     "cell_type": "code",
     "collapsed": false,
     "input": [
      "cd /home/jay/Documents/fish546-2015/Analyses/Ahya"
     ],
     "language": "python",
     "metadata": {},
     "outputs": [
      {
       "output_type": "stream",
       "stream": "stdout",
       "text": [
        "/home/jay/Documents/fish546-2015/Analyses/Ahya\n"
       ]
      }
     ],
     "prompt_number": 5
    },
    {
     "cell_type": "code",
     "collapsed": false,
     "input": [
      "!head -2 fasta2tab"
     ],
     "language": "python",
     "metadata": {},
     "outputs": [
      {
       "output_type": "stream",
       "stream": "stdout",
       "text": [
        "contig27\t\tCAAAATTCCAGCACTCCGTTTTGCATGGTAAACTTGTCTTAGTAGGACACTGTGGAAGATGTACAGCGCAAGACATCACAGTTGCAAGCGCCGACGAACAGCTGTTAAACTCTCCTCTCATATTCTCGAACAAACCAAATATTTCTTCCTCTCTGTTGTTGCTAACCTTTGAATATATGAAGCTGGCATTAGCACAGGACTCAAAGTTTCCGCCGAGCAGTTT\r\n",
        "contig88\t\tTGTCCTGTGTTAGAGGCCAGCTTCAACCTCTTGCTTTCCCTGTCAGCCGAGTTTTCTTCTCCTTCAATAAGCTGGGATTTTCGATCTCTACTCAATGTTTCCATCAAACACCTGAGAGTTAAATCTGCCAGATAACGAAGAAATCCTCTTGCTAGAATACTTTTCAAAAGCCCTTCTTCATACATTGATCTTATCCCATTGCAAATTGCGTTGG\r\n"
       ]
      }
     ],
     "prompt_number": 6
    },
    {
     "cell_type": "code",
     "collapsed": false,
     "input": [
      "#\n",
      "#\n",
      "#  NOTE THIS REQUIRES File specific knowledge\n",
      "#\n",
      "##to make sure we don't get description name issues \n",
      "!sed 's/contig/999999/g' <fasta2tab> fasta2tab_c"
     ],
     "language": "python",
     "metadata": {},
     "outputs": [],
     "prompt_number": 7
    },
    {
     "cell_type": "code",
     "collapsed": false,
     "input": [
      "#add column with length of sequence\n",
      "!perl -e '$col = 2;' -e 'while (<>) { s/\\r?\\n//; @F = split /\\t/, $_; $len = length($F[$col]); print \"$_\\t$len\\n\" } warn \"\\nAdded column with length of column $col for $. lines.\\n\\n\";' \\\n",
      "fasta2tab_c > tab_1\n"
     ],
     "language": "python",
     "metadata": {},
     "outputs": [
      {
       "output_type": "stream",
       "stream": "stdout",
       "text": [
        "\r\n",
        "Added column with length of column 2 for 33496 lines.\r\n",
        "\r\n"
       ]
      }
     ],
     "prompt_number": 8
    },
    {
     "cell_type": "code",
     "collapsed": false,
     "input": [
      "!wc tab_1"
     ],
     "language": "python",
     "metadata": {},
     "outputs": [
      {
       "output_type": "stream",
       "stream": "stdout",
       "text": [
        "   33496   100488 17731523 tab_1\r\n"
       ]
      }
     ],
     "prompt_number": 9
    },
    {
     "cell_type": "code",
     "collapsed": false,
     "input": [
      "#this counts CGs\n",
      "!awk -F\\CG '{print NF-1}' tab_1 > CG"
     ],
     "language": "python",
     "metadata": {},
     "outputs": [],
     "prompt_number": 10
    },
    {
     "cell_type": "code",
     "collapsed": false,
     "input": [
      "!awk -F\\C '{print NF-1}' tab_1 > C"
     ],
     "language": "python",
     "metadata": {},
     "outputs": [],
     "prompt_number": 11
    },
    {
     "cell_type": "code",
     "collapsed": false,
     "input": [
      "!awk -F\\G '{print NF-1}' tab_1 > G"
     ],
     "language": "python",
     "metadata": {},
     "outputs": [],
     "prompt_number": 12
    },
    {
     "cell_type": "code",
     "collapsed": false,
     "input": [
      "!paste tab_1 \\\n",
      "CG \\\n",
      "C \\\n",
      "G \\\n",
      "> comb\n",
      "!head -1 comb"
     ],
     "language": "python",
     "metadata": {},
     "outputs": [
      {
       "output_type": "stream",
       "stream": "stdout",
       "text": [
        "99999927\t\tCAAAATTCCAGCACTCCGTTTTGCATGGTAAACTTGTCTTAGTAGGACACTGTGGAAGATGTACAGCGCAAGACATCACAGTTGCAAGCGCCGACGAACAGCTGTTAAACTCTCCTCTCATATTCTCGAACAAACCAAATATTTCTTCCTCTCTGTTGTTGCTAACCTTTGAATATATGAAGCTGGCATTAGCACAGGACTCAAAGTTTCCGCCGAGCAGTTT\t223\t8\t55\t42\r\n"
       ]
      }
     ],
     "prompt_number": 13
    },
    {
     "cell_type": "heading",
     "level": 1,
     "metadata": {},
     "source": [
      "Calculating CpGo/e"
     ]
    },
    {
     "cell_type": "markdown",
     "metadata": {},
     "source": [
      "<img src=\"http://eagle.fish.washington.edu/cnidarian/skitch/BMC_Genomics___Full_text___DNA_methylation_patterns_provide_insight_into_epigenetic_regulation_in_the_Pacific_oyster__Crassostrea_gigas__1A0683A5.png\" alt=\"BMC_Genomics___Full_text___DNA_methylation_patterns_provide_insight_into_epigenetic_regulation_in_the_Pacific_oyster__Crassostrea_gigas__1A0683A5.png\"/>"
     ]
    },
    {
     "cell_type": "code",
     "collapsed": false,
     "input": [
      "!awk '{print $1, \"\\t\", (($4)/($5*$6))*(($3^2)/($3-1))}' comb > ID_CpG #use ^ instead of **\n"
     ],
     "language": "python",
     "metadata": {},
     "outputs": [],
     "prompt_number": 14
    },
    {
     "cell_type": "code",
     "collapsed": false,
     "input": [
      "!head ID_CpG"
     ],
     "language": "python",
     "metadata": {},
     "outputs": [
      {
       "output_type": "stream",
       "stream": "stdout",
       "text": [
        "99999927 \t 0.775773\r\n",
        "99999988 \t 0.459903\r\n",
        "999999100 \t 0.254614\r\n",
        "999999211 \t 0.885658\r\n",
        "999999405 \t 0.689373\r\n",
        "999999443 \t 1.34126\r\n",
        "999999470 \t 0.323368\r\n",
        "999999503 \t 0.941889\r\n",
        "999999583 \t 0.625727\r\n",
        "999999590 \t 1.21135\r\n"
       ]
      }
     ],
     "prompt_number": 15
    },
    {
     "cell_type": "code",
     "collapsed": false,
     "input": [
      "!sed 's/999999/contig/g' <ID_CpG> ID_CpG.tab\n",
      "!head ID_CpG.tab\n",
      "!echo line number\n",
      "!wc -l ID_CpG.tab"
     ],
     "language": "python",
     "metadata": {},
     "outputs": [
      {
       "output_type": "stream",
       "stream": "stdout",
       "text": [
        "contig27 \t 0.775773\r\n",
        "contig88 \t 0.459903\r\n",
        "contig100 \t 0.254614\r\n",
        "contig211 \t 0.885658\r\n",
        "contig405 \t 0.689373\r\n",
        "contig443 \t 1.34126\r\n",
        "contig470 \t 0.323368\r\n",
        "contig503 \t 0.941889\r\n",
        "contig583 \t 0.625727\r\n",
        "contig590 \t 1.21135\r\n"
       ]
      },
      {
       "output_type": "stream",
       "stream": "stdout",
       "text": [
        "line number\r\n"
       ]
      },
      {
       "output_type": "stream",
       "stream": "stdout",
       "text": [
        "33496 ID_CpG.tab\r\n"
       ]
      }
     ],
     "prompt_number": 16
    },
    {
     "cell_type": "code",
     "collapsed": false,
     "input": [
      "#Using annotation table from the original authors at http://palumbi.stanford.edu/data/33496_MasterCombinedAnnotationTablewHGNC.txt\n",
      "!head -2 33496_MasterCombinedAnnotationTablewHGNC.txt "
     ],
     "language": "python",
     "metadata": {},
     "outputs": [
      {
       "output_type": "stream",
       "stream": "stdout",
       "text": [
        "ContigName\tAnnoOrigin\tAnnocontigname\tContigLength\ttopnrMatch\ttopnrEvalue\tnobadwordnrMatch\tnobadwordnrEvalue\tUniprotmatch\tPercent_identity\tevalue\tID\tDescription\tHGNC_ID\tHGNC_Symbol\tHGNC_Name\tKEGG\tKEGGKO\tGO\tGOCC\tGOBP\tGOMF\tKeywords\r\n",
        "contig27\tadi_v1_predictedtranscripts\tadi_v1.12456\t2548\tpredicted protein [Nematostella vectensis] gi|156218461|gb|EDO39358.1| predicted protein [Nematostella vectensis]\t1.14E-45\tfrizzled-8 precursor [Xenopus laevis] gi|17432990|sp|O93274.1|FZD8_XENLA RecName: Full=Frizzled-8; Short=Fz-8; Short=Xfz8; Flags: Precursor gi|3323438|gb|AAC31121.1| frizzled 8 protein [Xenopus laevis]\t5.18E-06\tO93274\t31.65\t2.00E-07\tFZD8_XENLA\tFrizzled-8\tNo_HGNC_match\tNo_HGNC_match\tNo_HGNC_match\txla:399367\tK02375\tGO:0016021 // GO:0005886 // GO:0004930 // GO:0060070 // GO:0007275 // GO:0051091\tcanonical Wnt receptor signaling pathway (GO:0060070);multicellular organismal development (GO:0007275);positive regulation of sequence-specific DNA binding transcription factor activity (GO:0051091);\tG-protein coupled receptor activity (GO:0004930);\tintegral to membrane (GO:0016021);plasma membrane (GO:0005886);\tCell membrane;Developmental protein;Disulfide bond;G-protein coupled receptor;Glycoprotein;Membrane;Receptor;Signal;Transducer;Transmembrane;Transmembrane helix;Wnt signaling pathway.;\r\n"
       ]
      }
     ],
     "prompt_number": 17
    },
    {
     "cell_type": "heading",
     "level": 1,
     "metadata": {},
     "source": [
      "Joining CpG to GOslim via SPID in SQLshare"
     ]
    },
    {
     "cell_type": "markdown",
     "metadata": {},
     "source": [
      "SELECT DISTINCT ContigName, Column2, GOslim_bin FROM \n",
      "  [jldimond@washington.edu].[table_33496_MasterCombinedAnnotationTablewHGNC_2.txt]anno \n",
      "  left join [jldimond@washington.edu].[table_ID_CpG.tab]cpg on anno.ContigName=cpg.Column1\n",
      "  left join [sr320@washington.edu].[SPID and GO Numbers]GO on anno.Uniprotmatch=GO.SPID\n",
      "  left join [sr320@washington.edu].[GO_to_GOslim]GOslim on GO.GOID=GOslim.GO_id where GOslim.aspect='P'\n",
      "  \n",
      "Output file: Ahya_cpg_GOslim.csv"
     ]
    },
    {
     "cell_type": "code",
     "collapsed": false,
     "input": [
      "!head -10 Ahya_cpg_GOslim.csv"
     ],
     "language": "python",
     "metadata": {},
     "outputs": [
      {
       "output_type": "stream",
       "stream": "stdout",
       "text": [
        "ContigName,Column2,GOslim_bin\r",
        "\r\n",
        "contig100,0.254614,\r",
        "\r\n",
        "contig100001,0.431531,\r",
        "\r\n",
        "contig100008,0.276093,\r",
        "\r\n",
        "contig100010,0.476931,developmental processes\r",
        "\r\n",
        "contig100010,0.476931,signal transduction activity\r",
        "\r\n",
        "contig100010,0.476931,other molecular function\r",
        "\r\n",
        "contig100010,0.476931,plasma membrane\r",
        "\r\n",
        "contig100010,0.476931,other membranes\r",
        "\r\n",
        "contig100010,0.476931,cell adhesion\r",
        "\r\n"
       ]
      }
     ],
     "prompt_number": 18
    },
    {
     "cell_type": "code",
     "collapsed": false,
     "input": [
      "!tr ',' \"\\t\" <Ahya_cpg_GOslim.csv> Ahya_cpg_GOslim.txt"
     ],
     "language": "python",
     "metadata": {},
     "outputs": [],
     "prompt_number": 19
    },
    {
     "cell_type": "code",
     "collapsed": false,
     "input": [
      "!head -10 Ahya_cpg_GOslim.txt"
     ],
     "language": "python",
     "metadata": {},
     "outputs": [
      {
       "output_type": "stream",
       "stream": "stdout",
       "text": [
        "ContigName\tColumn2\tGOslim_bin\r",
        "\r\n",
        "contig100\t0.254614\t\r",
        "\r\n",
        "contig100001\t0.431531\t\r",
        "\r\n",
        "contig100008\t0.276093\t\r",
        "\r\n",
        "contig100010\t0.476931\tdevelopmental processes\r",
        "\r\n",
        "contig100010\t0.476931\tsignal transduction activity\r",
        "\r\n",
        "contig100010\t0.476931\tother molecular function\r",
        "\r\n",
        "contig100010\t0.476931\tplasma membrane\r",
        "\r\n",
        "contig100010\t0.476931\tother membranes\r",
        "\r\n",
        "contig100010\t0.476931\tcell adhesion\r",
        "\r\n"
       ]
      }
     ],
     "prompt_number": 20
    },
    {
     "cell_type": "code",
     "collapsed": false,
     "input": [
      "import pandas as pd"
     ],
     "language": "python",
     "metadata": {},
     "outputs": [],
     "prompt_number": 21
    },
    {
     "cell_type": "code",
     "collapsed": false,
     "input": [
      "jData = pd.read_table('Ahya_cpg_GOslim.txt')\n",
      "jData"
     ],
     "language": "python",
     "metadata": {},
     "outputs": [
      {
       "html": [
        "<div style=\"max-height:1000px;max-width:1500px;overflow:auto;\">\n",
        "<table border=\"1\" class=\"dataframe\">\n",
        "  <thead>\n",
        "    <tr style=\"text-align: right;\">\n",
        "      <th></th>\n",
        "      <th>ContigName</th>\n",
        "      <th>Column2</th>\n",
        "      <th>GOslim_bin</th>\n",
        "    </tr>\n",
        "  </thead>\n",
        "  <tbody>\n",
        "    <tr>\n",
        "      <th>0     </th>\n",
        "      <td>                  contig100</td>\n",
        "      <td> 0.254614</td>\n",
        "      <td>                               NaN</td>\n",
        "    </tr>\n",
        "    <tr>\n",
        "      <th>1     </th>\n",
        "      <td>               contig100001</td>\n",
        "      <td> 0.431531</td>\n",
        "      <td>                               NaN</td>\n",
        "    </tr>\n",
        "    <tr>\n",
        "      <th>2     </th>\n",
        "      <td>               contig100008</td>\n",
        "      <td> 0.276093</td>\n",
        "      <td>                               NaN</td>\n",
        "    </tr>\n",
        "    <tr>\n",
        "      <th>3     </th>\n",
        "      <td>               contig100010</td>\n",
        "      <td> 0.476931</td>\n",
        "      <td>           developmental processes</td>\n",
        "    </tr>\n",
        "    <tr>\n",
        "      <th>4     </th>\n",
        "      <td>               contig100010</td>\n",
        "      <td> 0.476931</td>\n",
        "      <td>      signal transduction activity</td>\n",
        "    </tr>\n",
        "    <tr>\n",
        "      <th>5     </th>\n",
        "      <td>               contig100010</td>\n",
        "      <td> 0.476931</td>\n",
        "      <td>          other molecular function</td>\n",
        "    </tr>\n",
        "    <tr>\n",
        "      <th>6     </th>\n",
        "      <td>               contig100010</td>\n",
        "      <td> 0.476931</td>\n",
        "      <td>                   plasma membrane</td>\n",
        "    </tr>\n",
        "    <tr>\n",
        "      <th>7     </th>\n",
        "      <td>               contig100010</td>\n",
        "      <td> 0.476931</td>\n",
        "      <td>                   other membranes</td>\n",
        "    </tr>\n",
        "    <tr>\n",
        "      <th>8     </th>\n",
        "      <td>               contig100010</td>\n",
        "      <td> 0.476931</td>\n",
        "      <td>                     cell adhesion</td>\n",
        "    </tr>\n",
        "    <tr>\n",
        "      <th>9     </th>\n",
        "      <td>               contig100010</td>\n",
        "      <td> 0.476931</td>\n",
        "      <td>               signal transduction</td>\n",
        "    </tr>\n",
        "    <tr>\n",
        "      <th>10    </th>\n",
        "      <td>               contig100010</td>\n",
        "      <td> 0.476931</td>\n",
        "      <td>  cell organization and biogenesis</td>\n",
        "    </tr>\n",
        "    <tr>\n",
        "      <th>11    </th>\n",
        "      <td> contig100021_110093_105915</td>\n",
        "      <td> 2.075800</td>\n",
        "      <td>     nucleic acid binding activity</td>\n",
        "    </tr>\n",
        "    <tr>\n",
        "      <th>12    </th>\n",
        "      <td> contig100021_110093_105915</td>\n",
        "      <td> 2.075800</td>\n",
        "      <td>          other molecular function</td>\n",
        "    </tr>\n",
        "    <tr>\n",
        "      <th>13    </th>\n",
        "      <td> contig100021_110093_105915</td>\n",
        "      <td> 2.075800</td>\n",
        "      <td>                protein metabolism</td>\n",
        "    </tr>\n",
        "    <tr>\n",
        "      <th>14    </th>\n",
        "      <td> contig100021_110093_105915</td>\n",
        "      <td> 2.075800</td>\n",
        "      <td>                    DNA metabolism</td>\n",
        "    </tr>\n",
        "    <tr>\n",
        "      <th>15    </th>\n",
        "      <td>               contig100025</td>\n",
        "      <td> 0.299187</td>\n",
        "      <td>                      cytoskeleton</td>\n",
        "    </tr>\n",
        "    <tr>\n",
        "      <th>16    </th>\n",
        "      <td>               contig100025</td>\n",
        "      <td> 0.299187</td>\n",
        "      <td>                           nucleus</td>\n",
        "    </tr>\n",
        "    <tr>\n",
        "      <th>17    </th>\n",
        "      <td>               contig100025</td>\n",
        "      <td> 0.299187</td>\n",
        "      <td>          other cellular component</td>\n",
        "    </tr>\n",
        "    <tr>\n",
        "      <th>18    </th>\n",
        "      <td>               contig100025</td>\n",
        "      <td> 0.299187</td>\n",
        "      <td>                   plasma membrane</td>\n",
        "    </tr>\n",
        "    <tr>\n",
        "      <th>19    </th>\n",
        "      <td>               contig100025</td>\n",
        "      <td> 0.299187</td>\n",
        "      <td>                   other membranes</td>\n",
        "    </tr>\n",
        "    <tr>\n",
        "      <th>20    </th>\n",
        "      <td>               contig100025</td>\n",
        "      <td> 0.299187</td>\n",
        "      <td>           developmental processes</td>\n",
        "    </tr>\n",
        "    <tr>\n",
        "      <th>21    </th>\n",
        "      <td>               contig100026</td>\n",
        "      <td> 1.059900</td>\n",
        "      <td>          other cellular component</td>\n",
        "    </tr>\n",
        "    <tr>\n",
        "      <th>22    </th>\n",
        "      <td>               contig100026</td>\n",
        "      <td> 1.059900</td>\n",
        "      <td>                      cytoskeleton</td>\n",
        "    </tr>\n",
        "    <tr>\n",
        "      <th>23    </th>\n",
        "      <td>               contig100030</td>\n",
        "      <td> 0.854552</td>\n",
        "      <td>                               NaN</td>\n",
        "    </tr>\n",
        "    <tr>\n",
        "      <th>24    </th>\n",
        "      <td>               contig100031</td>\n",
        "      <td> 0.646160</td>\n",
        "      <td>          other molecular function</td>\n",
        "    </tr>\n",
        "    <tr>\n",
        "      <th>25    </th>\n",
        "      <td>               contig100031</td>\n",
        "      <td> 0.646160</td>\n",
        "      <td>                           nucleus</td>\n",
        "    </tr>\n",
        "    <tr>\n",
        "      <th>26    </th>\n",
        "      <td>               contig100031</td>\n",
        "      <td> 0.646160</td>\n",
        "      <td>        other biological processes</td>\n",
        "    </tr>\n",
        "    <tr>\n",
        "      <th>27    </th>\n",
        "      <td>        contig100038_111047</td>\n",
        "      <td> 1.605150</td>\n",
        "      <td>     nucleic acid binding activity</td>\n",
        "    </tr>\n",
        "    <tr>\n",
        "      <th>28    </th>\n",
        "      <td>        contig100038_111047</td>\n",
        "      <td> 1.605150</td>\n",
        "      <td>                    DNA metabolism</td>\n",
        "    </tr>\n",
        "    <tr>\n",
        "      <th>29    </th>\n",
        "      <td>               contig100040</td>\n",
        "      <td> 0.558145</td>\n",
        "      <td>     nucleic acid binding activity</td>\n",
        "    </tr>\n",
        "    <tr>\n",
        "      <th>...</th>\n",
        "      <td>...</td>\n",
        "      <td>...</td>\n",
        "      <td>...</td>\n",
        "    </tr>\n",
        "    <tr>\n",
        "      <th>135141</th>\n",
        "      <td>               contig165708</td>\n",
        "      <td> 0.885987</td>\n",
        "      <td>                               NaN</td>\n",
        "    </tr>\n",
        "    <tr>\n",
        "      <th>135142</th>\n",
        "      <td>                contig72703</td>\n",
        "      <td> 1.098470</td>\n",
        "      <td>                   other membranes</td>\n",
        "    </tr>\n",
        "    <tr>\n",
        "      <th>135143</th>\n",
        "      <td>                contig75406</td>\n",
        "      <td> 0.912511</td>\n",
        "      <td>                    RNA metabolism</td>\n",
        "    </tr>\n",
        "    <tr>\n",
        "      <th>135144</th>\n",
        "      <td>               contig114397</td>\n",
        "      <td> 0.910294</td>\n",
        "      <td>         other metabolic processes</td>\n",
        "    </tr>\n",
        "    <tr>\n",
        "      <th>135145</th>\n",
        "      <td>               contig200457</td>\n",
        "      <td> 1.009640</td>\n",
        "      <td>          other cellular component</td>\n",
        "    </tr>\n",
        "    <tr>\n",
        "      <th>135146</th>\n",
        "      <td>               contig168697</td>\n",
        "      <td> 0.748593</td>\n",
        "      <td>          other molecular function</td>\n",
        "    </tr>\n",
        "    <tr>\n",
        "      <th>135147</th>\n",
        "      <td>                contig81990</td>\n",
        "      <td> 0.152066</td>\n",
        "      <td>                    DNA metabolism</td>\n",
        "    </tr>\n",
        "    <tr>\n",
        "      <th>135148</th>\n",
        "      <td>                contig82990</td>\n",
        "      <td> 0.314385</td>\n",
        "      <td>                               NaN</td>\n",
        "    </tr>\n",
        "    <tr>\n",
        "      <th>135149</th>\n",
        "      <td>               contig115838</td>\n",
        "      <td> 1.043100</td>\n",
        "      <td>                protein metabolism</td>\n",
        "    </tr>\n",
        "    <tr>\n",
        "      <th>135150</th>\n",
        "      <td>               contig108445</td>\n",
        "      <td> 0.690275</td>\n",
        "      <td>                               NaN</td>\n",
        "    </tr>\n",
        "    <tr>\n",
        "      <th>135151</th>\n",
        "      <td>        contig147730_190586</td>\n",
        "      <td> 1.183440</td>\n",
        "      <td>          other molecular function</td>\n",
        "    </tr>\n",
        "    <tr>\n",
        "      <th>135152</th>\n",
        "      <td>               contig175597</td>\n",
        "      <td> 0.722958</td>\n",
        "      <td>          other molecular function</td>\n",
        "    </tr>\n",
        "    <tr>\n",
        "      <th>135153</th>\n",
        "      <td>        contig140222_154076</td>\n",
        "      <td> 0.544379</td>\n",
        "      <td> transcription regulatory activity</td>\n",
        "    </tr>\n",
        "    <tr>\n",
        "      <th>135154</th>\n",
        "      <td>               contig209783</td>\n",
        "      <td> 0.647681</td>\n",
        "      <td>                   plasma membrane</td>\n",
        "    </tr>\n",
        "    <tr>\n",
        "      <th>135155</th>\n",
        "      <td>               contig178287</td>\n",
        "      <td> 0.299109</td>\n",
        "      <td>          other molecular function</td>\n",
        "    </tr>\n",
        "    <tr>\n",
        "      <th>135156</th>\n",
        "      <td>               contig152230</td>\n",
        "      <td> 0.959628</td>\n",
        "      <td>     nucleic acid binding activity</td>\n",
        "    </tr>\n",
        "    <tr>\n",
        "      <th>135157</th>\n",
        "      <td>               contig149499</td>\n",
        "      <td> 0.907993</td>\n",
        "      <td>          other molecular function</td>\n",
        "    </tr>\n",
        "    <tr>\n",
        "      <th>135158</th>\n",
        "      <td>               contig205757</td>\n",
        "      <td> 0.270155</td>\n",
        "      <td>                protein metabolism</td>\n",
        "    </tr>\n",
        "    <tr>\n",
        "      <th>135159</th>\n",
        "      <td>               contig151972</td>\n",
        "      <td> 0.638424</td>\n",
        "      <td>        other biological processes</td>\n",
        "    </tr>\n",
        "    <tr>\n",
        "      <th>135160</th>\n",
        "      <td>               contig176428</td>\n",
        "      <td> 0.900452</td>\n",
        "      <td>          other molecular function</td>\n",
        "    </tr>\n",
        "    <tr>\n",
        "      <th>135161</th>\n",
        "      <td>                contig71354</td>\n",
        "      <td> 0.763596</td>\n",
        "      <td>          other cellular component</td>\n",
        "    </tr>\n",
        "    <tr>\n",
        "      <th>135162</th>\n",
        "      <td>               contig154058</td>\n",
        "      <td> 0.895618</td>\n",
        "      <td>                               NaN</td>\n",
        "    </tr>\n",
        "    <tr>\n",
        "      <th>135163</th>\n",
        "      <td>                contig78358</td>\n",
        "      <td> 1.207310</td>\n",
        "      <td>                   other membranes</td>\n",
        "    </tr>\n",
        "    <tr>\n",
        "      <th>135164</th>\n",
        "      <td>               contig182683</td>\n",
        "      <td> 1.400030</td>\n",
        "      <td>          other molecular function</td>\n",
        "    </tr>\n",
        "    <tr>\n",
        "      <th>135165</th>\n",
        "      <td>                 contig7309</td>\n",
        "      <td> 0.949342</td>\n",
        "      <td>         other metabolic processes</td>\n",
        "    </tr>\n",
        "    <tr>\n",
        "      <th>135166</th>\n",
        "      <td>               contig159449</td>\n",
        "      <td> 0.448494</td>\n",
        "      <td>                               NaN</td>\n",
        "    </tr>\n",
        "    <tr>\n",
        "      <th>135167</th>\n",
        "      <td>   contig64826_106738_65575</td>\n",
        "      <td> 0.794321</td>\n",
        "      <td>                             death</td>\n",
        "    </tr>\n",
        "    <tr>\n",
        "      <th>135168</th>\n",
        "      <td>         contig75063_194318</td>\n",
        "      <td> 2.095140</td>\n",
        "      <td>                               NaN</td>\n",
        "    </tr>\n",
        "    <tr>\n",
        "      <th>135169</th>\n",
        "      <td>               contig113724</td>\n",
        "      <td> 0.453723</td>\n",
        "      <td>                         transport</td>\n",
        "    </tr>\n",
        "    <tr>\n",
        "      <th>135170</th>\n",
        "      <td>               contig126953</td>\n",
        "      <td> 1.120020</td>\n",
        "      <td>                               NaN</td>\n",
        "    </tr>\n",
        "  </tbody>\n",
        "</table>\n",
        "<p>135171 rows \u00d7 3 columns</p>\n",
        "</div>"
       ],
       "metadata": {},
       "output_type": "pyout",
       "prompt_number": 22,
       "text": [
        "                        ContigName   Column2  \\\n",
        "0                        contig100  0.254614   \n",
        "1                     contig100001  0.431531   \n",
        "2                     contig100008  0.276093   \n",
        "3                     contig100010  0.476931   \n",
        "4                     contig100010  0.476931   \n",
        "5                     contig100010  0.476931   \n",
        "6                     contig100010  0.476931   \n",
        "7                     contig100010  0.476931   \n",
        "8                     contig100010  0.476931   \n",
        "9                     contig100010  0.476931   \n",
        "10                    contig100010  0.476931   \n",
        "11      contig100021_110093_105915  2.075800   \n",
        "12      contig100021_110093_105915  2.075800   \n",
        "13      contig100021_110093_105915  2.075800   \n",
        "14      contig100021_110093_105915  2.075800   \n",
        "15                    contig100025  0.299187   \n",
        "16                    contig100025  0.299187   \n",
        "17                    contig100025  0.299187   \n",
        "18                    contig100025  0.299187   \n",
        "19                    contig100025  0.299187   \n",
        "20                    contig100025  0.299187   \n",
        "21                    contig100026  1.059900   \n",
        "22                    contig100026  1.059900   \n",
        "23                    contig100030  0.854552   \n",
        "24                    contig100031  0.646160   \n",
        "25                    contig100031  0.646160   \n",
        "26                    contig100031  0.646160   \n",
        "27             contig100038_111047  1.605150   \n",
        "28             contig100038_111047  1.605150   \n",
        "29                    contig100040  0.558145   \n",
        "...                            ...       ...   \n",
        "135141                contig165708  0.885987   \n",
        "135142                 contig72703  1.098470   \n",
        "135143                 contig75406  0.912511   \n",
        "135144                contig114397  0.910294   \n",
        "135145                contig200457  1.009640   \n",
        "135146                contig168697  0.748593   \n",
        "135147                 contig81990  0.152066   \n",
        "135148                 contig82990  0.314385   \n",
        "135149                contig115838  1.043100   \n",
        "135150                contig108445  0.690275   \n",
        "135151         contig147730_190586  1.183440   \n",
        "135152                contig175597  0.722958   \n",
        "135153         contig140222_154076  0.544379   \n",
        "135154                contig209783  0.647681   \n",
        "135155                contig178287  0.299109   \n",
        "135156                contig152230  0.959628   \n",
        "135157                contig149499  0.907993   \n",
        "135158                contig205757  0.270155   \n",
        "135159                contig151972  0.638424   \n",
        "135160                contig176428  0.900452   \n",
        "135161                 contig71354  0.763596   \n",
        "135162                contig154058  0.895618   \n",
        "135163                 contig78358  1.207310   \n",
        "135164                contig182683  1.400030   \n",
        "135165                  contig7309  0.949342   \n",
        "135166                contig159449  0.448494   \n",
        "135167    contig64826_106738_65575  0.794321   \n",
        "135168          contig75063_194318  2.095140   \n",
        "135169                contig113724  0.453723   \n",
        "135170                contig126953  1.120020   \n",
        "\n",
        "                               GOslim_bin  \n",
        "0                                     NaN  \n",
        "1                                     NaN  \n",
        "2                                     NaN  \n",
        "3                 developmental processes  \n",
        "4            signal transduction activity  \n",
        "5                other molecular function  \n",
        "6                         plasma membrane  \n",
        "7                         other membranes  \n",
        "8                           cell adhesion  \n",
        "9                     signal transduction  \n",
        "10       cell organization and biogenesis  \n",
        "11          nucleic acid binding activity  \n",
        "12               other molecular function  \n",
        "13                     protein metabolism  \n",
        "14                         DNA metabolism  \n",
        "15                           cytoskeleton  \n",
        "16                                nucleus  \n",
        "17               other cellular component  \n",
        "18                        plasma membrane  \n",
        "19                        other membranes  \n",
        "20                developmental processes  \n",
        "21               other cellular component  \n",
        "22                           cytoskeleton  \n",
        "23                                    NaN  \n",
        "24               other molecular function  \n",
        "25                                nucleus  \n",
        "26             other biological processes  \n",
        "27          nucleic acid binding activity  \n",
        "28                         DNA metabolism  \n",
        "29          nucleic acid binding activity  \n",
        "...                                   ...  \n",
        "135141                                NaN  \n",
        "135142                    other membranes  \n",
        "135143                     RNA metabolism  \n",
        "135144          other metabolic processes  \n",
        "135145           other cellular component  \n",
        "135146           other molecular function  \n",
        "135147                     DNA metabolism  \n",
        "135148                                NaN  \n",
        "135149                 protein metabolism  \n",
        "135150                                NaN  \n",
        "135151           other molecular function  \n",
        "135152           other molecular function  \n",
        "135153  transcription regulatory activity  \n",
        "135154                    plasma membrane  \n",
        "135155           other molecular function  \n",
        "135156      nucleic acid binding activity  \n",
        "135157           other molecular function  \n",
        "135158                 protein metabolism  \n",
        "135159         other biological processes  \n",
        "135160           other molecular function  \n",
        "135161           other cellular component  \n",
        "135162                                NaN  \n",
        "135163                    other membranes  \n",
        "135164           other molecular function  \n",
        "135165          other metabolic processes  \n",
        "135166                                NaN  \n",
        "135167                              death  \n",
        "135168                                NaN  \n",
        "135169                          transport  \n",
        "135170                                NaN  \n",
        "\n",
        "[135171 rows x 3 columns]"
       ]
      }
     ],
     "prompt_number": 22
    },
    {
     "cell_type": "code",
     "collapsed": false,
     "input": [
      "%matplotlib inline"
     ],
     "language": "python",
     "metadata": {},
     "outputs": [],
     "prompt_number": 23
    },
    {
     "cell_type": "code",
     "collapsed": false,
     "input": [
      "jData.groupby(\"GOslim_bin\")[\"Column2\"].mean().plot(kind='barh', color=list('myb'))\n",
      "plt.axis([0.5, 0.7, 0, 14])"
     ],
     "language": "python",
     "metadata": {},
     "outputs": [
      {
       "ename": "NameError",
       "evalue": "name 'plt' is not defined",
       "output_type": "pyerr",
       "traceback": [
        "\u001b[1;31m---------------------------------------------------------------------------\u001b[0m\n\u001b[1;31mNameError\u001b[0m                                 Traceback (most recent call last)",
        "\u001b[1;32m<ipython-input-24-619f0b0a8eb0>\u001b[0m in \u001b[0;36m<module>\u001b[1;34m()\u001b[0m\n\u001b[0;32m      1\u001b[0m \u001b[0mjData\u001b[0m\u001b[1;33m.\u001b[0m\u001b[0mgroupby\u001b[0m\u001b[1;33m(\u001b[0m\u001b[1;34m\"GOslim_bin\"\u001b[0m\u001b[1;33m)\u001b[0m\u001b[1;33m[\u001b[0m\u001b[1;34m\"Column2\"\u001b[0m\u001b[1;33m]\u001b[0m\u001b[1;33m.\u001b[0m\u001b[0mmean\u001b[0m\u001b[1;33m(\u001b[0m\u001b[1;33m)\u001b[0m\u001b[1;33m.\u001b[0m\u001b[0mplot\u001b[0m\u001b[1;33m(\u001b[0m\u001b[0mkind\u001b[0m\u001b[1;33m=\u001b[0m\u001b[1;34m'barh'\u001b[0m\u001b[1;33m,\u001b[0m \u001b[0mcolor\u001b[0m\u001b[1;33m=\u001b[0m\u001b[0mlist\u001b[0m\u001b[1;33m(\u001b[0m\u001b[1;34m'myb'\u001b[0m\u001b[1;33m)\u001b[0m\u001b[1;33m)\u001b[0m\u001b[1;33m\u001b[0m\u001b[0m\n\u001b[1;32m----> 2\u001b[1;33m \u001b[0mplt\u001b[0m\u001b[1;33m.\u001b[0m\u001b[0maxis\u001b[0m\u001b[1;33m(\u001b[0m\u001b[1;33m[\u001b[0m\u001b[1;36m0.5\u001b[0m\u001b[1;33m,\u001b[0m \u001b[1;36m0.7\u001b[0m\u001b[1;33m,\u001b[0m \u001b[1;36m0\u001b[0m\u001b[1;33m,\u001b[0m \u001b[1;36m14\u001b[0m\u001b[1;33m]\u001b[0m\u001b[1;33m)\u001b[0m\u001b[1;33m\u001b[0m\u001b[0m\n\u001b[0m",
        "\u001b[1;31mNameError\u001b[0m: name 'plt' is not defined"
       ]
      },
      {
       "metadata": {},
       "output_type": "display_data",
       "png": "[encoded data removed]",
       "text": [
        "<matplotlib.figure.Figure at 0x7f1340e91410>"
       ]
      }
     ],
     "prompt_number": 24
    },
    {
     "cell_type": "code",
     "collapsed": false,
     "input": [
      "# pandas density plot\n",
      "jData[\"Column2\"].plot(kind='kde', linewidth=3);\n",
      "plt.axis([-0.3, 1.5, 0, 1.7])"
     ],
     "language": "python",
     "metadata": {},
     "outputs": [
      {
       "ename": "NameError",
       "evalue": "name 'plt' is not defined",
       "output_type": "pyerr",
       "traceback": [
        "\u001b[1;31m---------------------------------------------------------------------------\u001b[0m\n\u001b[1;31mNameError\u001b[0m                                 Traceback (most recent call last)",
        "\u001b[1;32m<ipython-input-25-201c6d7e2be0>\u001b[0m in \u001b[0;36m<module>\u001b[1;34m()\u001b[0m\n\u001b[0;32m      1\u001b[0m \u001b[1;31m# pandas density plot\u001b[0m\u001b[1;33m\u001b[0m\u001b[1;33m\u001b[0m\u001b[0m\n\u001b[0;32m      2\u001b[0m \u001b[0mjData\u001b[0m\u001b[1;33m[\u001b[0m\u001b[1;34m\"Column2\"\u001b[0m\u001b[1;33m]\u001b[0m\u001b[1;33m.\u001b[0m\u001b[0mplot\u001b[0m\u001b[1;33m(\u001b[0m\u001b[0mkind\u001b[0m\u001b[1;33m=\u001b[0m\u001b[1;34m'kde'\u001b[0m\u001b[1;33m,\u001b[0m \u001b[0mlinewidth\u001b[0m\u001b[1;33m=\u001b[0m\u001b[1;36m3\u001b[0m\u001b[1;33m)\u001b[0m\u001b[1;33m;\u001b[0m\u001b[1;33m\u001b[0m\u001b[0m\n\u001b[1;32m----> 3\u001b[1;33m \u001b[0mplt\u001b[0m\u001b[1;33m.\u001b[0m\u001b[0maxis\u001b[0m\u001b[1;33m(\u001b[0m\u001b[1;33m[\u001b[0m\u001b[1;33m-\u001b[0m\u001b[1;36m0.3\u001b[0m\u001b[1;33m,\u001b[0m \u001b[1;36m1.5\u001b[0m\u001b[1;33m,\u001b[0m \u001b[1;36m0\u001b[0m\u001b[1;33m,\u001b[0m \u001b[1;36m1.7\u001b[0m\u001b[1;33m]\u001b[0m\u001b[1;33m)\u001b[0m\u001b[1;33m\u001b[0m\u001b[0m\n\u001b[0m",
        "\u001b[1;31mNameError\u001b[0m: name 'plt' is not defined"
       ]
      },
      {
       "metadata": {},
       "output_type": "display_data",
       "png": "[encoded data removed]",
       "text": [
        "<matplotlib.figure.Figure at 0x7f133f8988d0>"
       ]
      }
     ],
     "prompt_number": 25
    },
    {
     "cell_type": "heading",
     "level": 3,
     "metadata": {},
     "source": [
      "Now looking only at differentially expressed contigs <Ahya_diff_contigs>, joining via common contig IDs"
     ]
    },
    {
     "cell_type": "markdown",
     "metadata": {},
     "source": [
      "Joining in SQLshare\n",
      "\n",
      "SELECT ContigName, Column2, GOslim_bin FROM\n",
      "  [jldimond@washington.edu].[Ahya_cpg_GOslim]cpg\n",
      "  left join[jldimond@washington.edu].[Ahya_diff_contigs_1]diff\n",
      "  on cpg.ContigName=diff.Column1\n",
      "  \n",
      "Output file: Ahya_cpg_diff.csv"
     ]
    },
    {
     "cell_type": "code",
     "collapsed": false,
     "input": [
      "#SQLshare not working--cannot download file--stopping here for now\n",
      "\n",
      "#I tried using sqlshare-python client but ipython cannot seem to find sqlshare"
     ],
     "language": "python",
     "metadata": {},
     "outputs": []
    }
   ],
   "metadata": {}
  }
 ]
}