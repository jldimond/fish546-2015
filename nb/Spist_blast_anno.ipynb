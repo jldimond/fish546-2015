{
 "metadata": {
  "name": "",
  "signature": "sha256:5aec143084d486f77674a3f061bce1298fde0492962e7380c4183090c7f6a089"
 },
 "nbformat": 3,
 "nbformat_minor": 0,
 "worksheets": [
  {
   "cells": [
    {
     "cell_type": "heading",
     "level": 1,
     "metadata": {},
     "source": [
      "Blasting transcriptome of Stylophora pistillata from: http://data.centrescientifique.mc/Data/454Isotigs.fas.zip"
     ]
    },
    {
     "cell_type": "code",
     "collapsed": false,
     "input": [
      "!cd /Users/jay/Desktop/blast_jobs"
     ],
     "language": "python",
     "metadata": {},
     "outputs": [],
     "prompt_number": 1
    },
    {
     "cell_type": "code",
     "collapsed": false,
     "input": [
      "!ls"
     ],
     "language": "python",
     "metadata": {},
     "outputs": [
      {
       "output_type": "stream",
       "stream": "stdout",
       "text": [
        "Amil_Moya copy.fasta\r\n",
        "Amil_Moya.fasta\r\n",
        "Amil_blast_anno.ipynb\r\n",
        "Amil_blastx_uniprot3.tab\r\n",
        "Apalm.fasta\r\n",
        "Apalm_blast_anno.ipynb\r\n",
        "Apalm_blastx_uniprot.tab\r\n",
        "Galaxy5-[Apalmata_assembled.fasta].fasta\r\n",
        "Pdam_blast_anno.ipynb\r\n",
        "Pdam_blastx_uniprot.tab\r\n",
        "\u001b[31mSpist.fasta\u001b[m\u001b[m\r\n",
        "Spist_blast_anno.ipynb\r\n",
        "blast2go_fasta_Pdamv2.fasta\r\n"
       ]
      }
     ],
     "prompt_number": 2
    },
    {
     "cell_type": "code",
     "collapsed": false,
     "input": [
      "!head -10 Spist.fasta"
     ],
     "language": "python",
     "metadata": {},
     "outputs": [
      {
       "output_type": "stream",
       "stream": "stdout",
       "text": [
        ">Spi_contig00032  gene=isogroup00001  length=1566\r",
        "\r\n",
        "GgATCCATCGAAAGAAAAaGTCGTAGTTGACAGTGATTGCATGACTTCTGTACAACGTCCGATTAGTTTTtGCGTTTTATTGTCTtCTTTTGTACTGgAAATTCGACTCTAGCAAGTTGATTTCGTTTAGTTATGTCTGGCATTGCTTTGGGCAGATTATCAGAAGAGAGAAAAGCTTGGCGTAAAGACcATCCTTTCGGATTTGTGGCCAAACCGGTTAAAAATCCTGATGGTACTCTAAATCTGATGAACTGGGAATGTGCGATCCCaGGAAAGAAAGCGACCCCATGGGAAGGAGGCTCTTTCAAATTGAAGATGATATTTAAAGACGACTATCCATCCTCTCCGCCAAAATGTAAATTTGATCCTCCAATTTTCCATCCTAATGTATACCCATCTGGCACAGTGTGTCTGTCTCTTCTAGATGAAGAGAAAGACTGGAGACCTGCCGTCACTATAAAACAGATTTTATTGGGAATTCAAGACTTACTGAaTGATCCAAaCaTAaGaGATCCAGCTCAAGCAGAAGCATACaCCATTTACTGCCAAAACAGATCAGAATATGAGAAACGAGTCAGAAGTCAAGCTGCAAaGTTCTCAAGTTCATAGTGAATAAAGAAAAATATAAAATACTTCGCTAGCAGACGTGTAGGTTAACaGTGACTGGCAGAAATTGGATTTATTTTTtCTCcGTTtGTAAacAaCAaTGTGGAGTGGAGCAaGAATTCATCCgTAACTGCGTTAATACCACAGCTGTTGTTGTGAATTGGAaGGACAATCATGTCTGTTATTTtAGGAAGTTTCACAATGTACAGTTCAACTAACTTATACTAAAAAaCAGCTAAAGTtCACCTTAGTCTATGTtAGTTTtGTTAAAGCTTCTCTGTAgAAGGTTTGGGAGGgTtGTAATGGCTGTAACTATTCAGGgAGATCTGTCAAAGTACACTCTCTAATCCCATTGTTTCTTAAGGAATGAGTCATTATTTATTGTCTGGTGGGACGGaGGaTTTTAATCGTGTCACAATAAAATTTACCTGATCTTCCCatAagACCTGTAGTAATCTAaTGGTCCCTGTCATTGGCAGTCAaTTTTCTATAGTTTCCTGTTAACCTCTGTTAGCTACAACTGATGCCCCcTCTGTACCCCCCTAAAATTGTGTTCCCCCAAAgAAaTCCTTCCACCCACCCCATaCCTCCAGGTGATAACTAATGActGGTCCTTAATTCATTCTCTTTTTTTtGTTCTTGATTATTTGACTAAACCAAAGGCGatAAGTAAGATATACCCcAAtACGATTTGACGAACAATCTCTAGATTTTTTATTtAATCTTTAGTTGTAGATGTAATCAGAGGTGCAAAGCTTTACTGTTTtGAGTGTAAAGTGCCTGTTTCTAGGGATCCAGTGAAACCAGTAGTGTTGGGATTGTAAAGAGaTCAAAGAaTACCTCAAAGCACCAATCATAATGCTCTAATGTTGACAACTGCTAATGATTGGTtCAGCCTaTGGCTTTCATTAAAAaCGTCAAAAAaTAACGCTTCACTTCATTGCAAGTGATTCAGGTGGa\r",
        "\r\n",
        ">Spi_contig00035  gene=isogroup00001  length=1876\r",
        "\r\n",
        "AGCAGAGATCTATCAGACGACTATGTTACGACATGAAAaCCTTTTAGGCTTtGTAGCTGCTGACAaCAAaGATAATGGTGCCTGGACACAGCTTTGGCTGGTTACAGATTATTTagAAAGGGgCTCATTGTATGACTATCTTCAACTTGTTACCCTGAATGTTGAATCCATGCTGAAGTTAGCAGTGTCAATAGCCAGTGGACTTGCTCATCTCCACATtGAGATtGTAGGCACCCAAGgAAAGCCAGCTATTGCACATCGTGACTTAAAAaGTAAAAaCATTCTGGTTAAAAGAAATGGGACATGTTGCATAGGTGATTTGGGTCTTGCTGTTCGTCATAGTTCCATTACTGACACAGTTGATGTTCCTCCTGGGAACAGAgTTGGTACAAAGCGCTACATGCCACCTGAATTTTtAGATGACAATATACAGGTGCGGCACTTTGATGCATACAAGCGAGGTGATATGTATGCATTTGGTCTAGTGTTATGGGAAaTTGCAAGGACgTGTGTTTGTGGTGGATTGTGTGATGAATATCAGCTGCCCTACTATGACAGAGTTCCCTGTGATCCCAGCATTGAAGAtATGAGAAAGGTGGTCTGTGTGGAGAGGTATCGCCCTGCCTTTCCAAATAGGTGGATACAAGATCAGACACTACAGTCTATGTCCAAGTTGATGAAAGAATGTTGGTATGCCAATAGTGCTGCAAGACTTACAGCTCTCCGTGTTAAGAAGACTCTTACAACAcTGTGTCAGTTACATGATGTTGATATTATGGTTTAGAGGGaTCCATCAaGAAAACTCATGTAAAACAAGTgCAAGATGGGTGTATCACCAGGACTTATATAACAGGAGGAACCTCCTGATAATCCTTGCAGGCAATTTGTAGGTCCTGTAATGTGATACAGTACATGTCTACCATCATGCTATTGgTTTGCAGTTCAAACaGCAATGCTGTCTTTtATTTTTtGATAAAGCCATGAAGAATAAACGCGACAGAGAAAaTTTATGACTTCCTAGTTAACAAGAAGCATTCtCATTTTTTTTTTTTtttGCCTGCATAATTcTTGtATTTATATCCACAGCAACTGTCACTGACTCAAAGTgTtGgtAaTCatCAGCAACAAAGAACCCAACTTGgTTTTATGAAAGCACGTACATtCAAATGAGCAATTTAAATTGAAAACCTAAAAGGACATATCCATGTGCAACAACTGTAGAACTATGTATGAGCAGTGTCCACTATTCTCCTCCTTAGTTTATTTTAGATGTTTCGAATGAGAATACAGAATAGAGCTTCATCCTTTTGACATTGAAAGCATTTCATACTCAAGTATtGAAGGGTATGATTCTTTGTTGTGAGGAACGACACTCACCAAGTAATCCTCAAAATATTTAAGAGCATACATGGATTTTACCAAAAGATGTGGGTTGGTCATATCTACATTAAGAATTTGTTACAATAGTAAGGTAGTTGCAGTGCTGTAGCTAGCTCTTAGATGAAGCGTGTTTATTGCATTCAAATTGAAATGTTATTGTTTAAAGTGATTCTCAAATTAAAAGACATTGTATTTTTAGACAACTTTTTATCTTCGAAAACCCAGTGGTGTAAGGTAATTACATTATTTTATGTTCATAACAAATACATTTTAACTGTATTCCACCAAACAATGTGAAAGGGGCAGTTTAAGAATTAATGAAATCTTTCTTGATACCCGTTCTtcAGAACGCTTTATAGTATCTTCTTTATAGTTGTAAATAAaCCGAaTACTTTGCGTGTGAGGGGCATTGAaGAAACTGAAGGGTTTTGTTTGACTCTGTTCTAACAGAAtCAAACATAATGTAATTACTCGGAACTTCATTAAACTGGTGGCC\r",
        "\r\n",
        ">Spi_contig00040  gene=isogroup00001  length=2118\r",
        "\r\n",
        "CGGAGCCGAAAACGAAGAGCTACCGGCGGCGTTTGCACCTTTAGCCAACCCAGTGAGTACCGGAGTtcGAGAAACCGAGGGAGATTTGGGTTATTCAGATGAGGTTTGGGATGCATTAAATGGATTTGTATTTCAATACTCTACAGAAGATCAAGAAGACGAATTAGTAGAGATGCTAATTGGGTGAGCAAACAGTGTAACGGCCGGAGAGTCAAACGAGGATATAGTAGATGTGCTAGGGGAGTGGGCAGAGGGTAACATCCCcGAAGATTCAGGCGACGAATCAGAGGAGAACGCGTCTGAAGATTCAAACGACGAATaGGCGGAGGCCCCcATTTATTCAATATGTAAGAGATCGGGGGGGGgTTGTGGGACCTCGCCCCGGGTATTTGAACGATATGGTCTCTAATTATTGAATTCGATGGGGGTTTTCAACCAACCATAAAGATATTGGTAGTTTGTATTTAATTTTtGGTGGAGGTGCTGGTTTAATTGGAACGGCGTTTAGTATGCTTATACGACTAGAGCTTTCTGCGCCCGGAGCAATGTTAGGAGATGATCATCTTTATAATGTAATTGTTACAGCGCATGCTTTTATTATGATTTTTTTTtGGTtATGCCGGTTATGATTGGGGGgTTTGGTAATTGATTGGTCCCATTATATATTGGGGCGCCGGATATGGCGTTTCCCCGACTAAACAATATTAGTTTTTGACTTTTGCCCCCTGCGCTTTTTTtATTATTAGGCTCTGCTTTTGTTGAACAAGGGGCGGGGACGGGGTGAACAGTTTATCCTCCTCTTGCTAGTATTCAAGCACACTCCGGATGTTCGGTTGATATGGTTATTTTTAGTCTTCATTTAGCTGGGGTTTCTTCTATTTTAGGTGCTATAAACTTTATTACTACAATTTTTAATATGCGAGCCCCGGGTGTGTCTTTTAATAAACTACCTTTATTTGTTTGATCTATTTTAATAACAGCTTTTTTATTACTTTTATCTTTACCTGTTTTAGCTGGTGCTATTACTATGTTGTTAACAGATAGAAACTTTAATACGACTTTTTTCGATCCAGCGGGTGGCGGGGACCCAATATTATTTCAGCATCTATTTTGATTCTTTGGGCATCCAGAAGTTTATATTTTAATTTTGCCTGGTTTTGGTATGATTTCTCAAATAATCCCGACTTTTGTTGCTAAAAAACAAGTTTTCGGGTACTTAGGAATGGTTTATGCCATGCTTTCTATTGGGCTTCTGGGATTTATTGTTTGAGCTCATCATATGTTTACTGTTGGGATGGATGTAGATACAAGAGCATATTTTACTGCTGCTACTATGATTATTGCTGTGCCAACTGGGATTAAAGTTTTTAGTTGGTTGGCAACTATTTATGGAGGTGTTCTTAGGTTAGAGACTCCAATGCTTTGAGCTATGGGGTTTGTTTTTTtATTTACAGTTGGTGGTTTAACTGGGGTTGTATTAGCAAATAGTTCTCTTGATATTGTTCTACATGATACATATTATGTAGTTGCGCATTTTCATTATGTTCTTTCTATGGGGGCTGTTTTTGCTATCTTTGGGGGATTTTACTATTGAATTGGAAAAATAAGTGGTTATTGTTATAATGAATTTTTTGGGAAAGTTCATTTTTGATTAATGTTTATCGGGGTTAATTTAACTTTTTtCCCTCAACATTTTTtAGGTTTAGCAGGATTTCCAAGACGATACTCGGATTATGCAGATGCTTTTTTGGGTTGAAATTTAATAAGTTCTTTAGGGTCTATTATTTCTATTTTGAGTGTTGTTTGGTTTTTATATATTGTTTTTGATCTTTTTGTTACAGAAGAAAAATTTTTGGGTTGAAAAGAAGGATTTTCTTTAGAATGAATTCATTCTTCTCCCCCCTTATTTCATACTTATGAGGAGTTGCCTTTTGTACAAAAATAAATAATTTTTAGAATAGTGCCGGGTTTATATACCGGTTTTGTAAGAAGACAAAGGGTTAGTCTTTGGGTTCATGCCCCAAATAAGTGAGTTCGAATCTCTCTCTTACACAAAATAAAAaTTATAAAAAAAaaGAGGATAACTAAGATAAACTAAAATTAGACGATTTTTTtCGA\r",
        "\r\n",
        ">Spi_contig00044  gene=isogroup00001  length=1596\r",
        "\r\n",
        "GTTTATTAGTGCGTGTACTACTtGATCAACActACACCCTTGTTTATTCGTaGATATTAATTtATCAACAtACTTCtCcACcATAAaTTACCTTTAATATCTAGTGTTCATGTCTACATCAGGTAAGGGTCTCCAGACACTTCAaCCAAAAGCCGAAATTGACAATCGCTAAACACGATCGTACGTTTTACTGAAACGGGCATCTCGTTtCTTCATGAAAATGGTGCAATATTTGACAACTCATTGATAAAAaCCCaGATTAAAATGCTCagCAcAGACTCGcgAAAAAATGCCAATGCCTTaCGCTTAAtttgtCTAATCTAATATAATTTTTttGATTTtGCACTAACCACGCATTACAACTACATTTACTAAGGTTCTTGATAgTAATGAATTTATTTTtATTTATTTAAAAGTTCATATTTCATAGGAGATGTAAAAaTATTGACGGGCCCCTGTCTtGATAAtAAGAAaCTAGAATTTCCTCTTCTTGTTTTCAGGTAACAGACTTtGAAaTATAaTTTAAGTTTGGCCCTTTGctACGGAACATAAATATCACCTCACTCTTCTCCCAAATTGTTTtCAAATACGCAATACACAAACCCTTTCGCCAAGCCTTGTtcTTCCTTGGTTTTTAAGAGCCATTTTGGTATTTTCACACCGTAATATATTATTCATTCATTAGCCATTAATTAAATACGGCAAACTAGAACATTTtCTCTTTGGGATCGTTTAGATTAATACGAAGCCACAGAAaTACTTGTGTtgGTTCTTCCACACAaTATTAAAATCATTTTTCTCCTGACAAAACAAAgAGAAACTTGAcGgAGGTGAAAACCGTAGATCTTAAAGGGACATGATGTTGGTGATGACGATACTGACAAACTTGAACCCAACCgTTTGAAAATCaTTCCCTACACTTCACAAGTAAAGTTACAaCGATTGtAAGAAATTGAGgAAATTGTTTTGGTACTAATCAGAACAAAAaTCGAAaGAGAATTTCATTCATTTCTTTCAGCTTGAAAATCTTAATCATTATTGAatCATTCTTAAAAATTaTATCAAAATTCATTCATGTTtGGGtCtGTGCTCTGCATGACTAATAGCACTATCGCTTCCTTTATCGTGATTGACCCGGAAGCCGCCGATAATCGAAGGCCAAAATTGCCATACCGTCCACGCAGTCCAAGAGCCGAAGAAAAGAATCCAGAATGCTGTCACGTGAGCAGGAAAGGGTATGCTGATGGTTTCCCAACCGAATTTAACGCAGATTAGCACTTCTGTTGAGACAATGGCGGCGACAACCCAGGCCTGTTGTCCAAACCGCTTGCAGGTAGGGTCGTCCATGTATCTAAATGTTTCATTCAGTgCcACAGCTCCCATCCCAAGGTaCAGCGCCATACgAACTTGCATGATGAAATGAGGTGGAGGAATCCACAAAATAAACTTCATGTAAAACAGGTTTAACtcGGCCAGGAGGAACATAGCAGCAATTCCACAGACTGCCAGCCATCTAGTTAGACTTGTGGTCGCTTTCCAGTCATAAGACGTCCACGAATAAGGAGTGAATTGAGCAGCAACTCTTTTGAACTTGCc\r",
        "\r\n",
        ">Spi_contig00046  gene=isogroup00001  length=720\r",
        "\r\n",
        "cagactcagcagttctctgacgatggtaaccaacacttatttctggagtagcacatacagtgacagttcttctgattatgctgtgtgtcttggtttatgttggagcttttgaaaaaactaaggaaaacagTGAatgCAATACAAagAGGggACTtGTAGCcTGCATtGCAGtATTTTTGTTGTTTGGGGgTCACTCAGATAAGAGATGGTCCGTTCAAaCGACCTCACCCAGCTTTCTGGCGTATCATtCTTTGCCTAAGTGTTGTTTATGAaTTGGCTCTAATTTTtCTTTTATTCCAGACAACTCATGATGCCAGGCAGTTGCTAAaGTATCTTGATGAAGATTTAGGGAAaCCATTGCCAgaGCAATCTTATGGAGAGGACTGTAGGTTATACACACCAGGACACCCCAaGGGaTCaTTCCaTaCCTTtCTTGaGAAATGTGATGTCTTTATACCAGCTCATTTTTTCGGATGGTGGGCAAAGgcACTCATCCTTCGTGACTACTGGCTATTGACTGTCACTAGTGTTCTTTTTGAAGTCTTGGAATATTCCTTAGAGCATCAGTtaCCAAACTTCAGTGAATGCtGGtGGGATCATTGGATCATGGATGTTCTCATTTGTAATGGTTTTGGGGCATATCTTGGCATGAAGACTTGTGATTATCTTGGAAATAAGCCATATCACTGGAGAGGTTTATGGAACATTCCCACCTACAGT\r",
        "\r\n"
       ]
      }
     ],
     "prompt_number": 3
    },
    {
     "cell_type": "code",
     "collapsed": false,
     "input": [
      "!tail Spist.fasta"
     ],
     "language": "python",
     "metadata": {},
     "outputs": [
      {
       "output_type": "stream",
       "stream": "stdout",
       "text": [
        ">Spi_isotig15030  gene=isogroup12260  length=112\r",
        "\r\n",
        "GCCAGCTGTTGTGTCACAaGATTCAGATTTTAAACCCcaGATCACCACAGAAGAggTGAAAGGCTAATCGAACTTGGAAATAGCTGGTTTTCTGCGAAAACTaTTTAAGTAG\r",
        "\r\n",
        ">Spi_isotig15031  gene=isogroup12261  length=103\r",
        "\r\n",
        "ATGTAaGGAGAAGATTTTtAGGGAAGGAGAGTTCACCCTTAGAACcGATCCGTGAGcTGGGTTGATAGCGTCTGtCGGCAGTTTTTAcctcATGGTCTGATTT\r",
        "\r\n",
        ">Spi_isotig15032  gene=isogroup12262  length=95\r",
        "\r\n",
        "AATTCATCCATTTGTTTTTGTTGACTAaTATTATCTTCAGTGgCCTtCTCCCCTTCTTTCGGTAGAGGCGCCATCTTTAATTTTCAACACCTCTC\r",
        "\r\n",
        ">Spi_isotig15033  gene=isogroup12263  length=88\r",
        "\r\n",
        "GTGTGTGTGTGtGCGTGTGTGtGtGTGTGTGTGTGTGTGtgtgTGAGTGTGATTGagCACATTCTCATAAGTCTCGCATTagCGGAAT\r",
        "\r\n",
        ">Spi_isotig15034  gene=isogroup12264  length=75\r",
        "\r\n",
        "ggCTtGGCGAAgAGtAGatCATTAACTACATTCAGTCTCACAGTTAaCagTCACGCTGACAAGATGGgAGACTGG\r",
        "\r\n"
       ]
      }
     ],
     "prompt_number": 4
    },
    {
     "cell_type": "code",
     "collapsed": false,
     "input": [
      "!fgrep -c \">\" Spist.fasta"
     ],
     "language": "python",
     "metadata": {},
     "outputs": [
      {
       "output_type": "stream",
       "stream": "stdout",
       "text": [
        "15052\r\n"
       ]
      }
     ],
     "prompt_number": 5
    },
    {
     "cell_type": "code",
     "collapsed": false,
     "input": [
      "!blastx \\\n",
      "-query /Users/jay/Desktop/blast_jobs/Spist.fasta \\\n",
      "-db /Users/Shared/data/blast/db/uniprot_sprotFeb2015 \\\n",
      "-max_target_seqs 1 \\\n",
      "-max_hsps 1 \\\n",
      "-outfmt 6 \\\n",
      "-evalue 1E-05 \\\n",
      "-num_threads 8 \\\n",
      "-out /Users/jay/Desktop/blast_jobs/Spist_blastx_uniprot.tab"
     ],
     "language": "python",
     "metadata": {},
     "outputs": [
      {
       "output_type": "stream",
       "stream": "stdout",
       "text": [
        "Selenocysteine (U) at position 47 replaced by X\r\n"
       ]
      },
      {
       "output_type": "stream",
       "stream": "stdout",
       "text": [
        "Selenocysteine (U) at position 65 replaced by X\r\n",
        "Selenocysteine (U) at position 47 replaced by X\r\n",
        "Selenocysteine (U) at position 47 replaced by X\r\n",
        "Selenocysteine (U) at position 49 replaced by X\r\n",
        "Selenocysteine (U) at position 53 replaced by X\r\n",
        "Selenocysteine (U) at position 49 replaced by X\r\n",
        "Selenocysteine (U) at position 49 replaced by X\r\n",
        "Selenocysteine (U) at position 49 replaced by X\r\n",
        "Selenocysteine (U) at position 54 replaced by X\r\n",
        "Selenocysteine (U) at position 47 replaced by X\r\n"
       ]
      },
      {
       "output_type": "stream",
       "stream": "stdout",
       "text": [
        "Selenocysteine (U) at position 65 replaced by X\r\n",
        "Selenocysteine (U) at position 47 replaced by X\r\n",
        "Selenocysteine (U) at position 47 replaced by X\r\n",
        "Selenocysteine (U) at position 49 replaced by X\r\n",
        "Selenocysteine (U) at position 53 replaced by X\r\n",
        "Selenocysteine (U) at position 49 replaced by X\r\n",
        "Selenocysteine (U) at position 49 replaced by X\r\n",
        "Selenocysteine (U) at position 49 replaced by X\r\n",
        "Selenocysteine (U) at position 54 replaced by X\r\n"
       ]
      },
      {
       "output_type": "stream",
       "stream": "stdout",
       "text": [
        "Selenocysteine (U) at position 47 replaced by X\r\n"
       ]
      },
      {
       "output_type": "stream",
       "stream": "stdout",
       "text": [
        "Selenocysteine (U) at position 47 replaced by X\r\n"
       ]
      },
      {
       "output_type": "stream",
       "stream": "stdout",
       "text": [
        "Selenocysteine (U) at position 121 replaced by X\r\n",
        "Selenocysteine (U) at position 123 replaced by X\r\n",
        "Selenocysteine (U) at position 121 replaced by X\r\n",
        "Selenocysteine (U) at position 126 replaced by X\r\n",
        "Selenocysteine (U) at position 126 replaced by X\r\n",
        "Selenocysteine (U) at position 126 replaced by X\r\n",
        "Selenocysteine (U) at position 126 replaced by X\r\n",
        "Selenocysteine (U) at position 126 replaced by X\r\n",
        "Selenocysteine (U) at position 126 replaced by X\r\n",
        "Selenocysteine (U) at position 126 replaced by X\r\n",
        "Selenocysteine (U) at position 126 replaced by X\r\n",
        "Selenocysteine (U) at position 130 replaced by X\r\n",
        "Selenocysteine (U) at position 133 replaced by X\r\n",
        "Selenocysteine (U) at position 266 replaced by X\r\n",
        "Selenocysteine (U) at position 132 replaced by X\r\n",
        "Selenocysteine (U) at position 265 replaced by X\r\n",
        "Selenocysteine (U) at position 134 replaced by X\r\n",
        "Selenocysteine (U) at position 133 replaced by X\r\n",
        "Selenocysteine (U) at position 266 replaced by X\r\n",
        "Selenocysteine (U) at position 124 replaced by X\r\n",
        "Selenocysteine (U) at position 130 replaced by X\r\n",
        "Selenocysteine (U) at position 263 replaced by X\r\n",
        "Selenocysteine (U) at position 128 replaced by X\r\n",
        "Selenocysteine (U) at position 261 replaced by X\r\n",
        "Selenocysteine (U) at position 160 replaced by X\r\n",
        "Selenocysteine (U) at position 133 replaced by X\r\n",
        "Selenocysteine (U) at position 266 replaced by X\r\n",
        "Selenocysteine (U) at position 130 replaced by X\r\n",
        "Selenocysteine (U) at position 263 replaced by X\r\n",
        "Selenocysteine (U) at position 167 replaced by X\r\n",
        "Selenocysteine (U) at position 122 replaced by X\r\n",
        "Selenocysteine (U) at position 170 replaced by X\r\n",
        "Selenocysteine (U) at position 133 replaced by X\r\n",
        "Selenocysteine (U) at position 170 replaced by X\r\n",
        "Selenocysteine (U) at position 171 replaced by X\r\n",
        "Selenocysteine (U) at position 170 replaced by X\r\n",
        "Selenocysteine (U) at position 158 replaced by X\r\n",
        "Selenocysteine (U) at position 131 replaced by X\r\n",
        "Selenocysteine (U) at position 132 replaced by X\r\n"
       ]
      },
      {
       "output_type": "stream",
       "stream": "stdout",
       "text": [
        "Selenocysteine (U) at position 131 replaced by X\r\n"
       ]
      },
      {
       "output_type": "stream",
       "stream": "stdout",
       "text": [
        "Selenocysteine (U) at position 637 replaced by X\r\n",
        "Selenocysteine (U) at position 690 replaced by X\r\n"
       ]
      },
      {
       "output_type": "stream",
       "stream": "stdout",
       "text": [
        "Selenocysteine (U) at position 637 replaced by X\r\n",
        "Selenocysteine (U) at position 690 replaced by X\r\n"
       ]
      },
      {
       "output_type": "stream",
       "stream": "stdout",
       "text": [
        "Selenocysteine (U) at position 637 replaced by X\r\n",
        "Selenocysteine (U) at position 690 replaced by X\r\n"
       ]
      },
      {
       "output_type": "stream",
       "stream": "stdout",
       "text": [
        "Selenocysteine (U) at position 18 replaced by X\r\n",
        "Selenocysteine (U) at position 17 replaced by X\r\n",
        "Selenocysteine (U) at position 16 replaced by X\r\n",
        "Selenocysteine (U) at position 13 replaced by X\r\n",
        "Selenocysteine (U) at position 16 replaced by X\r\n"
       ]
      },
      {
       "output_type": "stream",
       "stream": "stdout",
       "text": [
        "Selenocysteine (U) at position 25 replaced by X\r\n",
        "Selenocysteine (U) at position 16 replaced by X\r\n",
        "Selenocysteine (U) at position 13 replaced by X\r\n",
        "Selenocysteine (U) at position 16 replaced by X\r\n",
        "Selenocysteine (U) at position 16 replaced by X\r\n",
        "Selenocysteine (U) at position 19 replaced by X\r\n",
        "Selenocysteine (U) at position 16 replaced by X\r\n",
        "Selenocysteine (U) at position 7 replaced by X\r\n",
        "Selenocysteine (U) at position 17 replaced by X\r\n",
        "Selenocysteine (U) at position 21 replaced by X\r\n",
        "Selenocysteine (U) at position 24 replaced by X\r\n",
        "Selenocysteine (U) at position 60 replaced by X\r\n",
        "Selenocysteine (U) at position 63 replaced by X\r\n",
        "Selenocysteine (U) at position 63 replaced by X\r\n"
       ]
      },
      {
       "output_type": "stream",
       "stream": "stdout",
       "text": [
        "Selenocysteine (U) at position 106 replaced by X\r\n"
       ]
      },
      {
       "output_type": "stream",
       "stream": "stdout",
       "text": [
        "Selenocysteine (U) at position 637 replaced by X\r\n",
        "Selenocysteine (U) at position 690 replaced by X\r\n"
       ]
      },
      {
       "output_type": "stream",
       "stream": "stdout",
       "text": [
        "Selenocysteine (U) at position 121 replaced by X\r\n",
        "Selenocysteine (U) at position 123 replaced by X\r\n",
        "Selenocysteine (U) at position 121 replaced by X\r\n",
        "Selenocysteine (U) at position 126 replaced by X\r\n",
        "Selenocysteine (U) at position 126 replaced by X\r\n",
        "Selenocysteine (U) at position 126 replaced by X\r\n",
        "Selenocysteine (U) at position 126 replaced by X\r\n",
        "Selenocysteine (U) at position 126 replaced by X\r\n",
        "Selenocysteine (U) at position 126 replaced by X\r\n",
        "Selenocysteine (U) at position 126 replaced by X\r\n",
        "Selenocysteine (U) at position 126 replaced by X\r\n",
        "Selenocysteine (U) at position 130 replaced by X\r\n",
        "Selenocysteine (U) at position 133 replaced by X\r\n",
        "Selenocysteine (U) at position 266 replaced by X\r\n",
        "Selenocysteine (U) at position 132 replaced by X\r\n",
        "Selenocysteine (U) at position 265 replaced by X\r\n",
        "Selenocysteine (U) at position 134 replaced by X\r\n",
        "Selenocysteine (U) at position 133 replaced by X\r\n",
        "Selenocysteine (U) at position 266 replaced by X\r\n",
        "Selenocysteine (U) at position 124 replaced by X\r\n",
        "Selenocysteine (U) at position 130 replaced by X\r\n",
        "Selenocysteine (U) at position 263 replaced by X\r\n",
        "Selenocysteine (U) at position 128 replaced by X\r\n",
        "Selenocysteine (U) at position 261 replaced by X\r\n",
        "Selenocysteine (U) at position 160 replaced by X\r\n",
        "Selenocysteine (U) at position 133 replaced by X\r\n",
        "Selenocysteine (U) at position 266 replaced by X\r\n",
        "Selenocysteine (U) at position 130 replaced by X\r\n",
        "Selenocysteine (U) at position 263 replaced by X\r\n",
        "Selenocysteine (U) at position 167 replaced by X\r\n",
        "Selenocysteine (U) at position 122 replaced by X\r\n",
        "Selenocysteine (U) at position 170 replaced by X\r\n"
       ]
      },
      {
       "output_type": "stream",
       "stream": "stdout",
       "text": [
        "Selenocysteine (U) at position 133 replaced by X\r\n",
        "Selenocysteine (U) at position 170 replaced by X\r\n",
        "Selenocysteine (U) at position 171 replaced by X\r\n",
        "Selenocysteine (U) at position 170 replaced by X\r\n",
        "Selenocysteine (U) at position 158 replaced by X\r\n",
        "Selenocysteine (U) at position 131 replaced by X\r\n",
        "Selenocysteine (U) at position 132 replaced by X\r\n"
       ]
      },
      {
       "output_type": "stream",
       "stream": "stdout",
       "text": [
        "Selenocysteine (U) at position 52 replaced by X\r\n",
        "Selenocysteine (U) at position 47 replaced by X\r\n",
        "Selenocysteine (U) at position 49 replaced by X\r\n",
        "Selenocysteine (U) at position 47 replaced by X\r\n",
        "Selenocysteine (U) at position 47 replaced by X\r\n",
        "Selenocysteine (U) at position 47 replaced by X\r\n",
        "Selenocysteine (U) at position 47 replaced by X\r\n",
        "Selenocysteine (U) at position 52 replaced by X\r\n",
        "Selenocysteine (U) at position 47 replaced by X\r\n",
        "Selenocysteine (U) at position 46 replaced by X\r\n",
        "Selenocysteine (U) at position 47 replaced by X\r\n",
        "Selenocysteine (U) at position 47 replaced by X\r\n",
        "Selenocysteine (U) at position 43 replaced by X\r\n",
        "Selenocysteine (U) at position 40 replaced by X\r\n",
        "Selenocysteine (U) at position 40 replaced by X\r\n",
        "Selenocysteine (U) at position 40 replaced by X\r\n",
        "Selenocysteine (U) at position 40 replaced by X\r\n",
        "Selenocysteine (U) at position 40 replaced by X\r\n",
        "Selenocysteine (U) at position 40 replaced by X\r\n",
        "Selenocysteine (U) at position 40 replaced by X\r\n",
        "Selenocysteine (U) at position 40 replaced by X\r\n",
        "Selenocysteine (U) at position 73 replaced by X\r\n",
        "Selenocysteine (U) at position 73 replaced by X\r\n",
        "Selenocysteine (U) at position 73 replaced by X\r\n",
        "Selenocysteine (U) at position 73 replaced by X\r\n",
        "Selenocysteine (U) at position 73 replaced by X\r\n",
        "Selenocysteine (U) at position 73 replaced by X\r\n",
        "Selenocysteine (U) at position 73 replaced by X\r\n",
        "Selenocysteine (U) at position 73 replaced by X\r\n",
        "Selenocysteine (U) at position 73 replaced by X\r\n",
        "Selenocysteine (U) at position 64 replaced by X\r\n",
        "Selenocysteine (U) at position 28 replaced by X\r\n"
       ]
      },
      {
       "output_type": "stream",
       "stream": "stdout",
       "text": [
        "Selenocysteine (U) at position 93 replaced by X\r\n",
        "Selenocysteine (U) at position 84 replaced by X\r\n",
        "Selenocysteine (U) at position 93 replaced by X\r\n",
        "Selenocysteine (U) at position 93 replaced by X\r\n",
        "Selenocysteine (U) at position 84 replaced by X\r\n"
       ]
      },
      {
       "output_type": "stream",
       "stream": "stdout",
       "text": [
        "Selenocysteine (U) at position 93 replaced by X\r\n",
        "Selenocysteine (U) at position 93 replaced by X\r\n"
       ]
      },
      {
       "output_type": "stream",
       "stream": "stdout",
       "text": [
        "Selenocysteine (U) at position 121 replaced by X\r\n",
        "Selenocysteine (U) at position 123 replaced by X\r\n",
        "Selenocysteine (U) at position 121 replaced by X\r\n",
        "Selenocysteine (U) at position 126 replaced by X\r\n",
        "Selenocysteine (U) at position 126 replaced by X\r\n",
        "Selenocysteine (U) at position 126 replaced by X\r\n",
        "Selenocysteine (U) at position 126 replaced by X\r\n",
        "Selenocysteine (U) at position 126 replaced by X\r\n",
        "Selenocysteine (U) at position 126 replaced by X\r\n",
        "Selenocysteine (U) at position 126 replaced by X\r\n",
        "Selenocysteine (U) at position 126 replaced by X\r\n",
        "Selenocysteine (U) at position 130 replaced by X\r\n",
        "Selenocysteine (U) at position 133 replaced by X\r\n",
        "Selenocysteine (U) at position 266 replaced by X\r\n",
        "Selenocysteine (U) at position 132 replaced by X\r\n",
        "Selenocysteine (U) at position 265 replaced by X\r\n",
        "Selenocysteine (U) at position 134 replaced by X\r\n",
        "Selenocysteine (U) at position 133 replaced by X\r\n",
        "Selenocysteine (U) at position 266 replaced by X\r\n",
        "Selenocysteine (U) at position 124 replaced by X\r\n",
        "Selenocysteine (U) at position 130 replaced by X\r\n",
        "Selenocysteine (U) at position 263 replaced by X\r\n",
        "Selenocysteine (U) at position 128 replaced by X\r\n",
        "Selenocysteine (U) at position 261 replaced by X\r\n",
        "Selenocysteine (U) at position 160 replaced by X\r\n",
        "Selenocysteine (U) at position 133 replaced by X\r\n",
        "Selenocysteine (U) at position 266 replaced by X\r\n",
        "Selenocysteine (U) at position 130 replaced by X\r\n",
        "Selenocysteine (U) at position 263 replaced by X\r\n",
        "Selenocysteine (U) at position 167 replaced by X\r\n",
        "Selenocysteine (U) at position 122 replaced by X\r\n",
        "Selenocysteine (U) at position 170 replaced by X\r\n",
        "Selenocysteine (U) at position 133 replaced by X\r\n",
        "Selenocysteine (U) at position 170 replaced by X\r\n",
        "Selenocysteine (U) at position 171 replaced by X\r\n",
        "Selenocysteine (U) at position 170 replaced by X\r\n",
        "Selenocysteine (U) at position 158 replaced by X\r\n",
        "Selenocysteine (U) at position 131 replaced by X\r\n",
        "Selenocysteine (U) at position 132 replaced by X\r\n"
       ]
      },
      {
       "output_type": "stream",
       "stream": "stdout",
       "text": [
        "Selenocysteine (U) at position 189 replaced by X\r\n"
       ]
      },
      {
       "output_type": "stream",
       "stream": "stdout",
       "text": [
        "Selenocysteine (U) at position 85 replaced by X\r\n",
        "Selenocysteine (U) at position 74 replaced by X\r\n"
       ]
      },
      {
       "output_type": "stream",
       "stream": "stdout",
       "text": [
        "Selenocysteine (U) at position 59 replaced by X\r\n",
        "Selenocysteine (U) at position 267 replaced by X\r\n",
        "Selenocysteine (U) at position 273 replaced by X\r\n",
        "Selenocysteine (U) at position 279 replaced by X\r\n",
        "Selenocysteine (U) at position 290 replaced by X\r\n",
        "Selenocysteine (U) at position 292 replaced by X\r\n",
        "Selenocysteine (U) at position 294 replaced by X\r\n",
        "Selenocysteine (U) at position 310 replaced by X\r\n",
        "Selenocysteine (U) at position 320 replaced by X\r\n",
        "Selenocysteine (U) at position 322 replaced by X\r\n",
        "Selenocysteine (U) at position 336 replaced by X\r\n",
        "Selenocysteine (U) at position 338 replaced by X\r\n",
        "Selenocysteine (U) at position 346 replaced by X\r\n",
        "Selenocysteine (U) at position 353 replaced by X\r\n",
        "Selenocysteine (U) at position 355 replaced by X\r\n",
        "Selenocysteine (U) at position 362 replaced by X\r\n",
        "Selenocysteine (U) at position 364 replaced by X\r\n",
        "Selenocysteine (U) at position 64 replaced by X\r\n",
        "Selenocysteine (U) at position 59 replaced by X\r\n",
        "Selenocysteine (U) at position 297 replaced by X\r\n",
        "Selenocysteine (U) at position 307 replaced by X\r\n",
        "Selenocysteine (U) at position 338 replaced by X\r\n",
        "Selenocysteine (U) at position 350 replaced by X\r\n",
        "Selenocysteine (U) at position 363 replaced by X\r\n",
        "Selenocysteine (U) at position 365 replaced by X\r\n",
        "Selenocysteine (U) at position 372 replaced by X\r\n",
        "Selenocysteine (U) at position 388 replaced by X\r\n",
        "Selenocysteine (U) at position 390 replaced by X\r\n",
        "Selenocysteine (U) at position 397 replaced by X\r\n",
        "Selenocysteine (U) at position 399 replaced by X\r\n",
        "Selenocysteine (U) at position 59 replaced by X\r\n",
        "Selenocysteine (U) at position 300 replaced by X\r\n",
        "Selenocysteine (U) at position 318 replaced by X\r\n",
        "Selenocysteine (U) at position 330 replaced by X\r\n",
        "Selenocysteine (U) at position 345 replaced by X\r\n",
        "Selenocysteine (U) at position 352 replaced by X\r\n",
        "Selenocysteine (U) at position 367 replaced by X\r\n",
        "Selenocysteine (U) at position 369 replaced by X\r\n",
        "Selenocysteine (U) at position 376 replaced by X\r\n",
        "Selenocysteine (U) at position 378 replaced by X\r\n",
        "Selenocysteine (U) at position 59 replaced by X\r\n",
        "Selenocysteine (U) at position 259 replaced by X\r\n",
        "Selenocysteine (U) at position 277 replaced by X\r\n",
        "Selenocysteine (U) at position 318 replaced by X\r\n",
        "Selenocysteine (U) at position 330 replaced by X\r\n",
        "Selenocysteine (U) at position 352 replaced by X\r\n",
        "Selenocysteine (U) at position 366 replaced by X\r\n",
        "Selenocysteine (U) at position 368 replaced by X\r\n",
        "Selenocysteine (U) at position 375 replaced by X\r\n",
        "Selenocysteine (U) at position 377 replaced by X\r\n",
        "Selenocysteine (U) at position 59 replaced by X\r\n",
        "Selenocysteine (U) at position 318 replaced by X\r\n",
        "Selenocysteine (U) at position 330 replaced by X\r\n",
        "Selenocysteine (U) at position 345 replaced by X\r\n",
        "Selenocysteine (U) at position 352 replaced by X\r\n",
        "Selenocysteine (U) at position 367 replaced by X\r\n",
        "Selenocysteine (U) at position 369 replaced by X\r\n",
        "Selenocysteine (U) at position 376 replaced by X\r\n",
        "Selenocysteine (U) at position 378 replaced by X\r\n",
        "Selenocysteine (U) at position 59 replaced by X\r\n",
        "Selenocysteine (U) at position 264 replaced by X\r\n",
        "Selenocysteine (U) at position 282 replaced by X\r\n",
        "Selenocysteine (U) at position 323 replaced by X\r\n",
        "Selenocysteine (U) at position 335 replaced by X\r\n",
        "Selenocysteine (U) at position 357 replaced by X\r\n",
        "Selenocysteine (U) at position 371 replaced by X\r\n",
        "Selenocysteine (U) at position 373 replaced by X\r\n",
        "Selenocysteine (U) at position 380 replaced by X\r\n",
        "Selenocysteine (U) at position 382 replaced by X\r\n"
       ]
      },
      {
       "output_type": "stream",
       "stream": "stdout",
       "text": [
        "Selenocysteine (U) at position 121 replaced by X\r\n",
        "Selenocysteine (U) at position 123 replaced by X\r\n",
        "Selenocysteine (U) at position 121 replaced by X\r\n",
        "Selenocysteine (U) at position 126 replaced by X\r\n"
       ]
      },
      {
       "output_type": "stream",
       "stream": "stdout",
       "text": [
        "Selenocysteine (U) at position 126 replaced by X\r\n",
        "Selenocysteine (U) at position 126 replaced by X\r\n",
        "Selenocysteine (U) at position 126 replaced by X\r\n",
        "Selenocysteine (U) at position 126 replaced by X\r\n",
        "Selenocysteine (U) at position 126 replaced by X\r\n",
        "Selenocysteine (U) at position 126 replaced by X\r\n",
        "Selenocysteine (U) at position 126 replaced by X\r\n",
        "Selenocysteine (U) at position 130 replaced by X\r\n",
        "Selenocysteine (U) at position 133 replaced by X\r\n",
        "Selenocysteine (U) at position 266 replaced by X\r\n",
        "Selenocysteine (U) at position 132 replaced by X\r\n",
        "Selenocysteine (U) at position 265 replaced by X\r\n",
        "Selenocysteine (U) at position 134 replaced by X\r\n",
        "Selenocysteine (U) at position 133 replaced by X\r\n",
        "Selenocysteine (U) at position 266 replaced by X\r\n",
        "Selenocysteine (U) at position 124 replaced by X\r\n",
        "Selenocysteine (U) at position 130 replaced by X\r\n",
        "Selenocysteine (U) at position 263 replaced by X\r\n",
        "Selenocysteine (U) at position 128 replaced by X\r\n",
        "Selenocysteine (U) at position 261 replaced by X\r\n",
        "Selenocysteine (U) at position 160 replaced by X\r\n",
        "Selenocysteine (U) at position 133 replaced by X\r\n",
        "Selenocysteine (U) at position 266 replaced by X\r\n",
        "Selenocysteine (U) at position 130 replaced by X\r\n",
        "Selenocysteine (U) at position 263 replaced by X\r\n",
        "Selenocysteine (U) at position 167 replaced by X\r\n",
        "Selenocysteine (U) at position 122 replaced by X\r\n",
        "Selenocysteine (U) at position 170 replaced by X\r\n",
        "Selenocysteine (U) at position 133 replaced by X\r\n",
        "Selenocysteine (U) at position 170 replaced by X\r\n",
        "Selenocysteine (U) at position 171 replaced by X\r\n",
        "Selenocysteine (U) at position 170 replaced by X\r\n",
        "Selenocysteine (U) at position 158 replaced by X\r\n",
        "Selenocysteine (U) at position 131 replaced by X\r\n",
        "Selenocysteine (U) at position 132 replaced by X\r\n"
       ]
      },
      {
       "output_type": "stream",
       "stream": "stdout",
       "text": [
        "Selenocysteine (U) at position 85 replaced by X\r\n",
        "Selenocysteine (U) at position 74 replaced by X\r\n"
       ]
      },
      {
       "output_type": "stream",
       "stream": "stdout",
       "text": [
        "Selenocysteine (U) at position 47 replaced by X\r\n"
       ]
      },
      {
       "output_type": "stream",
       "stream": "stdout",
       "text": [
        "Selenocysteine (U) at position 637 replaced by X\r\n",
        "Selenocysteine (U) at position 690 replaced by X\r\n"
       ]
      },
      {
       "output_type": "stream",
       "stream": "stdout",
       "text": [
        "Selenocysteine (U) at position 690 replaced by X\r\n"
       ]
      },
      {
       "output_type": "stream",
       "stream": "stdout",
       "text": [
        "Selenocysteine (U) at position 498 replaced by X\r\n",
        "Selenocysteine (U) at position 666 replaced by X\r\n",
        "Selenocysteine (U) at position 494 replaced by X\r\n",
        "Selenocysteine (U) at position 648 replaced by X\r\n",
        "Selenocysteine (U) at position 612 replaced by X\r\n",
        "Selenocysteine (U) at position 498 replaced by X\r\n",
        "Selenocysteine (U) at position 498 replaced by X\r\n",
        "Selenocysteine (U) at position 498 replaced by X\r\n",
        "Selenocysteine (U) at position 510 replaced by X\r\n",
        "Selenocysteine (U) at position 523 replaced by X\r\n",
        "Selenocysteine (U) at position 523 replaced by X\r\n",
        "Selenocysteine (U) at position 525 replaced by X\r\n",
        "Selenocysteine (U) at position 642 replaced by X\r\n",
        "Selenocysteine (U) at position 651 replaced by X\r\n"
       ]
      },
      {
       "output_type": "stream",
       "stream": "stdout",
       "text": [
        "Selenocysteine (U) at position 37 replaced by X\r\n"
       ]
      },
      {
       "output_type": "stream",
       "stream": "stdout",
       "text": [
        "Selenocysteine (U) at position 44 replaced by X\r\n",
        "Selenocysteine (U) at position 44 replaced by X\r\n",
        "Selenocysteine (U) at position 38 replaced by X\r\n"
       ]
      },
      {
       "output_type": "stream",
       "stream": "stdout",
       "text": [
        "Selenocysteine (U) at position 637 replaced by X\r\n",
        "Selenocysteine (U) at position 690 replaced by X\r\n"
       ]
      },
      {
       "output_type": "stream",
       "stream": "stdout",
       "text": [
        "Selenocysteine (U) at position 52 replaced by X\r\n",
        "Selenocysteine (U) at position 47 replaced by X\r\n",
        "Selenocysteine (U) at position 49 replaced by X\r\n",
        "Selenocysteine (U) at position 47 replaced by X\r\n",
        "Selenocysteine (U) at position 47 replaced by X\r\n",
        "Selenocysteine (U) at position 47 replaced by X\r\n",
        "Selenocysteine (U) at position 47 replaced by X\r\n",
        "Selenocysteine (U) at position 52 replaced by X\r\n",
        "Selenocysteine (U) at position 47 replaced by X\r\n",
        "Selenocysteine (U) at position 46 replaced by X\r\n",
        "Selenocysteine (U) at position 47 replaced by X\r\n",
        "Selenocysteine (U) at position 47 replaced by X\r\n",
        "Selenocysteine (U) at position 43 replaced by X\r\n",
        "Selenocysteine (U) at position 40 replaced by X\r\n",
        "Selenocysteine (U) at position 40 replaced by X\r\n",
        "Selenocysteine (U) at position 40 replaced by X\r\n",
        "Selenocysteine (U) at position 40 replaced by X\r\n",
        "Selenocysteine (U) at position 40 replaced by X\r\n",
        "Selenocysteine (U) at position 40 replaced by X\r\n",
        "Selenocysteine (U) at position 40 replaced by X\r\n",
        "Selenocysteine (U) at position 40 replaced by X\r\n",
        "Selenocysteine (U) at position 73 replaced by X\r\n",
        "Selenocysteine (U) at position 73 replaced by X\r\n",
        "Selenocysteine (U) at position 73 replaced by X\r\n",
        "Selenocysteine (U) at position 73 replaced by X\r\n",
        "Selenocysteine (U) at position 73 replaced by X\r\n",
        "Selenocysteine (U) at position 73 replaced by X\r\n",
        "Selenocysteine (U) at position 73 replaced by X\r\n",
        "Selenocysteine (U) at position 73 replaced by X\r\n",
        "Selenocysteine (U) at position 73 replaced by X\r\n",
        "Selenocysteine (U) at position 64 replaced by X\r\n",
        "Selenocysteine (U) at position 28 replaced by X\r\n"
       ]
      },
      {
       "output_type": "stream",
       "stream": "stdout",
       "text": [
        "Selenocysteine (U) at position 637 replaced by X\r\n",
        "Selenocysteine (U) at position 690 replaced by X\r\n"
       ]
      },
      {
       "output_type": "stream",
       "stream": "stdout",
       "text": [
        "Selenocysteine (U) at position 93 replaced by X\r\n",
        "Selenocysteine (U) at position 95 replaced by X\r\n",
        "Selenocysteine (U) at position 95 replaced by X\r\n",
        "Selenocysteine (U) at position 95 replaced by X\r\n",
        "Selenocysteine (U) at position 95 replaced by X\r\n",
        "Selenocysteine (U) at position 95 replaced by X\r\n",
        "Selenocysteine (U) at position 95 replaced by X\r\n"
       ]
      },
      {
       "output_type": "stream",
       "stream": "stdout",
       "text": [
        "Selenocysteine (U) at position 38 replaced by X\r\n",
        "Selenocysteine (U) at position 38 replaced by X\r\n",
        "Selenocysteine (U) at position 48 replaced by X\r\n",
        "Selenocysteine (U) at position 48 replaced by X\r\n",
        "Selenocysteine (U) at position 41 replaced by X\r\n"
       ]
      },
      {
       "output_type": "stream",
       "stream": "stdout",
       "text": [
        "Selenocysteine (U) at position 637 replaced by X\r\n"
       ]
      },
      {
       "output_type": "stream",
       "stream": "stdout",
       "text": [
        "Selenocysteine (U) at position 273 replaced by X\r\n",
        "Selenocysteine (U) at position 13 replaced by X\r\n",
        "Selenocysteine (U) at position 13 replaced by X\r\n",
        "Selenocysteine (U) at position 13 replaced by X\r\n",
        "Selenocysteine (U) at position 13 replaced by X\r\n",
        "Selenocysteine (U) at position 13 replaced by X\r\n",
        "Selenocysteine (U) at position 13 replaced by X\r\n",
        "Selenocysteine (U) at position 13 replaced by X\r\n",
        "Selenocysteine (U) at position 13 replaced by X\r\n",
        "Selenocysteine (U) at position 13 replaced by X\r\n"
       ]
      },
      {
       "output_type": "stream",
       "stream": "stdout",
       "text": [
        "Selenocysteine (U) at position 106 replaced by X\r\n"
       ]
      },
      {
       "output_type": "stream",
       "stream": "stdout",
       "text": [
        "Selenocysteine (U) at position 690 replaced by X\r\n",
        "Selenocysteine (U) at position 667 replaced by X\r\n",
        "Selenocysteine (U) at position 665 replaced by X\r\n"
       ]
      },
      {
       "output_type": "stream",
       "stream": "stdout",
       "text": [
        "Selenocysteine (U) at position 637 replaced by X\r\n",
        "Selenocysteine (U) at position 690 replaced by X\r\n"
       ]
      },
      {
       "output_type": "stream",
       "stream": "stdout",
       "text": [
        "Selenocysteine (U) at position 106 replaced by X\r\n"
       ]
      },
      {
       "output_type": "stream",
       "stream": "stdout",
       "text": [
        "Selenocysteine (U) at position 273 replaced by X\r\n",
        "Selenocysteine (U) at position 13 replaced by X\r\n",
        "Selenocysteine (U) at position 13 replaced by X\r\n",
        "Selenocysteine (U) at position 13 replaced by X\r\n",
        "Selenocysteine (U) at position 13 replaced by X\r\n",
        "Selenocysteine (U) at position 13 replaced by X\r\n",
        "Selenocysteine (U) at position 13 replaced by X\r\n",
        "Selenocysteine (U) at position 13 replaced by X\r\n",
        "Selenocysteine (U) at position 13 replaced by X\r\n",
        "Selenocysteine (U) at position 13 replaced by X\r\n"
       ]
      },
      {
       "output_type": "stream",
       "stream": "stdout",
       "text": [
        "Selenocysteine (U) at position 690 replaced by X\r\n"
       ]
      },
      {
       "output_type": "stream",
       "stream": "stdout",
       "text": [
        "Selenocysteine (U) at position 498 replaced by X\r\n",
        "Selenocysteine (U) at position 666 replaced by X\r\n",
        "Selenocysteine (U) at position 494 replaced by X\r\n",
        "Selenocysteine (U) at position 648 replaced by X\r\n",
        "Selenocysteine (U) at position 612 replaced by X\r\n",
        "Selenocysteine (U) at position 498 replaced by X\r\n",
        "Selenocysteine (U) at position 498 replaced by X\r\n",
        "Selenocysteine (U) at position 498 replaced by X\r\n",
        "Selenocysteine (U) at position 510 replaced by X\r\n",
        "Selenocysteine (U) at position 523 replaced by X\r\n",
        "Selenocysteine (U) at position 523 replaced by X\r\n",
        "Selenocysteine (U) at position 525 replaced by X\r\n",
        "Selenocysteine (U) at position 642 replaced by X\r\n",
        "Selenocysteine (U) at position 651 replaced by X\r\n"
       ]
      },
      {
       "output_type": "stream",
       "stream": "stdout",
       "text": [
        "Selenocysteine (U) at position 637 replaced by X\r\n",
        "Selenocysteine (U) at position 690 replaced by X\r\n"
       ]
      },
      {
       "output_type": "stream",
       "stream": "stdout",
       "text": [
        "Selenocysteine (U) at position 637 replaced by X\r\n"
       ]
      },
      {
       "output_type": "stream",
       "stream": "stdout",
       "text": [
        "Selenocysteine (U) at position 47 replaced by X\r\n"
       ]
      },
      {
       "output_type": "stream",
       "stream": "stdout",
       "text": [
        "Selenocysteine (U) at position 637 replaced by X\r\n",
        "Selenocysteine (U) at position 690 replaced by X\r\n",
        "Selenocysteine (U) at position 93 replaced by X\r\n",
        "Selenocysteine (U) at position 92 replaced by X\r\n",
        "Selenocysteine (U) at position 92 replaced by X\r\n",
        "Selenocysteine (U) at position 92 replaced by X\r\n",
        "Selenocysteine (U) at position 92 replaced by X\r\n",
        "Selenocysteine (U) at position 92 replaced by X\r\n",
        "Selenocysteine (U) at position 92 replaced by X\r\n",
        "Selenocysteine (U) at position 92 replaced by X\r\n",
        "Selenocysteine (U) at position 93 replaced by X\r\n",
        "Selenocysteine (U) at position 93 replaced by X\r\n"
       ]
      },
      {
       "output_type": "stream",
       "stream": "stdout",
       "text": [
        "Selenocysteine (U) at position 106 replaced by X\r\n"
       ]
      }
     ],
     "prompt_number": 6
    },
    {
     "cell_type": "code",
     "collapsed": false,
     "input": [
      "!head -10 /Users/jay/Desktop/blast_jobs/Spist_blastx_uniprot.tab"
     ],
     "language": "python",
     "metadata": {},
     "outputs": [
      {
       "output_type": "stream",
       "stream": "stdout",
       "text": [
        "Spi_contig00032\tsp|Q9W6H5|UBC9A_DANRE\t85.81\t155\t22\t0\t133\t597\t1\t155\t1e-95\t  293\r\n",
        "Spi_contig00035\tsp|P80204|TGFR1_RAT\t69.77\t258\t78\t0\t2\t775\t244\t501\t2e-129\t  397\r\n",
        "Spi_contig00040\tsp|Q35101|COX1_METSE\t82.85\t449\t72\t1\t605\t1936\t70\t518\t0.0\t  665\r\n",
        "Spi_contig00046\tsp|E7EY42|PTSS2_DANRE\t56.41\t234\t101\t1\t19\t720\t26\t258\t6e-91\t  281\r\n",
        "Spi_contig00075\tsp|Q37556|NU1M_METSE\t80.16\t247\t48\t1\t1719\t2456\t29\t275\t3e-104\t  333\r\n",
        "Spi_contig00094\tsp|P00519|ABL1_HUMAN\t48.15\t54\t28\t0\t2494\t2333\t443\t496\t2e-09\t65.1\r\n",
        "Spi_contig00095\tsp|P20693|FCER2_MOUSE\t28.57\t203\t122\t5\t831\t229\t128\t309\t6e-18\t87.0\r\n",
        "Spi_contig00834\tsp|P19615|MYP_STRPU\t32.94\t598\t321\t18\t50\t1741\t132\t683\t2e-84\t  294\r\n",
        "Spi_isotig00002\tsp|Q5I2B1|ACTPG_OULOR\t56.49\t131\t56\t1\t1429\t1037\t7\t136\t6e-41\t  151\r\n",
        "Spi_isotig00005\tsp|C9EIC7|ACTP1_URTCR\t51.67\t120\t57\t1\t1444\t1085\t54\t172\t2e-31\t  126\r\n"
       ]
      }
     ],
     "prompt_number": 7
    },
    {
     "cell_type": "code",
     "collapsed": false,
     "input": [
      "!tail -10 /Users/jay/Desktop/blast_jobs/Spist_blastx_uniprot.tab"
     ],
     "language": "python",
     "metadata": {},
     "outputs": [
      {
       "output_type": "stream",
       "stream": "stdout",
       "text": [
        "Spi_isotig14970\tsp|Q9Y2Y1|RPC10_HUMAN\t82.35\t51\t7\t1\t29\t175\t58\t108\t4e-23\t91.3\r\n",
        "Spi_isotig14971\tsp|Q6DK93|CNFN_XENTR\t44.19\t43\t24\t0\t320\t192\t66\t108\t2e-06\t46.2\r\n",
        "Spi_isotig14981\tsp|Q0VCN3|IFT27_BOVIN\t60.53\t38\t15\t0\t306\t193\t148\t185\t3e-06\t46.6\r\n",
        "Spi_isotig14983\tsp|P62972|UBIQP_XENLA\t71.43\t70\t20\t0\t89\t298\t25\t94\t1e-25\t99.4\r\n",
        "Spi_isotig14984\tsp|P18700|TBB_STRPU\t94.62\t93\t5\t0\t18\t296\t105\t197\t6e-59\t  188\r\n",
        "Spi_isotig14993\tsp|Q9C000|NALP1_HUMAN\t35.56\t90\t30\t1\t13\t198\t807\t896\t4e-07\t51.2\r\n",
        "Spi_isotig14997\tsp|Q09694|LYS1_SCHPO\t40.45\t89\t52\t1\t1\t267\t96\t183\t1e-18\t82.4\r\n",
        "Spi_isotig14998\tsp|Q291J5|CLU_DROPS\t35.00\t80\t52\t0\t33\t272\t1214\t1293\t6e-06\t47.4\r\n",
        "Spi_isotig15014\tsp|Q26630|IDLC_STRPU\t84.62\t39\t6\t0\t88\t204\t1\t39\t1e-14\t69.3\r\n",
        "Spi_isotig15025\tsp|Q7SYU0|RS8_XENLA\t87.80\t41\t5\t0\t123\t1\t66\t106\t8e-18\t76.6\r\n"
       ]
      }
     ],
     "prompt_number": 8
    },
    {
     "cell_type": "code",
     "collapsed": false,
     "input": [
      "!wc /Users/jay/Desktop/blast_jobs/Spist_blastx_uniprot.tab"
     ],
     "language": "python",
     "metadata": {},
     "outputs": [
      {
       "output_type": "stream",
       "stream": "stdout",
       "text": [
        "    7130   85560  565789 /Users/jay/Desktop/blast_jobs/Spist_blastx_uniprot.tab\r\n"
       ]
      }
     ],
     "prompt_number": 9
    },
    {
     "cell_type": "code",
     "collapsed": false,
     "input": [],
     "language": "python",
     "metadata": {},
     "outputs": []
    }
   ],
   "metadata": {}
  }
 ]
}