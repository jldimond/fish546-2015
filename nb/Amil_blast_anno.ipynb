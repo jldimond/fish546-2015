{
 "metadata": {
  "name": "",
  "signature": "sha256:284f4ad655c9eddbd4d28d531e373d34361aa34af0ec3eca466b9d7651c4f306"
 },
 "nbformat": 3,
 "nbformat_minor": 0,
 "worksheets": [
  {
   "cells": [
    {
     "cell_type": "heading",
     "level": 1,
     "metadata": {},
     "source": [
      "Blast and GOSlim annotation of *Acropora millepora* transcriptome "
     ]
    },
    {
     "cell_type": "markdown",
     "metadata": {},
     "source": [
      "This workflow details the annotation of an *Acropora millepora* [transcriptome](http://www.ncbi.nlm.nih.gov/nuccore?term=74409%5BBioProject%5D)\n",
      "\n",
      "The workflow assumes that you already have a blastx database in place, and that you use SQLshare to create the final annotation. Information on setting up a blast database can be found [here](http://nbviewer.ipython.org/github/sr320/austral/blob/master/modules/01-Piura-Annotation/01-Local_BLAST.ipynb). Information on SQLshare can be found [here](https://sqlshare.escience.washington.edu/). "
     ]
    },
    {
     "cell_type": "code",
     "collapsed": false,
     "input": [
      "#Create directories\n",
      "!mkdir ./Data\n",
      "!mkdir ./Data/Amil\n",
      "!mkdir ./Analyses\n",
      "!mkdir ./Analyses/Amil"
     ],
     "language": "python",
     "metadata": {},
     "outputs": []
    },
    {
     "cell_type": "code",
     "collapsed": false,
     "input": [
      "cd ./Data/Amil"
     ],
     "language": "python",
     "metadata": {},
     "outputs": []
    },
    {
     "cell_type": "code",
     "collapsed": false,
     "input": [
      "#Obtain FASTA file\n",
      "!wget http://www.ncbi.nlm.nih.gov/nuccore?term=74409%5BBioProject%5D"
     ],
     "language": "python",
     "metadata": {},
     "outputs": []
    },
    {
     "cell_type": "code",
     "collapsed": false,
     "input": [
      "!head Amil_Moya.fasta"
     ],
     "language": "python",
     "metadata": {},
     "outputs": [
      {
       "output_type": "stream",
       "stream": "stdout",
       "text": [
        ">gi|379072745|gb|JR970414.1| TSA: Acropora millepora Cluster034439.Acmimixed mRNA sequence\r\n",
        "TCATCATTATTTCTTTTTGTTTTTCTGTGATCTTCGGTCAATGCGATAGATCCTCGAGTTATCGTGACTG\r\n",
        "CGCTCCAGACCAAGTCTGTTGTAGGAGGCAGTGTTTTTACAGCTCGAACTGTTTATATCTGTCTTGCTCC\r\n",
        "ATGGACTCCGATTGTTCAGTGAATGAAGTCTGTTGTAGCAGCAAGTGTCGTTCTGGTNNNNNNNNNNCTG\r\n",
        "ACTGCAGTGGGGATTTTTGTCGCTCGAACAATGATTGCAGCGTTGGGCAAAAGTGTTGTGTGAATACCTG\r\n",
        "CACCAACTATGATTGTGAGGACCCTACCGTCGCCATTCTTATCGCGGTAGTGGGTTCGCTCGTGGGCTTA\r\n",
        "TTTGTTGTTTTCATTTCAATTTACTACTGCCACAGAAGAGCTCGTTTGGGTCGTTCCGGTACAGCAGAGG\r\n",
        "TGGGAAGACAAGTTGCCCCAACCGATGCTATCACAACCCAATCAGCAAACCAACAAGGCTACGCATATCA\r\n",
        "GCAACTCCCTTAAATATCATCAGTATCAGACACCCATTTACAATCCGGAGACACAGAGACAACCAGGAGG\r\n",
        "AATACTTACTTCACATCGTGCATATGGTGAACTTCAAACCACTTGATCCCCATGTCCAGCGGAAGACT\r\n"
       ]
      }
     ],
     "prompt_number": 1
    },
    {
     "cell_type": "code",
     "collapsed": false,
     "input": [
      "!tail -20 Amil_Moya.fasta"
     ],
     "language": "python",
     "metadata": {},
     "outputs": [
      {
       "output_type": "stream",
       "stream": "stdout",
       "text": [
        "ATAATAATTATTATTGAGATGATAATTGCGTTTAAGTGTTGTAATACAGTTTTTCATATCCTGAGTAATA\r\n",
        "CATGTTTATATGCAACGTCAGTGGCAAAAAGTCAATGGTTTAATAAATTGGTCGCCGTGCAACGTAATTT\r\n",
        "TATTAATTATTTAACAAATAAATAAGCCTAAGCCGTGTTGCTCT\r\n",
        "\r\n",
        ">gi|379125707|gb|JT023377.1| TSA: Acropora millepora Cluster028086.Acmimixed mRNA sequence\r\n",
        "AAGGTTCCAGAGCTTAATTCTATTGCGTTAGAAATTTTCCAGAAATGTATGTTAAATGGGATCACTATTG\r\n",
        "ATGTGAATTGGATCCCAAGAGATTTCAACAGTGTGGCAGATGAGATTAGTAAGATAATAGATTACGATGA\r\n",
        "TTACACAATTAATGATGATATTTTTGCTTTTTTGGACAAATCATGGGGACCCCATACAGTCGATCGTTTT\r\n",
        "GCGTGTCACTATAATAAGAAGCTACCTTTATTTAATTCGAAGTTTTTTCAGCCAGGCACGAGTGGGGTGA\r\n",
        "ATGCTTTCAGCCAAGACTGGGCTTTTGCCAATAATTGGTTATGTCCTCCCATTTATCTCACCGCGAGGGT\r\n",
        "AGTTAATCATTTGAAAGCTTGTAGAGCGGCTGGGACCCTTATCGTCCCTTTGTGGAGATCGGCACATTTT\r\n",
        "TGGCCAATTATTTGTGACGATGGAGTTCACTTTAGTAACTTTGTGCATGACTGGTATGTTTTGCCGCACA\r\n",
        "TTCCTAATTTATTTATTAGAGGTAAAGCAAAGAATTGTATCTTCGGAAACGGCCAGTTGAAGTTTATAAT\r\n",
        "GTTGGCATTAAGGATTGATTTTTCTGTCCCTCTTAGGTCCGCTGTACGAGGATTTTGTACTGAGTTTAAG\r\n",
        "CAACTCTGCACTGTCTGTACGACGTGACGTCGTTTGTTGTGTCTTGTAGGGCTTGAGGCCACGGTTGTGC\r\n",
        "GTGTTTTTTCACACGTCTAGGTGATAATAGTGATAACACTGAGAGATCTGTGTTTTGTTGGCTTGAGGCC\r\n",
        "ATGGAGGTTGTTCCCTGCGTGGAACTGGAGTTTTGGCATTTTAGGCCACAGAGATTGACGTTCTGAGAAC\r\n",
        "TGTCGTATTTTACTATTCCAGATTGTGTATTATGGCGGGGCTAGGGTTTCGCAACTCGTACTCCTTCTAG\r\n",
        "CGTAGCTAAAGTTTCATTCGTGTTCAATCGAATAAATCACAAGAAAGAGAATGGATTCGTCGG\r\n",
        "\r\n"
       ]
      }
     ],
     "prompt_number": 5
    },
    {
     "cell_type": "code",
     "collapsed": false,
     "input": [
      "#Count number of seqs\n",
      "!fgrep -c \">\" Amil_Moya.fasta"
     ],
     "language": "python",
     "metadata": {},
     "outputs": [
      {
       "output_type": "stream",
       "stream": "stdout",
       "text": [
        "52963\r\n"
       ]
      }
     ],
     "prompt_number": 6
    },
    {
     "cell_type": "code",
     "collapsed": false,
     "input": [
      "!blastx \\\n",
      "-query Amil_Moya.fasta \\ #FASTA file\n",
      "-db ~blast/db/uniprot_sprot \\ #Use your blastx database address\n",
      "-max_target_seqs 1 \\ #maximum number of target sequences = 1\n",
      "-max_hsps 1 \\ #maximum number of high-scoring pairs = 1\n",
      "-outfmt 6 \\ #output format = tabular\n",
      "-evalue 1E-05 \\ #E-value = 10^-5\n",
      "-num_threads 8 \\ #number of threads = 8\n",
      "-out ../Analyses/Amil/Amil_blastx_uniprot.tab \\ #Direct output to analyses directory\n",
      "2> ../Analyses/Amil/Amil_blastx_uniprot.error #Direct standard error output to its own file"
     ],
     "language": "python",
     "metadata": {},
     "outputs": []
    },
    {
     "cell_type": "code",
     "collapsed": false,
     "input": [
      "#Checking head and tail of the output file.\n",
      "!head -10 ./Analyses/Amil/Amil_blastx_uniprot.tab"
     ],
     "language": "python",
     "metadata": {},
     "outputs": []
    },
    {
     "cell_type": "code",
     "collapsed": false,
     "input": [
      "#Comparison of the tail with original FASTA should give an idea of whether\n",
      "#the blast job is complete \n",
      "!tail ./Analyses/Amil/Amil_blastx_uniprot.tab"
     ],
     "language": "python",
     "metadata": {},
     "outputs": [
      {
       "output_type": "stream",
       "stream": "stdout",
       "text": [
        "gi|379125674|gb|JT023344.1|\tsp|Q8WXW3|PIBF1_HUMAN\t45.09\t601\t320\t3\t2257\t464\t161\t754\t2e-161\t  493\r\n",
        "gi|379125690|gb|JT023360.1|\tsp|Q7ZXT3|EDC4_XENLA\t37.50\t216\t120\t5\t682\t59\t1175\t1383\t5e-28\t  121\r\n",
        "gi|379125695|gb|JT023365.1|\tsp|P02784|SFP1_BOVIN\t50.98\t51\t23\t1\t934\t782\t86\t134\t2e-09\t59.7\r\n",
        "gi|379125697|gb|JT023367.1|\tsp|P49285|MTR1A_CHICK\t26.10\t272\t191\t5\t845\t45\t47\t313\t1e-18\t89.4\r\n",
        "gi|379125698|gb|JT023368.1|\tsp|Q5ZIJ9|MIB2_CHICK\t37.87\t647\t379\t11\t186\t2075\t11\t651\t1e-121\t  392\r\n",
        "gi|379125699|gb|JT023369.1|\tsp|O76093|FGF18_HUMAN\t42.07\t145\t83\t1\t351\t782\t36\t180\t4e-29\t  120\r\n",
        "gi|379125700|gb|JT023370.1|\tsp|Q5NVI3|RED_PONAB\t50.00\t158\t70\t3\t959\t489\t390\t539\t6e-35\t  143\r\n",
        "gi|379125702|gb|JT023372.1|\tsp|P55268|LAMB2_HUMAN\t34.02\t388\t228\t9\t2070\t976\t264\t646\t3e-65\t  241\r\n",
        "gi|379125703|gb|JT023373.1|\tsp|Q91WQ5|TAF5L_MOUSE\t40.23\t599\t326\t9\t100\t1857\t2\t581\t3e-142\t  435\r\n",
        "gi|379125706|gb|JT023376.1|\tsp|Q9UBX3|DIC_HUMAN\t56.99\t193\t81\t2\t235\t810\t1\t192\t5e-63\t  217\r\n"
       ]
      }
     ],
     "prompt_number": 6
    },
    {
     "cell_type": "code",
     "collapsed": false,
     "input": [
      "!wc Amil_blastx_uniprot.tab"
     ],
     "language": "python",
     "metadata": {},
     "outputs": [
      {
       "output_type": "stream",
       "stream": "stdout",
       "text": [
        "   21027  252324 1944045 /Users/jay/Desktop/blast_jobs/Amil_blastx_uniprot3.tab\r\n"
       ]
      }
     ],
     "prompt_number": 1
    },
    {
     "cell_type": "code",
     "collapsed": false,
     "input": [
      "#Removing pipes and converted to tab-delimited file\n",
      "!tr '|' \"\\t\" <./Analyses/Amil/Amil_blastx_uniprot.tab> \\\n",
      "/./Analyses/Amil/Amil_blastx_uniprot_sql.tab\n",
      "!head -1 ./Analyses/Amil/Amil_blastx_uniprot.tab\n",
      "!echo SQLShare ready version has Pipes converted to Tabs ....\n",
      "!head -1 ./Analyses/Amil/Amil_blastx_uniprot_sql.tab"
     ],
     "language": "python",
     "metadata": {},
     "outputs": [
      {
       "output_type": "stream",
       "stream": "stdout",
       "text": [
        "gi|379072747|gb|JR970416.1|\tsp|Q7ZWG6|PCFT_DANRE\t32.69\t416\t264\t8\t297\t1532\t43\t446\t4e-61\t  220\r\n"
       ]
      },
      {
       "output_type": "stream",
       "stream": "stdout",
       "text": [
        "SQLShare ready version has Pipes converted to Tabs ....\r\n"
       ]
      },
      {
       "output_type": "stream",
       "stream": "stdout",
       "text": [
        "gi\t379072747\tgb\tJR970416.1\t\tsp\tQ7ZWG6\tPCFT_DANRE\t32.69\t416\t264\t8\t297\t1532\t43\t446\t4e-61\t  220\r\n"
       ]
      }
     ],
     "prompt_number": 3
    },
    {
     "cell_type": "heading",
     "level": 3,
     "metadata": {},
     "source": [
      "Manually uploading Amil_blastx_uniprot_sql.tab to SQLShare and joining with GOSlim:"
     ]
    },
    {
     "cell_type": "raw",
     "metadata": {},
     "source": [
      "SELECT Distinct Column2 as ContigID, GOSlim_bin\n",
      "  FROM [jldimond@washington.edu].[Amil_blastx_uniprot_sql.tab]anno\n",
      "  left join [sr320@washington.edu].[SPID and GO Numbers]go\n",
      "  on anno.Column7=go.SPID left join [sr320@washington.edu].[GO_to_GOslim]slim\n",
      "  on go.GOID=slim.GO_id where aspect like 'P' "
     ]
    },
    {
     "cell_type": "heading",
     "level": 4,
     "metadata": {},
     "source": [
      "Output file downloaded to ./Analyses/Amil: Amil_GOSlim.csv"
     ]
    },
    {
     "cell_type": "code",
     "collapsed": false,
     "input": [
      "!head -10 /home/jay/Documents/fish546-2015/Analyses/Amil/Amil_GOSlim.csv"
     ],
     "language": "python",
     "metadata": {},
     "outputs": [
      {
       "output_type": "stream",
       "stream": "stdout",
       "text": [
        "ContigID,GOSlim_bin\r",
        "\r\n",
        "379087027,protein metabolism\r",
        "\r\n",
        "379104054,other metabolic processes\r",
        "\r\n",
        "379088262,other biological processes\r",
        "\r\n",
        "379100196,RNA metabolism\r",
        "\r\n",
        "379125389,transport\r",
        "\r\n",
        "379073249,other biological processes\r",
        "\r\n",
        "379086301,other biological processes\r",
        "\r\n",
        "379074703,DNA metabolism\r",
        "\r\n",
        "379093891,death\r",
        "\r\n"
       ]
      }
     ],
     "prompt_number": 1
    },
    {
     "cell_type": "code",
     "collapsed": false,
     "input": [
      "#Replacing commas with tabs\n",
      "!tr ',' \"\\t\" <./Analyses/Amil/Amil_GOSlim.csv> ./Analyses/Amil/Amil_GOSlim.tab"
     ],
     "language": "python",
     "metadata": {},
     "outputs": [],
     "prompt_number": 2
    },
    {
     "cell_type": "code",
     "collapsed": false,
     "input": [
      "!head -10 ./Analyses/Amil_GOSlim.tab"
     ],
     "language": "python",
     "metadata": {},
     "outputs": [
      {
       "output_type": "stream",
       "stream": "stdout",
       "text": [
        "ContigID\tGOSlim_bin\r",
        "\r\n",
        "379087027\tprotein metabolism\r",
        "\r\n",
        "379104054\tother metabolic processes\r",
        "\r\n",
        "379088262\tother biological processes\r",
        "\r\n",
        "379100196\tRNA metabolism\r",
        "\r\n",
        "379125389\ttransport\r",
        "\r\n",
        "379073249\tother biological processes\r",
        "\r\n",
        "379086301\tother biological processes\r",
        "\r\n",
        "379074703\tDNA metabolism\r",
        "\r\n",
        "379093891\tdeath\r",
        "\r\n"
       ]
      }
     ],
     "prompt_number": 3
    }
   ],
   "metadata": {}
  }
 ]
}