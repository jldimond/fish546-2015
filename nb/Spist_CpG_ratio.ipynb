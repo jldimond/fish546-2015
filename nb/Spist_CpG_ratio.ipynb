{
 "metadata": {
  "name": "",
  "signature": "sha256:e7682aaa3958d1484d65aa05006f1e33f57b36cba77d4ab931aa3e75ea8d3274"
 },
 "nbformat": 3,
 "nbformat_minor": 0,
 "worksheets": [
  {
   "cells": [
    {
     "cell_type": "heading",
     "level": 1,
     "metadata": {},
     "source": [
      "Calculating CpG ratio for *Stylophora pistillata* transcriptome from:\n",
      "\n",
      "http://data.centrescientifique.mc/Data/454Isotigs.fas.zip"
     ]
    },
    {
     "cell_type": "code",
     "collapsed": false,
     "input": [
      "cd /home/jay/Documents/fish546-2015/Data/Spist"
     ],
     "language": "python",
     "metadata": {},
     "outputs": [
      {
       "output_type": "stream",
       "stream": "stdout",
       "text": [
        "/home/jay/Documents/fish546-2015/Data/Spist\n"
       ]
      }
     ],
     "prompt_number": 1
    },
    {
     "cell_type": "code",
     "collapsed": false,
     "input": [
      "#fasta file\n",
      "!head -2 Spist.fasta\n",
      "!echo \n",
      "!echo number of seqs =\n",
      "!fgrep -c \">\" Spist.fasta"
     ],
     "language": "python",
     "metadata": {},
     "outputs": [
      {
       "output_type": "stream",
       "stream": "stdout",
       "text": [
        ">Spi_contig00032  gene=isogroup00001  length=1566\r",
        "\r\n",
        "GgATCCATCGAAAGAAAAaGTCGTAGTTGACAGTGATTGCATGACTTCTGTACAACGTCCGATTAGTTTTtGCGTTTTATTGTCTtCTTTTGTACTGgAAATTCGACTCTAGCAAGTTGATTTCGTTTAGTTATGTCTGGCATTGCTTTGGGCAGATTATCAGAAGAGAGAAAAGCTTGGCGTAAAGACcATCCTTTCGGATTTGTGGCCAAACCGGTTAAAAATCCTGATGGTACTCTAAATCTGATGAACTGGGAATGTGCGATCCCaGGAAAGAAAGCGACCCCATGGGAAGGAGGCTCTTTCAAATTGAAGATGATATTTAAAGACGACTATCCATCCTCTCCGCCAAAATGTAAATTTGATCCTCCAATTTTCCATCCTAATGTATACCCATCTGGCACAGTGTGTCTGTCTCTTCTAGATGAAGAGAAAGACTGGAGACCTGCCGTCACTATAAAACAGATTTTATTGGGAATTCAAGACTTACTGAaTGATCCAAaCaTAaGaGATCCAGCTCAAGCAGAAGCATACaCCATTTACTGCCAAAACAGATCAGAATATGAGAAACGAGTCAGAAGTCAAGCTGCAAaGTTCTCAAGTTCATAGTGAATAAAGAAAAATATAAAATACTTCGCTAGCAGACGTGTAGGTTAACaGTGACTGGCAGAAATTGGATTTATTTTTtCTCcGTTtGTAAacAaCAaTGTGGAGTGGAGCAaGAATTCATCCgTAACTGCGTTAATACCACAGCTGTTGTTGTGAATTGGAaGGACAATCATGTCTGTTATTTtAGGAAGTTTCACAATGTACAGTTCAACTAACTTATACTAAAAAaCAGCTAAAGTtCACCTTAGTCTATGTtAGTTTtGTTAAAGCTTCTCTGTAgAAGGTTTGGGAGGgTtGTAATGGCTGTAACTATTCAGGgAGATCTGTCAAAGTACACTCTCTAATCCCATTGTTTCTTAAGGAATGAGTCATTATTTATTGTCTGGTGGGACGGaGGaTTTTAATCGTGTCACAATAAAATTTACCTGATCTTCCCatAagACCTGTAGTAATCTAaTGGTCCCTGTCATTGGCAGTCAaTTTTCTATAGTTTCCTGTTAACCTCTGTTAGCTACAACTGATGCCCCcTCTGTACCCCCCTAAAATTGTGTTCCCCCAAAgAAaTCCTTCCACCCACCCCATaCCTCCAGGTGATAACTAATGActGGTCCTTAATTCATTCTCTTTTTTTtGTTCTTGATTATTTGACTAAACCAAAGGCGatAAGTAAGATATACCCcAAtACGATTTGACGAACAATCTCTAGATTTTTTATTtAATCTTTAGTTGTAGATGTAATCAGAGGTGCAAAGCTTTACTGTTTtGAGTGTAAAGTGCCTGTTTCTAGGGATCCAGTGAAACCAGTAGTGTTGGGATTGTAAAGAGaTCAAAGAaTACCTCAAAGCACCAATCATAATGCTCTAATGTTGACAACTGCTAATGATTGGTtCAGCCTaTGGCTTTCATTAAAAaCGTCAAAAAaTAACGCTTCACTTCATTGCAAGTGATTCAGGTGGa\r",
        "\r\n"
       ]
      },
      {
       "output_type": "stream",
       "stream": "stdout",
       "text": [
        "\r\n"
       ]
      },
      {
       "output_type": "stream",
       "stream": "stdout",
       "text": [
        "number of seqs =\r\n"
       ]
      },
      {
       "output_type": "stream",
       "stream": "stdout",
       "text": [
        "15052\r\n"
       ]
      }
     ],
     "prompt_number": 2
    },
    {
     "cell_type": "code",
     "collapsed": false,
     "input": [
      "#Just printing first line w/out comments and looking at contig names\n",
      "!awk '{print $1}' Spist.fasta > Spist2.fasta\n",
      "!head -10 Spist2.fasta\n",
      "!tail -10 Spist2.fasta"
     ],
     "language": "python",
     "metadata": {},
     "outputs": [
      {
       "output_type": "stream",
       "stream": "stdout",
       "text": [
        "awk: cannot open Spist.fasta (No such file or directory)\r\n"
       ]
      }
     ],
     "prompt_number": 1
    },
    {
     "cell_type": "code",
     "collapsed": false,
     "input": [
      "#Converting FASTA to tabular format and placing output file in analyses directory\n",
      "!perl -e '$count=0; $len=0; while(<>) {s/\\r?\\n//; s/\\t/ /g; if (s/^>//) { if ($. != 1) {print \"\\n\"} s/ |$/\\t/; $count++; $_ .= \"\\t\";} else {s/ //g; $len += length($_)} print $_;} print \"\\n\"; warn \"\\nConverted $count FASTA records in $. lines to tabular format\\nTotal sequence length: $len\\n\\n\";' \\\n",
      "Spist2.fasta > /home/jay/Documents/fish546-2015/Analyses/Spist/fasta2tab"
     ],
     "language": "python",
     "metadata": {},
     "outputs": [
      {
       "output_type": "stream",
       "stream": "stdout",
       "text": [
        "\r\n",
        "Converted 15052 FASTA records in 30104 lines to tabular format\r\n",
        "Total sequence length: 16227896\r\n",
        "\r\n"
       ]
      }
     ],
     "prompt_number": 4
    },
    {
     "cell_type": "code",
     "collapsed": false,
     "input": [
      "cd /home/jay/Documents/fish546-2015/Analyses/Spist"
     ],
     "language": "python",
     "metadata": {},
     "outputs": [
      {
       "output_type": "stream",
       "stream": "stdout",
       "text": [
        "/home/jay/Documents/fish546-2015/Analyses/Spist\n"
       ]
      }
     ],
     "prompt_number": 3
    },
    {
     "cell_type": "code",
     "collapsed": false,
     "input": [
      "#Checking header on new tabular format file\n",
      "!head -2 fasta2tab"
     ],
     "language": "python",
     "metadata": {},
     "outputs": [
      {
       "output_type": "stream",
       "stream": "stdout",
       "text": [
        "Spi_contig00032\t\tGgATCCATCGAAAGAAAAaGTCGTAGTTGACAGTGATTGCATGACTTCTGTACAACGTCCGATTAGTTTTtGCGTTTTATTGTCTtCTTTTGTACTGgAAATTCGACTCTAGCAAGTTGATTTCGTTTAGTTATGTCTGGCATTGCTTTGGGCAGATTATCAGAAGAGAGAAAAGCTTGGCGTAAAGACcATCCTTTCGGATTTGTGGCCAAACCGGTTAAAAATCCTGATGGTACTCTAAATCTGATGAACTGGGAATGTGCGATCCCaGGAAAGAAAGCGACCCCATGGGAAGGAGGCTCTTTCAAATTGAAGATGATATTTAAAGACGACTATCCATCCTCTCCGCCAAAATGTAAATTTGATCCTCCAATTTTCCATCCTAATGTATACCCATCTGGCACAGTGTGTCTGTCTCTTCTAGATGAAGAGAAAGACTGGAGACCTGCCGTCACTATAAAACAGATTTTATTGGGAATTCAAGACTTACTGAaTGATCCAAaCaTAaGaGATCCAGCTCAAGCAGAAGCATACaCCATTTACTGCCAAAACAGATCAGAATATGAGAAACGAGTCAGAAGTCAAGCTGCAAaGTTCTCAAGTTCATAGTGAATAAAGAAAAATATAAAATACTTCGCTAGCAGACGTGTAGGTTAACaGTGACTGGCAGAAATTGGATTTATTTTTtCTCcGTTtGTAAacAaCAaTGTGGAGTGGAGCAaGAATTCATCCgTAACTGCGTTAATACCACAGCTGTTGTTGTGAATTGGAaGGACAATCATGTCTGTTATTTtAGGAAGTTTCACAATGTACAGTTCAACTAACTTATACTAAAAAaCAGCTAAAGTtCACCTTAGTCTATGTtAGTTTtGTTAAAGCTTCTCTGTAgAAGGTTTGGGAGGgTtGTAATGGCTGTAACTATTCAGGgAGATCTGTCAAAGTACACTCTCTAATCCCATTGTTTCTTAAGGAATGAGTCATTATTTATTGTCTGGTGGGACGGaGGaTTTTAATCGTGTCACAATAAAATTTACCTGATCTTCCCatAagACCTGTAGTAATCTAaTGGTCCCTGTCATTGGCAGTCAaTTTTCTATAGTTTCCTGTTAACCTCTGTTAGCTACAACTGATGCCCCcTCTGTACCCCCCTAAAATTGTGTTCCCCCAAAgAAaTCCTTCCACCCACCCCATaCCTCCAGGTGATAACTAATGActGGTCCTTAATTCATTCTCTTTTTTTtGTTCTTGATTATTTGACTAAACCAAAGGCGatAAGTAAGATATACCCcAAtACGATTTGACGAACAATCTCTAGATTTTTTATTtAATCTTTAGTTGTAGATGTAATCAGAGGTGCAAAGCTTTACTGTTTtGAGTGTAAAGTGCCTGTTTCTAGGGATCCAGTGAAACCAGTAGTGTTGGGATTGTAAAGAGaTCAAAGAaTACCTCAAAGCACCAATCATAATGCTCTAATGTTGACAACTGCTAATGATTGGTtCAGCCTaTGGCTTTCATTAAAAaCGTCAAAAAaTAACGCTTCACTTCATTGCAAGTGATTCAGGTGGa\r\n",
        "Spi_contig00035\t\tAGCAGAGATCTATCAGACGACTATGTTACGACATGAAAaCCTTTTAGGCTTtGTAGCTGCTGACAaCAAaGATAATGGTGCCTGGACACAGCTTTGGCTGGTTACAGATTATTTagAAAGGGgCTCATTGTATGACTATCTTCAACTTGTTACCCTGAATGTTGAATCCATGCTGAAGTTAGCAGTGTCAATAGCCAGTGGACTTGCTCATCTCCACATtGAGATtGTAGGCACCCAAGgAAAGCCAGCTATTGCACATCGTGACTTAAAAaGTAAAAaCATTCTGGTTAAAAGAAATGGGACATGTTGCATAGGTGATTTGGGTCTTGCTGTTCGTCATAGTTCCATTACTGACACAGTTGATGTTCCTCCTGGGAACAGAgTTGGTACAAAGCGCTACATGCCACCTGAATTTTtAGATGACAATATACAGGTGCGGCACTTTGATGCATACAAGCGAGGTGATATGTATGCATTTGGTCTAGTGTTATGGGAAaTTGCAAGGACgTGTGTTTGTGGTGGATTGTGTGATGAATATCAGCTGCCCTACTATGACAGAGTTCCCTGTGATCCCAGCATTGAAGAtATGAGAAAGGTGGTCTGTGTGGAGAGGTATCGCCCTGCCTTTCCAAATAGGTGGATACAAGATCAGACACTACAGTCTATGTCCAAGTTGATGAAAGAATGTTGGTATGCCAATAGTGCTGCAAGACTTACAGCTCTCCGTGTTAAGAAGACTCTTACAACAcTGTGTCAGTTACATGATGTTGATATTATGGTTTAGAGGGaTCCATCAaGAAAACTCATGTAAAACAAGTgCAAGATGGGTGTATCACCAGGACTTATATAACAGGAGGAACCTCCTGATAATCCTTGCAGGCAATTTGTAGGTCCTGTAATGTGATACAGTACATGTCTACCATCATGCTATTGgTTTGCAGTTCAAACaGCAATGCTGTCTTTtATTTTTtGATAAAGCCATGAAGAATAAACGCGACAGAGAAAaTTTATGACTTCCTAGTTAACAAGAAGCATTCtCATTTTTTTTTTTTtttGCCTGCATAATTcTTGtATTTATATCCACAGCAACTGTCACTGACTCAAAGTgTtGgtAaTCatCAGCAACAAAGAACCCAACTTGgTTTTATGAAAGCACGTACATtCAAATGAGCAATTTAAATTGAAAACCTAAAAGGACATATCCATGTGCAACAACTGTAGAACTATGTATGAGCAGTGTCCACTATTCTCCTCCTTAGTTTATTTTAGATGTTTCGAATGAGAATACAGAATAGAGCTTCATCCTTTTGACATTGAAAGCATTTCATACTCAAGTATtGAAGGGTATGATTCTTTGTTGTGAGGAACGACACTCACCAAGTAATCCTCAAAATATTTAAGAGCATACATGGATTTTACCAAAAGATGTGGGTTGGTCATATCTACATTAAGAATTTGTTACAATAGTAAGGTAGTTGCAGTGCTGTAGCTAGCTCTTAGATGAAGCGTGTTTATTGCATTCAAATTGAAATGTTATTGTTTAAAGTGATTCTCAAATTAAAAGACATTGTATTTTTAGACAACTTTTTATCTTCGAAAACCCAGTGGTGTAAGGTAATTACATTATTTTATGTTCATAACAAATACATTTTAACTGTATTCCACCAAACAATGTGAAAGGGGCAGTTTAAGAATTAATGAAATCTTTCTTGATACCCGTTCTtcAGAACGCTTTATAGTATCTTCTTTATAGTTGTAAATAAaCCGAaTACTTTGCGTGTGAGGGGCATTGAaGAAACTGAAGGGTTTTGTTTGACTCTGTTCTAACAGAAtCAAACATAATGTAATTACTCGGAACTTCATTAAACTGGTGGCC\r\n"
       ]
      }
     ],
     "prompt_number": 4
    },
    {
     "cell_type": "code",
     "collapsed": false,
     "input": [
      "#Add column with length of sequence\n",
      "!perl -e '$col = 2;' -e 'while (<>) { s/\\r?\\n//; @F = split /\\t/, $_; $len = length($F[$col]); print \"$_\\t$len\\n\" } warn \"\\nAdded column with length of column $col for $. lines.\\n\\n\";' \\\n",
      "fasta2tab > tab_1"
     ],
     "language": "python",
     "metadata": {},
     "outputs": [
      {
       "output_type": "stream",
       "stream": "stdout",
       "text": [
        "\r\n",
        "Added column with length of column 2 for 15052 lines.\r\n",
        "\r\n"
       ]
      }
     ],
     "prompt_number": 5
    },
    {
     "cell_type": "code",
     "collapsed": false,
     "input": [
      "!wc tab_1"
     ],
     "language": "python",
     "metadata": {},
     "outputs": [
      {
       "output_type": "stream",
       "stream": "stdout",
       "text": [
        "   15052    45156 16565757 tab_1\r\n"
       ]
      }
     ],
     "prompt_number": 6
    },
    {
     "cell_type": "code",
     "collapsed": false,
     "input": [
      "#The file used to count Cs and Gs will only include the sequence\n",
      "!awk '{print $2}' tab_1 > tab_2"
     ],
     "language": "python",
     "metadata": {},
     "outputs": [],
     "prompt_number": 7
    },
    {
     "cell_type": "code",
     "collapsed": false,
     "input": [
      "#This counts CGs - both cases\n",
      "!echo \"CG\" | awk -F\\[Cc][Gg] '{print NF-1}' tab_2 > CG "
     ],
     "language": "python",
     "metadata": {},
     "outputs": [],
     "prompt_number": 8
    },
    {
     "cell_type": "code",
     "collapsed": false,
     "input": [
      "#Counts Cs\n",
      "!echo \"C\" | awk -F\\[Cc] '{print NF-1}' tab_2 > C "
     ],
     "language": "python",
     "metadata": {},
     "outputs": [],
     "prompt_number": 9
    },
    {
     "cell_type": "code",
     "collapsed": false,
     "input": [
      "#Counts Gs\n",
      "!echo \"G\" | awk -F\\[Gg] '{print NF-1}' tab_2 > G "
     ],
     "language": "python",
     "metadata": {},
     "outputs": [],
     "prompt_number": 10
    },
    {
     "cell_type": "code",
     "collapsed": false,
     "input": [
      "#Combining counts\n",
      "!paste tab_1 \\\n",
      "CG \\\n",
      "C \\\n",
      "G \\\n",
      "> comb\n",
      "!head -1 comb"
     ],
     "language": "python",
     "metadata": {},
     "outputs": [
      {
       "output_type": "stream",
       "stream": "stdout",
       "text": [
        "Spi_contig00032\t\tGgATCCATCGAAAGAAAAaGTCGTAGTTGACAGTGATTGCATGACTTCTGTACAACGTCCGATTAGTTTTtGCGTTTTATTGTCTtCTTTTGTACTGgAAATTCGACTCTAGCAAGTTGATTTCGTTTAGTTATGTCTGGCATTGCTTTGGGCAGATTATCAGAAGAGAGAAAAGCTTGGCGTAAAGACcATCCTTTCGGATTTGTGGCCAAACCGGTTAAAAATCCTGATGGTACTCTAAATCTGATGAACTGGGAATGTGCGATCCCaGGAAAGAAAGCGACCCCATGGGAAGGAGGCTCTTTCAAATTGAAGATGATATTTAAAGACGACTATCCATCCTCTCCGCCAAAATGTAAATTTGATCCTCCAATTTTCCATCCTAATGTATACCCATCTGGCACAGTGTGTCTGTCTCTTCTAGATGAAGAGAAAGACTGGAGACCTGCCGTCACTATAAAACAGATTTTATTGGGAATTCAAGACTTACTGAaTGATCCAAaCaTAaGaGATCCAGCTCAAGCAGAAGCATACaCCATTTACTGCCAAAACAGATCAGAATATGAGAAACGAGTCAGAAGTCAAGCTGCAAaGTTCTCAAGTTCATAGTGAATAAAGAAAAATATAAAATACTTCGCTAGCAGACGTGTAGGTTAACaGTGACTGGCAGAAATTGGATTTATTTTTtCTCcGTTtGTAAacAaCAaTGTGGAGTGGAGCAaGAATTCATCCgTAACTGCGTTAATACCACAGCTGTTGTTGTGAATTGGAaGGACAATCATGTCTGTTATTTtAGGAAGTTTCACAATGTACAGTTCAACTAACTTATACTAAAAAaCAGCTAAAGTtCACCTTAGTCTATGTtAGTTTtGTTAAAGCTTCTCTGTAgAAGGTTTGGGAGGgTtGTAATGGCTGTAACTATTCAGGgAGATCTGTCAAAGTACACTCTCTAATCCCATTGTTTCTTAAGGAATGAGTCATTATTTATTGTCTGGTGGGACGGaGGaTTTTAATCGTGTCACAATAAAATTTACCTGATCTTCCCatAagACCTGTAGTAATCTAaTGGTCCCTGTCATTGGCAGTCAaTTTTCTATAGTTTCCTGTTAACCTCTGTTAGCTACAACTGATGCCCCcTCTGTACCCCCCTAAAATTGTGTTCCCCCAAAgAAaTCCTTCCACCCACCCCATaCCTCCAGGTGATAACTAATGActGGTCCTTAATTCATTCTCTTTTTTTtGTTCTTGATTATTTGACTAAACCAAAGGCGatAAGTAAGATATACCCcAAtACGATTTGACGAACAATCTCTAGATTTTTTATTtAATCTTTAGTTGTAGATGTAATCAGAGGTGCAAAGCTTTACTGTTTtGAGTGTAAAGTGCCTGTTTCTAGGGATCCAGTGAAACCAGTAGTGTTGGGATTGTAAAGAGaTCAAAGAaTACCTCAAAGCACCAATCATAATGCTCTAATGTTGACAACTGCTAATGATTGGTtCAGCCTaTGGCTTTCATTAAAAaCGTCAAAAAaTAACGCTTCACTTCATTGCAAGTGATTCAGGTGGa\t1566\t28\t297\t305\r\n"
       ]
      }
     ],
     "prompt_number": 11
    },
    {
     "cell_type": "heading",
     "level": 1,
     "metadata": {},
     "source": [
      "Calculating CpGo/e based on [Gavery and Roberts (2010)](http://www.biomedcentral.com/1471-2164/11/483)"
     ]
    },
    {
     "cell_type": "markdown",
     "metadata": {},
     "source": [
      "<img src=\"http://eagle.fish.washington.edu/cnidarian/skitch/BMC_Genomics___Full_text___DNA_methylation_patterns_provide_insight_into_epigenetic_regulation_in_the_Pacific_oyster__Crassostrea_gigas__1A0683A5.png\" alt=\"BMC_Genomics___Full_text___DNA_methylation_patterns_provide_insight_into_epigenetic_regulation_in_the_Pacific_oyster__Crassostrea_gigas__1A0683A5.png\"/>"
     ]
    },
    {
     "cell_type": "code",
     "collapsed": false,
     "input": [
      "!awk '{print $1, \"\\t\", (($4)/($5*$6))*(($3^2)/($3-1))}' comb > ID_CpG #use ^ instead of ** for exponent\n"
     ],
     "language": "python",
     "metadata": {},
     "outputs": [],
     "prompt_number": 12
    },
    {
     "cell_type": "code",
     "collapsed": false,
     "input": [
      "!head ID_CpG\n",
      "!wc ID_CpG"
     ],
     "language": "python",
     "metadata": {},
     "outputs": [
      {
       "output_type": "stream",
       "stream": "stdout",
       "text": [
        "Spi_contig00032 \t 0.484363\r\n",
        "Spi_contig00035 \t 0.335179\r\n",
        "Spi_contig00040 \t 0.854266\r\n",
        "Spi_contig00044 \t 0.867137\r\n",
        "Spi_contig00046 \t 0.196592\r\n",
        "Spi_contig00075 \t 0.871739\r\n",
        "Spi_contig00091 \t 0.937628\r\n",
        "Spi_contig00094 \t 0.131292\r\n",
        "Spi_contig00095 \t 0.684932\r\n",
        "Spi_contig00098 \t 0.584255\r\n"
       ]
      },
      {
       "output_type": "stream",
       "stream": "stdout",
       "text": [
        " 15052  30104 402540 ID_CpG\r\n"
       ]
      }
     ],
     "prompt_number": 49
    },
    {
     "cell_type": "heading",
     "level": 1,
     "metadata": {},
     "source": [
      "Now joining CpG to GOslim, but first must sort files."
     ]
    },
    {
     "cell_type": "code",
     "collapsed": false,
     "input": [
      "#Sorting GOSlim annotation file. This file was the result of work done in another notebook: Spist_blast_anno.ipynb\n",
      "!sort Spist_GOSlim.tab | tail -n +2 > Spist_GOSlim.sorted\n",
      "!head Spist_GOSlim.sorted"
     ],
     "language": "python",
     "metadata": {},
     "outputs": [
      {
       "output_type": "stream",
       "stream": "stdout",
       "text": [
        "Spi_contig00032\tcell cycle and proliferation\r",
        "\r\n",
        "Spi_contig00032\tcell organization and biogenesis\r",
        "\r\n",
        "Spi_contig00032\tdevelopmental processes\r",
        "\r\n",
        "Spi_contig00032\tother biological processes\r",
        "\r\n",
        "Spi_contig00032\tprotein metabolism\r",
        "\r\n",
        "Spi_contig00035\tcell cycle and proliferation\r",
        "\r\n",
        "Spi_contig00035\tcell organization and biogenesis\r",
        "\r\n",
        "Spi_contig00035\tdeath\r",
        "\r\n",
        "Spi_contig00035\tdevelopmental processes\r",
        "\r\n",
        "Spi_contig00035\tother biological processes\r",
        "\r\n"
       ]
      }
     ],
     "prompt_number": 14
    },
    {
     "cell_type": "code",
     "collapsed": false,
     "input": [
      "#Converting file from DOS to UNIX\n",
      "!dos2unix Spist_GOSlim.sorted \n",
      "!head Spist_GOSlim.sorted"
     ],
     "language": "python",
     "metadata": {},
     "outputs": [
      {
       "output_type": "stream",
       "stream": "stdout",
       "text": [
        "dos2unix: converting file Spist_GOSlim.sorted to Unix format ...\r\n"
       ]
      },
      {
       "output_type": "stream",
       "stream": "stdout",
       "text": [
        "Spi_contig00032\tcell cycle and proliferation\r\n",
        "Spi_contig00032\tcell organization and biogenesis\r\n",
        "Spi_contig00032\tdevelopmental processes\r\n",
        "Spi_contig00032\tother biological processes\r\n",
        "Spi_contig00032\tprotein metabolism\r\n",
        "Spi_contig00035\tcell cycle and proliferation\r\n",
        "Spi_contig00035\tcell organization and biogenesis\r\n",
        "Spi_contig00035\tdeath\r\n",
        "Spi_contig00035\tdevelopmental processes\r\n",
        "Spi_contig00035\tother biological processes\r\n"
       ]
      }
     ],
     "prompt_number": 16
    },
    {
     "cell_type": "code",
     "collapsed": false,
     "input": [
      "#Sorting CpG file\n",
      "!sort ID_CpG > ID_CpG.sorted\n",
      "!head ID_CpG.sorted"
     ],
     "language": "python",
     "metadata": {},
     "outputs": [
      {
       "output_type": "stream",
       "stream": "stdout",
       "text": [
        "Spi_contig00032 \t 0.484363\r\n",
        "Spi_contig00035 \t 0.335179\r\n",
        "Spi_contig00040 \t 0.854266\r\n",
        "Spi_contig00044 \t 0.867137\r\n",
        "Spi_contig00046 \t 0.196592\r\n",
        "Spi_contig00075 \t 0.871739\r\n",
        "Spi_contig00091 \t 0.937628\r\n",
        "Spi_contig00094 \t 0.131292\r\n",
        "Spi_contig00095 \t 0.684932\r\n",
        "Spi_contig00098 \t 0.584255\r\n"
       ]
      }
     ],
     "prompt_number": 17
    },
    {
     "cell_type": "code",
     "collapsed": false,
     "input": [
      "!dos2unix ID_CpG.sorted "
     ],
     "language": "python",
     "metadata": {},
     "outputs": [
      {
       "output_type": "stream",
       "stream": "stdout",
       "text": [
        "dos2unix: converting file ID_CpG.sorted to Unix format ...\r\n"
       ]
      }
     ],
     "prompt_number": 18
    },
    {
     "cell_type": "code",
     "collapsed": true,
     "input": [
      "!join ID_CpG.sorted Spist_GOSlim.sorted > Spist_cpg_GOslim"
     ],
     "language": "python",
     "metadata": {},
     "outputs": [],
     "prompt_number": 19
    },
    {
     "cell_type": "code",
     "collapsed": false,
     "input": [
      "!head Spist_cpg_GOslim"
     ],
     "language": "python",
     "metadata": {},
     "outputs": [
      {
       "output_type": "stream",
       "stream": "stdout",
       "text": [
        "Spi_contig00032 0.484363 cell cycle and proliferation\r\n",
        "Spi_contig00032 0.484363 cell organization and biogenesis\r\n",
        "Spi_contig00032 0.484363 developmental processes\r\n",
        "Spi_contig00032 0.484363 other biological processes\r\n",
        "Spi_contig00032 0.484363 protein metabolism\r\n",
        "Spi_contig00035 0.335179 cell cycle and proliferation\r\n",
        "Spi_contig00035 0.335179 cell organization and biogenesis\r\n",
        "Spi_contig00035 0.335179 death\r\n",
        "Spi_contig00035 0.335179 developmental processes\r\n",
        "Spi_contig00035 0.335179 other biological processes\r\n"
       ]
      }
     ],
     "prompt_number": 20
    },
    {
     "cell_type": "code",
     "collapsed": false,
     "input": [
      "#Putting tabs in between columns\n",
      "!awk '{print $1, \"\\t\", $2, \"\\t\", $3, $4, $5, $6}' Spist_cpg_GOslim > Spist_cpg_GOslim.tab\n",
      "!head Spist_cpg_GOslim.tab"
     ],
     "language": "python",
     "metadata": {},
     "outputs": [
      {
       "output_type": "stream",
       "stream": "stdout",
       "text": [
        "Spi_contig00032 \t 0.484363 \t cell cycle and proliferation\r\n",
        "Spi_contig00032 \t 0.484363 \t cell organization and biogenesis\r\n",
        "Spi_contig00032 \t 0.484363 \t developmental processes  \r\n",
        "Spi_contig00032 \t 0.484363 \t other biological processes \r\n",
        "Spi_contig00032 \t 0.484363 \t protein metabolism  \r\n",
        "Spi_contig00035 \t 0.335179 \t cell cycle and proliferation\r\n",
        "Spi_contig00035 \t 0.335179 \t cell organization and biogenesis\r\n",
        "Spi_contig00035 \t 0.335179 \t death   \r\n",
        "Spi_contig00035 \t 0.335179 \t developmental processes  \r\n",
        "Spi_contig00035 \t 0.335179 \t other biological processes \r\n"
       ]
      }
     ],
     "prompt_number": 21
    },
    {
     "cell_type": "heading",
     "level": 1,
     "metadata": {},
     "source": [
      "Now time to plot data using pandas and matplot"
     ]
    },
    {
     "cell_type": "code",
     "collapsed": false,
     "input": [
      "import pandas as pd"
     ],
     "language": "python",
     "metadata": {},
     "outputs": [],
     "prompt_number": 22
    },
    {
     "cell_type": "code",
     "collapsed": false,
     "input": [
      "jData = pd.read_table('Spist_cpg_GOslim.tab', header=None)\n",
      "jData"
     ],
     "language": "python",
     "metadata": {},
     "outputs": [
      {
       "html": [
        "<div style=\"max-height:1000px;max-width:1500px;overflow:auto;\">\n",
        "<table border=\"1\" class=\"dataframe\">\n",
        "  <thead>\n",
        "    <tr style=\"text-align: right;\">\n",
        "      <th></th>\n",
        "      <th>0</th>\n",
        "      <th>1</th>\n",
        "      <th>2</th>\n",
        "    </tr>\n",
        "  </thead>\n",
        "  <tbody>\n",
        "    <tr>\n",
        "      <th>0    </th>\n",
        "      <td> Spi_contig00032 </td>\n",
        "      <td> 0.484363</td>\n",
        "      <td>      cell cycle and proliferation</td>\n",
        "    </tr>\n",
        "    <tr>\n",
        "      <th>1    </th>\n",
        "      <td> Spi_contig00032 </td>\n",
        "      <td> 0.484363</td>\n",
        "      <td>  cell organization and biogenesis</td>\n",
        "    </tr>\n",
        "    <tr>\n",
        "      <th>2    </th>\n",
        "      <td> Spi_contig00032 </td>\n",
        "      <td> 0.484363</td>\n",
        "      <td>         developmental processes  </td>\n",
        "    </tr>\n",
        "    <tr>\n",
        "      <th>3    </th>\n",
        "      <td> Spi_contig00032 </td>\n",
        "      <td> 0.484363</td>\n",
        "      <td>       other biological processes </td>\n",
        "    </tr>\n",
        "    <tr>\n",
        "      <th>4    </th>\n",
        "      <td> Spi_contig00032 </td>\n",
        "      <td> 0.484363</td>\n",
        "      <td>              protein metabolism  </td>\n",
        "    </tr>\n",
        "    <tr>\n",
        "      <th>5    </th>\n",
        "      <td> Spi_contig00035 </td>\n",
        "      <td> 0.335179</td>\n",
        "      <td>      cell cycle and proliferation</td>\n",
        "    </tr>\n",
        "    <tr>\n",
        "      <th>6    </th>\n",
        "      <td> Spi_contig00035 </td>\n",
        "      <td> 0.335179</td>\n",
        "      <td>  cell organization and biogenesis</td>\n",
        "    </tr>\n",
        "    <tr>\n",
        "      <th>7    </th>\n",
        "      <td> Spi_contig00035 </td>\n",
        "      <td> 0.335179</td>\n",
        "      <td>                          death   </td>\n",
        "    </tr>\n",
        "    <tr>\n",
        "      <th>8    </th>\n",
        "      <td> Spi_contig00035 </td>\n",
        "      <td> 0.335179</td>\n",
        "      <td>         developmental processes  </td>\n",
        "    </tr>\n",
        "    <tr>\n",
        "      <th>9    </th>\n",
        "      <td> Spi_contig00035 </td>\n",
        "      <td> 0.335179</td>\n",
        "      <td>       other biological processes </td>\n",
        "    </tr>\n",
        "    <tr>\n",
        "      <th>10   </th>\n",
        "      <td> Spi_contig00035 </td>\n",
        "      <td> 0.335179</td>\n",
        "      <td>        other metabolic processes </td>\n",
        "    </tr>\n",
        "    <tr>\n",
        "      <th>11   </th>\n",
        "      <td> Spi_contig00035 </td>\n",
        "      <td> 0.335179</td>\n",
        "      <td>              protein metabolism  </td>\n",
        "    </tr>\n",
        "    <tr>\n",
        "      <th>12   </th>\n",
        "      <td> Spi_contig00035 </td>\n",
        "      <td> 0.335179</td>\n",
        "      <td>                  RNA metabolism  </td>\n",
        "    </tr>\n",
        "    <tr>\n",
        "      <th>13   </th>\n",
        "      <td> Spi_contig00035 </td>\n",
        "      <td> 0.335179</td>\n",
        "      <td>             signal transduction  </td>\n",
        "    </tr>\n",
        "    <tr>\n",
        "      <th>14   </th>\n",
        "      <td> Spi_contig00035 </td>\n",
        "      <td> 0.335179</td>\n",
        "      <td>                 stress response  </td>\n",
        "    </tr>\n",
        "    <tr>\n",
        "      <th>15   </th>\n",
        "      <td> Spi_contig00035 </td>\n",
        "      <td> 0.335179</td>\n",
        "      <td>                      transport   </td>\n",
        "    </tr>\n",
        "    <tr>\n",
        "      <th>16   </th>\n",
        "      <td> Spi_contig00040 </td>\n",
        "      <td> 0.854266</td>\n",
        "      <td>        other metabolic processes </td>\n",
        "    </tr>\n",
        "    <tr>\n",
        "      <th>17   </th>\n",
        "      <td> Spi_contig00040 </td>\n",
        "      <td> 0.854266</td>\n",
        "      <td>                      transport   </td>\n",
        "    </tr>\n",
        "    <tr>\n",
        "      <th>18   </th>\n",
        "      <td> Spi_contig00046 </td>\n",
        "      <td> 0.196592</td>\n",
        "      <td>        other metabolic processes </td>\n",
        "    </tr>\n",
        "    <tr>\n",
        "      <th>19   </th>\n",
        "      <td> Spi_contig00075 </td>\n",
        "      <td> 0.871739</td>\n",
        "      <td>        other metabolic processes </td>\n",
        "    </tr>\n",
        "    <tr>\n",
        "      <th>20   </th>\n",
        "      <td> Spi_contig00075 </td>\n",
        "      <td> 0.871739</td>\n",
        "      <td>                      transport   </td>\n",
        "    </tr>\n",
        "    <tr>\n",
        "      <th>21   </th>\n",
        "      <td> Spi_contig00094 </td>\n",
        "      <td> 0.131292</td>\n",
        "      <td>                   cell adhesion  </td>\n",
        "    </tr>\n",
        "    <tr>\n",
        "      <th>22   </th>\n",
        "      <td> Spi_contig00094 </td>\n",
        "      <td> 0.131292</td>\n",
        "      <td>      cell cycle and proliferation</td>\n",
        "    </tr>\n",
        "    <tr>\n",
        "      <th>23   </th>\n",
        "      <td> Spi_contig00094 </td>\n",
        "      <td> 0.131292</td>\n",
        "      <td>  cell organization and biogenesis</td>\n",
        "    </tr>\n",
        "    <tr>\n",
        "      <th>24   </th>\n",
        "      <td> Spi_contig00094 </td>\n",
        "      <td> 0.131292</td>\n",
        "      <td>                          death   </td>\n",
        "    </tr>\n",
        "    <tr>\n",
        "      <th>25   </th>\n",
        "      <td> Spi_contig00094 </td>\n",
        "      <td> 0.131292</td>\n",
        "      <td>         developmental processes  </td>\n",
        "    </tr>\n",
        "    <tr>\n",
        "      <th>26   </th>\n",
        "      <td> Spi_contig00094 </td>\n",
        "      <td> 0.131292</td>\n",
        "      <td>                  DNA metabolism  </td>\n",
        "    </tr>\n",
        "    <tr>\n",
        "      <th>27   </th>\n",
        "      <td> Spi_contig00094 </td>\n",
        "      <td> 0.131292</td>\n",
        "      <td>       other biological processes </td>\n",
        "    </tr>\n",
        "    <tr>\n",
        "      <th>28   </th>\n",
        "      <td> Spi_contig00094 </td>\n",
        "      <td> 0.131292</td>\n",
        "      <td>        other metabolic processes </td>\n",
        "    </tr>\n",
        "    <tr>\n",
        "      <th>29   </th>\n",
        "      <td> Spi_contig00094 </td>\n",
        "      <td> 0.131292</td>\n",
        "      <td>              protein metabolism  </td>\n",
        "    </tr>\n",
        "    <tr>\n",
        "      <th>...</th>\n",
        "      <td>...</td>\n",
        "      <td>...</td>\n",
        "      <td>...</td>\n",
        "    </tr>\n",
        "    <tr>\n",
        "      <th>13714</th>\n",
        "      <td> Spi_isotig14932 </td>\n",
        "      <td> 0.626017</td>\n",
        "      <td>              protein metabolism  </td>\n",
        "    </tr>\n",
        "    <tr>\n",
        "      <th>13715</th>\n",
        "      <td> Spi_isotig14936 </td>\n",
        "      <td> 0.253558</td>\n",
        "      <td>        other metabolic processes </td>\n",
        "    </tr>\n",
        "    <tr>\n",
        "      <th>13716</th>\n",
        "      <td> Spi_isotig14955 </td>\n",
        "      <td> 0.534380</td>\n",
        "      <td>      cell cycle and proliferation</td>\n",
        "    </tr>\n",
        "    <tr>\n",
        "      <th>13717</th>\n",
        "      <td> Spi_isotig14955 </td>\n",
        "      <td> 0.534380</td>\n",
        "      <td>  cell organization and biogenesis</td>\n",
        "    </tr>\n",
        "    <tr>\n",
        "      <th>13718</th>\n",
        "      <td> Spi_isotig14955 </td>\n",
        "      <td> 0.534380</td>\n",
        "      <td>         developmental processes  </td>\n",
        "    </tr>\n",
        "    <tr>\n",
        "      <th>13719</th>\n",
        "      <td> Spi_isotig14956 </td>\n",
        "      <td> 0.431596</td>\n",
        "      <td>              protein metabolism  </td>\n",
        "    </tr>\n",
        "    <tr>\n",
        "      <th>13720</th>\n",
        "      <td> Spi_isotig14959 </td>\n",
        "      <td> 0.958655</td>\n",
        "      <td>  cell organization and biogenesis</td>\n",
        "    </tr>\n",
        "    <tr>\n",
        "      <th>13721</th>\n",
        "      <td> Spi_isotig14962 </td>\n",
        "      <td> 0.348816</td>\n",
        "      <td>        other metabolic processes </td>\n",
        "    </tr>\n",
        "    <tr>\n",
        "      <th>13722</th>\n",
        "      <td> Spi_isotig14962 </td>\n",
        "      <td> 0.348816</td>\n",
        "      <td>                      transport   </td>\n",
        "    </tr>\n",
        "    <tr>\n",
        "      <th>13723</th>\n",
        "      <td> Spi_isotig14966 </td>\n",
        "      <td> 0.683519</td>\n",
        "      <td>              protein metabolism  </td>\n",
        "    </tr>\n",
        "    <tr>\n",
        "      <th>13724</th>\n",
        "      <td> Spi_isotig14969 </td>\n",
        "      <td> 0.480887</td>\n",
        "      <td>                  DNA metabolism  </td>\n",
        "    </tr>\n",
        "    <tr>\n",
        "      <th>13725</th>\n",
        "      <td> Spi_isotig14969 </td>\n",
        "      <td> 0.480887</td>\n",
        "      <td>              protein metabolism  </td>\n",
        "    </tr>\n",
        "    <tr>\n",
        "      <th>13726</th>\n",
        "      <td> Spi_isotig14969 </td>\n",
        "      <td> 0.480887</td>\n",
        "      <td>             signal transduction  </td>\n",
        "    </tr>\n",
        "    <tr>\n",
        "      <th>13727</th>\n",
        "      <td> Spi_isotig14969 </td>\n",
        "      <td> 0.480887</td>\n",
        "      <td>                 stress response  </td>\n",
        "    </tr>\n",
        "    <tr>\n",
        "      <th>13728</th>\n",
        "      <td> Spi_isotig14970 </td>\n",
        "      <td> 0.269739</td>\n",
        "      <td>  cell organization and biogenesis</td>\n",
        "    </tr>\n",
        "    <tr>\n",
        "      <th>13729</th>\n",
        "      <td> Spi_isotig14970 </td>\n",
        "      <td> 0.269739</td>\n",
        "      <td>       other biological processes </td>\n",
        "    </tr>\n",
        "    <tr>\n",
        "      <th>13730</th>\n",
        "      <td> Spi_isotig14970 </td>\n",
        "      <td> 0.269739</td>\n",
        "      <td>        other metabolic processes </td>\n",
        "    </tr>\n",
        "    <tr>\n",
        "      <th>13731</th>\n",
        "      <td> Spi_isotig14970 </td>\n",
        "      <td> 0.269739</td>\n",
        "      <td>                  RNA metabolism  </td>\n",
        "    </tr>\n",
        "    <tr>\n",
        "      <th>13732</th>\n",
        "      <td> Spi_isotig14970 </td>\n",
        "      <td> 0.269739</td>\n",
        "      <td>                 stress response  </td>\n",
        "    </tr>\n",
        "    <tr>\n",
        "      <th>13733</th>\n",
        "      <td> Spi_isotig14981 </td>\n",
        "      <td> 0.202625</td>\n",
        "      <td>             signal transduction  </td>\n",
        "    </tr>\n",
        "    <tr>\n",
        "      <th>13734</th>\n",
        "      <td> Spi_isotig14984 </td>\n",
        "      <td> 0.768301</td>\n",
        "      <td>  cell organization and biogenesis</td>\n",
        "    </tr>\n",
        "    <tr>\n",
        "      <th>13735</th>\n",
        "      <td> Spi_isotig14984 </td>\n",
        "      <td> 0.768301</td>\n",
        "      <td>       other biological processes </td>\n",
        "    </tr>\n",
        "    <tr>\n",
        "      <th>13736</th>\n",
        "      <td> Spi_isotig14984 </td>\n",
        "      <td> 0.768301</td>\n",
        "      <td>        other metabolic processes </td>\n",
        "    </tr>\n",
        "    <tr>\n",
        "      <th>13737</th>\n",
        "      <td> Spi_isotig14993 </td>\n",
        "      <td> 0.663237</td>\n",
        "      <td>                          death   </td>\n",
        "    </tr>\n",
        "    <tr>\n",
        "      <th>13738</th>\n",
        "      <td> Spi_isotig14993 </td>\n",
        "      <td> 0.663237</td>\n",
        "      <td>       other biological processes </td>\n",
        "    </tr>\n",
        "    <tr>\n",
        "      <th>13739</th>\n",
        "      <td> Spi_isotig14993 </td>\n",
        "      <td> 0.663237</td>\n",
        "      <td>                 stress response  </td>\n",
        "    </tr>\n",
        "    <tr>\n",
        "      <th>13740</th>\n",
        "      <td> Spi_isotig14993 </td>\n",
        "      <td> 0.663237</td>\n",
        "      <td>                      transport   </td>\n",
        "    </tr>\n",
        "    <tr>\n",
        "      <th>13741</th>\n",
        "      <td> Spi_isotig14997 </td>\n",
        "      <td> 0.264544</td>\n",
        "      <td>        other metabolic processes </td>\n",
        "    </tr>\n",
        "    <tr>\n",
        "      <th>13742</th>\n",
        "      <td> Spi_isotig14998 </td>\n",
        "      <td> 0.575532</td>\n",
        "      <td>       other biological processes </td>\n",
        "    </tr>\n",
        "    <tr>\n",
        "      <th>13743</th>\n",
        "      <td> Spi_isotig15025 </td>\n",
        "      <td> 0.885773</td>\n",
        "      <td>              protein metabolism  </td>\n",
        "    </tr>\n",
        "  </tbody>\n",
        "</table>\n",
        "<p>13744 rows \u00d7 3 columns</p>\n",
        "</div>"
       ],
       "metadata": {},
       "output_type": "pyout",
       "prompt_number": 23,
       "text": [
        "                      0         1                                  2\n",
        "0      Spi_contig00032   0.484363       cell cycle and proliferation\n",
        "1      Spi_contig00032   0.484363   cell organization and biogenesis\n",
        "2      Spi_contig00032   0.484363          developmental processes  \n",
        "3      Spi_contig00032   0.484363        other biological processes \n",
        "4      Spi_contig00032   0.484363               protein metabolism  \n",
        "5      Spi_contig00035   0.335179       cell cycle and proliferation\n",
        "6      Spi_contig00035   0.335179   cell organization and biogenesis\n",
        "7      Spi_contig00035   0.335179                           death   \n",
        "8      Spi_contig00035   0.335179          developmental processes  \n",
        "9      Spi_contig00035   0.335179        other biological processes \n",
        "10     Spi_contig00035   0.335179         other metabolic processes \n",
        "11     Spi_contig00035   0.335179               protein metabolism  \n",
        "12     Spi_contig00035   0.335179                   RNA metabolism  \n",
        "13     Spi_contig00035   0.335179              signal transduction  \n",
        "14     Spi_contig00035   0.335179                  stress response  \n",
        "15     Spi_contig00035   0.335179                       transport   \n",
        "16     Spi_contig00040   0.854266         other metabolic processes \n",
        "17     Spi_contig00040   0.854266                       transport   \n",
        "18     Spi_contig00046   0.196592         other metabolic processes \n",
        "19     Spi_contig00075   0.871739         other metabolic processes \n",
        "20     Spi_contig00075   0.871739                       transport   \n",
        "21     Spi_contig00094   0.131292                    cell adhesion  \n",
        "22     Spi_contig00094   0.131292       cell cycle and proliferation\n",
        "23     Spi_contig00094   0.131292   cell organization and biogenesis\n",
        "24     Spi_contig00094   0.131292                           death   \n",
        "25     Spi_contig00094   0.131292          developmental processes  \n",
        "26     Spi_contig00094   0.131292                   DNA metabolism  \n",
        "27     Spi_contig00094   0.131292        other biological processes \n",
        "28     Spi_contig00094   0.131292         other metabolic processes \n",
        "29     Spi_contig00094   0.131292               protein metabolism  \n",
        "...                 ...       ...                                ...\n",
        "13714  Spi_isotig14932   0.626017               protein metabolism  \n",
        "13715  Spi_isotig14936   0.253558         other metabolic processes \n",
        "13716  Spi_isotig14955   0.534380       cell cycle and proliferation\n",
        "13717  Spi_isotig14955   0.534380   cell organization and biogenesis\n",
        "13718  Spi_isotig14955   0.534380          developmental processes  \n",
        "13719  Spi_isotig14956   0.431596               protein metabolism  \n",
        "13720  Spi_isotig14959   0.958655   cell organization and biogenesis\n",
        "13721  Spi_isotig14962   0.348816         other metabolic processes \n",
        "13722  Spi_isotig14962   0.348816                       transport   \n",
        "13723  Spi_isotig14966   0.683519               protein metabolism  \n",
        "13724  Spi_isotig14969   0.480887                   DNA metabolism  \n",
        "13725  Spi_isotig14969   0.480887               protein metabolism  \n",
        "13726  Spi_isotig14969   0.480887              signal transduction  \n",
        "13727  Spi_isotig14969   0.480887                  stress response  \n",
        "13728  Spi_isotig14970   0.269739   cell organization and biogenesis\n",
        "13729  Spi_isotig14970   0.269739        other biological processes \n",
        "13730  Spi_isotig14970   0.269739         other metabolic processes \n",
        "13731  Spi_isotig14970   0.269739                   RNA metabolism  \n",
        "13732  Spi_isotig14970   0.269739                  stress response  \n",
        "13733  Spi_isotig14981   0.202625              signal transduction  \n",
        "13734  Spi_isotig14984   0.768301   cell organization and biogenesis\n",
        "13735  Spi_isotig14984   0.768301        other biological processes \n",
        "13736  Spi_isotig14984   0.768301         other metabolic processes \n",
        "13737  Spi_isotig14993   0.663237                           death   \n",
        "13738  Spi_isotig14993   0.663237        other biological processes \n",
        "13739  Spi_isotig14993   0.663237                  stress response  \n",
        "13740  Spi_isotig14993   0.663237                       transport   \n",
        "13741  Spi_isotig14997   0.264544         other metabolic processes \n",
        "13742  Spi_isotig14998   0.575532        other biological processes \n",
        "13743  Spi_isotig15025   0.885773               protein metabolism  \n",
        "\n",
        "[13744 rows x 3 columns]"
       ]
      }
     ],
     "prompt_number": 23
    },
    {
     "cell_type": "code",
     "collapsed": false,
     "input": [
      "%matplotlib inline"
     ],
     "language": "python",
     "metadata": {},
     "outputs": [],
     "prompt_number": 24
    },
    {
     "cell_type": "code",
     "collapsed": false,
     "input": [
      "import matplotlib.pyplot as plt "
     ],
     "language": "python",
     "metadata": {},
     "outputs": [],
     "prompt_number": 25
    },
    {
     "cell_type": "code",
     "collapsed": false,
     "input": [
      "jData.groupby(2)[1].mean().plot(kind='barh', color=list('myb'))\n",
      "plt.axis([0.5, 0.75, -1, 14])\n",
      "plt.xlabel('')\n",
      "plt.ylabel('')\n",
      "plt.show()"
     ],
     "language": "python",
     "metadata": {},
     "outputs": [
      {
       "metadata": {},
       "output_type": "display_data",
       "png": "[encoded data removed]",
       "text": [
        "<matplotlib.figure.Figure at 0x7fce46dd68d0>"
       ]
      }
     ],
     "prompt_number": 33
    },
    {
     "cell_type": "code",
     "collapsed": false,
     "input": [
      "##To plot density curve, must use CpG data WITHOUT annotation. Also must remove \"-nan\" in order to plot.\n",
      "!awk '{print $2}' ID_CpG | sed '/-nan/d' > CpG\n",
      "!head CpG"
     ],
     "language": "python",
     "metadata": {},
     "outputs": [
      {
       "output_type": "stream",
       "stream": "stdout",
       "text": [
        "0.484363\r\n",
        "0.335179\r\n",
        "0.854266\r\n",
        "0.867137\r\n",
        "0.196592\r\n",
        "0.871739\r\n",
        "0.937628\r\n",
        "0.131292\r\n",
        "0.684932\r\n",
        "0.584255\r\n"
       ]
      }
     ],
     "prompt_number": 77
    },
    {
     "cell_type": "code",
     "collapsed": false,
     "input": [
      "#To plot density curve, must use CpG data WITHOUT annotation\n",
      "CpG = pd.read_table('CpG', header=None, )\n",
      "CpG"
     ],
     "language": "python",
     "metadata": {},
     "outputs": [
      {
       "html": [
        "<div style=\"max-height:1000px;max-width:1500px;overflow:auto;\">\n",
        "<table border=\"1\" class=\"dataframe\">\n",
        "  <thead>\n",
        "    <tr style=\"text-align: right;\">\n",
        "      <th></th>\n",
        "      <th>0</th>\n",
        "    </tr>\n",
        "  </thead>\n",
        "  <tbody>\n",
        "    <tr>\n",
        "      <th>0    </th>\n",
        "      <td> 0.484363</td>\n",
        "    </tr>\n",
        "    <tr>\n",
        "      <th>1    </th>\n",
        "      <td> 0.335179</td>\n",
        "    </tr>\n",
        "    <tr>\n",
        "      <th>2    </th>\n",
        "      <td> 0.854266</td>\n",
        "    </tr>\n",
        "    <tr>\n",
        "      <th>3    </th>\n",
        "      <td> 0.867137</td>\n",
        "    </tr>\n",
        "    <tr>\n",
        "      <th>4    </th>\n",
        "      <td> 0.196592</td>\n",
        "    </tr>\n",
        "    <tr>\n",
        "      <th>5    </th>\n",
        "      <td> 0.871739</td>\n",
        "    </tr>\n",
        "    <tr>\n",
        "      <th>6    </th>\n",
        "      <td> 0.937628</td>\n",
        "    </tr>\n",
        "    <tr>\n",
        "      <th>7    </th>\n",
        "      <td> 0.131292</td>\n",
        "    </tr>\n",
        "    <tr>\n",
        "      <th>8    </th>\n",
        "      <td> 0.684932</td>\n",
        "    </tr>\n",
        "    <tr>\n",
        "      <th>9    </th>\n",
        "      <td> 0.584255</td>\n",
        "    </tr>\n",
        "    <tr>\n",
        "      <th>10   </th>\n",
        "      <td> 0.857523</td>\n",
        "    </tr>\n",
        "    <tr>\n",
        "      <th>11   </th>\n",
        "      <td> 1.046390</td>\n",
        "    </tr>\n",
        "    <tr>\n",
        "      <th>12   </th>\n",
        "      <td> 0.981477</td>\n",
        "    </tr>\n",
        "    <tr>\n",
        "      <th>13   </th>\n",
        "      <td> 0.654594</td>\n",
        "    </tr>\n",
        "    <tr>\n",
        "      <th>14   </th>\n",
        "      <td> 0.631948</td>\n",
        "    </tr>\n",
        "    <tr>\n",
        "      <th>15   </th>\n",
        "      <td> 0.910725</td>\n",
        "    </tr>\n",
        "    <tr>\n",
        "      <th>16   </th>\n",
        "      <td> 0.910243</td>\n",
        "    </tr>\n",
        "    <tr>\n",
        "      <th>17   </th>\n",
        "      <td> 0.896155</td>\n",
        "    </tr>\n",
        "    <tr>\n",
        "      <th>18   </th>\n",
        "      <td> 0.895683</td>\n",
        "    </tr>\n",
        "    <tr>\n",
        "      <th>19   </th>\n",
        "      <td> 0.900018</td>\n",
        "    </tr>\n",
        "    <tr>\n",
        "      <th>20   </th>\n",
        "      <td> 0.844576</td>\n",
        "    </tr>\n",
        "    <tr>\n",
        "      <th>21   </th>\n",
        "      <td> 0.932216</td>\n",
        "    </tr>\n",
        "    <tr>\n",
        "      <th>22   </th>\n",
        "      <td> 0.987775</td>\n",
        "    </tr>\n",
        "    <tr>\n",
        "      <th>23   </th>\n",
        "      <td> 0.987220</td>\n",
        "    </tr>\n",
        "    <tr>\n",
        "      <th>24   </th>\n",
        "      <td> 0.908013</td>\n",
        "    </tr>\n",
        "    <tr>\n",
        "      <th>25   </th>\n",
        "      <td> 0.972397</td>\n",
        "    </tr>\n",
        "    <tr>\n",
        "      <th>26   </th>\n",
        "      <td> 0.971853</td>\n",
        "    </tr>\n",
        "    <tr>\n",
        "      <th>27   </th>\n",
        "      <td> 0.976850</td>\n",
        "    </tr>\n",
        "    <tr>\n",
        "      <th>28   </th>\n",
        "      <td> 0.912283</td>\n",
        "    </tr>\n",
        "    <tr>\n",
        "      <th>29   </th>\n",
        "      <td> 0.989809</td>\n",
        "    </tr>\n",
        "    <tr>\n",
        "      <th>...</th>\n",
        "      <td>...</td>\n",
        "    </tr>\n",
        "    <tr>\n",
        "      <th>15021</th>\n",
        "      <td> 0.193988</td>\n",
        "    </tr>\n",
        "    <tr>\n",
        "      <th>15022</th>\n",
        "      <td> 1.762730</td>\n",
        "    </tr>\n",
        "    <tr>\n",
        "      <th>15023</th>\n",
        "      <td> 1.116090</td>\n",
        "    </tr>\n",
        "    <tr>\n",
        "      <th>15024</th>\n",
        "      <td> 0.735748</td>\n",
        "    </tr>\n",
        "    <tr>\n",
        "      <th>15025</th>\n",
        "      <td> 0.629234</td>\n",
        "    </tr>\n",
        "    <tr>\n",
        "      <th>15026</th>\n",
        "      <td> 0.644640</td>\n",
        "    </tr>\n",
        "    <tr>\n",
        "      <th>15027</th>\n",
        "      <td> 1.161310</td>\n",
        "    </tr>\n",
        "    <tr>\n",
        "      <th>15028</th>\n",
        "      <td> 0.552857</td>\n",
        "    </tr>\n",
        "    <tr>\n",
        "      <th>15029</th>\n",
        "      <td> 0.122963</td>\n",
        "    </tr>\n",
        "    <tr>\n",
        "      <th>15030</th>\n",
        "      <td> 0.717703</td>\n",
        "    </tr>\n",
        "    <tr>\n",
        "      <th>15031</th>\n",
        "      <td> 0.896540</td>\n",
        "    </tr>\n",
        "    <tr>\n",
        "      <th>15032</th>\n",
        "      <td> 1.407900</td>\n",
        "    </tr>\n",
        "    <tr>\n",
        "      <th>15033</th>\n",
        "      <td> 0.808355</td>\n",
        "    </tr>\n",
        "    <tr>\n",
        "      <th>15034</th>\n",
        "      <td> 0.322698</td>\n",
        "    </tr>\n",
        "    <tr>\n",
        "      <th>15035</th>\n",
        "      <td> 1.115180</td>\n",
        "    </tr>\n",
        "    <tr>\n",
        "      <th>15036</th>\n",
        "      <td> 0.466681</td>\n",
        "    </tr>\n",
        "    <tr>\n",
        "      <th>15037</th>\n",
        "      <td> 0.419544</td>\n",
        "    </tr>\n",
        "    <tr>\n",
        "      <th>15038</th>\n",
        "      <td> 0.427099</td>\n",
        "    </tr>\n",
        "    <tr>\n",
        "      <th>15039</th>\n",
        "      <td> 0.843343</td>\n",
        "    </tr>\n",
        "    <tr>\n",
        "      <th>15040</th>\n",
        "      <td> 0.790032</td>\n",
        "    </tr>\n",
        "    <tr>\n",
        "      <th>15041</th>\n",
        "      <td> 0.885773</td>\n",
        "    </tr>\n",
        "    <tr>\n",
        "      <th>15042</th>\n",
        "      <td> 0.000000</td>\n",
        "    </tr>\n",
        "    <tr>\n",
        "      <th>15043</th>\n",
        "      <td> 0.864346</td>\n",
        "    </tr>\n",
        "    <tr>\n",
        "      <th>15044</th>\n",
        "      <td> 1.242950</td>\n",
        "    </tr>\n",
        "    <tr>\n",
        "      <th>15045</th>\n",
        "      <td> 1.104080</td>\n",
        "    </tr>\n",
        "    <tr>\n",
        "      <th>15046</th>\n",
        "      <td> 0.430511</td>\n",
        "    </tr>\n",
        "    <tr>\n",
        "      <th>15047</th>\n",
        "      <td> 0.815763</td>\n",
        "    </tr>\n",
        "    <tr>\n",
        "      <th>15048</th>\n",
        "      <td> 0.640071</td>\n",
        "    </tr>\n",
        "    <tr>\n",
        "      <th>15049</th>\n",
        "      <td> 0.899106</td>\n",
        "    </tr>\n",
        "    <tr>\n",
        "      <th>15050</th>\n",
        "      <td> 0.506757</td>\n",
        "    </tr>\n",
        "  </tbody>\n",
        "</table>\n",
        "<p>15051 rows \u00d7 1 columns</p>\n",
        "</div>"
       ],
       "metadata": {},
       "output_type": "pyout",
       "prompt_number": 78,
       "text": [
        "              0\n",
        "0      0.484363\n",
        "1      0.335179\n",
        "2      0.854266\n",
        "3      0.867137\n",
        "4      0.196592\n",
        "5      0.871739\n",
        "6      0.937628\n",
        "7      0.131292\n",
        "8      0.684932\n",
        "9      0.584255\n",
        "10     0.857523\n",
        "11     1.046390\n",
        "12     0.981477\n",
        "13     0.654594\n",
        "14     0.631948\n",
        "15     0.910725\n",
        "16     0.910243\n",
        "17     0.896155\n",
        "18     0.895683\n",
        "19     0.900018\n",
        "20     0.844576\n",
        "21     0.932216\n",
        "22     0.987775\n",
        "23     0.987220\n",
        "24     0.908013\n",
        "25     0.972397\n",
        "26     0.971853\n",
        "27     0.976850\n",
        "28     0.912283\n",
        "29     0.989809\n",
        "...         ...\n",
        "15021  0.193988\n",
        "15022  1.762730\n",
        "15023  1.116090\n",
        "15024  0.735748\n",
        "15025  0.629234\n",
        "15026  0.644640\n",
        "15027  1.161310\n",
        "15028  0.552857\n",
        "15029  0.122963\n",
        "15030  0.717703\n",
        "15031  0.896540\n",
        "15032  1.407900\n",
        "15033  0.808355\n",
        "15034  0.322698\n",
        "15035  1.115180\n",
        "15036  0.466681\n",
        "15037  0.419544\n",
        "15038  0.427099\n",
        "15039  0.843343\n",
        "15040  0.790032\n",
        "15041  0.885773\n",
        "15042  0.000000\n",
        "15043  0.864346\n",
        "15044  1.242950\n",
        "15045  1.104080\n",
        "15046  0.430511\n",
        "15047  0.815763\n",
        "15048  0.640071\n",
        "15049  0.899106\n",
        "15050  0.506757\n",
        "\n",
        "[15051 rows x 1 columns]"
       ]
      }
     ],
     "prompt_number": 78
    },
    {
     "cell_type": "code",
     "collapsed": false,
     "input": [
      "# pandas density plot\n",
      "CpG[0].plot(kind='kde', linewidth=3);\n",
      "plt.axis([-0.3, 1.7, 0, 1.7])"
     ],
     "language": "python",
     "metadata": {},
     "outputs": [
      {
       "metadata": {},
       "output_type": "pyout",
       "prompt_number": 79,
       "text": [
        "[-0.3, 1.7, 0, 1.7]"
       ]
      },
      {
       "metadata": {},
       "output_type": "display_data",
       "png": "[encoded data removed]",
       "text": [
        "<matplotlib.figure.Figure at 0x7fce3f61b2d0>"
       ]
      }
     ],
     "prompt_number": 79
    }
   ],
   "metadata": {}
  }
 ]
}