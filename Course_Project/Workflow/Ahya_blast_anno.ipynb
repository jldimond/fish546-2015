{
 "metadata": {
  "name": "",
  "signature": "sha256:3197b43c4928d4c365bff0e8dee532314ac9a994455d35ecaf395cbcefdd0883"
 },
 "nbformat": 3,
 "nbformat_minor": 0,
 "worksheets": [
  {
   "cells": [
    {
     "cell_type": "heading",
     "level": 1,
     "metadata": {},
     "source": [
      "Blasting transcriptome of Acropora hyacinthus from: http://palumbi.stanford.edu/data/33496_Ahyacinthus_CoralContigs.fasta.zip"
     ]
    },
    {
     "cell_type": "code",
     "collapsed": false,
     "input": [
      "!head /Volumes/Eagle/fish546-2015/Data/Ahya/33496_Ahyacinthus_CoralContigs.fasta"
     ],
     "language": "python",
     "metadata": {},
     "outputs": [
      {
       "output_type": "stream",
       "stream": "stdout",
       "text": [
        ">contig27\r\n",
        "CAAAATTCCAGCACTCCGTTTTGCATGGTAAACTTGTCTTAGTAGGACACTGTGGAAGATGTACAGCGCAAGACATCACAGTTGCAAGCGCCGACGAACAGCTGTTAAACTCTCCTCTCATATTCTCGAACAAACCAAATATTTCTTCCTCTCTGTTGTTGCTAACCTTTGAATATATGAAGCTGGCATTAGCACAGGACTCAAAGTTTCCGCCGAGCAGTTT\r\n",
        ">contig88\r\n",
        "TGTCCTGTGTTAGAGGCCAGCTTCAACCTCTTGCTTTCCCTGTCAGCCGAGTTTTCTTCTCCTTCAATAAGCTGGGATTTTCGATCTCTACTCAATGTTTCCATCAAACACCTGAGAGTTAAATCTGCCAGATAACGAAGAAATCCTCTTGCTAGAATACTTTTCAAAAGCCCTTCTTCATACATTGATCTTATCCCATTGCAAATTGCGTTGG\r\n",
        ">contig100\r\n",
        "TTCAGAACTATTCTCCGCCACACAGGGATAAATGGTCTTCACTTTCTTAGGTGTTTTTGTCTGTGGTGATGGTGTGGGTTCCTCCTGTGGGGGAGGTTCTCTTGGGAGTGGGGGTGGTCGTGTTCCCCATGACTGTATCCCCCTGTTTAGGCTCCCACCCTGACTGCTGACACGGCGTATTGCATGGGCAGAGCCCTTGTCATTCCTGCCCTTGTCATTC\r\n",
        ">contig211\r\n",
        "TGGGGCGATCAGGTCACCAACGAAATTGTCCGACAAGTCATGGAGATGAAAGGGTTTTATAGTCTCGACAAACCCGGTGAATTTACCAGCATAGTGGATCTTCAGTTTGTGGCAGCTATGATCCAGCCCGGTGGGGGCCGCAATGACATCCCAAGTCGTCTGAAAAGGCAGTTTACCATCCTCAACTGCACGCTTCCCGCAAATGCGTCCATCGATAAGATCTTTAGCTCTATCGGCTGTGGTTACTTCAACACTGAGCGCGGTTTCC\r\n",
        ">contig405\r\n",
        "ATTTTTAATTATTAAAGTTAGTTTTCCTTCTTTGTGAAGACTCAGTGCTTACTATCACATTTGTTTGTCATGCTCGTATCAAGACCACCGAGGTCTTGAGTGAGTGATACCATATGTACTTTCTGTACCTCATTTCCTCAATTTCATGACAGACCGCCTATTCTTCTTGATGTGCTTGATTTGAAATGGCATCGGATGGCAATACTTGATGAAATTTCCGGTGTGGCGTGAAGAACTTTGAA\r\n"
       ]
      }
     ],
     "prompt_number": 2
    },
    {
     "cell_type": "code",
     "collapsed": false,
     "input": [
      "!tail -10 /Volumes/Eagle/fish546-2015/Data/Ahya/33496_Ahyacinthus_CoralContigs.fasta"
     ],
     "language": "python",
     "metadata": {},
     "outputs": [
      {
       "output_type": "stream",
       "stream": "stdout",
       "text": [
        ">contig150479_173708\r\n",
        "AAAAAAGCCATCGGAAAAGTTGCAAAAAGAGCTTGCAGAATCAACAACTCGAATCAAAACTGCTGAAGCGCAATTGAATGCCTTAATGCAAGCACAGCCTGATTTTTCCAATAATGGCCCCTTCTCAGCACCACCTGGGAAAACTGTACCCCCAGTTTGGCAGTCAGTGACTCAGATACCAAGCAGGTGTCACTCAGTTCCAGCTGAAGACAACGTGGAGCAGGATCCCAATGCACTGTATGACAACTACCCACTGTCAGCTATTATACCCAATAGTGAAACTGCTGACAAAGGACCTCAGAGGTCATCAACACCACCTCTTCCCCCAGAGAGAAAGTTTGTTCCTTCCGGAGACCAGCTGGGGATAAGAGAGGGATCAGGCCATTCCAGGCAAGGTTCTAGTCCAGCAGCTTTTTATCGTTCTTCACCAAATGGGAGTCAACAGGACAAAACTTTCCATGTTAGAAACAATGTCAAGAACAAAAGTCATGATGATGCCTCAGGAATGCACTTGGGCTCTCCTGCAAGAATGCGAAGAAATATCTTGACGTCGTCACTCCCCATGGCTTGGACTCCTCACAATCCTGAGAAACAAGCAGTACAGCTGAGTGCCTTAACTGGAAAAGGGAATTTTTATAACACTGGTTCACCTCCACCAACACCCACATCTGTACATGAGCCAATGGAGNNNNNNNNNNNNNNNNNNNNNNNNNNNNNNNNNNNNNNNNNNNNNNNNNNNNNNNNNNNNNNNNNNNNNNNNNNNNNNNNNNNNNNNNNNNNNNNNNNNNNNNNNNNNNNNNNNNNNNNNNNNNNNNNNNNNNNNNNNNNNNNNNNNNNNNNNNNNNNNNNNNNNNNNNNNNNNNNNNNNNNNNNNNNNNNNNNNNNNNNNNNNNNNNNNNNNNNNNNNNNNNNNNNNNNNNNNNNNNNNNNNNNNNNNNNNNNNNNNNNNNNNNNNNNNNNNNNNNNNNNNNNNNNNNNNNNNNNNNNNNNNNNNNNNNNNNNNNNNNNNNNNNNNNNNNNNNNNNNNNNNNNNNNNNNNNNNNNNNNNNNNNNNNNNNNNNNNNNNNNNNNNNNNNNNNNNNNNNNNNNNNNNNNNNNNNNNNNNNNNNNNNNNNNNNNNNNNNNNNNNNNNNNNNNNNNNNNNNNNNNNNNNNNNNNNNNNNNNNNNNNNNNNNNNNNNNNNNNNNNNNNNNNNNNNNNNNNNNNNNNNNNNNNNNNNNNNNNNNNNNNNNNNNNNNNNNNNNNNNNNNNNNNNNNNNNNNNNNNNNNNNNNNNNNNNNNNNNNNNNNNNNNNNNNNNNNNNNNNNNNNNNNNNNNNNNNNNNNNNNNNNNNNNNNNNNNNNNNNNNNNNCTGGTGCAATGAATTTTTTTTCTTACTTTGAGCTGGTTGAAGGATTTTCTCATATGTTTTGTTATTTCTTTTCACTTCTGCTCAGTTGATAGCAAACCAAAAAGAAGCTCACTTGATAGAGATAGTATTTCAAGTGGAAAGGATATGAGAAGTGAAATAGAATTTTCCAGATCAATTGACAGGGAACATTTGTCAAGTGGAGACGATGGAATGCCAAGGTATAGGAGTGAATCGTGCCTTGATAAACCTCCACCAACAAAAAACATTGCAAGGGCAGAGACAATGAGAGAGTTCAGGACAACTAGGGAATTGGGGCCCGTTTCTCGAAAGTCCCGACACTTTTCGGGC\r\n",
        ">contig53933_75484\r\n",
        "GGTCGATTGTCGAAAGCGTGTTCCTTTTCAGCCTCAATTTGGCCGGTTGGCTGTGGGGAATTGTGAGTTTTTTACCATGGTACTACTTAGTTGGAAGGAAGCAGTACCGACCCCGAAGTAAGGTCCAAGCGAGGCGCGTCAGCCAATTTCCAGGTGCTCCGTATCGATGTGTTGAACGATTTGATTCTTTGGCTACCAGTCTGTACGATGGCGTATATACCATGGACCAGCTTTTTAACCGGGCTGTGAACTTGTACCCATATAGAAAATGCCTTGGTACACGAGAAGTCCTCAGAGAGGAAGATGAAATGCAAGCCAATGGGAGGGTATTTAAGAAAGTAGTATGTGGAGAGTACAGTTGGCTGACATACGCTCAGGTGGATGCCAGAGCAAAGGCATTTGGACGTGGGCTTGCAGTGTTGGGCCAGCAGACCAAAGAAAACATCGTCATTTTTTCTGAGACAAAGGCTGACTGGATGATATGTGCACAAGGGTGCTTTGCTCAAAATTTTCCAATTGTTACAGTTTATGCAACACTTGGTGATGAAGCTCTGGTACATGCCCTAAATGAAAAGGACCTCAGATTCATTATCACAGATGGGTCTCTTCTTGGCAAGCTTTCTGCCCTCACAGACAAACTGCCTAAATTAGAACATGTTGTGTTCATTGGAAACATGGTTAAAAAGTCTGCAATGCGAGGGTTCTCAAGGAGAATCAACATTCATTCTATGCAAGAAGTTGAAGAAATTGGGGAATCTGATGAGAACTCGTCTTTTGTGCGGAAGGGTCCAAGCCCAGATGACATTGCAGTCATTATGTACACGAGTGGTTCCACTGGACTTGGAAAAGGTGTTCTCATCTCCCATGGTGCCTTAATGGCTGGTCTGGCAGGAATTACATCAAGGGTGCAACCTGGTGTTAGTGAAAAGGACATTTATGTTGGGTATCTACCTCTTGCTCATGTACTAGAGTTAATAGCTGAAACAATGATGCTAGCTCATGGTGCTTGCATAGGATATTCCAGTCCACTTACTCTTGCAGATCAGTCCTCAAAAATCAAGAAGGGATCTAAAGGAGACGTATCAGTACTCAGACCAACCCTCATGGCTGCTGTCCCAGTTATCATGGATAGAATAAGGCATAATGTCATGGAGAAAGTTAAAGAAGGGCCCCGCCTGCTGCAAGTATTCTTTTCATTTGCCTACAGCTACAAACTCAAGCAGCTAAAACTTGGCTATGATACTCCACTTCTCAACAAATTCATCTTTTCGAAAATGCGAAATCTTCTAGGAGGGCGAGTGCGACAGATAATAAGCGGGGGTGCACCATTATCTGAAGATACGCAGTACTTCATGAACGTGTGCTTTTGTTGTCCTGTGGGTCAGGGGTATGGACTCACGGAGACATGTGCAGGAGCAACCCTATGCATGTATGGGACAGGACAACTGGCCGTGTGGGTCCCCCTATCATCTCAACAGAAATCAAGCTTGTTGATTGGGAAGAAGGAAATTACACCAAGCACGACAAACCATATCCCAGAGGAGAGATTGTCATTGGAGGCCCCAGTGTGACTTTGGGTTATTACAAAAACCCAGAGAAAACAGCTGAATCCTTTGAAGTTGATAGAAATGGCCAGCGTTGGTTTCACACAGGTGACATTGGCGAGCTTCACCCTGATGGTTGTCTGAAGATTATAGACAGAAAGAAAGACATAGTAAAGCTCCAAGCTGGTGAATATGTGTCACTTGGAAAAGTTGAAGCTGCTCTGAGTCATTGTCAGTATATTGAAGTAGTGTGTATCTATGCACAGAGTTCACACAGTTATGTGGTGTGTCTGGCAGTACCACGCCCCAAACAACTAAAGGCTTTAGCTGCATCTCTAGGAGTCATGACTGATGAGTGGGTTCAACTGTGCAAAAACAAGGCCATTACGGAAGCTGTGCTGAAAGATCTACATGCTCTTGGCAAAGCAAAGAGACTTGAGAAGTTTGAGATCCCTCAGCGTCTGACCTTGGTGTCTGAACAATGGACACCCGATACAGAGCTTGTAACAGCTTCTCTTAAGCTTAAACGAATGAATATCACAGCTCATTATAGGGAAGTCCTGGAAGCCATGTATAGTCATTGAACTGACTCTTCTTGTTTTCACTTCGGGCGATC\r\n",
        ">contig69265_69648\r\n",
        "ATTAGAGGCTCTGTCTCTTTCCCCGGTTACTTTGACGATACGAGCCTCTAATTCATTTATCTTGTTGTGAAGGTCTAAGATCTCATGCTGTTTACGTGCATCTTCGGCTTTAAGGTTGTCGACTTCCTGCTGTGCTTTCTCCAAATTACTTTTAGCAGTGTTTAGCTGATCTTCCAACAGGTCTTTACCATCTTTCAAGTTTTTAATCTCGTTATCTTTCTCAACCGCTTCTTTTTCGGCTTCTTCAAGTTGTATCTTGTACTCCACGATGTCTTGTTCGAGTTCCATATTTTGTTTTCTTACTTTTTCCAACTTTTCTAGAGCGTCATCCAATTGTTTCTTGAATGATGTCTTCTCTTTAGTCTCGTTGTCGCAAGTTACTTCGAGATCAACTAATTTGTTATTGGCAGCCTCTAGGTCGCTTCTGGCGGTCTTTTTTTCTTTGTCCAGGCGTTCATTGGCAGATTGCAGATCTCGAATCTTCTTGTTTAAGGAGTTTACTTGAGCGCGAAGATCAACAATTTCCTTTTGTGCTTTGCGAAAGTTTTCCTCCATCTTTTCCATGCGAGCTTTGCGGGCATCCAGCTCTTGCTTGAGTCTGTTTTCCTTCTCCTGACTCATCTTGTAAAGTGCTTCAATTTTTATGTATTGTGTATCATGGCTGGAGCTGGTTTTGTCTCGTTCTTCTCGTTCCTTGTTCAAGTTACGAATACTGACTTCGAGCTTGTTCATGCTGAGGTTGGTCTGCTTTAGAGAGTTTTCTAATGATTTGATCTTGTTCTGCGCAGCCTCAAGAGCATTTCGAGTTGTCATCAATTCTTTCTTCAAGCTCAGGATCTCGTTGTCGACTGAAGCCTTAGCAGTTTTCAAGCGTTCAAGAGCAGCATCCTTGTCTTGAAGCTCCTTGATCTTGGATTCTAGCTCTTTCTCTAGATGACGTATTTCTGCTTGGAACGCCATGTTTTCTTCTTTGATTTTCTTTAAGGTGTCCTTGAGATTCTTGATCTCCTCTGTAAGGGCGTCCTTCTCCTTTTTGAGACTGTTCATCTGGGACTCCATGATTGCCAATTTATGTGTCTTGTTACTGAGATCGGTCTCCAAAGCATTTCTCTGTGCCTTGAGATCTTTAATCTCGCTCTCGAGTTGTTGAGCTCGTTTTACTTGATCGGCAAGTTTGCGCTCCAATTCCTTCTTATCCGATTTCAAACTTTCAGCTGCCACATTGGCAGAAAGTATAGTGCTCTTCGCCTCAGCTAATTCGCTCTGCAACTTCTTTATCTTTTTGTTAAGATCCGAGATAGCATTATCCTTCTTTGTAATCTGGTTCCTTAAACCGCTGTTTGCCTTGTCTTGTTGGCTTATTTTGGCCTTGAGATCGTTATTTTCTGCCTTCTCTTTAATAATCTTGTTGTTTGCGTCCTTTATGTTGTCCCTTAGTTGAGCATTCTGTTGGCGTGCAGCAGCCAGTTGACTCTCCAGGTTATCAATTTTCGCTTGGACATTATAAAGATGATCGTCTCCTTTTTCTTTGTCCTTTTGAGCGGCTTCCAAGTCGTTCTCTTTCTGTGCAATATCGCTTCGGGCAGCGACAATGTCTCGTTCAAGATCAGCCTTGTCCCCTTCCAGTTGTTGTGTGTGATCTTGTAGATTGACGATGTCTTCGTTGGCACGTTCGAGTTGTGCCTTCAGTTGGTCTAATTCCTTGGTTCGATCCTTTTCTTCTAGCATTTGAATCTTGATTTTTAAATTTTTAATTTCCTTTTCCAGCTGAGCGTTCTTCTCTTTCTCTCCTTCCAATAGAGAATCTTTGTCGCCAGCAAAACTCATAAAATCTTGGTAGCTGCTCTCAACATTCTGGACTTTATCAGCAACAACAACACATTCACTTTGTAGCTCTTCATTTCGTCTGATCGTGATATCGATTTCTCCAGTGAGTCGATTGATTTCCTCATTTTTCGTGTTCAGCTCTAACTGGAGCTTGCGTTTTTC\r\n",
        ">contig118470_120199_147241\r\n",
        "CTTCCATTCTTTCGAGAGGGAACTGATTTGTTTTTACACCTGGCGTTGAACTTTGTACAAATCAGTTCCCTCTCGAAAGAATGGAAGGCACAATAAGCCCGGCTACCGGTCACGTCAAATTAAGTCTTCGGGAGTTAAATCTAAAACGAGGAGGGAACAATGTTCGATGGTTGAACGAACGCGAAGATAGGCTACTTGAAACATCTTTGAAATCGATGGAGAAAGCGCACAAGATAGCGCTAAGTCGACTGGGACATGAAGTCAAAGATTTGCAGAGTATCTTAAGAGAACAAGGAACGGTTCGCTCGACGCAGCGTCAAAAAGCTGCACACGTAACAGAGCATGAGAACAGCGGCACAAGACGAAGAGCAACAACGATGCAAGAGGTAACTTTTGACCTGAGAAGAGAACATTTATCTTCCGTCAGTAAATCCGATGACGAGACACCAGGCTCTGTGGTAGAGGAAGTTGAAGATGTGGAGAATATCCTTTTTGAAGNNNNNNNNNNNNNNNNNNNNNNNNNNNCAAAAGGGTTTGGTTTCGAATGGCTTCCCTAAGCAAACTGCCTGGACAAGAAAACCTTCGACCTTGAAACGCCCAATCTCGAAGCAGTTATCGAGTTCAGTGGAACATTTGTCGACTTCACAGTCAAGTTTGTCGGTTCCTTGTCGTAAGATTTCTGTCACCGATCCGCTTCCGACAGGAGAATTAAGCTTAAGCCCTGGACTGCGAAAAAAGATAAGTGTTTCTTGTCTTCAGCTCAACACAGACAACATATCAGGTACTCTTAATCATGCGTCTCCGCCCCTCCTAAGGAAGGCTTCACAGGAAAGCACGCGCCAGCAGCAGCAAGCTAGCCCATTATTCATAAGGAGAACATTATCAGCAAGTAATCCACCGCGAAAAACAACGTCCCCAAACTCCAAGAGAAAAATCTTTATTACTTCACAAGTGCAACACCTTCCCAAAGTACAACGGGAGCAGAAGAGGCCTTCGCAGTCCTCACGTGATCACAGCGGAAGTCCGTCACTTCCCGTTGTTGACATGCCGAATGAACTTCCCAAATTAGAAATACCACGTGGTCTAGATCCAGGTCTTTCCTTTGACGGTAATGTCAGTCCAATAGATCCTGGTGTAGACGACGTGGATTGCACTCTCCAAGAAAAAGTGAATAACTTTCTAAGGAGTTTACAGAAGGGCGAACAAACTGAAGAAAACGAGGGATAGAATTCTCCCACGGAAAAAAACTACTCCAATTCCCGAAGACAACACGAAAGCTTCTCTTTATGAACACATCAAGAAA\r\n",
        ">contig25409_16070\r\n",
        "GAAATGCGAGAAGAGGATGGCATTATTGCAGTACAGAATCAGCTAAAAACGCTTCCACAACCAAACTACAGTCTTTTAAGATTCTTGTGTCGTTTCTTACACGAAGTTCAAAAGCACTGCGAACAAAACAAGATGAATGCGAGAAACCTGGCCATGGTGTTTGGACCGAATATTCTGCGCTCAGGGTCTGAGGATCCGAAAGNNNNNNNNNNNNNNNNNNNNNNNNAGATAAAAGATCTGCAGACAAAACTGGAACAAGAAGGGAAAGTTCGTGAAATGTTAGCAATGCGGTTAGCAGACGAGCAAAGAGCGAGAGAGTCAGCTCAAGATCGGTTGGAAAAACTACAAGCCGCCATGGAGGAGTTTTGTGATCGATATGGTAACTGGGAACCTACTCAAAGATGAAACCTACATTGGTTGAGTTCCGG"
       ]
      }
     ],
     "prompt_number": 4
    },
    {
     "cell_type": "code",
     "collapsed": false,
     "input": [
      "!fgrep -c \">\" /Volumes/Eagle/fish546-2015/Data/Ahya/33496_Ahyacinthus_CoralContigs.fasta"
     ],
     "language": "python",
     "metadata": {},
     "outputs": [
      {
       "output_type": "stream",
       "stream": "stdout",
       "text": [
        "33496\r\n"
       ]
      }
     ],
     "prompt_number": 5
    },
    {
     "cell_type": "code",
     "collapsed": false,
     "input": [
      "!blastx \\\n",
      "-query /Volumes/Eagle/fish546-2015/Data/Ahya/33496_Ahyacinthus_CoralContigs.fasta \\\n",
      "-db /Users/Shared/data/blast/db/uniprot_sprot \\\n",
      "-max_target_seqs 1 \\\n",
      "-max_hsps 1 \\\n",
      "-outfmt 6 \\\n",
      "-evalue 1E-05 \\\n",
      "-num_threads 8 \\\n",
      "-out /Volumes/Eagle/fish546-2015/Analyses/Ahya/Ahya_blastx_uniprot.tab ;"
     ],
     "language": "python",
     "metadata": {},
     "outputs": [
      {
       "output_type": "stream",
       "stream": "stdout",
       "text": [
        "Selenocysteine (U) at position 123 replaced by X\r\n",
        "Selenocysteine (U) at position 126 replaced by X\r\n",
        "Selenocysteine (U) at position 126 replaced by X\r\n",
        "Selenocysteine (U) at position 126 replaced by X\r\n",
        "Selenocysteine (U) at position 126 replaced by X\r\n",
        "Selenocysteine (U) at position 126 replaced by X\r\n",
        "Selenocysteine (U) at position 126 replaced by X\r\n",
        "Selenocysteine (U) at position 133 replaced by X\r\n",
        "Selenocysteine (U) at position 266 replaced by X\r\n",
        "Selenocysteine (U) at position 132 replaced by X\r\n",
        "Selenocysteine (U) at position 265 replaced by X\r\n",
        "Selenocysteine (U) at position 134 replaced by X\r\n",
        "Selenocysteine (U) at position 133 replaced by X\r\n",
        "Selenocysteine (U) at position 266 replaced by X\r\n",
        "Selenocysteine (U) at position 124 replaced by X\r\n",
        "Selenocysteine (U) at position 130 replaced by X\r\n",
        "Selenocysteine (U) at position 263 replaced by X\r\n",
        "Selenocysteine (U) at position 128 replaced by X\r\n",
        "Selenocysteine (U) at position 261 replaced by X\r\n",
        "Selenocysteine (U) at position 133 replaced by X\r\n",
        "Selenocysteine (U) at position 266 replaced by X\r\n",
        "Selenocysteine (U) at position 130 replaced by X\r\n",
        "Selenocysteine (U) at position 263 replaced by X\r\n",
        "Selenocysteine (U) at position 144 replaced by X\r\n",
        "Selenocysteine (U) at position 122 replaced by X\r\n"
       ]
      },
      {
       "output_type": "stream",
       "stream": "stdout",
       "text": [
        "Selenocysteine (U) at position 144 replaced by X\r\n",
        "Selenocysteine (U) at position 133 replaced by X\r\n",
        "Selenocysteine (U) at position 144 replaced by X\r\n",
        "Selenocysteine (U) at position 144 replaced by X\r\n",
        "Selenocysteine (U) at position 144 replaced by X\r\n",
        "Selenocysteine (U) at position 144 replaced by X\r\n",
        "Selenocysteine (U) at position 131 replaced by X\r\n",
        "Selenocysteine (U) at position 132 replaced by X\r\n"
       ]
      },
      {
       "output_type": "stream",
       "stream": "stdout",
       "text": [
        "Selenocysteine (U) at position 126 replaced by X\r\n"
       ]
      },
      {
       "output_type": "stream",
       "stream": "stdout",
       "text": [
        "Selenocysteine (U) at position 128 replaced by X\r\n",
        "Selenocysteine (U) at position 261 replaced by X\r\n",
        "Selenocysteine (U) at position 144 replaced by X\r\n",
        "Selenocysteine (U) at position 122 replaced by X\r\n",
        "Selenocysteine (U) at position 144 replaced by X\r\n",
        "Selenocysteine (U) at position 133 replaced by X\r\n",
        "Selenocysteine (U) at position 144 replaced by X\r\n",
        "Selenocysteine (U) at position 144 replaced by X\r\n",
        "Selenocysteine (U) at position 144 replaced by X\r\n",
        "Selenocysteine (U) at position 144 replaced by X\r\n",
        "Selenocysteine (U) at position 132 replaced by X\r\n"
       ]
      },
      {
       "output_type": "stream",
       "stream": "stdout",
       "text": [
        "Selenocysteine (U) at position 637 replaced by X\r\n",
        "Selenocysteine (U) at position 690 replaced by X\r\n"
       ]
      },
      {
       "output_type": "stream",
       "stream": "stdout",
       "text": [
        "Selenocysteine (U) at position 637 replaced by X\r\n",
        "Selenocysteine (U) at position 690 replaced by X\r\n"
       ]
      },
      {
       "output_type": "stream",
       "stream": "stdout",
       "text": [
        "Selenocysteine (U) at position 637 replaced by X\r\n",
        "Selenocysteine (U) at position 690 replaced by X\r\n"
       ]
      },
      {
       "output_type": "stream",
       "stream": "stdout",
       "text": [
        "Selenocysteine (U) at position 637 replaced by X\r\n",
        "Selenocysteine (U) at position 690 replaced by X\r\n"
       ]
      },
      {
       "output_type": "stream",
       "stream": "stdout",
       "text": [
        "Selenocysteine (U) at position 637 replaced by X\r\n"
       ]
      },
      {
       "output_type": "stream",
       "stream": "stdout",
       "text": [
        "Selenocysteine (U) at position 498 replaced by X\r\n",
        "Selenocysteine (U) at position 666 replaced by X\r\n",
        "Selenocysteine (U) at position 494 replaced by X\r\n",
        "Selenocysteine (U) at position 648 replaced by X\r\n",
        "Selenocysteine (U) at position 612 replaced by X\r\n",
        "Selenocysteine (U) at position 498 replaced by X\r\n",
        "Selenocysteine (U) at position 498 replaced by X\r\n",
        "Selenocysteine (U) at position 498 replaced by X\r\n",
        "Selenocysteine (U) at position 510 replaced by X\r\n",
        "Selenocysteine (U) at position 523 replaced by X\r\n",
        "Selenocysteine (U) at position 523 replaced by X\r\n",
        "Selenocysteine (U) at position 525 replaced by X\r\n",
        "Selenocysteine (U) at position 681 replaced by X\r\n",
        "Selenocysteine (U) at position 696 replaced by X\r\n"
       ]
      },
      {
       "output_type": "stream",
       "stream": "stdout",
       "text": [
        "Selenocysteine (U) at position 18 replaced by X\r\n"
       ]
      },
      {
       "output_type": "stream",
       "stream": "stdout",
       "text": [
        "Selenocysteine (U) at position 13 replaced by X\r\n",
        "Selenocysteine (U) at position 17 replaced by X\r\n",
        "Selenocysteine (U) at position 17 replaced by X\r\n",
        "Selenocysteine (U) at position 15 replaced by X\r\n",
        "Selenocysteine (U) at position 17 replaced by X\r\n",
        "Selenocysteine (U) at position 15 replaced by X\r\n",
        "Selenocysteine (U) at position 15 replaced by X\r\n",
        "Selenocysteine (U) at position 25 replaced by X\r\n",
        "Selenocysteine (U) at position 16 replaced by X\r\n",
        "Selenocysteine (U) at position 13 replaced by X\r\n",
        "Selenocysteine (U) at position 16 replaced by X\r\n",
        "Selenocysteine (U) at position 16 replaced by X\r\n",
        "Selenocysteine (U) at position 19 replaced by X\r\n",
        "Selenocysteine (U) at position 16 replaced by X\r\n",
        "Selenocysteine (U) at position 7 replaced by X\r\n",
        "Selenocysteine (U) at position 16 replaced by X\r\n",
        "Selenocysteine (U) at position 21 replaced by X\r\n",
        "Selenocysteine (U) at position 24 replaced by X\r\n",
        "Selenocysteine (U) at position 60 replaced by X\r\n",
        "Selenocysteine (U) at position 63 replaced by X\r\n",
        "Selenocysteine (U) at position 63 replaced by X\r\n"
       ]
      },
      {
       "output_type": "stream",
       "stream": "stdout",
       "text": [
        "Selenocysteine (U) at position 121 replaced by X\r\n",
        "Selenocysteine (U) at position 123 replaced by X\r\n",
        "Selenocysteine (U) at position 121 replaced by X\r\n",
        "Selenocysteine (U) at position 126 replaced by X\r\n",
        "Selenocysteine (U) at position 126 replaced by X\r\n",
        "Selenocysteine (U) at position 126 replaced by X\r\n",
        "Selenocysteine (U) at position 126 replaced by X\r\n",
        "Selenocysteine (U) at position 126 replaced by X\r\n",
        "Selenocysteine (U) at position 126 replaced by X\r\n",
        "Selenocysteine (U) at position 126 replaced by X\r\n",
        "Selenocysteine (U) at position 126 replaced by X\r\n",
        "Selenocysteine (U) at position 130 replaced by X\r\n",
        "Selenocysteine (U) at position 133 replaced by X\r\n",
        "Selenocysteine (U) at position 266 replaced by X\r\n",
        "Selenocysteine (U) at position 132 replaced by X\r\n",
        "Selenocysteine (U) at position 265 replaced by X\r\n",
        "Selenocysteine (U) at position 134 replaced by X\r\n",
        "Selenocysteine (U) at position 133 replaced by X\r\n",
        "Selenocysteine (U) at position 266 replaced by X\r\n",
        "Selenocysteine (U) at position 124 replaced by X\r\n",
        "Selenocysteine (U) at position 130 replaced by X\r\n",
        "Selenocysteine (U) at position 263 replaced by X\r\n",
        "Selenocysteine (U) at position 128 replaced by X\r\n",
        "Selenocysteine (U) at position 261 replaced by X\r\n",
        "Selenocysteine (U) at position 133 replaced by X\r\n",
        "Selenocysteine (U) at position 266 replaced by X\r\n",
        "Selenocysteine (U) at position 130 replaced by X\r\n",
        "Selenocysteine (U) at position 263 replaced by X\r\n",
        "Selenocysteine (U) at position 144 replaced by X\r\n",
        "Selenocysteine (U) at position 122 replaced by X\r\n",
        "Selenocysteine (U) at position 144 replaced by X\r\n",
        "Selenocysteine (U) at position 133 replaced by X\r\n",
        "Selenocysteine (U) at position 144 replaced by X\r\n",
        "Selenocysteine (U) at position 144 replaced by X\r\n",
        "Selenocysteine (U) at position 144 replaced by X\r\n",
        "Selenocysteine (U) at position 144 replaced by X\r\n",
        "Selenocysteine (U) at position 131 replaced by X\r\n",
        "Selenocysteine (U) at position 132 replaced by X\r\n"
       ]
      },
      {
       "output_type": "stream",
       "stream": "stdout",
       "text": [
        "Selenocysteine (U) at position 637 replaced by X\r\n"
       ]
      },
      {
       "output_type": "stream",
       "stream": "stdout",
       "text": [
        "Selenocysteine (U) at position 690 replaced by X\r\n"
       ]
      },
      {
       "output_type": "stream",
       "stream": "stdout",
       "text": [
        "Selenocysteine (U) at position 637 replaced by X\r\n"
       ]
      },
      {
       "output_type": "stream",
       "stream": "stdout",
       "text": [
        "Selenocysteine (U) at position 637 replaced by X\r\n",
        "Selenocysteine (U) at position 690 replaced by X\r\n"
       ]
      },
      {
       "output_type": "stream",
       "stream": "stdout",
       "text": [
        "Selenocysteine (U) at position 25 replaced by X\r\n",
        "Selenocysteine (U) at position 60 replaced by X\r\n",
        "Selenocysteine (U) at position 63 replaced by X\r\n",
        "Selenocysteine (U) at position 63 replaced by X\r\n"
       ]
      },
      {
       "output_type": "stream",
       "stream": "stdout",
       "text": [
        "Selenocysteine (U) at position 637 replaced by X\r\n",
        "Selenocysteine (U) at position 690 replaced by X\r\n"
       ]
      },
      {
       "output_type": "stream",
       "stream": "stdout",
       "text": [
        "Selenocysteine (U) at position 498 replaced by X\r\n",
        "Selenocysteine (U) at position 666 replaced by X\r\n",
        "Selenocysteine (U) at position 494 replaced by X\r\n",
        "Selenocysteine (U) at position 648 replaced by X\r\n",
        "Selenocysteine (U) at position 612 replaced by X\r\n",
        "Selenocysteine (U) at position 498 replaced by X\r\n",
        "Selenocysteine (U) at position 498 replaced by X\r\n",
        "Selenocysteine (U) at position 498 replaced by X\r\n",
        "Selenocysteine (U) at position 510 replaced by X\r\n",
        "Selenocysteine (U) at position 523 replaced by X\r\n",
        "Selenocysteine (U) at position 523 replaced by X\r\n",
        "Selenocysteine (U) at position 525 replaced by X\r\n",
        "Selenocysteine (U) at position 681 replaced by X\r\n",
        "Selenocysteine (U) at position 696 replaced by X\r\n"
       ]
      },
      {
       "output_type": "stream",
       "stream": "stdout",
       "text": [
        "Selenocysteine (U) at position 65 replaced by X\r\n",
        "Selenocysteine (U) at position 47 replaced by X\r\n",
        "Selenocysteine (U) at position 47 replaced by X\r\n",
        "Selenocysteine (U) at position 49 replaced by X\r\n",
        "Selenocysteine (U) at position 53 replaced by X\r\n",
        "Selenocysteine (U) at position 49 replaced by X\r\n",
        "Selenocysteine (U) at position 49 replaced by X\r\n",
        "Selenocysteine (U) at position 49 replaced by X\r\n",
        "Selenocysteine (U) at position 54 replaced by X\r\n"
       ]
      },
      {
       "output_type": "stream",
       "stream": "stdout",
       "text": [
        "Selenocysteine (U) at position 93 replaced by X\r\n",
        "Selenocysteine (U) at position 84 replaced by X\r\n",
        "Selenocysteine (U) at position 93 replaced by X\r\n",
        "Selenocysteine (U) at position 93 replaced by X\r\n",
        "Selenocysteine (U) at position 93 replaced by X\r\n",
        "Selenocysteine (U) at position 93 replaced by X\r\n"
       ]
      },
      {
       "output_type": "stream",
       "stream": "stdout",
       "text": [
        "Selenocysteine (U) at position 60 replaced by X\r\n",
        "Selenocysteine (U) at position 63 replaced by X\r\n",
        "Selenocysteine (U) at position 63 replaced by X\r\n"
       ]
      },
      {
       "output_type": "stream",
       "stream": "stdout",
       "text": [
        "Selenocysteine (U) at position 93 replaced by X\r\n",
        "Selenocysteine (U) at position 84 replaced by X\r\n",
        "Selenocysteine (U) at position 93 replaced by X\r\n",
        "Selenocysteine (U) at position 93 replaced by X\r\n",
        "Selenocysteine (U) at position 84 replaced by X\r\n"
       ]
      },
      {
       "output_type": "stream",
       "stream": "stdout",
       "text": [
        "Selenocysteine (U) at position 93 replaced by X\r\n",
        "Selenocysteine (U) at position 93 replaced by X\r\n"
       ]
      },
      {
       "output_type": "stream",
       "stream": "stdout",
       "text": [
        "Selenocysteine (U) at position 498 replaced by X\r\n",
        "Selenocysteine (U) at position 666 replaced by X\r\n",
        "Selenocysteine (U) at position 494 replaced by X\r\n",
        "Selenocysteine (U) at position 648 replaced by X\r\n",
        "Selenocysteine (U) at position 612 replaced by X\r\n",
        "Selenocysteine (U) at position 498 replaced by X\r\n",
        "Selenocysteine (U) at position 498 replaced by X\r\n",
        "Selenocysteine (U) at position 498 replaced by X\r\n",
        "Selenocysteine (U) at position 510 replaced by X\r\n",
        "Selenocysteine (U) at position 523 replaced by X\r\n",
        "Selenocysteine (U) at position 523 replaced by X\r\n",
        "Selenocysteine (U) at position 525 replaced by X\r\n"
       ]
      },
      {
       "output_type": "stream",
       "stream": "stdout",
       "text": [
        "Selenocysteine (U) at position 690 replaced by X\r\n",
        "Selenocysteine (U) at position 667 replaced by X\r\n",
        "Selenocysteine (U) at position 665 replaced by X\r\n"
       ]
      },
      {
       "output_type": "stream",
       "stream": "stdout",
       "text": [
        "Selenocysteine (U) at position 498 replaced by X\r\n",
        "Selenocysteine (U) at position 666 replaced by X\r\n",
        "Selenocysteine (U) at position 494 replaced by X\r\n",
        "Selenocysteine (U) at position 648 replaced by X\r\n",
        "Selenocysteine (U) at position 612 replaced by X\r\n",
        "Selenocysteine (U) at position 498 replaced by X\r\n",
        "Selenocysteine (U) at position 498 replaced by X\r\n",
        "Selenocysteine (U) at position 498 replaced by X\r\n",
        "Selenocysteine (U) at position 510 replaced by X\r\n",
        "Selenocysteine (U) at position 523 replaced by X\r\n",
        "Selenocysteine (U) at position 523 replaced by X\r\n",
        "Selenocysteine (U) at position 525 replaced by X\r\n",
        "Selenocysteine (U) at position 681 replaced by X\r\n",
        "Selenocysteine (U) at position 696 replaced by X\r\n"
       ]
      },
      {
       "output_type": "stream",
       "stream": "stdout",
       "text": [
        "Selenocysteine (U) at position 637 replaced by X\r\n"
       ]
      },
      {
       "output_type": "stream",
       "stream": "stdout",
       "text": [
        "Selenocysteine (U) at position 690 replaced by X\r\n"
       ]
      },
      {
       "output_type": "stream",
       "stream": "stdout",
       "text": [
        "Selenocysteine (U) at position 637 replaced by X\r\n",
        "Selenocysteine (U) at position 690 replaced by X\r\n"
       ]
      },
      {
       "output_type": "stream",
       "stream": "stdout",
       "text": [
        "Selenocysteine (U) at position 690 replaced by X\r\n"
       ]
      },
      {
       "output_type": "stream",
       "stream": "stdout",
       "text": [
        "Selenocysteine (U) at position 637 replaced by X\r\n",
        "Selenocysteine (U) at position 690 replaced by X\r\n"
       ]
      },
      {
       "output_type": "stream",
       "stream": "stdout",
       "text": [
        "Selenocysteine (U) at position 47 replaced by X\r\n"
       ]
      },
      {
       "output_type": "stream",
       "stream": "stdout",
       "text": [
        "Selenocysteine (U) at position 85 replaced by X\r\n",
        "Selenocysteine (U) at position 74 replaced by X\r\n"
       ]
      },
      {
       "output_type": "stream",
       "stream": "stdout",
       "text": [
        "Selenocysteine (U) at position 121 replaced by X\r\n",
        "Selenocysteine (U) at position 123 replaced by X\r\n",
        "Selenocysteine (U) at position 121 replaced by X\r\n",
        "Selenocysteine (U) at position 126 replaced by X\r\n",
        "Selenocysteine (U) at position 126 replaced by X\r\n",
        "Selenocysteine (U) at position 126 replaced by X\r\n",
        "Selenocysteine (U) at position 126 replaced by X\r\n",
        "Selenocysteine (U) at position 126 replaced by X\r\n",
        "Selenocysteine (U) at position 126 replaced by X\r\n",
        "Selenocysteine (U) at position 126 replaced by X\r\n",
        "Selenocysteine (U) at position 126 replaced by X\r\n",
        "Selenocysteine (U) at position 130 replaced by X\r\n",
        "Selenocysteine (U) at position 133 replaced by X\r\n",
        "Selenocysteine (U) at position 266 replaced by X\r\n",
        "Selenocysteine (U) at position 132 replaced by X\r\n",
        "Selenocysteine (U) at position 265 replaced by X\r\n",
        "Selenocysteine (U) at position 134 replaced by X\r\n",
        "Selenocysteine (U) at position 133 replaced by X\r\n",
        "Selenocysteine (U) at position 266 replaced by X\r\n",
        "Selenocysteine (U) at position 124 replaced by X\r\n",
        "Selenocysteine (U) at position 130 replaced by X\r\n",
        "Selenocysteine (U) at position 263 replaced by X\r\n",
        "Selenocysteine (U) at position 128 replaced by X\r\n",
        "Selenocysteine (U) at position 261 replaced by X\r\n",
        "Selenocysteine (U) at position 133 replaced by X\r\n",
        "Selenocysteine (U) at position 266 replaced by X\r\n",
        "Selenocysteine (U) at position 130 replaced by X\r\n",
        "Selenocysteine (U) at position 263 replaced by X\r\n",
        "Selenocysteine (U) at position 144 replaced by X\r\n",
        "Selenocysteine (U) at position 122 replaced by X\r\n",
        "Selenocysteine (U) at position 144 replaced by X\r\n",
        "Selenocysteine (U) at position 133 replaced by X\r\n",
        "Selenocysteine (U) at position 144 replaced by X\r\n",
        "Selenocysteine (U) at position 144 replaced by X\r\n",
        "Selenocysteine (U) at position 144 replaced by X\r\n",
        "Selenocysteine (U) at position 144 replaced by X\r\n",
        "Selenocysteine (U) at position 131 replaced by X\r\n",
        "Selenocysteine (U) at position 132 replaced by X\r\n"
       ]
      },
      {
       "output_type": "stream",
       "stream": "stdout",
       "text": [
        "Selenocysteine (U) at position 637 replaced by X\r\n",
        "Selenocysteine (U) at position 690 replaced by X\r\n"
       ]
      },
      {
       "output_type": "stream",
       "stream": "stdout",
       "text": [
        "Selenocysteine (U) at position 131 replaced by X\r\n"
       ]
      },
      {
       "output_type": "stream",
       "stream": "stdout",
       "text": [
        "Selenocysteine (U) at position 637 replaced by X\r\n",
        "Selenocysteine (U) at position 690 replaced by X\r\n"
       ]
      },
      {
       "output_type": "stream",
       "stream": "stdout",
       "text": [
        "Selenocysteine (U) at position 637 replaced by X\r\n",
        "Selenocysteine (U) at position 690 replaced by X\r\n"
       ]
      },
      {
       "output_type": "stream",
       "stream": "stdout",
       "text": [
        "Selenocysteine (U) at position 637 replaced by X\r\n",
        "Selenocysteine (U) at position 690 replaced by X\r\n"
       ]
      },
      {
       "output_type": "stream",
       "stream": "stdout",
       "text": [
        "Selenocysteine (U) at position 47 replaced by X\r\n"
       ]
      },
      {
       "output_type": "stream",
       "stream": "stdout",
       "text": [
        "Selenocysteine (U) at position 47 replaced by X\r\n"
       ]
      },
      {
       "output_type": "stream",
       "stream": "stdout",
       "text": [
        "Selenocysteine (U) at position 93 replaced by X\r\n",
        "Selenocysteine (U) at position 92 replaced by X\r\n",
        "Selenocysteine (U) at position 92 replaced by X\r\n",
        "Selenocysteine (U) at position 92 replaced by X\r\n",
        "Selenocysteine (U) at position 92 replaced by X\r\n",
        "Selenocysteine (U) at position 92 replaced by X\r\n",
        "Selenocysteine (U) at position 92 replaced by X\r\n",
        "Selenocysteine (U) at position 92 replaced by X\r\n",
        "Selenocysteine (U) at position 93 replaced by X\r\n",
        "Selenocysteine (U) at position 93 replaced by X\r\n"
       ]
      },
      {
       "output_type": "stream",
       "stream": "stdout",
       "text": [
        "Selenocysteine (U) at position 44 replaced by X\r\n",
        "Selenocysteine (U) at position 44 replaced by X\r\n",
        "Selenocysteine (U) at position 38 replaced by X\r\n"
       ]
      },
      {
       "output_type": "stream",
       "stream": "stdout",
       "text": [
        "Selenocysteine (U) at position 681 replaced by X\r\n",
        "Selenocysteine (U) at position 696 replaced by X\r\n"
       ]
      },
      {
       "output_type": "stream",
       "stream": "stdout",
       "text": [
        "Selenocysteine (U) at position 52 replaced by X\r\n",
        "Selenocysteine (U) at position 47 replaced by X\r\n",
        "Selenocysteine (U) at position 47 replaced by X\r\n"
       ]
      },
      {
       "output_type": "stream",
       "stream": "stdout",
       "text": [
        "Selenocysteine (U) at position 49 replaced by X\r\n",
        "Selenocysteine (U) at position 47 replaced by X\r\n",
        "Selenocysteine (U) at position 47 replaced by X\r\n",
        "Selenocysteine (U) at position 47 replaced by X\r\n",
        "Selenocysteine (U) at position 47 replaced by X\r\n",
        "Selenocysteine (U) at position 52 replaced by X\r\n",
        "Selenocysteine (U) at position 47 replaced by X\r\n",
        "Selenocysteine (U) at position 46 replaced by X\r\n",
        "Selenocysteine (U) at position 47 replaced by X\r\n",
        "Selenocysteine (U) at position 43 replaced by X\r\n",
        "Selenocysteine (U) at position 40 replaced by X\r\n",
        "Selenocysteine (U) at position 40 replaced by X\r\n",
        "Selenocysteine (U) at position 40 replaced by X\r\n",
        "Selenocysteine (U) at position 40 replaced by X\r\n",
        "Selenocysteine (U) at position 40 replaced by X\r\n",
        "Selenocysteine (U) at position 40 replaced by X\r\n",
        "Selenocysteine (U) at position 40 replaced by X\r\n",
        "Selenocysteine (U) at position 40 replaced by X\r\n",
        "Selenocysteine (U) at position 73 replaced by X\r\n",
        "Selenocysteine (U) at position 73 replaced by X\r\n",
        "Selenocysteine (U) at position 73 replaced by X\r\n",
        "Selenocysteine (U) at position 73 replaced by X\r\n",
        "Selenocysteine (U) at position 73 replaced by X\r\n",
        "Selenocysteine (U) at position 73 replaced by X\r\n",
        "Selenocysteine (U) at position 73 replaced by X\r\n",
        "Selenocysteine (U) at position 73 replaced by X\r\n",
        "Selenocysteine (U) at position 73 replaced by X\r\n",
        "Selenocysteine (U) at position 64 replaced by X\r\n"
       ]
      },
      {
       "output_type": "stream",
       "stream": "stdout",
       "text": [
        "Selenocysteine (U) at position 47 replaced by X\r\n"
       ]
      },
      {
       "output_type": "stream",
       "stream": "stdout",
       "text": [
        "Selenocysteine (U) at position 690 replaced by X\r\n",
        "Selenocysteine (U) at position 667 replaced by X\r\n",
        "Selenocysteine (U) at position 665 replaced by X\r\n"
       ]
      },
      {
       "output_type": "stream",
       "stream": "stdout",
       "text": [
        "Selenocysteine (U) at position 93 replaced by X\r\n",
        "Selenocysteine (U) at position 95 replaced by X\r\n",
        "Selenocysteine (U) at position 95 replaced by X\r\n",
        "Selenocysteine (U) at position 95 replaced by X\r\n",
        "Selenocysteine (U) at position 95 replaced by X\r\n",
        "Selenocysteine (U) at position 95 replaced by X\r\n",
        "Selenocysteine (U) at position 95 replaced by X\r\n"
       ]
      },
      {
       "output_type": "stream",
       "stream": "stdout",
       "text": [
        "Selenocysteine (U) at position 637 replaced by X\r\n"
       ]
      },
      {
       "output_type": "stream",
       "stream": "stdout",
       "text": [
        "Selenocysteine (U) at position 637 replaced by X\r\n"
       ]
      },
      {
       "output_type": "stream",
       "stream": "stdout",
       "text": [
        "Selenocysteine (U) at position 637 replaced by X\r\n"
       ]
      },
      {
       "output_type": "stream",
       "stream": "stdout",
       "text": [
        "Selenocysteine (U) at position 52 replaced by X\r\n",
        "Selenocysteine (U) at position 47 replaced by X\r\n",
        "Selenocysteine (U) at position 47 replaced by X\r\n",
        "Selenocysteine (U) at position 49 replaced by X\r\n",
        "Selenocysteine (U) at position 47 replaced by X\r\n",
        "Selenocysteine (U) at position 47 replaced by X\r\n",
        "Selenocysteine (U) at position 47 replaced by X\r\n",
        "Selenocysteine (U) at position 47 replaced by X\r\n",
        "Selenocysteine (U) at position 52 replaced by X\r\n",
        "Selenocysteine (U) at position 47 replaced by X\r\n",
        "Selenocysteine (U) at position 46 replaced by X\r\n",
        "Selenocysteine (U) at position 47 replaced by X\r\n",
        "Selenocysteine (U) at position 40 replaced by X\r\n",
        "Selenocysteine (U) at position 40 replaced by X\r\n",
        "Selenocysteine (U) at position 40 replaced by X\r\n",
        "Selenocysteine (U) at position 40 replaced by X\r\n",
        "Selenocysteine (U) at position 40 replaced by X\r\n",
        "Selenocysteine (U) at position 40 replaced by X\r\n",
        "Selenocysteine (U) at position 40 replaced by X\r\n",
        "Selenocysteine (U) at position 40 replaced by X\r\n",
        "Selenocysteine (U) at position 73 replaced by X\r\n",
        "Selenocysteine (U) at position 73 replaced by X\r\n",
        "Selenocysteine (U) at position 73 replaced by X\r\n",
        "Selenocysteine (U) at position 73 replaced by X\r\n",
        "Selenocysteine (U) at position 73 replaced by X\r\n",
        "Selenocysteine (U) at position 73 replaced by X\r\n",
        "Selenocysteine (U) at position 73 replaced by X\r\n",
        "Selenocysteine (U) at position 73 replaced by X\r\n",
        "Selenocysteine (U) at position 73 replaced by X\r\n",
        "Selenocysteine (U) at position 129 replaced by X\r\n",
        "Selenocysteine (U) at position 73 replaced by X\r\n"
       ]
      },
      {
       "output_type": "stream",
       "stream": "stdout",
       "text": [
        "Selenocysteine (U) at position 73 replaced by X\r\n",
        "Selenocysteine (U) at position 73 replaced by X\r\n",
        "Selenocysteine (U) at position 73 replaced by X\r\n",
        "Selenocysteine (U) at position 73 replaced by X\r\n",
        "Selenocysteine (U) at position 64 replaced by X\r\n"
       ]
      },
      {
       "output_type": "stream",
       "stream": "stdout",
       "text": [
        "Selenocysteine (U) at position 637 replaced by X\r\n",
        "Selenocysteine (U) at position 690 replaced by X\r\n"
       ]
      },
      {
       "output_type": "stream",
       "stream": "stdout",
       "text": [
        "Selenocysteine (U) at position 498 replaced by X\r\n",
        "Selenocysteine (U) at position 666 replaced by X\r\n",
        "Selenocysteine (U) at position 494 replaced by X\r\n",
        "Selenocysteine (U) at position 648 replaced by X\r\n",
        "Selenocysteine (U) at position 612 replaced by X\r\n",
        "Selenocysteine (U) at position 498 replaced by X\r\n",
        "Selenocysteine (U) at position 498 replaced by X\r\n",
        "Selenocysteine (U) at position 498 replaced by X\r\n",
        "Selenocysteine (U) at position 510 replaced by X\r\n",
        "Selenocysteine (U) at position 523 replaced by X\r\n",
        "Selenocysteine (U) at position 523 replaced by X\r\n",
        "Selenocysteine (U) at position 525 replaced by X\r\n",
        "Selenocysteine (U) at position 681 replaced by X\r\n",
        "Selenocysteine (U) at position 696 replaced by X\r\n"
       ]
      },
      {
       "output_type": "stream",
       "stream": "stdout",
       "text": [
        "Selenocysteine (U) at position 106 replaced by X\r\n"
       ]
      },
      {
       "output_type": "stream",
       "stream": "stdout",
       "text": [
        "Selenocysteine (U) at position 498 replaced by X\r\n",
        "Selenocysteine (U) at position 494 replaced by X\r\n",
        "Selenocysteine (U) at position 648 replaced by X\r\n",
        "Selenocysteine (U) at position 612 replaced by X\r\n",
        "Selenocysteine (U) at position 498 replaced by X\r\n",
        "Selenocysteine (U) at position 498 replaced by X\r\n",
        "Selenocysteine (U) at position 498 replaced by X\r\n",
        "Selenocysteine (U) at position 510 replaced by X\r\n",
        "Selenocysteine (U) at position 523 replaced by X\r\n",
        "Selenocysteine (U) at position 523 replaced by X\r\n",
        "Selenocysteine (U) at position 525 replaced by X\r\n",
        "Selenocysteine (U) at position 681 replaced by X\r\n"
       ]
      },
      {
       "output_type": "stream",
       "stream": "stdout",
       "text": [
        "Selenocysteine (U) at position 690 replaced by X\r\n"
       ]
      },
      {
       "output_type": "stream",
       "stream": "stdout",
       "text": [
        "Selenocysteine (U) at position 637 replaced by X\r\n",
        "Selenocysteine (U) at position 690 replaced by X\r\n"
       ]
      },
      {
       "output_type": "stream",
       "stream": "stdout",
       "text": [
        "Selenocysteine (U) at position 13 replaced by X\r\n"
       ]
      },
      {
       "output_type": "stream",
       "stream": "stdout",
       "text": [
        "Selenocysteine (U) at position 637 replaced by X\r\n",
        "Selenocysteine (U) at position 690 replaced by X\r\n"
       ]
      },
      {
       "output_type": "stream",
       "stream": "stdout",
       "text": [
        "Selenocysteine (U) at position 637 replaced by X\r\n"
       ]
      },
      {
       "output_type": "stream",
       "stream": "stdout",
       "text": [
        "Selenocysteine (U) at position 637 replaced by X\r\n"
       ]
      },
      {
       "output_type": "stream",
       "stream": "stdout",
       "text": [
        "Selenocysteine (U) at position 690 replaced by X\r\n"
       ]
      },
      {
       "output_type": "stream",
       "stream": "stdout",
       "text": [
        "Selenocysteine (U) at position 637 replaced by X\r\n",
        "Selenocysteine (U) at position 690 replaced by X\r\n"
       ]
      },
      {
       "output_type": "stream",
       "stream": "stdout",
       "text": [
        "Selenocysteine (U) at position 637 replaced by X\r\n",
        "Selenocysteine (U) at position 690 replaced by X\r\n"
       ]
      },
      {
       "output_type": "stream",
       "stream": "stdout",
       "text": [
        "Selenocysteine (U) at position 690 replaced by X\r\n"
       ]
      },
      {
       "output_type": "stream",
       "stream": "stdout",
       "text": [
        "Selenocysteine (U) at position 637 replaced by X\r\n",
        "Selenocysteine (U) at position 690 replaced by X\r\n"
       ]
      },
      {
       "output_type": "stream",
       "stream": "stdout",
       "text": [
        "Selenocysteine (U) at position 106 replaced by X\r\n"
       ]
      },
      {
       "output_type": "stream",
       "stream": "stdout",
       "text": [
        "Selenocysteine (U) at position 121 replaced by X\r\n",
        "Selenocysteine (U) at position 123 replaced by X\r\n",
        "Selenocysteine (U) at position 121 replaced by X\r\n",
        "Selenocysteine (U) at position 126 replaced by X\r\n",
        "Selenocysteine (U) at position 126 replaced by X\r\n",
        "Selenocysteine (U) at position 126 replaced by X\r\n",
        "Selenocysteine (U) at position 126 replaced by X\r\n",
        "Selenocysteine (U) at position 126 replaced by X\r\n",
        "Selenocysteine (U) at position 126 replaced by X\r\n",
        "Selenocysteine (U) at position 126 replaced by X\r\n",
        "Selenocysteine (U) at position 126 replaced by X\r\n",
        "Selenocysteine (U) at position 130 replaced by X\r\n",
        "Selenocysteine (U) at position 133 replaced by X\r\n",
        "Selenocysteine (U) at position 266 replaced by X\r\n",
        "Selenocysteine (U) at position 132 replaced by X\r\n",
        "Selenocysteine (U) at position 265 replaced by X\r\n",
        "Selenocysteine (U) at position 134 replaced by X\r\n",
        "Selenocysteine (U) at position 133 replaced by X\r\n",
        "Selenocysteine (U) at position 266 replaced by X\r\n",
        "Selenocysteine (U) at position 124 replaced by X\r\n",
        "Selenocysteine (U) at position 130 replaced by X\r\n",
        "Selenocysteine (U) at position 263 replaced by X\r\n",
        "Selenocysteine (U) at position 128 replaced by X\r\n",
        "Selenocysteine (U) at position 261 replaced by X\r\n",
        "Selenocysteine (U) at position 133 replaced by X\r\n",
        "Selenocysteine (U) at position 266 replaced by X\r\n",
        "Selenocysteine (U) at position 130 replaced by X\r\n",
        "Selenocysteine (U) at position 263 replaced by X\r\n",
        "Selenocysteine (U) at position 144 replaced by X\r\n",
        "Selenocysteine (U) at position 122 replaced by X\r\n",
        "Selenocysteine (U) at position 144 replaced by X\r\n",
        "Selenocysteine (U) at position 133 replaced by X\r\n",
        "Selenocysteine (U) at position 144 replaced by X\r\n",
        "Selenocysteine (U) at position 144 replaced by X\r\n",
        "Selenocysteine (U) at position 144 replaced by X\r\n",
        "Selenocysteine (U) at position 144 replaced by X\r\n",
        "Selenocysteine (U) at position 131 replaced by X\r\n",
        "Selenocysteine (U) at position 132 replaced by X\r\n"
       ]
      },
      {
       "output_type": "stream",
       "stream": "stdout",
       "text": [
        "Selenocysteine (U) at position 121 replaced by X\r\n",
        "Selenocysteine (U) at position 123 replaced by X\r\n",
        "Selenocysteine (U) at position 121 replaced by X\r\n",
        "Selenocysteine (U) at position 126 replaced by X\r\n",
        "Selenocysteine (U) at position 126 replaced by X\r\n",
        "Selenocysteine (U) at position 126 replaced by X\r\n",
        "Selenocysteine (U) at position 126 replaced by X\r\n",
        "Selenocysteine (U) at position 126 replaced by X\r\n",
        "Selenocysteine (U) at position 126 replaced by X\r\n",
        "Selenocysteine (U) at position 126 replaced by X\r\n",
        "Selenocysteine (U) at position 126 replaced by X\r\n",
        "Selenocysteine (U) at position 130 replaced by X\r\n",
        "Selenocysteine (U) at position 133 replaced by X\r\n",
        "Selenocysteine (U) at position 266 replaced by X\r\n",
        "Selenocysteine (U) at position 132 replaced by X\r\n",
        "Selenocysteine (U) at position 265 replaced by X\r\n",
        "Selenocysteine (U) at position 134 replaced by X\r\n",
        "Selenocysteine (U) at position 133 replaced by X\r\n",
        "Selenocysteine (U) at position 266 replaced by X\r\n",
        "Selenocysteine (U) at position 124 replaced by X\r\n",
        "Selenocysteine (U) at position 130 replaced by X\r\n",
        "Selenocysteine (U) at position 263 replaced by X\r\n",
        "Selenocysteine (U) at position 128 replaced by X\r\n",
        "Selenocysteine (U) at position 261 replaced by X\r\n",
        "Selenocysteine (U) at position 133 replaced by X\r\n",
        "Selenocysteine (U) at position 266 replaced by X\r\n",
        "Selenocysteine (U) at position 130 replaced by X\r\n",
        "Selenocysteine (U) at position 263 replaced by X\r\n",
        "Selenocysteine (U) at position 144 replaced by X\r\n",
        "Selenocysteine (U) at position 122 replaced by X\r\n",
        "Selenocysteine (U) at position 144 replaced by X\r\n",
        "Selenocysteine (U) at position 133 replaced by X\r\n",
        "Selenocysteine (U) at position 144 replaced by X\r\n",
        "Selenocysteine (U) at position 144 replaced by X\r\n",
        "Selenocysteine (U) at position 144 replaced by X\r\n",
        "Selenocysteine (U) at position 144 replaced by X\r\n",
        "Selenocysteine (U) at position 131 replaced by X\r\n",
        "Selenocysteine (U) at position 132 replaced by X\r\n"
       ]
      },
      {
       "output_type": "stream",
       "stream": "stdout",
       "text": [
        "Selenocysteine (U) at position 387 replaced by X\r\n",
        "Selenocysteine (U) at position 387 replaced by X\r\n",
        "Selenocysteine (U) at position 388 replaced by X\r\n",
        "Selenocysteine (U) at position 387 replaced by X\r\n"
       ]
      },
      {
       "output_type": "stream",
       "stream": "stdout",
       "text": [
        "Selenocysteine (U) at position 637 replaced by X\r\n"
       ]
      },
      {
       "output_type": "stream",
       "stream": "stdout",
       "text": [
        "Selenocysteine (U) at position 637 replaced by X\r\n",
        "Selenocysteine (U) at position 690 replaced by X\r\n"
       ]
      },
      {
       "output_type": "stream",
       "stream": "stdout",
       "text": [
        "Selenocysteine (U) at position 681 replaced by X\r\n",
        "Selenocysteine (U) at position 696 replaced by X\r\n"
       ]
      },
      {
       "output_type": "stream",
       "stream": "stdout",
       "text": [
        "Selenocysteine (U) at position 637 replaced by X\r\n"
       ]
      },
      {
       "output_type": "stream",
       "stream": "stdout",
       "text": [
        "Selenocysteine (U) at position 387 replaced by X\r\n",
        "Selenocysteine (U) at position 387 replaced by X\r\n",
        "Selenocysteine (U) at position 388 replaced by X\r\n",
        "Selenocysteine (U) at position 387 replaced by X\r\n"
       ]
      },
      {
       "output_type": "stream",
       "stream": "stdout",
       "text": [
        "Selenocysteine (U) at position 637 replaced by X\r\n",
        "Selenocysteine (U) at position 690 replaced by X\r\n"
       ]
      },
      {
       "output_type": "stream",
       "stream": "stdout",
       "text": [
        "Selenocysteine (U) at position 47 replaced by X\r\n",
        "Selenocysteine (U) at position 47 replaced by X\r\n",
        "Selenocysteine (U) at position 43 replaced by X\r\n",
        "Selenocysteine (U) at position 73 replaced by X\r\n",
        "Selenocysteine (U) at position 73 replaced by X\r\n",
        "Selenocysteine (U) at position 129 replaced by X\r\n",
        "Selenocysteine (U) at position 129 replaced by X\r\n",
        "Selenocysteine (U) at position 73 replaced by X\r\n",
        "Selenocysteine (U) at position 73 replaced by X\r\n",
        "Selenocysteine (U) at position 73 replaced by X\r\n",
        "Selenocysteine (U) at position 73 replaced by X\r\n",
        "Selenocysteine (U) at position 73 replaced by X\r\n",
        "Selenocysteine (U) at position 73 replaced by X\r\n",
        "Selenocysteine (U) at position 73 replaced by X\r\n",
        "Selenocysteine (U) at position 73 replaced by X\r\n"
       ]
      }
     ],
     "prompt_number": 8
    },
    {
     "cell_type": "code",
     "collapsed": false,
     "input": [
      "!head -10 /Volumes/Eagle/fish546-2015/Analyses/Ahya/Ahya_blastx_uniprot.tab"
     ],
     "language": "python",
     "metadata": {},
     "outputs": [
      {
       "output_type": "stream",
       "stream": "stdout",
       "text": [
        "contig211\tsp|Q96JB1|DYH8_HUMAN\t77.53\t89\t20\t0\t1\t267\t2533\t2621\t4e-44\t  158\r\n",
        "contig583\tsp|Q90828|DC1L1_CHICK\t51.95\t77\t32\t2\t1\t216\t140\t216\t9e-19\t83.2\r\n",
        "contig590\tsp|P25228|RAB3_DROME\t89.47\t57\t6\t0\t43\t213\t1\t57\t2e-28\t  106\r\n",
        "contig613\tsp|Q8NFA0|UBP32_HUMAN\t56.84\t95\t37\t2\t284\t3\t661\t752\t2e-27\t  110\r\n",
        "contig707\tsp|Q6ZTY8|CL063_HUMAN\t31.25\t176\t108\t4\t2\t499\t159\t331\t2e-17\t85.5\r\n",
        "contig799\tsp|Q5R5M6|PYGB_PONAB\t65.17\t89\t28\t2\t2\t268\t162\t247\t2e-36\t  135\r\n",
        "contig896\tsp|Q9R1C6|DGKE_MOUSE\t51.16\t129\t62\t1\t467\t81\t413\t540\t1e-40\t  147\r\n",
        "contig950\tsp|Q9NW07|ZN358_HUMAN\t56.88\t109\t47\t0\t9\t335\t261\t369\t2e-36\t  137\r\n",
        "contig962\tsp|O14672|ADA10_HUMAN\t36.28\t113\t58\t3\t327\t1\t237\t339\t2e-13\t70.1\r\n",
        "contig1129\tsp|A2AJ76|HMCN2_MOUSE\t42.37\t59\t34\t0\t233\t57\t4372\t4430\t5e-07\t50.4\r\n"
       ]
      }
     ],
     "prompt_number": 9
    },
    {
     "cell_type": "code",
     "collapsed": false,
     "input": [
      "!tail -10 /Volumes/Eagle/fish546-2015/Analyses/Ahya/Ahya_blastx_uniprot.tab"
     ],
     "language": "python",
     "metadata": {},
     "outputs": [
      {
       "output_type": "stream",
       "stream": "stdout",
       "text": [
        "contig7164_200366\tsp|B5X2S3|ARP8_SALSA\t63.64\t66\t24\t0\t520\t717\t272\t337\t5e-21\t95.9\r\n",
        "contig25049_151162\tsp|P47823|EI2BE_RABIT\t29.27\t123\t83\t2\t1079\t1435\t395\t517\t5e-12\t72.4\r\n",
        "contig213424_172005\tsp|P85007|IR3IP_RAT\t67.16\t67\t21\t1\t7\t204\t10\t76\t7e-24\t95.9\r\n",
        "contig5637_13719\tsp|Q2Q1W2|LIN41_HUMAN\t34.11\t258\t163\t3\t8\t766\t486\t741\t4e-33\t  132\r\n",
        "contig118039_78405\tsp|Q9BXW6|OSBL1_HUMAN\t42.25\t71\t40\t1\t59\t271\t50\t119\t1e-08\t57.8\r\n",
        "contig75640_114316\tsp|Q9D5R2|WDR20_MOUSE\t48.78\t123\t52\t3\t29\t367\t283\t404\t9e-23\t  102\r\n",
        "contig18789_117437\tsp|Q92002|MYO1C_LITCT\t76.12\t134\t32\t0\t1\t402\t79\t212\t1e-66\t  223\r\n",
        "contig66657_153235\tsp|Q5R2J4|APCD1_PELSI\t31.52\t368\t233\t9\t106\t1179\t110\t468\t4e-50\t  185\r\n",
        "contig53933_75484\tsp|Q9QUJ7|ACSL4_MOUSE\t50.72\t485\t231\t5\t9\t1448\t7\t488\t3e-162\t  492\r\n",
        "contig25409_16070\tsp|Q8BL80|RHG22_MOUSE\t55.56\t63\t28\t0\t10\t198\t268\t330\t7e-17\t81.3\r\n"
       ]
      }
     ],
     "prompt_number": 10
    },
    {
     "cell_type": "code",
     "collapsed": false,
     "input": [
      "!wc /Volumes/Eagle/fish546-2015/Analyses/Ahya/Ahya_blastx_uniprot.tab"
     ],
     "language": "python",
     "metadata": {},
     "outputs": [
      {
       "output_type": "stream",
       "stream": "stdout",
       "text": [
        "   11594  139128  899613 /Volumes/Eagle/fish546-2015/Analyses/Ahya/Ahya_blastx_uniprot.tab\r\n"
       ]
      }
     ],
     "prompt_number": 11
    },
    {
     "cell_type": "code",
     "collapsed": false,
     "input": [
      "#Manually moved Ahya_blastx_uniprot.tab to /home/jay/Documents/fish546-2015/Analyses/Ahya\n",
      "!cd /home/jay/Documents/fish546-2015/Analyses/Ahya"
     ],
     "language": "python",
     "metadata": {},
     "outputs": [],
     "prompt_number": 7
    },
    {
     "cell_type": "code",
     "collapsed": false,
     "input": [
      "!ls /home/jay/Documents/fish546-2015/Analyses/Ahya/Ahya_blastx_uniprot.tab"
     ],
     "language": "python",
     "metadata": {},
     "outputs": [
      {
       "output_type": "stream",
       "stream": "stdout",
       "text": [
        "33496_MasterCombinedAnnotationTablewHGNC.txt  Ahya_diff_cpg_GOslim\r\n",
        "Ahya_blastx_uniprot.tab\t\t\t      Ahya_diff_cpg_GOslim.csv\r\n",
        "Ahya_cpg_diff.csv\t\t\t      C\r\n",
        "Ahya_cpg_diff.txt\t\t\t      CG\r\n",
        "Ahya_cpg_GOslim.csv\t\t\t      comb\r\n",
        "Ahya_cpg_GOslim_sorted\t\t\t      fasta2tab\r\n",
        "Ahya_cpg_GOslim.txt\t\t\t      fasta2tab_c\r\n",
        "Ahya_diff_contigs\t\t\t      G\r\n",
        "Ahya_diff_contigs_sorted\t\t      ID_CpG\r\n",
        "Ahya_diff_contigs_tab\t\t\t      ID_CpG.tab\r\n",
        "Ahya_diff_cpg\t\t\t\t      tab_1\r\n"
       ]
      }
     ],
     "prompt_number": 11
    },
    {
     "cell_type": "code",
     "collapsed": false,
     "input": [
      "!tr '|' \"\\t\" </home/jay/Documents/fish546-2015/Analyses/Ahya/Ahya_blastx_uniprot.tab> /home/jay/Documents/fish546-2015/Analyses/Ahya/Ahya_blastx_uniprot_sql.tab\n",
      "!head -1 /home/jay/Documents/fish546-2015/Analyses/Ahya/Ahya_blastx_uniprot.tab\n",
      "!echo SQLShare ready version has Pipes converted to Tabs ....\n",
      "!head -1 /home/jay/Documents/fish546-2015/Analyses/Ahya/Ahya_blastx_uniprot_sql.tab"
     ],
     "language": "python",
     "metadata": {},
     "outputs": [
      {
       "output_type": "stream",
       "stream": "stdout",
       "text": [
        "contig211\tsp|Q96JB1|DYH8_HUMAN\t77.53\t89\t20\t0\t1\t267\t2533\t2621\t4e-44\t  158\r\n"
       ]
      },
      {
       "output_type": "stream",
       "stream": "stdout",
       "text": [
        "SQLShare ready version has Pipes converted to Tabs ....\r\n"
       ]
      },
      {
       "output_type": "stream",
       "stream": "stdout",
       "text": [
        "contig211\tsp\tQ96JB1\tDYH8_HUMAN\t77.53\t89\t20\t0\t1\t267\t2533\t2621\t4e-44\t  158\r\n"
       ]
      }
     ],
     "prompt_number": 12
    },
    {
     "cell_type": "code",
     "collapsed": false,
     "input": [
      "!python /home/jay/sqlshare-pythonclient/tools/singleupload.py \\\n",
      "-d _blast_sprot \\\n",
      "/home/jay/Documents/fish546-2015/Analyses/Ahya/Ahya_blastx_uniprot_sql.tab "
     ],
     "language": "python",
     "metadata": {},
     "outputs": [
      {
       "output_type": "stream",
       "stream": "stdout",
       "text": [
        "Traceback (most recent call last):\r\n",
        "  File \"/home/jay/sqlshare-pythonclient/tools/singleupload.py\", line 6, in <module>\r\n",
        "    import sqlshare\r\n",
        "ImportError: No module named sqlshare\r\n"
       ]
      }
     ],
     "prompt_number": 15
    },
    {
     "cell_type": "raw",
     "metadata": {},
     "source": [
      "#Manually uploading Ahya_blastx_uniprot_sql.tab to SQLShare and joining with GOSlim\n",
      "\n",
      "SELECT Distinct Column1 as ContigID, GOSlim_bin FROM\n",
      "  [jldimond@washington.edu].[Ahya_blastx_uniprot_sql.tab]anno\n",
      "  left join [sr320@washington.edu].[SPID and GO Numbers]go\n",
      "  on anno.Column3=go.SPID\n",
      "  left join [sr320@washington.edu].[GO_to_GOslim]slim\n",
      "  on go.GOID=slim.GO_id where aspect like 'P'\n",
      "\n",
      "Output file: Ahya_GOSlim.csv"
     ]
    },
    {
     "cell_type": "code",
     "collapsed": false,
     "input": [
      "!head -10 /home/jay/Documents/fish546-2015/Analyses/Ahya/Ahya_GOSlim.csv"
     ],
     "language": "python",
     "metadata": {},
     "outputs": [
      {
       "output_type": "stream",
       "stream": "stdout",
       "text": [
        "ContigID,GOSlim_bin\r",
        "\r\n",
        "contig135011_153678_153601,cell organization and biogenesis\r",
        "\r\n",
        "contig135011_153678_153601,other biological processes\r",
        "\r\n",
        "contig135011_153678_153601,developmental processes\r",
        "\r\n",
        "contig69684,protein metabolism\r",
        "\r\n",
        "contig113621,protein metabolism\r",
        "\r\n",
        "contig97647,protein metabolism\r",
        "\r\n",
        "contig199902,protein metabolism\r",
        "\r\n",
        "contig78855,other biological processes\r",
        "\r\n",
        "contig8505_94477,DNA metabolism\r",
        "\r\n"
       ]
      }
     ],
     "prompt_number": 17
    },
    {
     "cell_type": "code",
     "collapsed": false,
     "input": [
      "!tr ',' \"\\t\" </home/jay/Documents/fish546-2015/Analyses/Ahya/Ahya_GOSlim.csv> /home/jay/Documents/fish546-2015/Analyses/Ahya/Ahya_GOSlim.tab"
     ],
     "language": "python",
     "metadata": {},
     "outputs": [],
     "prompt_number": 18
    },
    {
     "cell_type": "code",
     "collapsed": false,
     "input": [
      "!head -10 /home/jay/Documents/fish546-2015/Analyses/Ahya/Ahya_GOSlim.tab"
     ],
     "language": "python",
     "metadata": {},
     "outputs": [
      {
       "output_type": "stream",
       "stream": "stdout",
       "text": [
        "ContigID\tGOSlim_bin\r",
        "\r\n",
        "contig135011_153678_153601\tcell organization and biogenesis\r",
        "\r\n",
        "contig135011_153678_153601\tother biological processes\r",
        "\r\n",
        "contig135011_153678_153601\tdevelopmental processes\r",
        "\r\n",
        "contig69684\tprotein metabolism\r",
        "\r\n",
        "contig113621\tprotein metabolism\r",
        "\r\n",
        "contig97647\tprotein metabolism\r",
        "\r\n",
        "contig199902\tprotein metabolism\r",
        "\r\n",
        "contig78855\tother biological processes\r",
        "\r\n",
        "contig8505_94477\tDNA metabolism\r",
        "\r\n"
       ]
      }
     ],
     "prompt_number": 19
    },
    {
     "cell_type": "code",
     "collapsed": false,
     "input": [],
     "language": "python",
     "metadata": {},
     "outputs": []
    }
   ],
   "metadata": {}
  }
 ]
}