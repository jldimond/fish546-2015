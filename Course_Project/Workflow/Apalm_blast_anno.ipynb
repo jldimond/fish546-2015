{
 "metadata": {
  "name": "",
  "signature": "sha256:33751b10bec3484f2a2c877b2677c4aa7da65e51dc8db1421f481219067940be"
 },
 "nbformat": 3,
 "nbformat_minor": 0,
 "worksheets": [
  {
   "cells": [
    {
     "cell_type": "heading",
     "level": 1,
     "metadata": {},
     "source": [
      "Blast and GOSlim annotation of *Acropora palmata* transcriptome "
     ]
    },
    {
     "cell_type": "markdown",
     "metadata": {},
     "source": [
      "This workflow details the annotation of an *Acropora palmata* [transcriptome](https://usegalaxy.org/datasets/cb51c4a06d7ae94e/display?to_ext=fasta)\n",
      "\n",
      "The workflow assumes that you already have a blastx database in place, and that you use SQLshare to create the final annotation. Information on setting up a blast database can be found [here](http://nbviewer.ipython.org/github/sr320/austral/blob/master/modules/01-Piura-Annotation/01-Local_BLAST.ipynb). Information on SQLshare can be found [here](https://sqlshare.escience.washington.edu/). "
     ]
    },
    {
     "cell_type": "code",
     "collapsed": false,
     "input": [
      "#Create directories\n",
      "!mkdir ./Data\n",
      "!mkdir ./Data/Apalm\n",
      "!mkdir ./Analyses\n",
      "!mkdir ./Analyses/Apalm"
     ],
     "language": "python",
     "metadata": {},
     "outputs": []
    },
    {
     "cell_type": "code",
     "collapsed": false,
     "input": [
      "cd ./Data/Apalm"
     ],
     "language": "python",
     "metadata": {},
     "outputs": []
    },
    {
     "cell_type": "code",
     "collapsed": false,
     "input": [
      "#Obtain FASTA file\n",
      "!wget https://usegalaxy.org/datasets/cb51c4a06d7ae94e/display?to_ext=fasta"
     ],
     "language": "python",
     "metadata": {},
     "outputs": []
    },
    {
     "cell_type": "code",
     "collapsed": false,
     "input": [
      "!head Galaxy5-[Apalmata_assembled.fasta].fasta"
     ],
     "language": "python",
     "metadata": {},
     "outputs": []
    },
    {
     "cell_type": "code",
     "collapsed": false,
     "input": [
      "!tail Galaxy5-[Apalmata_assembled.fasta].fasta"
     ],
     "language": "python",
     "metadata": {},
     "outputs": []
    },
    {
     "cell_type": "code",
     "collapsed": false,
     "input": [
      "#fasta is full of double quotes (\") in front of some of the (>) ...Removing \" from fasta\n",
      "!sed 's/\"//g' Galaxy5-[Apalmata_assembled.fasta].fasta > Apalm.fasta"
     ],
     "language": "python",
     "metadata": {},
     "outputs": []
    },
    {
     "cell_type": "code",
     "collapsed": false,
     "input": [
      "!head Apalm.fasta"
     ],
     "language": "python",
     "metadata": {},
     "outputs": []
    },
    {
     "cell_type": "code",
     "collapsed": false,
     "input": [
      "#Count number of seqs\n",
      "!fgrep -c \">\" Apalm.fasta"
     ],
     "language": "python",
     "metadata": {},
     "outputs": []
    },
    {
     "cell_type": "heading",
     "level": 3,
     "metadata": {},
     "source": [
      "Blastx query"
     ]
    },
    {
     "cell_type": "code",
     "collapsed": false,
     "input": [
      "!blastx \\\n",
      "-query Apalm.fasta \\ #FASTA file\n",
      "-db ~blast/db/uniprot_sprot \\ #Use your blastx database address\n",
      "-max_target_seqs 1 \\ #maximum number of target sequences = 1\n",
      "-max_hsps 1 \\ #maximum number of high-scoring pairs = 1\n",
      "-outfmt 6 \\ #output format = tabular\n",
      "-evalue 1E-05 \\ #E-value = 10^-5\n",
      "-num_threads 8 \\ #number of threads = 8\n",
      "-out ../Analyses/Apalm/Apalm_blastx_uniprot.tab \\ #Direct output to analyses directory\n",
      "2> ../Analyses/Apalm/Apalm_blastx_uniprot.error #Direct standard error output to its own file"
     ],
     "language": "python",
     "metadata": {},
     "outputs": []
    },
    {
     "cell_type": "code",
     "collapsed": false,
     "input": [
      "#Checking head and tail of the output file.\n",
      "!head -10 ./Analyses/Apalm/Apalm_blastx_uniprot.tab"
     ],
     "language": "python",
     "metadata": {},
     "outputs": []
    },
    {
     "cell_type": "code",
     "collapsed": false,
     "input": [
      "#Comparison of the tail with original FASTA should give an idea of whether\n",
      "#the blast job is complete (note contig25409_16070 present in both)\n",
      "!tail -10 ./Analyses/Apalm/Apalm_blastx_uniprot.tab"
     ],
     "language": "python",
     "metadata": {},
     "outputs": []
    },
    {
     "cell_type": "code",
     "collapsed": false,
     "input": [
      "!wc ./Analyses/Apalm/Apalm_blastx_uniprot.tab"
     ],
     "language": "python",
     "metadata": {},
     "outputs": []
    },
    {
     "cell_type": "code",
     "collapsed": false,
     "input": [
      "#Removing pipes and converted to tab-delimited file\n",
      "!tr '|' \"\\t\" <./Analyses/Apalm/Apalm_blastx_uniprot.tab> \\\n",
      "/./Analyses/Apalm/Apalm_blastx_uniprot_sql.tab\n",
      "!head -1 ./Analyses/Apalm/Apalm_blastx_uniprot.tab\n",
      "!echo SQLShare ready version has Pipes converted to Tabs ....\n",
      "!head -1 ./Analyses/Apalm/Apalm_blastx_uniprot_sql.tab"
     ],
     "language": "python",
     "metadata": {},
     "outputs": []
    },
    {
     "cell_type": "heading",
     "level": 3,
     "metadata": {},
     "source": [
      "Manually uploading Apalm_blastx_uniprot_sql.tab to SQLShare and joining with GOSlim"
     ]
    },
    {
     "cell_type": "markdown",
     "metadata": {},
     "source": [
      "`SELECT Distinct Column1 as ContigID, GOSlim_bin FROM\n",
      "  [jldimond@washington.edu].[Apalm_blastx_uniprot_sql.tab]anno\n",
      "  left join [sr320@washington.edu].[SPID and GO Numbers]go\n",
      "  on anno.Column3=go.SPID\n",
      "  left join [sr320@washington.edu].[GO_to_GOslim]slim\n",
      "  on go.GOID=slim.GO_id where aspect like 'P'`"
     ]
    },
    {
     "cell_type": "heading",
     "level": 4,
     "metadata": {},
     "source": [
      "Output file downloaded to ./Analyses/Apalm: Apalm_GOSlim.csv"
     ]
    },
    {
     "cell_type": "code",
     "collapsed": false,
     "input": [
      "!head -10 ./Analyses/Apalm/Apalm_GOSlim.csv"
     ],
     "language": "python",
     "metadata": {},
     "outputs": [
      {
       "output_type": "stream",
       "stream": "stdout",
       "text": [
        "ContigID,GOSlim_bin\r",
        "\r\n",
        "contig135011_153678_153601,cell organization and biogenesis\r",
        "\r\n",
        "contig135011_153678_153601,other biological processes\r",
        "\r\n",
        "contig135011_153678_153601,developmental processes\r",
        "\r\n",
        "contig69684,protein metabolism\r",
        "\r\n",
        "contig113621,protein metabolism\r",
        "\r\n",
        "contig97647,protein metabolism\r",
        "\r\n",
        "contig199902,protein metabolism\r",
        "\r\n",
        "contig78855,other biological processes\r",
        "\r\n",
        "contig8505_94477,DNA metabolism\r",
        "\r\n"
       ]
      }
     ],
     "prompt_number": 17
    },
    {
     "cell_type": "code",
     "collapsed": false,
     "input": [
      "#Converting from comma to tab delimited\n",
      "!tr ',' \"\\t\" <./Analyses/Apalm/Apalm_GOSlim.csv> ./Analyses/Apalm/Apalm_GOSlim.tab"
     ],
     "language": "python",
     "metadata": {},
     "outputs": [],
     "prompt_number": 18
    },
    {
     "cell_type": "code",
     "collapsed": false,
     "input": [
      "!head -10 ./Analyses/Apalm/Apalm_GOSlim.tab"
     ],
     "language": "python",
     "metadata": {},
     "outputs": [
      {
       "output_type": "stream",
       "stream": "stdout",
       "text": [
        "ContigID\tGOSlim_bin\r",
        "\r\n",
        "contig135011_153678_153601\tcell organization and biogenesis\r",
        "\r\n",
        "contig135011_153678_153601\tother biological processes\r",
        "\r\n",
        "contig135011_153678_153601\tdevelopmental processes\r",
        "\r\n",
        "contig69684\tprotein metabolism\r",
        "\r\n",
        "contig113621\tprotein metabolism\r",
        "\r\n",
        "contig97647\tprotein metabolism\r",
        "\r\n",
        "contig199902\tprotein metabolism\r",
        "\r\n",
        "contig78855\tother biological processes\r",
        "\r\n",
        "contig8505_94477\tDNA metabolism\r",
        "\r\n"
       ]
      }
     ],
     "prompt_number": 19
    }
   ],
   "metadata": {}
  }
 ]
}