{
 "metadata": {
  "name": "",
  "signature": "sha256:0dcfc7be56546d7823f73dca497bb7ceb221fa087d8b0ca94cae689bc39cb55f"
 },
 "nbformat": 3,
 "nbformat_minor": 0,
 "worksheets": [
  {
   "cells": [
    {
     "cell_type": "heading",
     "level": 1,
     "metadata": {},
     "source": [
      "Calculating CpG ratio for A. hyacinthus transcriptome"
     ]
    },
    {
     "cell_type": "code",
     "collapsed": false,
     "input": [
      "cd /home/jay/Documents/fish546-2015/Data/Ahya"
     ],
     "language": "python",
     "metadata": {},
     "outputs": [
      {
       "output_type": "stream",
       "stream": "stdout",
       "text": [
        "/home/jay/Documents/fish546-2015/Data/Ahya\n"
       ]
      }
     ],
     "prompt_number": 2
    },
    {
     "cell_type": "code",
     "collapsed": false,
     "input": [
      "#fasta file\n",
      "!head -2 /home/jay/Documents/fish546-2015/Data/Ahya/33496_Ahyacinthus_CoralContigs.fasta\n",
      "!echo \n",
      "!echo number of seqs =\n",
      "!fgrep -c \">\" /home/jay/Documents/fish546-2015/Data/Ahya/33496_Ahyacinthus_CoralContigs.fasta"
     ],
     "language": "python",
     "metadata": {},
     "outputs": [
      {
       "output_type": "stream",
       "stream": "stdout",
       "text": [
        ">contig27\r\n",
        "CAAAATTCCAGCACTCCGTTTTGCATGGTAAACTTGTCTTAGTAGGACACTGTGGAAGATGTACAGCGCAAGACATCACAGTTGCAAGCGCCGACGAACAGCTGTTAAACTCTCCTCTCATATTCTCGAACAAACCAAATATTTCTTCCTCTCTGTTGTTGCTAACCTTTGAATATATGAAGCTGGCATTAGCACAGGACTCAAAGTTTCCGCCGAGCAGTTT\r\n"
       ]
      },
      {
       "output_type": "stream",
       "stream": "stdout",
       "text": [
        "\r\n"
       ]
      },
      {
       "output_type": "stream",
       "stream": "stdout",
       "text": [
        "number of seqs =\r\n"
       ]
      },
      {
       "output_type": "stream",
       "stream": "stdout",
       "text": [
        "33496\r\n"
       ]
      }
     ],
     "prompt_number": 3
    },
    {
     "cell_type": "heading",
     "level": 1,
     "metadata": {},
     "source": [
      "Already have converted the FASTA file to tab, filename is fasta2tab"
     ]
    },
    {
     "cell_type": "code",
     "collapsed": false,
     "input": [
      "!head -2 fasta2tab"
     ],
     "language": "python",
     "metadata": {},
     "outputs": [
      {
       "output_type": "stream",
       "stream": "stdout",
       "text": [
        "contig27\t\tCAAAATTCCAGCACTCCGTTTTGCATGGTAAACTTGTCTTAGTAGGACACTGTGGAAGATGTACAGCGCAAGACATCACAGTTGCAAGCGCCGACGAACAGCTGTTAAACTCTCCTCTCATATTCTCGAACAAACCAAATATTTCTTCCTCTCTGTTGTTGCTAACCTTTGAATATATGAAGCTGGCATTAGCACAGGACTCAAAGTTTCCGCCGAGCAGTTT\r\n",
        "contig88\t\tTGTCCTGTGTTAGAGGCCAGCTTCAACCTCTTGCTTTCCCTGTCAGCCGAGTTTTCTTCTCCTTCAATAAGCTGGGATTTTCGATCTCTACTCAATGTTTCCATCAAACACCTGAGAGTTAAATCTGCCAGATAACGAAGAAATCCTCTTGCTAGAATACTTTTCAAAAGCCCTTCTTCATACATTGATCTTATCCCATTGCAAATTGCGTTGG\r\n"
       ]
      }
     ],
     "prompt_number": 4
    },
    {
     "cell_type": "code",
     "collapsed": false,
     "input": [
      "!head -2 Ahya_diff_contigs #file with differentially expressed contig IDs"
     ],
     "language": "python",
     "metadata": {},
     "outputs": [
      {
       "output_type": "stream",
       "stream": "stdout",
       "text": [
        "contig83050\r\n",
        "contig180146_147773\r\n"
       ]
      }
     ],
     "prompt_number": 5
    },
    {
     "cell_type": "code",
     "collapsed": false,
     "input": [
      "!sort fasta2tab > s1"
     ],
     "language": "python",
     "metadata": {},
     "outputs": [],
     "prompt_number": 6
    },
    {
     "cell_type": "code",
     "collapsed": false,
     "input": [
      "!head -2 s1"
     ],
     "language": "python",
     "metadata": {},
     "outputs": [
      {
       "output_type": "stream",
       "stream": "stdout",
       "text": [
        "contig100001\t\tAGCTGGTGCCAGCAAAGAGCATACGACCAGAACGTGACATCACACATTGCGTCAAGACAATGTCATTGGCTGGAACTTCACGTAGAATCTGGGAGTCGCAGATTTCCTTGAGAGTTCTGTCTGAGCCCACAGCAAATGTTGTTCTACTATCAGGAGAGACAGTAACACTGGTGTAACTGCAGGACTTCAGCACACTTTCACCCTCTCGCTTATAACTGGTTACATTCCACTCATACACAGCACCATCCATACCACAGGAAATCATTTTACTGTCATCCTGACTCCAGATAACTTGGCGAACCTTCC\r\n",
        "contig100008\t\tAGGTAGATGAATCGTTGATGTATGCTGATGGCAAGGGGTGTTGAAGAAGGATCTTAATTGTTTGCCCTTGCCAATGGAATTTTTTCAATGTCTCTAGCTTTACAGTGGGGAGTCCAGTTGACAGAGCTTCCAAACCTATCAAGCCAAAACTACTAATGCATGTGTTTACTCTTACAGCCTTAACCCTTACACCGGCCAATGCTCCCATAAAATGTTTGTGGTTGTCTTCAGCAGTTCG\r\n"
       ]
      }
     ],
     "prompt_number": 7
    },
    {
     "cell_type": "code",
     "collapsed": false,
     "input": [],
     "language": "python",
     "metadata": {},
     "outputs": []
    },
    {
     "cell_type": "code",
     "collapsed": false,
     "input": [
      "#\n",
      "#\n",
      "#  NOTE THIS REQUIRES File specific knowledge\n",
      "#\n",
      "##to make sure we don't get description name issues \n",
      "!sed 's/contig/999999/g' <fasta2tab> fasta2tab_c"
     ],
     "language": "python",
     "metadata": {},
     "outputs": [],
     "prompt_number": 5
    },
    {
     "cell_type": "code",
     "collapsed": false,
     "input": [
      "#add column with length of sequence\n",
      "!perl -e '$col = 2;' -e 'while (<>) { s/\\r?\\n//; @F = split /\\t/, $_; $len = length($F[$col]); print \"$_\\t$len\\n\" } warn \"\\nAdded column with length of column $col for $. lines.\\n\\n\";' \\\n",
      "fasta2tab_c > tab_1\n"
     ],
     "language": "python",
     "metadata": {},
     "outputs": [
      {
       "output_type": "stream",
       "stream": "stdout",
       "text": [
        "\r\n",
        "Added column with length of column 2 for 33496 lines.\r\n",
        "\r\n"
       ]
      }
     ],
     "prompt_number": 6
    },
    {
     "cell_type": "code",
     "collapsed": false,
     "input": [
      "!wc tab_1"
     ],
     "language": "python",
     "metadata": {},
     "outputs": [
      {
       "output_type": "stream",
       "stream": "stdout",
       "text": [
        "   33496   100488 17731523 tab_1\r\n"
       ]
      }
     ],
     "prompt_number": 7
    },
    {
     "cell_type": "code",
     "collapsed": false,
     "input": [
      "#this counts CGs\n",
      "!awk -F\\CG '{print NF-1}' tab_1 > CG"
     ],
     "language": "python",
     "metadata": {},
     "outputs": [],
     "prompt_number": 8
    },
    {
     "cell_type": "code",
     "collapsed": false,
     "input": [
      "!awk -F\\C '{print NF-1}' tab_1 > C"
     ],
     "language": "python",
     "metadata": {},
     "outputs": [],
     "prompt_number": 9
    },
    {
     "cell_type": "code",
     "collapsed": false,
     "input": [
      "!awk -F\\G '{print NF-1}' tab_1 > G"
     ],
     "language": "python",
     "metadata": {},
     "outputs": [],
     "prompt_number": 10
    },
    {
     "cell_type": "code",
     "collapsed": false,
     "input": [
      "!paste tab_1 \\\n",
      "CG \\\n",
      "C \\\n",
      "G \\\n",
      "> comb\n",
      "!head -1 comb"
     ],
     "language": "python",
     "metadata": {},
     "outputs": [
      {
       "output_type": "stream",
       "stream": "stdout",
       "text": [
        "99999927\t\tCAAAATTCCAGCACTCCGTTTTGCATGGTAAACTTGTCTTAGTAGGACACTGTGGAAGATGTACAGCGCAAGACATCACAGTTGCAAGCGCCGACGAACAGCTGTTAAACTCTCCTCTCATATTCTCGAACAAACCAAATATTTCTTCCTCTCTGTTGTTGCTAACCTTTGAATATATGAAGCTGGCATTAGCACAGGACTCAAAGTTTCCGCCGAGCAGTTT\t223\t8\t55\t42\r\n"
       ]
      }
     ],
     "prompt_number": 11
    },
    {
     "cell_type": "heading",
     "level": 1,
     "metadata": {},
     "source": [
      "Calculating CpGo/e"
     ]
    },
    {
     "cell_type": "markdown",
     "metadata": {},
     "source": [
      "<img src=\"http://eagle.fish.washington.edu/cnidarian/skitch/BMC_Genomics___Full_text___DNA_methylation_patterns_provide_insight_into_epigenetic_regulation_in_the_Pacific_oyster__Crassostrea_gigas__1A0683A5.png\" alt=\"BMC_Genomics___Full_text___DNA_methylation_patterns_provide_insight_into_epigenetic_regulation_in_the_Pacific_oyster__Crassostrea_gigas__1A0683A5.png\"/>"
     ]
    },
    {
     "cell_type": "code",
     "collapsed": false,
     "input": [
      "!awk '{print $1, \"\\t\", (($4)/($5*$6))*(($3^2)/($3-1))}' comb > ID_CpG #use ^ instead of **\n"
     ],
     "language": "python",
     "metadata": {},
     "outputs": [],
     "prompt_number": 12
    },
    {
     "cell_type": "code",
     "collapsed": false,
     "input": [
      "!head ID_CpG"
     ],
     "language": "python",
     "metadata": {},
     "outputs": [
      {
       "output_type": "stream",
       "stream": "stdout",
       "text": [
        "99999927 \t 0.775773\r\n",
        "99999988 \t 0.459903\r\n",
        "999999100 \t 0.254614\r\n",
        "999999211 \t 0.885658\r\n",
        "999999405 \t 0.689373\r\n",
        "999999443 \t 1.34126\r\n",
        "999999470 \t 0.323368\r\n",
        "999999503 \t 0.941889\r\n",
        "999999583 \t 0.625727\r\n",
        "999999590 \t 1.21135\r\n"
       ]
      }
     ],
     "prompt_number": 13
    },
    {
     "cell_type": "code",
     "collapsed": false,
     "input": [
      "!sed 's/999999/contig/g' <ID_CpG> ID_CpG.tab\n",
      "!head ID_CpG.tab\n",
      "!echo line number\n",
      "!wc -l ID_CpG.tab"
     ],
     "language": "python",
     "metadata": {},
     "outputs": [
      {
       "output_type": "stream",
       "stream": "stdout",
       "text": [
        "contig27 \t 0.775773\r\n",
        "contig88 \t 0.459903\r\n",
        "contig100 \t 0.254614\r\n",
        "contig211 \t 0.885658\r\n",
        "contig405 \t 0.689373\r\n",
        "contig443 \t 1.34126\r\n",
        "contig470 \t 0.323368\r\n",
        "contig503 \t 0.941889\r\n",
        "contig583 \t 0.625727\r\n",
        "contig590 \t 1.21135\r\n"
       ]
      },
      {
       "output_type": "stream",
       "stream": "stdout",
       "text": [
        "line number\r\n"
       ]
      },
      {
       "output_type": "stream",
       "stream": "stdout",
       "text": [
        "33496 ID_CpG.tab\r\n"
       ]
      }
     ],
     "prompt_number": 14
    }
   ],
   "metadata": {}
  }
 ]
}